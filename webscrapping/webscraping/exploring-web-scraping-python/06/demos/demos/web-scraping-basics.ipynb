{
 "cells": [
  {
   "cell_type": "code",
   "execution_count": 1,
   "metadata": {
    "tags": []
   },
   "outputs": [
    {
     "name": "stdout",
     "output_type": "stream",
     "text": [
      "/bin/bash: pyenv: command not found\n",
      "/bin/bash: pyenv: command not found\n",
      "/bin/bash: pipenv: command not found\n",
      "/bin/bash: pipenv: command not found\n",
      "/bin/bash: pipenv: command not found\n",
      "/bin/bash: pipenv: command not found\n",
      "/bin/bash: pipenv: command not found\n"
     ]
    }
   ],
   "source": [
    "# Setup & Install Packages\n",
    "\n",
    "!pyenv install 3.7.4\n",
    "!pyenv local 3.7.4\n",
    "\n",
    "!pipenv --python 3.7.4\n",
    "!pipenv install requests\n",
    "!pipenv install beautifulsoup4\n",
    "!pipenv install pandas\n",
    "\n",
    "!pipenv install jupyterlab\n"
   ]
  },
  {
   "cell_type": "code",
   "execution_count": 2,
   "metadata": {
    "pycharm": {
     "is_executing": false,
     "name": "#%%\n"
    },
    "tags": []
   },
   "outputs": [
    {
     "name": "stdout",
     "output_type": "stream",
     "text": [
      "/bin/bash: pyenv: command not found\n",
      "Python 3.8.5\n",
      "Package             Version  \n",
      "------------------- ---------\n",
      "anyio               2.2.0    \n",
      "argon2-cffi         20.1.0   \n",
      "async-generator     1.10     \n",
      "attrs               20.3.0   \n",
      "autopep8            1.5.6    \n",
      "Babel               2.9.0    \n",
      "backcall            0.2.0    \n",
      "beautifulsoup4      4.9.3    \n",
      "bleach              3.3.0    \n",
      "certifi             2020.12.5\n",
      "cffi                1.14.5   \n",
      "chardet             4.0.0    \n",
      "cycler              0.10.0   \n",
      "decorator           5.0.5    \n",
      "defusedxml          0.7.1    \n",
      "entrypoints         0.3      \n",
      "et-xmlfile          1.0.1    \n",
      "graphviz            0.16     \n",
      "html5lib            1.1      \n",
      "idna                2.10     \n",
      "ipykernel           5.5.3    \n",
      "ipython             7.22.0   \n",
      "ipython-genutils    0.2.0    \n",
      "ipywidgets          7.6.3    \n",
      "jedi                0.18.0   \n",
      "Jinja2              2.11.3   \n",
      "joblib              1.0.1    \n",
      "json5               0.9.5    \n",
      "jsonschema          3.2.0    \n",
      "jupyter             1.0.0    \n",
      "jupyter-client      6.1.13   \n",
      "jupyter-console     6.4.0    \n",
      "jupyter-core        4.7.1    \n",
      "jupyter-packaging   0.7.12   \n",
      "jupyter-server      1.6.0    \n",
      "jupyterlab          3.0.13   \n",
      "jupyterlab-pygments 0.1.2    \n",
      "jupyterlab-server   2.4.0    \n",
      "jupyterlab-widgets  1.0.0    \n",
      "kiwisolver          1.3.1    \n",
      "MarkupSafe          1.1.1    \n",
      "matplotlib          3.4.1    \n",
      "mistune             0.8.4    \n",
      "nbclassic           0.2.7    \n",
      "nbclient            0.5.3    \n",
      "nbconvert           6.0.7    \n",
      "nbformat            5.1.3    \n",
      "nest-asyncio        1.5.1    \n",
      "notebook            6.3.0    \n",
      "numpy               1.20.2   \n",
      "openpyxl            3.0.7    \n",
      "packaging           20.9     \n",
      "pandas              1.2.3    \n",
      "pandocfilters       1.4.3    \n",
      "parso               0.8.2    \n",
      "patsy               0.5.1    \n",
      "pexpect             4.8.0    \n",
      "pickleshare         0.7.5    \n",
      "Pillow              8.2.0    \n",
      "pip                 20.0.2   \n",
      "pkg-resources       0.0.0    \n",
      "plotly              4.14.3   \n",
      "prometheus-client   0.10.0   \n",
      "prompt-toolkit      3.0.18   \n",
      "ptyprocess          0.7.0    \n",
      "pycodestyle         2.7.0    \n",
      "pycparser           2.20     \n",
      "Pygments            2.8.1    \n",
      "pyparsing           2.4.7    \n",
      "pyrsistent          0.17.3   \n",
      "python-dateutil     2.8.1    \n",
      "pytz                2021.1   \n",
      "pyzmq               22.0.3   \n",
      "qtconsole           5.0.3    \n",
      "QtPy                1.9.0    \n",
      "requests            2.25.1   \n",
      "retrying            1.3.3    \n",
      "scikit-learn        0.24.1   \n",
      "scipy               1.6.2    \n",
      "seaborn             0.11.1   \n",
      "Send2Trash          1.5.0    \n",
      "setuptools          44.0.0   \n",
      "six                 1.15.0   \n",
      "sniffio             1.2.0    \n",
      "soupsieve           2.2.1    \n",
      "statsmodels         0.12.2   \n",
      "terminado           0.9.4    \n",
      "testpath            0.4.4    \n",
      "threadpoolctl       2.1.0    \n",
      "toml                0.10.2   \n",
      "tornado             6.1      \n",
      "traitlets           5.0.5    \n",
      "urllib3             1.26.4   \n",
      "wcwidth             0.2.5    \n",
      "webencodings        0.5.1    \n",
      "widgetsnbextension  3.5.1    \n",
      "xgboost             1.3.3    \n",
      "xlrd                2.0.1    \n",
      "yellowbrick         1.3.post1\n"
     ]
    }
   ],
   "source": [
    "# Check Installation\n",
    "\n",
    "!pyenv local\n",
    "!python -V\n",
    "!pip list"
   ]
  },
  {
   "cell_type": "code",
   "execution_count": 3,
   "metadata": {
    "pycharm": {
     "name": "#%%\n"
    },
    "tags": []
   },
   "outputs": [],
   "source": [
    "# Import packages\n",
    "\n",
    "import requests\n",
    "from bs4 import BeautifulSoup\n",
    "import pandas as pd"
   ]
  },
  {
   "cell_type": "code",
   "execution_count": 4,
   "metadata": {
    "tags": []
   },
   "outputs": [],
   "source": [
    "# Download and parse the HTML\n",
    "\n",
    "start_url = 'https://en.wikipedia.org/wiki/Tesla,_Inc.'\n",
    "\n",
    "# Download the HTML from start_url\n",
    "downloaded_html = requests.get(start_url)\n",
    "\n",
    "# Parse the HTML with BeautifulSoup and create a soup object\n",
    "soup = BeautifulSoup(downloaded_html.text)\n",
    "\n",
    "# Save a local copy\n",
    "with open('downloaded.html', 'w') as file:\n",
    "    # Depending on the HTML page, on the next line, you may have to use soup.prettify().encode('UTF-8')\n",
    "    file.write(soup.prettify())\n"
   ]
  },
  {
   "cell_type": "code",
   "execution_count": null,
   "metadata": {
    "tags": []
   },
   "outputs": [],
   "source": [
    "# Select table.wikitable\n",
    "\n",
    "full_table = soup.select('table.wikitable tbody')[0]\n",
    "print(full_table)\n"
   ]
  },
  {
   "cell_type": "code",
   "execution_count": null,
   "metadata": {
    "tags": []
   },
   "outputs": [],
   "source": [
    "# Extract the table column headings\n",
    "# End result: A list with all the column headings\n",
    "\n",
    "table_head = full_table.select('tr th')\n",
    "\n",
    "print('-----------')\n",
    "for element in table_head:\n",
    "    print(element.text)"
   ]
  },
  {
   "cell_type": "code",
   "execution_count": null,
   "metadata": {
    "tags": []
   },
   "outputs": [],
   "source": [
    "# Extract the table column headings\n",
    "# End result: A list with all the column headings\n",
    "\n",
    "# >> Let's try this again\n",
    "\n",
    "table_head = full_table.select('tr th')\n",
    "\n",
    "table_columns = []\n",
    "for element in table_head:\n",
    "    column_label = element.get_text(separator=\" \", strip=True)\n",
    "    table_columns.append(column_label)\n",
    "    print(column_label)\n",
    "\n",
    "print('-----------')\n",
    "print(table_columns)"
   ]
  },
  {
   "cell_type": "code",
   "execution_count": null,
   "metadata": {
    "tags": []
   },
   "outputs": [],
   "source": [
    "# Extract the table column headings\n",
    "# >> Iteration 3\n",
    "\n",
    "table_columns = []\n",
    "for element in table_head:\n",
    "    column_label = element.get_text(separator=\" \", strip=True)\n",
    "    column_label = column_label.replace(' ', '_')\n",
    "    table_columns.append(column_label)\n",
    "print(table_columns)"
   ]
  },
  {
   "cell_type": "code",
   "execution_count": null,
   "metadata": {
    "collapsed": false,
    "jupyter": {
     "outputs_hidden": false
    },
    "pycharm": {
     "name": "#%%\n"
    }
   },
   "outputs": [],
   "source": [
    "# Extract the table column headings\n",
    "# End result: A list with all the column headings\n",
    "\n",
    "# >> Final Iteration\n",
    "\n",
    "import re\n",
    "regex = re.compile('_\\[\\w\\]')\n",
    "\n",
    "table_columns = []\n",
    "for element in table_head:\n",
    "    column_label = element.get_text(separator=\" \", strip=True)\n",
    "    column_label = column_label.replace(' ', '_')\n",
    "    column_label = regex.sub('', column_label)\n",
    "    table_columns.append(column_label)\n",
    "print(table_columns)"
   ]
  },
  {
   "cell_type": "code",
   "execution_count": null,
   "metadata": {
    "collapsed": false,
    "jupyter": {
     "outputs_hidden": false
    },
    "pycharm": {
     "name": "#%%\n"
    }
   },
   "outputs": [],
   "source": [
    "# Extract the table data (rows)\n",
    "# End result: A multi-dimensional list containing a list for each row\n",
    "\n",
    "table_rows = full_table.select('tr')\n",
    "print(table_rows)\n"
   ]
  },
  {
   "cell_type": "code",
   "execution_count": null,
   "metadata": {
    "collapsed": false,
    "jupyter": {
     "outputs_hidden": false
    },
    "pycharm": {
     "name": "#%%\n"
    }
   },
   "outputs": [],
   "source": [
    "# Extract the table data (rows)\n",
    "# End result: A multi-dimensional list containing a list for each row\n",
    "\n",
    "# Iteration 2\n",
    "\n",
    "table_rows = full_table.select('tr')\n",
    "\n",
    "table_data = []\n",
    "for index, element in enumerate(table_rows):\n",
    "    if index > 0:\n",
    "        row_list = []\n",
    "        values = element.select('td')\n",
    "        for value in values:\n",
    "            row_list.append(value.text)\n",
    "        table_data.append(row_list)\n",
    "\n",
    "print(table_data)\n"
   ]
  },
  {
   "cell_type": "code",
   "execution_count": null,
   "metadata": {
    "collapsed": false,
    "jupyter": {
     "outputs_hidden": false
    },
    "pycharm": {
     "name": "#%%\n"
    }
   },
   "outputs": [],
   "source": [
    "# Extract the table data (rows)\n",
    "# End result: A multi-dimensional list containing a list for each row\n",
    "\n",
    "# Final Iteration\n",
    "\n",
    "table_rows = full_table.select('tr')\n",
    "table_data = []\n",
    "for index, element in enumerate(table_rows):\n",
    "    if index > 0:\n",
    "        row_list = []\n",
    "        values = element.select('td')\n",
    "        for value in values:\n",
    "            row_list.append(value.text.strip())\n",
    "        table_data.append(row_list)\n",
    "\n",
    "print(table_data)\n"
   ]
  },
  {
   "cell_type": "code",
   "execution_count": null,
   "metadata": {
    "collapsed": false,
    "jupyter": {
     "outputs_hidden": false
    },
    "pycharm": {
     "name": "#%%\n"
    }
   },
   "outputs": [],
   "source": [
    "# Create a Pandas DataFrame\n",
    "\n",
    "df = pd.DataFrame(table_data, columns=table_columns) \n",
    "df"
   ]
  },
  {
   "cell_type": "code",
   "execution_count": null,
   "metadata": {
    "jupyter": {
     "source_hidden": true
    }
   },
   "outputs": [],
   "source": []
  },
  {
   "cell_type": "code",
   "execution_count": null,
   "metadata": {
    "jupyter": {
     "source_hidden": true
    }
   },
   "outputs": [],
   "source": [
    "# Extract the table data (rows)\n",
    "# End result: A multi-dimensional list containing a list for each row\n",
    "\n",
    "table_rows = full_table.select('tr')\n",
    "print(table_rows)\n"
   ]
  },
  {
   "cell_type": "code",
   "execution_count": null,
   "metadata": {
    "jupyter": {
     "source_hidden": true
    }
   },
   "outputs": [],
   "source": [
    "# Extract the table data (rows)\n",
    "# End result: A multi-dimensional list containing a list for each row\n",
    "\n",
    "# Iteration 2\n",
    "\n",
    "table_rows = full_table.select('tr')\n",
    "\n",
    "table_data = []\n",
    "for index, element in enumerate(table_rows):\n",
    "    if index > 0:\n",
    "        row_list = []\n",
    "        values = element.select('td')\n",
    "        for value in values:\n",
    "            row_list.append(value.text)\n",
    "        table_data.append(row_list)\n",
    "\n",
    "print(table_data)\n"
   ]
  },
  {
   "cell_type": "code",
   "execution_count": null,
   "metadata": {
    "jupyter": {
     "source_hidden": true
    }
   },
   "outputs": [],
   "source": [
    "# Extract the table data (rows)\n",
    "# End result: A multi-dimensional list containing a list for each row\n",
    "\n",
    "# Final Iteration\n",
    "\n",
    "table_rows = full_table.select('tr')\n",
    "table_data = []\n",
    "for index, element in enumerate(table_rows):\n",
    "    if index > 0:\n",
    "        row_list = []\n",
    "        values = element.select('td')\n",
    "        for value in values:\n",
    "            row_list.append(value.text.strip())\n",
    "        table_data.append(row_list)\n",
    "\n",
    "print(table_data)\n"
   ]
  },
  {
   "cell_type": "code",
   "execution_count": null,
   "metadata": {},
   "outputs": [],
   "source": [
    "# Create a Pandas DataFrame\n",
    "\n",
    "df = pd.DataFrame(table_data, columns=table_columns) \n",
    "df"
   ]
  },
  {
   "cell_type": "code",
   "execution_count": null,
   "metadata": {},
   "outputs": [],
   "source": []
  }
 ],
 "metadata": {
  "kernelspec": {
   "display_name": "Python 3.8.5 64-bit ('venv')",
   "language": "python",
   "name": "python38564bitvenv1691cd561aaa44ea9f5a19e1d1a7f54e"
  },
  "language_info": {
   "codemirror_mode": {
    "name": "ipython",
    "version": 3
   },
   "file_extension": ".py",
   "mimetype": "text/x-python",
   "name": "python",
   "nbconvert_exporter": "python",
   "pygments_lexer": "ipython3",
   "version": "3.8.5"
  },
  "metadata": {
   "interpreter": {
    "hash": "844bc0e8a7fd835b21107109720eaf8eebd347a084e8eb6b507398215662f002"
   }
  },
  "pycharm": {
   "stem_cell": {
    "cell_type": "raw",
    "metadata": {
     "collapsed": false
    },
    "source": []
   }
  },
  "toc-autonumbering": true,
  "toc-showmarkdowntxt": true,
  "toc-showtags": false
 },
 "nbformat": 4,
 "nbformat_minor": 4
}
