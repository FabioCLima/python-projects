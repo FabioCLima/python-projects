{
 "metadata": {
  "language_info": {
   "codemirror_mode": {
    "name": "ipython",
    "version": 3
   },
   "file_extension": ".py",
   "mimetype": "text/x-python",
   "name": "python",
   "nbconvert_exporter": "python",
   "pygments_lexer": "ipython3",
   "version": "3.8.5-final"
  },
  "orig_nbformat": 2,
  "kernelspec": {
   "name": "python38564bitvenv1691cd561aaa44ea9f5a19e1d1a7f54e",
   "display_name": "Python 3.8.5 64-bit ('venv')",
   "language": "python"
  }
 },
 "nbformat": 4,
 "nbformat_minor": 2,
 "cells": [
  {
   "cell_type": "code",
   "execution_count": 1,
   "metadata": {},
   "outputs": [
    {
     "output_type": "stream",
     "name": "stdout",
     "text": [
      "{0: 10, 1: 20, 2: 30}\n"
     ]
    }
   ],
   "source": [
    "# Sample Dictionary : {0: 10, 1: 20}\n",
    "# Expected Result : {0: 10, 1: 20, 2: 30}\n",
    "\n",
    "dict1 = {0: 10, 1: 20}\n",
    "dict1[2]=30\n",
    "print(dict1)"
   ]
  },
  {
   "cell_type": "code",
   "execution_count": 2,
   "metadata": {},
   "outputs": [
    {
     "output_type": "stream",
     "name": "stdout",
     "text": [
      "{1: 10, 2: 20, 3: 30, 4: 40, 5: 50, 6: 60}\n"
     ]
    }
   ],
   "source": [
    "#Sample Dictionary :\n",
    "#dic1={1:10, 2:20}\n",
    "#dic2={3:30, 4:40}\n",
    "#dic3={5:50,6:60}\n",
    "#Expected Result : {1: 10, 2: 20, 3: 30, 4: 40, 5: 50, 6: 60}\n",
    "dic1={1:10, 2:20}\n",
    "dic2={3:30, 4:40}\n",
    "dic3={5:50, 6:60}\n",
    "dict4 = {}\n",
    "for d in (dic1, dic2, dic3):\n",
    "    dict4.update(d)\n",
    "print(dict4)\n",
    "\n"
   ]
  },
  {
   "cell_type": "code",
   "execution_count": 6,
   "metadata": {},
   "outputs": [],
   "source": [
    "def verify_key(dic, key):\n",
    "    if key in dic:\n",
    "        return True\n",
    "    else:\n",
    "        return False"
   ]
  },
  {
   "cell_type": "code",
   "execution_count": 8,
   "metadata": {},
   "outputs": [
    {
     "output_type": "stream",
     "name": "stdout",
     "text": [
      "False\n"
     ]
    }
   ],
   "source": [
    "print(verify_key(dict4, 16))"
   ]
  },
  {
   "source": [
    "dicionario = {key: value for vars in iterable}"
   ],
   "cell_type": "markdown",
   "metadata": {}
  },
  {
   "cell_type": "code",
   "execution_count": 11,
   "metadata": {},
   "outputs": [],
   "source": [
    "def generate_dicionary(number):\n",
    " #  dictionary = {key :  value for vars in iterable}\n",
    "    output = {number: number*number for number in range(1, number+1)}\n",
    "    return output"
   ]
  },
  {
   "cell_type": "code",
   "execution_count": 12,
   "metadata": {},
   "outputs": [
    {
     "output_type": "stream",
     "name": "stdout",
     "text": [
      "{1: 1, 2: 4, 3: 9, 4: 16, 5: 25}\n"
     ]
    }
   ],
   "source": [
    "print(generate_dicionary(5))"
   ]
  },
  {
   "cell_type": "code",
   "execution_count": 13,
   "metadata": {},
   "outputs": [
    {
     "output_type": "display_data",
     "data": {
      "text/plain": "{4: 2, 16: 4, 36: 6, 64: 8}"
     },
     "metadata": {}
    },
    {
     "output_type": "display_data",
     "data": {
      "text/plain": "{1: 1, 27: 3, 125: 5, 343: 7, 729: 9}"
     },
     "metadata": {}
    }
   ],
   "source": [
    "dict_a = {num**2: num for num in range(1, 10) if num % 2 == 0}\n",
    "dict_b = {num**3: num for num in range(1, 10) if num %2 != 0}\n",
    "display(dict_a)\n",
    "display(dict_b)"
   ]
  },
  {
   "cell_type": "code",
   "execution_count": 14,
   "metadata": {},
   "outputs": [
    {
     "output_type": "stream",
     "name": "stdout",
     "text": [
      "{4: 2, 16: 4, 36: 6, 64: 8, 1: 1, 27: 3, 125: 5, 343: 7, 729: 9}\n"
     ]
    }
   ],
   "source": [
    "merged_dict = {}\n",
    "for d in (dict_a, dict_b):\n",
    "    merged_dict.update(d)\n",
    "\n",
    "print(merged_dict)"
   ]
  },
  {
   "cell_type": "code",
   "execution_count": 15,
   "metadata": {},
   "outputs": [
    {
     "output_type": "stream",
     "name": "stdout",
     "text": [
      "4 2\n16 4\n36 6\n64 8\n1 1\n27 3\n125 5\n343 7\n729 9\n"
     ]
    }
   ],
   "source": [
    "for key, value in merged_dict.items():\n",
    "    print(key, value)"
   ]
  },
  {
   "cell_type": "code",
   "execution_count": null,
   "metadata": {},
   "outputs": [],
   "source": []
  }
 ]
}