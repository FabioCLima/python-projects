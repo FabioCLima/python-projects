{
 "cells": [
  {
   "cell_type": "code",
   "execution_count": 1,
   "metadata": {},
   "outputs": [],
   "source": [
    "import pandas as pd\n",
    "import os"
   ]
  },
  {
   "cell_type": "code",
   "execution_count": 3,
   "metadata": {},
   "outputs": [
    {
     "data": {
      "text/html": [
       "<div>\n",
       "<style scoped>\n",
       "    .dataframe tbody tr th:only-of-type {\n",
       "        vertical-align: middle;\n",
       "    }\n",
       "\n",
       "    .dataframe tbody tr th {\n",
       "        vertical-align: top;\n",
       "    }\n",
       "\n",
       "    .dataframe thead th {\n",
       "        text-align: right;\n",
       "    }\n",
       "</style>\n",
       "<table border=\"1\" class=\"dataframe\">\n",
       "  <thead>\n",
       "    <tr style=\"text-align: right;\">\n",
       "      <th></th>\n",
       "      <th>Survived</th>\n",
       "      <th>Pclass</th>\n",
       "      <th>Sex</th>\n",
       "      <th>Age</th>\n",
       "      <th>SibSp</th>\n",
       "      <th>Parch</th>\n",
       "      <th>Fare</th>\n",
       "      <th>Embarked</th>\n",
       "      <th>family_size</th>\n",
       "    </tr>\n",
       "  </thead>\n",
       "  <tbody>\n",
       "    <tr>\n",
       "      <th>0</th>\n",
       "      <td>0</td>\n",
       "      <td>3</td>\n",
       "      <td>male</td>\n",
       "      <td>22.0</td>\n",
       "      <td>1</td>\n",
       "      <td>0</td>\n",
       "      <td>7.2500</td>\n",
       "      <td>S</td>\n",
       "      <td>2</td>\n",
       "    </tr>\n",
       "    <tr>\n",
       "      <th>1</th>\n",
       "      <td>1</td>\n",
       "      <td>1</td>\n",
       "      <td>female</td>\n",
       "      <td>38.0</td>\n",
       "      <td>1</td>\n",
       "      <td>0</td>\n",
       "      <td>71.2833</td>\n",
       "      <td>C</td>\n",
       "      <td>2</td>\n",
       "    </tr>\n",
       "    <tr>\n",
       "      <th>2</th>\n",
       "      <td>1</td>\n",
       "      <td>3</td>\n",
       "      <td>female</td>\n",
       "      <td>26.0</td>\n",
       "      <td>0</td>\n",
       "      <td>0</td>\n",
       "      <td>7.9250</td>\n",
       "      <td>S</td>\n",
       "      <td>1</td>\n",
       "    </tr>\n",
       "    <tr>\n",
       "      <th>3</th>\n",
       "      <td>1</td>\n",
       "      <td>1</td>\n",
       "      <td>female</td>\n",
       "      <td>35.0</td>\n",
       "      <td>1</td>\n",
       "      <td>0</td>\n",
       "      <td>53.1000</td>\n",
       "      <td>S</td>\n",
       "      <td>2</td>\n",
       "    </tr>\n",
       "    <tr>\n",
       "      <th>4</th>\n",
       "      <td>0</td>\n",
       "      <td>3</td>\n",
       "      <td>male</td>\n",
       "      <td>35.0</td>\n",
       "      <td>0</td>\n",
       "      <td>0</td>\n",
       "      <td>8.0500</td>\n",
       "      <td>S</td>\n",
       "      <td>1</td>\n",
       "    </tr>\n",
       "  </tbody>\n",
       "</table>\n",
       "</div>"
      ],
      "text/plain": [
       "   Survived  Pclass     Sex   Age  SibSp  Parch     Fare Embarked  family_size\n",
       "0         0       3    male  22.0      1      0   7.2500        S            2\n",
       "1         1       1  female  38.0      1      0  71.2833        C            2\n",
       "2         1       3  female  26.0      0      0   7.9250        S            1\n",
       "3         1       1  female  35.0      1      0  53.1000        S            2\n",
       "4         0       3    male  35.0      0      0   8.0500        S            1"
      ]
     },
     "execution_count": 3,
     "metadata": {},
     "output_type": "execute_result"
    }
   ],
   "source": [
    "SRC_DIR = os.path.abspath(\".\")         # endereço do script\n",
    "BASE_DIR = os.path.dirname(SRC_DIR)\n",
    "DATA_DIR = os.path.join(BASE_DIR, \"data\")\n",
    "\n",
    "data_file = os.path.join(DATA_DIR, 'train_processed.csv')\n",
    "titanic_train = pd.read_csv(data_file, index_col=0)\n",
    "titanic_train.head()"
   ]
  },
  {
   "cell_type": "code",
   "execution_count": 4,
   "metadata": {},
   "outputs": [
    {
     "name": "stdout",
     "output_type": "stream",
     "text": [
      "<class 'pandas.core.frame.DataFrame'>\n",
      "Int64Index: 891 entries, 0 to 890\n",
      "Data columns (total 9 columns):\n",
      " #   Column       Non-Null Count  Dtype  \n",
      "---  ------       --------------  -----  \n",
      " 0   Survived     891 non-null    int64  \n",
      " 1   Pclass       891 non-null    int64  \n",
      " 2   Sex          891 non-null    object \n",
      " 3   Age          891 non-null    float64\n",
      " 4   SibSp        891 non-null    int64  \n",
      " 5   Parch        891 non-null    int64  \n",
      " 6   Fare         891 non-null    float64\n",
      " 7   Embarked     891 non-null    object \n",
      " 8   family_size  891 non-null    int64  \n",
      "dtypes: float64(2), int64(5), object(2)\n",
      "memory usage: 69.6+ KB\n"
     ]
    }
   ],
   "source": [
    "titanic_train.info()"
   ]
  },
  {
   "cell_type": "code",
   "execution_count": 10,
   "metadata": {},
   "outputs": [
    {
     "data": {
      "text/html": [
       "<div>\n",
       "<style scoped>\n",
       "    .dataframe tbody tr th:only-of-type {\n",
       "        vertical-align: middle;\n",
       "    }\n",
       "\n",
       "    .dataframe tbody tr th {\n",
       "        vertical-align: top;\n",
       "    }\n",
       "\n",
       "    .dataframe thead th {\n",
       "        text-align: right;\n",
       "    }\n",
       "</style>\n",
       "<table border=\"1\" class=\"dataframe\">\n",
       "  <thead>\n",
       "    <tr style=\"text-align: right;\">\n",
       "      <th></th>\n",
       "      <th>Pclass</th>\n",
       "      <th>Sex</th>\n",
       "      <th>Age</th>\n",
       "      <th>SibSp</th>\n",
       "      <th>Parch</th>\n",
       "      <th>Fare</th>\n",
       "      <th>Embarked</th>\n",
       "      <th>family_size</th>\n",
       "    </tr>\n",
       "  </thead>\n",
       "  <tbody>\n",
       "    <tr>\n",
       "      <th>0</th>\n",
       "      <td>3</td>\n",
       "      <td>male</td>\n",
       "      <td>22.0</td>\n",
       "      <td>1</td>\n",
       "      <td>0</td>\n",
       "      <td>7.2500</td>\n",
       "      <td>S</td>\n",
       "      <td>2</td>\n",
       "    </tr>\n",
       "    <tr>\n",
       "      <th>1</th>\n",
       "      <td>1</td>\n",
       "      <td>female</td>\n",
       "      <td>38.0</td>\n",
       "      <td>1</td>\n",
       "      <td>0</td>\n",
       "      <td>71.2833</td>\n",
       "      <td>C</td>\n",
       "      <td>2</td>\n",
       "    </tr>\n",
       "    <tr>\n",
       "      <th>2</th>\n",
       "      <td>3</td>\n",
       "      <td>female</td>\n",
       "      <td>26.0</td>\n",
       "      <td>0</td>\n",
       "      <td>0</td>\n",
       "      <td>7.9250</td>\n",
       "      <td>S</td>\n",
       "      <td>1</td>\n",
       "    </tr>\n",
       "    <tr>\n",
       "      <th>3</th>\n",
       "      <td>1</td>\n",
       "      <td>female</td>\n",
       "      <td>35.0</td>\n",
       "      <td>1</td>\n",
       "      <td>0</td>\n",
       "      <td>53.1000</td>\n",
       "      <td>S</td>\n",
       "      <td>2</td>\n",
       "    </tr>\n",
       "    <tr>\n",
       "      <th>4</th>\n",
       "      <td>3</td>\n",
       "      <td>male</td>\n",
       "      <td>35.0</td>\n",
       "      <td>0</td>\n",
       "      <td>0</td>\n",
       "      <td>8.0500</td>\n",
       "      <td>S</td>\n",
       "      <td>1</td>\n",
       "    </tr>\n",
       "  </tbody>\n",
       "</table>\n",
       "</div>"
      ],
      "text/plain": [
       "  Pclass     Sex   Age  SibSp  Parch     Fare Embarked  family_size\n",
       "0      3    male  22.0      1      0   7.2500        S            2\n",
       "1      1  female  38.0      1      0  71.2833        C            2\n",
       "2      3  female  26.0      0      0   7.9250        S            1\n",
       "3      1  female  35.0      1      0  53.1000        S            2\n",
       "4      3    male  35.0      0      0   8.0500        S            1"
      ]
     },
     "execution_count": 10,
     "metadata": {},
     "output_type": "execute_result"
    }
   ],
   "source": [
    "target_name = 'Survived'\n",
    "target = titanic_train[target_name]\n",
    "data = titanic_train.drop(columns='Survived')\n",
    "data['Pclass'] = data['Pclass'].astype('object')\n",
    "data.head()"
   ]
  },
  {
   "cell_type": "code",
   "execution_count": 6,
   "metadata": {},
   "outputs": [],
   "source": [
    "from sklearn.pipeline import Pipeline\n",
    "from sklearn.impute import SimpleImputer\n",
    "from sklearn.preprocessing import StandardScaler, OneHotEncoder"
   ]
  },
  {
   "cell_type": "code",
   "execution_count": 9,
   "metadata": {},
   "outputs": [],
   "source": [
    "numeric_features = data.select_dtypes(include=['int64', 'float64']).columns\n",
    "categorical_features = data.select_dtypes(include=['object']).columns\n",
    "\n",
    "imp_num = SimpleImputer(strategy='median')\n",
    "scaler = StandardScaler()\n",
    "imp_cat = SimpleImputer(strategy='constant')\n",
    "onehot = OneHotEncoder(handle_unknown='ignore')"
   ]
  },
  {
   "cell_type": "code",
   "execution_count": 26,
   "metadata": {},
   "outputs": [],
   "source": [
    "from sklearn.compose import ColumnTransformer\n",
    "from sklearn.pipeline import make_pipeline\n",
    "from sklearn.pipeline import Pipeline"
   ]
  },
  {
   "cell_type": "code",
   "execution_count": 27,
   "metadata": {},
   "outputs": [],
   "source": [
    "categorical_transformer = Pipeline(steps=[\n",
    "    ('imputer', SimpleImputer(strategy='constant', fill_value='missing')),\n",
    "    ('onehot', OneHotEncoder(handle_unknown='ignore'))])"
   ]
  },
  {
   "cell_type": "code",
   "execution_count": 28,
   "metadata": {},
   "outputs": [],
   "source": [
    "numeric_transformer = Pipeline(steps=[\n",
    "     ('imputer', SimpleImputer(strategy='median')),\n",
    "     ('scaler', StandardScaler())])"
   ]
  },
  {
   "cell_type": "code",
   "execution_count": 29,
   "metadata": {},
   "outputs": [],
   "source": [
    "preprocessor = ColumnTransformer(\n",
    "    transformers=[\n",
    "        ('num', numeric_transformer, numeric_features),\n",
    "        ('cat', categorical_transformer, categorical_features)])"
   ]
  },
  {
   "cell_type": "code",
   "execution_count": 30,
   "metadata": {},
   "outputs": [
    {
     "data": {
      "text/html": [
       "<style>#sk-9805a83e-5381-48d8-9af4-6ba9d3c37787 {color: black;background-color: white;}#sk-9805a83e-5381-48d8-9af4-6ba9d3c37787 pre{padding: 0;}#sk-9805a83e-5381-48d8-9af4-6ba9d3c37787 div.sk-toggleable {background-color: white;}#sk-9805a83e-5381-48d8-9af4-6ba9d3c37787 label.sk-toggleable__label {cursor: pointer;display: block;width: 100%;margin-bottom: 0;padding: 0.2em 0.3em;box-sizing: border-box;text-align: center;}#sk-9805a83e-5381-48d8-9af4-6ba9d3c37787 div.sk-toggleable__content {max-height: 0;max-width: 0;overflow: hidden;text-align: left;background-color: #f0f8ff;}#sk-9805a83e-5381-48d8-9af4-6ba9d3c37787 div.sk-toggleable__content pre {margin: 0.2em;color: black;border-radius: 0.25em;background-color: #f0f8ff;}#sk-9805a83e-5381-48d8-9af4-6ba9d3c37787 input.sk-toggleable__control:checked~div.sk-toggleable__content {max-height: 200px;max-width: 100%;overflow: auto;}#sk-9805a83e-5381-48d8-9af4-6ba9d3c37787 div.sk-estimator input.sk-toggleable__control:checked~label.sk-toggleable__label {background-color: #d4ebff;}#sk-9805a83e-5381-48d8-9af4-6ba9d3c37787 div.sk-label input.sk-toggleable__control:checked~label.sk-toggleable__label {background-color: #d4ebff;}#sk-9805a83e-5381-48d8-9af4-6ba9d3c37787 input.sk-hidden--visually {border: 0;clip: rect(1px 1px 1px 1px);clip: rect(1px, 1px, 1px, 1px);height: 1px;margin: -1px;overflow: hidden;padding: 0;position: absolute;width: 1px;}#sk-9805a83e-5381-48d8-9af4-6ba9d3c37787 div.sk-estimator {font-family: monospace;background-color: #f0f8ff;margin: 0.25em 0.25em;border: 1px dotted black;border-radius: 0.25em;box-sizing: border-box;}#sk-9805a83e-5381-48d8-9af4-6ba9d3c37787 div.sk-estimator:hover {background-color: #d4ebff;}#sk-9805a83e-5381-48d8-9af4-6ba9d3c37787 div.sk-parallel-item::after {content: \"\";width: 100%;border-bottom: 1px solid gray;flex-grow: 1;}#sk-9805a83e-5381-48d8-9af4-6ba9d3c37787 div.sk-label:hover label.sk-toggleable__label {background-color: #d4ebff;}#sk-9805a83e-5381-48d8-9af4-6ba9d3c37787 div.sk-serial::before {content: \"\";position: absolute;border-left: 1px solid gray;box-sizing: border-box;top: 2em;bottom: 0;left: 50%;}#sk-9805a83e-5381-48d8-9af4-6ba9d3c37787 div.sk-serial {display: flex;flex-direction: column;align-items: center;background-color: white;}#sk-9805a83e-5381-48d8-9af4-6ba9d3c37787 div.sk-item {z-index: 1;}#sk-9805a83e-5381-48d8-9af4-6ba9d3c37787 div.sk-parallel {display: flex;align-items: stretch;justify-content: center;background-color: white;}#sk-9805a83e-5381-48d8-9af4-6ba9d3c37787 div.sk-parallel-item {display: flex;flex-direction: column;position: relative;background-color: white;}#sk-9805a83e-5381-48d8-9af4-6ba9d3c37787 div.sk-parallel-item:first-child::after {align-self: flex-end;width: 50%;}#sk-9805a83e-5381-48d8-9af4-6ba9d3c37787 div.sk-parallel-item:last-child::after {align-self: flex-start;width: 50%;}#sk-9805a83e-5381-48d8-9af4-6ba9d3c37787 div.sk-parallel-item:only-child::after {width: 0;}#sk-9805a83e-5381-48d8-9af4-6ba9d3c37787 div.sk-dashed-wrapped {border: 1px dashed gray;margin: 0.2em;box-sizing: border-box;padding-bottom: 0.1em;background-color: white;position: relative;}#sk-9805a83e-5381-48d8-9af4-6ba9d3c37787 div.sk-label label {font-family: monospace;font-weight: bold;background-color: white;display: inline-block;line-height: 1.2em;}#sk-9805a83e-5381-48d8-9af4-6ba9d3c37787 div.sk-label-container {position: relative;z-index: 2;text-align: center;}#sk-9805a83e-5381-48d8-9af4-6ba9d3c37787 div.sk-container {display: inline-block;position: relative;}</style><div id=\"sk-9805a83e-5381-48d8-9af4-6ba9d3c37787\" class\"sk-top-container\"><div class=\"sk-container\"><div class=\"sk-item sk-dashed-wrapped\"><div class=\"sk-label-container\"><div class=\"sk-label sk-toggleable\"><input class=\"sk-toggleable__control sk-hidden--visually\" id=\"ada9808e-fea6-4ffe-8b92-960f86a013c8\" type=\"checkbox\" ><label class=\"sk-toggleable__label\" for=\"ada9808e-fea6-4ffe-8b92-960f86a013c8\">Pipeline</label><div class=\"sk-toggleable__content\"><pre>Pipeline(steps=[('columntransformer',\n",
       "                 ColumnTransformer(transformers=[('num',\n",
       "                                                  Pipeline(steps=[('imputer',\n",
       "                                                                   SimpleImputer(strategy='median')),\n",
       "                                                                  ('scaler',\n",
       "                                                                   StandardScaler())]),\n",
       "                                                  Index(['Pclass', 'Age', 'SibSp', 'Parch', 'Fare', 'family_size'], dtype='object')),\n",
       "                                                 ('cat',\n",
       "                                                  Pipeline(steps=[('imputer',\n",
       "                                                                   SimpleImputer(fill_value='missing',\n",
       "                                                                                 strategy='constant')),\n",
       "                                                                  ('onehot',\n",
       "                                                                   OneHotEncoder(handle_unknown='ignore'))]),\n",
       "                                                  Index(['Sex', 'Embarked'], dtype='object'))])),\n",
       "                ('logisticregression', LogisticRegression())])</pre></div></div></div><div class=\"sk-serial\"><div class=\"sk-item sk-dashed-wrapped\"><div class=\"sk-label-container\"><div class=\"sk-label sk-toggleable\"><input class=\"sk-toggleable__control sk-hidden--visually\" id=\"decc57c6-2963-47a9-98fa-4283b8504fb9\" type=\"checkbox\" ><label class=\"sk-toggleable__label\" for=\"decc57c6-2963-47a9-98fa-4283b8504fb9\">columntransformer: ColumnTransformer</label><div class=\"sk-toggleable__content\"><pre>ColumnTransformer(transformers=[('num',\n",
       "                                 Pipeline(steps=[('imputer',\n",
       "                                                  SimpleImputer(strategy='median')),\n",
       "                                                 ('scaler', StandardScaler())]),\n",
       "                                 Index(['Pclass', 'Age', 'SibSp', 'Parch', 'Fare', 'family_size'], dtype='object')),\n",
       "                                ('cat',\n",
       "                                 Pipeline(steps=[('imputer',\n",
       "                                                  SimpleImputer(fill_value='missing',\n",
       "                                                                strategy='constant')),\n",
       "                                                 ('onehot',\n",
       "                                                  OneHotEncoder(handle_unknown='ignore'))]),\n",
       "                                 Index(['Sex', 'Embarked'], dtype='object'))])</pre></div></div></div><div class=\"sk-parallel\"><div class=\"sk-parallel-item\"><div class=\"sk-item\"><div class=\"sk-label-container\"><div class=\"sk-label sk-toggleable\"><input class=\"sk-toggleable__control sk-hidden--visually\" id=\"08cf6c06-2fb0-4ef2-bce1-fc3e6d857ae8\" type=\"checkbox\" ><label class=\"sk-toggleable__label\" for=\"08cf6c06-2fb0-4ef2-bce1-fc3e6d857ae8\">num</label><div class=\"sk-toggleable__content\"><pre>Index(['Pclass', 'Age', 'SibSp', 'Parch', 'Fare', 'family_size'], dtype='object')</pre></div></div></div><div class=\"sk-serial\"><div class=\"sk-item\"><div class=\"sk-serial\"><div class=\"sk-item\"><div class=\"sk-estimator sk-toggleable\"><input class=\"sk-toggleable__control sk-hidden--visually\" id=\"98295ab3-ff32-4162-97b7-4887eacead91\" type=\"checkbox\" ><label class=\"sk-toggleable__label\" for=\"98295ab3-ff32-4162-97b7-4887eacead91\">SimpleImputer</label><div class=\"sk-toggleable__content\"><pre>SimpleImputer(strategy='median')</pre></div></div></div><div class=\"sk-item\"><div class=\"sk-estimator sk-toggleable\"><input class=\"sk-toggleable__control sk-hidden--visually\" id=\"ffbb14cf-8bbc-4a8f-878d-b7819f0495bd\" type=\"checkbox\" ><label class=\"sk-toggleable__label\" for=\"ffbb14cf-8bbc-4a8f-878d-b7819f0495bd\">StandardScaler</label><div class=\"sk-toggleable__content\"><pre>StandardScaler()</pre></div></div></div></div></div></div></div></div><div class=\"sk-parallel-item\"><div class=\"sk-item\"><div class=\"sk-label-container\"><div class=\"sk-label sk-toggleable\"><input class=\"sk-toggleable__control sk-hidden--visually\" id=\"f7254042-1326-4a66-84ca-52c24ac03dca\" type=\"checkbox\" ><label class=\"sk-toggleable__label\" for=\"f7254042-1326-4a66-84ca-52c24ac03dca\">cat</label><div class=\"sk-toggleable__content\"><pre>Index(['Sex', 'Embarked'], dtype='object')</pre></div></div></div><div class=\"sk-serial\"><div class=\"sk-item\"><div class=\"sk-serial\"><div class=\"sk-item\"><div class=\"sk-estimator sk-toggleable\"><input class=\"sk-toggleable__control sk-hidden--visually\" id=\"6ca107eb-6aee-4c58-88c7-5139f9f9fe80\" type=\"checkbox\" ><label class=\"sk-toggleable__label\" for=\"6ca107eb-6aee-4c58-88c7-5139f9f9fe80\">SimpleImputer</label><div class=\"sk-toggleable__content\"><pre>SimpleImputer(fill_value='missing', strategy='constant')</pre></div></div></div><div class=\"sk-item\"><div class=\"sk-estimator sk-toggleable\"><input class=\"sk-toggleable__control sk-hidden--visually\" id=\"49849e55-682e-462b-896a-42a045f9618e\" type=\"checkbox\" ><label class=\"sk-toggleable__label\" for=\"49849e55-682e-462b-896a-42a045f9618e\">OneHotEncoder</label><div class=\"sk-toggleable__content\"><pre>OneHotEncoder(handle_unknown='ignore')</pre></div></div></div></div></div></div></div></div></div></div><div class=\"sk-item\"><div class=\"sk-estimator sk-toggleable\"><input class=\"sk-toggleable__control sk-hidden--visually\" id=\"6424f27e-a8b5-4279-8efb-db117f948149\" type=\"checkbox\" ><label class=\"sk-toggleable__label\" for=\"6424f27e-a8b5-4279-8efb-db117f948149\">LogisticRegression</label><div class=\"sk-toggleable__content\"><pre>LogisticRegression()</pre></div></div></div></div></div></div></div>"
      ],
      "text/plain": [
       "Pipeline(steps=[('columntransformer',\n",
       "                 ColumnTransformer(transformers=[('num',\n",
       "                                                  Pipeline(steps=[('imputer',\n",
       "                                                                   SimpleImputer(strategy='median')),\n",
       "                                                                  ('scaler',\n",
       "                                                                   StandardScaler())]),\n",
       "                                                  Index(['Pclass', 'Age', 'SibSp', 'Parch', 'Fare', 'family_size'], dtype='object')),\n",
       "                                                 ('cat',\n",
       "                                                  Pipeline(steps=[('imputer',\n",
       "                                                                   SimpleImputer(fill_value='missing',\n",
       "                                                                                 strategy='constant')),\n",
       "                                                                  ('onehot',\n",
       "                                                                   OneHotEncoder(handle_unknown='ignore'))]),\n",
       "                                                  Index(['Sex', 'Embarked'], dtype='object'))])),\n",
       "                ('logisticregression', LogisticRegression())])"
      ]
     },
     "execution_count": 30,
     "metadata": {},
     "output_type": "execute_result"
    }
   ],
   "source": [
    "from sklearn.linear_model import LogisticRegression\n",
    "from sklearn import set_config\n",
    "set_config(display='diagram')\n",
    "clf = LogisticRegression()\n",
    "logit=make_pipeline(preprocessor, clf)\n",
    "logit"
   ]
  },
  {
   "cell_type": "code",
   "execution_count": 31,
   "metadata": {},
   "outputs": [],
   "source": [
    "from sklearn.model_selection import train_test_split\n",
    "data_train, data_test, target_train, target_test = train_test_split(data, target, random_state=123)"
   ]
  },
  {
   "cell_type": "code",
   "execution_count": 32,
   "metadata": {},
   "outputs": [],
   "source": [
    "_ = logit.fit(data_train, target_train)"
   ]
  },
  {
   "cell_type": "code",
   "execution_count": 34,
   "metadata": {},
   "outputs": [
    {
     "data": {
      "text/plain": [
       "0.8116591928251121"
      ]
     },
     "execution_count": 34,
     "metadata": {},
     "output_type": "execute_result"
    }
   ],
   "source": [
    "target_preds = logit.predict(data_test)\n",
    "logit.score(data_test, target_test)"
   ]
  },
  {
   "cell_type": "markdown",
   "metadata": {},
   "source": [
    "## Evaluation of the  model with cross validation\n",
    "***"
   ]
  },
  {
   "cell_type": "code",
   "execution_count": 37,
   "metadata": {},
   "outputs": [],
   "source": [
    "from sklearn.model_selection import ShuffleSplit\n",
    "\n",
    "cv = ShuffleSplit(n_splits=30, test_size=0.2, random_state=0)"
   ]
  },
  {
   "cell_type": "code",
   "execution_count": 40,
   "metadata": {},
   "outputs": [
    {
     "data": {
      "text/plain": [
       "{'fit_time': array([0.05221891, 0.04884911, 0.06687331, 0.05641747, 0.04232526,\n",
       "        0.04637265, 0.03447866, 0.0350163 , 0.03008413, 0.03428864,\n",
       "        0.03607202, 0.04204154, 0.04124808, 0.03600955, 0.03966498,\n",
       "        0.03791404, 0.03564668, 0.03454614, 0.02799582, 0.03516698,\n",
       "        0.03920412, 0.04394865, 0.04596305, 0.03541708, 0.03630614,\n",
       "        0.0336771 , 0.03858352, 0.03664923, 0.03427553, 0.03292942]),\n",
       " 'score_time': array([0.01678538, 0.01795411, 0.01382756, 0.0133419 , 0.0113492 ,\n",
       "        0.01524115, 0.00805783, 0.00956941, 0.00964737, 0.01435113,\n",
       "        0.01231074, 0.01466322, 0.01433253, 0.01190186, 0.01329684,\n",
       "        0.01315331, 0.01043391, 0.01033902, 0.00895405, 0.01106358,\n",
       "        0.01349735, 0.01726627, 0.01411867, 0.01007414, 0.01336288,\n",
       "        0.01154733, 0.01184392, 0.01069403, 0.0120883 , 0.01046896]),\n",
       " 'test_score': array([0.81005587, 0.77653631, 0.81005587, 0.7877095 , 0.82122905,\n",
       "        0.80446927, 0.81564246, 0.81005587, 0.83240223, 0.83798883,\n",
       "        0.83798883, 0.79329609, 0.81005587, 0.87150838, 0.79888268,\n",
       "        0.79888268, 0.79888268, 0.83240223, 0.84916201, 0.82122905,\n",
       "        0.7877095 , 0.79329609, 0.79888268, 0.79888268, 0.81564246,\n",
       "        0.81005587, 0.8603352 , 0.7877095 , 0.8547486 , 0.8547486 ])}"
      ]
     },
     "execution_count": 40,
     "metadata": {},
     "output_type": "execute_result"
    }
   ],
   "source": [
    "from sklearn.model_selection import cross_validate\n",
    "\n",
    "cv_results = cross_validate(logit, data, target, cv=cv, scoring='accuracy')\n",
    "cv_results"
   ]
  },
  {
   "cell_type": "code",
   "execution_count": 41,
   "metadata": {},
   "outputs": [
    {
     "name": "stdout",
     "output_type": "stream",
     "text": [
      "The mean cross-validation accuracy is: 0.816 +/- 0.024\n"
     ]
    }
   ],
   "source": [
    "scores = cv_results['test_score']\n",
    "print(f\"The mean cross-validation accuracy is: {scores.mean():.3f} +/- {scores.std():.3f}\")"
   ]
  },
  {
   "cell_type": "code",
   "execution_count": 44,
   "metadata": {},
   "outputs": [],
   "source": [
    "errors_logit_classifier = pd.Series(cv_results['test_score'], name='classifer error')"
   ]
  },
  {
   "cell_type": "markdown",
   "metadata": {},
   "source": [
    "### Second baseline - DummyClassifier\n",
    "***"
   ]
  },
  {
   "cell_type": "code",
   "execution_count": 45,
   "metadata": {},
   "outputs": [],
   "source": [
    "from sklearn.dummy import DummyClassifier\n",
    "\n",
    "dummy = DummyClassifier()\n",
    "result_dummy = cross_validate(dummy, data, target,\n",
    "                              cv=cv, scoring=\"accuracy\",\n",
    "                              n_jobs=2)\n",
    "errors_dummy = pd.Series(result_dummy[\"test_score\"], name=\"Dummy error\")"
   ]
  },
  {
   "cell_type": "code",
   "execution_count": 46,
   "metadata": {},
   "outputs": [],
   "source": [
    "from sklearn.model_selection import permutation_test_score\n",
    "\n",
    "score, permutation_score, pvalue = permutation_test_score(\n",
    "    logit, data, target, cv=cv, scoring=\"accuracy\",\n",
    "    n_jobs=-1, n_permutations=30)\n",
    "errors_permutation = pd.Series(permutation_score, name=\"Permuted error\")"
   ]
  },
  {
   "cell_type": "code",
   "execution_count": 47,
   "metadata": {},
   "outputs": [],
   "source": [
    "final_errors = pd.concat([errors_logit_classifier, errors_dummy, errors_permutation],\n",
    "                         axis=1)"
   ]
  },
  {
   "cell_type": "code",
   "execution_count": 49,
   "metadata": {},
   "outputs": [
    {
     "data": {
      "image/png": "[encoded data removed]",
      "text/plain": [
       "<Figure size 432x288 with 1 Axes>"
      ]
     },
     "metadata": {
      "needs_background": "light"
     },
     "output_type": "display_data"
    }
   ],
   "source": [
    "import matplotlib.pyplot as plt\n",
    "\n",
    "final_errors.plot.hist(bins=50, density=True, edgecolor=\"black\")\n",
    "plt.legend(bbox_to_anchor=(1.05, 0.8), loc=\"upper left\")\n",
    "plt.xlabel(\"Accuracy(%)\")\n",
    "_ = plt.title(\"Distribution of the testing errors\")"
   ]
  }
 ],
 "metadata": {
  "interpreter": {
   "hash": "844bc0e8a7fd835b21107109720eaf8eebd347a084e8eb6b507398215662f002"
  },
  "kernelspec": {
   "display_name": "Python 3.9.5 64-bit ('venv': venv)",
   "name": "python3"
  },
  "language_info": {
   "codemirror_mode": {
    "name": "ipython",
    "version": 3
   },
   "file_extension": ".py",
   "mimetype": "text/x-python",
   "name": "python",
   "nbconvert_exporter": "python",
   "pygments_lexer": "ipython3",
   "version": "3.9.5"
  },
  "orig_nbformat": 4
 },
 "nbformat": 4,
 "nbformat_minor": 2
}