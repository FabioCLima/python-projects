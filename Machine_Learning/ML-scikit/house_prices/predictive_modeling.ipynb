{
 "cells": [
  {
   "cell_type": "code",
   "execution_count": 1,
   "source": [
    "import pandas as pd\n",
    "\n",
    "ames_housing = pd.read_csv(\"house_prices.csv\", na_values=\"?\")\n",
    "# dropando a coluna \"Id\" que não tem poder nenhum preditivo\n",
    "ames_housing = ames_housing.drop(columns=\"Id\")\n",
    "target_name = \"SalePrice\"\n",
    "data, target = ames_housing.drop(columns=target_name), ames_housing[target_name]"
   ],
   "outputs": [],
   "metadata": {}
  },
  {
   "cell_type": "markdown",
   "source": [
    "Como podemos ver a variável target é numérica, portanto esse problema é um problema de regressão, iremos converter para um problema de classificação binária através da seguinte condição imposta:\n",
    "* expensive(cara) para sale price --> $\\gt 200,000$ USD.\n",
    "* no expensive para sale price -->  $\\le 200,000$ USD."
   ],
   "metadata": {}
  },
  {
   "cell_type": "code",
   "execution_count": 2,
   "source": [
    "target = (target > 200_000).astype(int)\n",
    "target"
   ],
   "outputs": [
    {
     "output_type": "execute_result",
     "data": {
      "text/plain": [
       "0       1\n",
       "1       0\n",
       "2       1\n",
       "3       0\n",
       "4       1\n",
       "       ..\n",
       "1455    0\n",
       "1456    1\n",
       "1457    1\n",
       "1458    0\n",
       "1459    0\n",
       "Name: SalePrice, Length: 1460, dtype: int64"
      ]
     },
     "metadata": {},
     "execution_count": 2
    }
   ],
   "metadata": {}
  },
  {
   "cell_type": "code",
   "execution_count": 3,
   "source": [
    "data.head()"
   ],
   "outputs": [
    {
     "output_type": "execute_result",
     "data": {
      "text/plain": [
       "   MSSubClass MSZoning  LotFrontage  LotArea Street Alley LotShape  \\\n",
       "0          60       RL         65.0     8450   Pave   NaN      Reg   \n",
       "1          20       RL         80.0     9600   Pave   NaN      Reg   \n",
       "2          60       RL         68.0    11250   Pave   NaN      IR1   \n",
       "3          70       RL         60.0     9550   Pave   NaN      IR1   \n",
       "4          60       RL         84.0    14260   Pave   NaN      IR1   \n",
       "\n",
       "  LandContour Utilities LotConfig  ... ScreenPorch PoolArea PoolQC Fence  \\\n",
       "0         Lvl    AllPub    Inside  ...           0        0    NaN   NaN   \n",
       "1         Lvl    AllPub       FR2  ...           0        0    NaN   NaN   \n",
       "2         Lvl    AllPub    Inside  ...           0        0    NaN   NaN   \n",
       "3         Lvl    AllPub    Corner  ...           0        0    NaN   NaN   \n",
       "4         Lvl    AllPub       FR2  ...           0        0    NaN   NaN   \n",
       "\n",
       "  MiscFeature MiscVal  MoSold  YrSold  SaleType  SaleCondition  \n",
       "0         NaN       0       2    2008        WD         Normal  \n",
       "1         NaN       0       5    2007        WD         Normal  \n",
       "2         NaN       0       9    2008        WD         Normal  \n",
       "3         NaN       0       2    2006        WD        Abnorml  \n",
       "4         NaN       0      12    2008        WD         Normal  \n",
       "\n",
       "[5 rows x 79 columns]"
      ],
      "text/html": [
       "<div>\n",
       "<style scoped>\n",
       "    .dataframe tbody tr th:only-of-type {\n",
       "        vertical-align: middle;\n",
       "    }\n",
       "\n",
       "    .dataframe tbody tr th {\n",
       "        vertical-align: top;\n",
       "    }\n",
       "\n",
       "    .dataframe thead th {\n",
       "        text-align: right;\n",
       "    }\n",
       "</style>\n",
       "<table border=\"1\" class=\"dataframe\">\n",
       "  <thead>\n",
       "    <tr style=\"text-align: right;\">\n",
       "      <th></th>\n",
       "      <th>MSSubClass</th>\n",
       "      <th>MSZoning</th>\n",
       "      <th>LotFrontage</th>\n",
       "      <th>LotArea</th>\n",
       "      <th>Street</th>\n",
       "      <th>Alley</th>\n",
       "      <th>LotShape</th>\n",
       "      <th>LandContour</th>\n",
       "      <th>Utilities</th>\n",
       "      <th>LotConfig</th>\n",
       "      <th>...</th>\n",
       "      <th>ScreenPorch</th>\n",
       "      <th>PoolArea</th>\n",
       "      <th>PoolQC</th>\n",
       "      <th>Fence</th>\n",
       "      <th>MiscFeature</th>\n",
       "      <th>MiscVal</th>\n",
       "      <th>MoSold</th>\n",
       "      <th>YrSold</th>\n",
       "      <th>SaleType</th>\n",
       "      <th>SaleCondition</th>\n",
       "    </tr>\n",
       "  </thead>\n",
       "  <tbody>\n",
       "    <tr>\n",
       "      <th>0</th>\n",
       "      <td>60</td>\n",
       "      <td>RL</td>\n",
       "      <td>65.0</td>\n",
       "      <td>8450</td>\n",
       "      <td>Pave</td>\n",
       "      <td>NaN</td>\n",
       "      <td>Reg</td>\n",
       "      <td>Lvl</td>\n",
       "      <td>AllPub</td>\n",
       "      <td>Inside</td>\n",
       "      <td>...</td>\n",
       "      <td>0</td>\n",
       "      <td>0</td>\n",
       "      <td>NaN</td>\n",
       "      <td>NaN</td>\n",
       "      <td>NaN</td>\n",
       "      <td>0</td>\n",
       "      <td>2</td>\n",
       "      <td>2008</td>\n",
       "      <td>WD</td>\n",
       "      <td>Normal</td>\n",
       "    </tr>\n",
       "    <tr>\n",
       "      <th>1</th>\n",
       "      <td>20</td>\n",
       "      <td>RL</td>\n",
       "      <td>80.0</td>\n",
       "      <td>9600</td>\n",
       "      <td>Pave</td>\n",
       "      <td>NaN</td>\n",
       "      <td>Reg</td>\n",
       "      <td>Lvl</td>\n",
       "      <td>AllPub</td>\n",
       "      <td>FR2</td>\n",
       "      <td>...</td>\n",
       "      <td>0</td>\n",
       "      <td>0</td>\n",
       "      <td>NaN</td>\n",
       "      <td>NaN</td>\n",
       "      <td>NaN</td>\n",
       "      <td>0</td>\n",
       "      <td>5</td>\n",
       "      <td>2007</td>\n",
       "      <td>WD</td>\n",
       "      <td>Normal</td>\n",
       "    </tr>\n",
       "    <tr>\n",
       "      <th>2</th>\n",
       "      <td>60</td>\n",
       "      <td>RL</td>\n",
       "      <td>68.0</td>\n",
       "      <td>11250</td>\n",
       "      <td>Pave</td>\n",
       "      <td>NaN</td>\n",
       "      <td>IR1</td>\n",
       "      <td>Lvl</td>\n",
       "      <td>AllPub</td>\n",
       "      <td>Inside</td>\n",
       "      <td>...</td>\n",
       "      <td>0</td>\n",
       "      <td>0</td>\n",
       "      <td>NaN</td>\n",
       "      <td>NaN</td>\n",
       "      <td>NaN</td>\n",
       "      <td>0</td>\n",
       "      <td>9</td>\n",
       "      <td>2008</td>\n",
       "      <td>WD</td>\n",
       "      <td>Normal</td>\n",
       "    </tr>\n",
       "    <tr>\n",
       "      <th>3</th>\n",
       "      <td>70</td>\n",
       "      <td>RL</td>\n",
       "      <td>60.0</td>\n",
       "      <td>9550</td>\n",
       "      <td>Pave</td>\n",
       "      <td>NaN</td>\n",
       "      <td>IR1</td>\n",
       "      <td>Lvl</td>\n",
       "      <td>AllPub</td>\n",
       "      <td>Corner</td>\n",
       "      <td>...</td>\n",
       "      <td>0</td>\n",
       "      <td>0</td>\n",
       "      <td>NaN</td>\n",
       "      <td>NaN</td>\n",
       "      <td>NaN</td>\n",
       "      <td>0</td>\n",
       "      <td>2</td>\n",
       "      <td>2006</td>\n",
       "      <td>WD</td>\n",
       "      <td>Abnorml</td>\n",
       "    </tr>\n",
       "    <tr>\n",
       "      <th>4</th>\n",
       "      <td>60</td>\n",
       "      <td>RL</td>\n",
       "      <td>84.0</td>\n",
       "      <td>14260</td>\n",
       "      <td>Pave</td>\n",
       "      <td>NaN</td>\n",
       "      <td>IR1</td>\n",
       "      <td>Lvl</td>\n",
       "      <td>AllPub</td>\n",
       "      <td>FR2</td>\n",
       "      <td>...</td>\n",
       "      <td>0</td>\n",
       "      <td>0</td>\n",
       "      <td>NaN</td>\n",
       "      <td>NaN</td>\n",
       "      <td>NaN</td>\n",
       "      <td>0</td>\n",
       "      <td>12</td>\n",
       "      <td>2008</td>\n",
       "      <td>WD</td>\n",
       "      <td>Normal</td>\n",
       "    </tr>\n",
       "  </tbody>\n",
       "</table>\n",
       "<p>5 rows × 79 columns</p>\n",
       "</div>"
      ]
     },
     "metadata": {},
     "execution_count": 3
    }
   ],
   "metadata": {}
  },
  {
   "cell_type": "code",
   "execution_count": 4,
   "source": [
    "data.info()"
   ],
   "outputs": [
    {
     "output_type": "stream",
     "name": "stdout",
     "text": [
      "<class 'pandas.core.frame.DataFrame'>\n",
      "RangeIndex: 1460 entries, 0 to 1459\n",
      "Data columns (total 79 columns):\n",
      " #   Column         Non-Null Count  Dtype  \n",
      "---  ------         --------------  -----  \n",
      " 0   MSSubClass     1460 non-null   int64  \n",
      " 1   MSZoning       1460 non-null   object \n",
      " 2   LotFrontage    1201 non-null   float64\n",
      " 3   LotArea        1460 non-null   int64  \n",
      " 4   Street         1460 non-null   object \n",
      " 5   Alley          91 non-null     object \n",
      " 6   LotShape       1460 non-null   object \n",
      " 7   LandContour    1460 non-null   object \n",
      " 8   Utilities      1460 non-null   object \n",
      " 9   LotConfig      1460 non-null   object \n",
      " 10  LandSlope      1460 non-null   object \n",
      " 11  Neighborhood   1460 non-null   object \n",
      " 12  Condition1     1460 non-null   object \n",
      " 13  Condition2     1460 non-null   object \n",
      " 14  BldgType       1460 non-null   object \n",
      " 15  HouseStyle     1460 non-null   object \n",
      " 16  OverallQual    1460 non-null   int64  \n",
      " 17  OverallCond    1460 non-null   int64  \n",
      " 18  YearBuilt      1460 non-null   int64  \n",
      " 19  YearRemodAdd   1460 non-null   int64  \n",
      " 20  RoofStyle      1460 non-null   object \n",
      " 21  RoofMatl       1460 non-null   object \n",
      " 22  Exterior1st    1460 non-null   object \n",
      " 23  Exterior2nd    1460 non-null   object \n",
      " 24  MasVnrType     1452 non-null   object \n",
      " 25  MasVnrArea     1452 non-null   float64\n",
      " 26  ExterQual      1460 non-null   object \n",
      " 27  ExterCond      1460 non-null   object \n",
      " 28  Foundation     1460 non-null   object \n",
      " 29  BsmtQual       1423 non-null   object \n",
      " 30  BsmtCond       1423 non-null   object \n",
      " 31  BsmtExposure   1422 non-null   object \n",
      " 32  BsmtFinType1   1423 non-null   object \n",
      " 33  BsmtFinSF1     1460 non-null   int64  \n",
      " 34  BsmtFinType2   1422 non-null   object \n",
      " 35  BsmtFinSF2     1460 non-null   int64  \n",
      " 36  BsmtUnfSF      1460 non-null   int64  \n",
      " 37  TotalBsmtSF    1460 non-null   int64  \n",
      " 38  Heating        1460 non-null   object \n",
      " 39  HeatingQC      1460 non-null   object \n",
      " 40  CentralAir     1460 non-null   object \n",
      " 41  Electrical     1459 non-null   object \n",
      " 42  1stFlrSF       1460 non-null   int64  \n",
      " 43  2ndFlrSF       1460 non-null   int64  \n",
      " 44  LowQualFinSF   1460 non-null   int64  \n",
      " 45  GrLivArea      1460 non-null   int64  \n",
      " 46  BsmtFullBath   1460 non-null   int64  \n",
      " 47  BsmtHalfBath   1460 non-null   int64  \n",
      " 48  FullBath       1460 non-null   int64  \n",
      " 49  HalfBath       1460 non-null   int64  \n",
      " 50  BedroomAbvGr   1460 non-null   int64  \n",
      " 51  KitchenAbvGr   1460 non-null   int64  \n",
      " 52  KitchenQual    1460 non-null   object \n",
      " 53  TotRmsAbvGrd   1460 non-null   int64  \n",
      " 54  Functional     1460 non-null   object \n",
      " 55  Fireplaces     1460 non-null   int64  \n",
      " 56  FireplaceQu    770 non-null    object \n",
      " 57  GarageType     1379 non-null   object \n",
      " 58  GarageYrBlt    1379 non-null   float64\n",
      " 59  GarageFinish   1379 non-null   object \n",
      " 60  GarageCars     1460 non-null   int64  \n",
      " 61  GarageArea     1460 non-null   int64  \n",
      " 62  GarageQual     1379 non-null   object \n",
      " 63  GarageCond     1379 non-null   object \n",
      " 64  PavedDrive     1460 non-null   object \n",
      " 65  WoodDeckSF     1460 non-null   int64  \n",
      " 66  OpenPorchSF    1460 non-null   int64  \n",
      " 67  EnclosedPorch  1460 non-null   int64  \n",
      " 68  3SsnPorch      1460 non-null   int64  \n",
      " 69  ScreenPorch    1460 non-null   int64  \n",
      " 70  PoolArea       1460 non-null   int64  \n",
      " 71  PoolQC         7 non-null      object \n",
      " 72  Fence          281 non-null    object \n",
      " 73  MiscFeature    54 non-null     object \n",
      " 74  MiscVal        1460 non-null   int64  \n",
      " 75  MoSold         1460 non-null   int64  \n",
      " 76  YrSold         1460 non-null   int64  \n",
      " 77  SaleType       1460 non-null   object \n",
      " 78  SaleCondition  1460 non-null   object \n",
      "dtypes: float64(3), int64(33), object(43)\n",
      "memory usage: 901.2+ KB\n"
     ]
    }
   ],
   "metadata": {}
  },
  {
   "cell_type": "code",
   "execution_count": 5,
   "source": [
    "numerical_columns = data.select_dtypes(exclude=['object']).columns.to_list()\n",
    "numerical_columns"
   ],
   "outputs": [
    {
     "output_type": "execute_result",
     "data": {
      "text/plain": [
       "['MSSubClass',\n",
       " 'LotFrontage',\n",
       " 'LotArea',\n",
       " 'OverallQual',\n",
       " 'OverallCond',\n",
       " 'YearBuilt',\n",
       " 'YearRemodAdd',\n",
       " 'MasVnrArea',\n",
       " 'BsmtFinSF1',\n",
       " 'BsmtFinSF2',\n",
       " 'BsmtUnfSF',\n",
       " 'TotalBsmtSF',\n",
       " '1stFlrSF',\n",
       " '2ndFlrSF',\n",
       " 'LowQualFinSF',\n",
       " 'GrLivArea',\n",
       " 'BsmtFullBath',\n",
       " 'BsmtHalfBath',\n",
       " 'FullBath',\n",
       " 'HalfBath',\n",
       " 'BedroomAbvGr',\n",
       " 'KitchenAbvGr',\n",
       " 'TotRmsAbvGrd',\n",
       " 'Fireplaces',\n",
       " 'GarageYrBlt',\n",
       " 'GarageCars',\n",
       " 'GarageArea',\n",
       " 'WoodDeckSF',\n",
       " 'OpenPorchSF',\n",
       " 'EnclosedPorch',\n",
       " '3SsnPorch',\n",
       " 'ScreenPorch',\n",
       " 'PoolArea',\n",
       " 'MiscVal',\n",
       " 'MoSold',\n",
       " 'YrSold']"
      ]
     },
     "metadata": {},
     "execution_count": 5
    }
   ],
   "metadata": {}
  },
  {
   "cell_type": "code",
   "execution_count": 6,
   "source": [
    "print(f\"O total de features numéricas é: {len(numerical_columns)}\")"
   ],
   "outputs": [
    {
     "output_type": "stream",
     "name": "stdout",
     "text": [
      "O total de features numéricas é: 36\n"
     ]
    }
   ],
   "metadata": {}
  },
  {
   "cell_type": "markdown",
   "source": [
    "## Criando um modelo preditivo com apenas as features numéricas\n",
    "***"
   ],
   "metadata": {}
  },
  {
   "cell_type": "code",
   "execution_count": 7,
   "source": [
    "X = data[numerical_columns]\n",
    "y = target"
   ],
   "outputs": [],
   "metadata": {}
  },
  {
   "cell_type": "code",
   "execution_count": 8,
   "source": [
    "_ = target.value_counts().plot.bar()"
   ],
   "outputs": [
    {
     "output_type": "display_data",
     "data": {
      "text/plain": [
       "<Figure size 432x288 with 1 Axes>"
      ],
      "image/png": "[encoded data removed]"
     },
     "metadata": {
      "needs_background": "light"
     }
    }
   ],
   "metadata": {}
  },
  {
   "cell_type": "code",
   "execution_count": 9,
   "source": [
    "from sklearn.pipeline import make_pipeline\n",
    "from sklearn.impute import SimpleImputer\n",
    "from sklearn.preprocessing import StandardScaler\n",
    "from sklearn.linear_model import LogisticRegression\n",
    "from sklearn import set_config\n",
    "set_config(display='diagram')"
   ],
   "outputs": [],
   "metadata": {}
  },
  {
   "cell_type": "code",
   "execution_count": 10,
   "source": [
    "numerical_preprocessor = make_pipeline(\n",
    "    SimpleImputer(strategy='median'),\n",
    "    StandardScaler()\n",
    ")"
   ],
   "outputs": [],
   "metadata": {}
  },
  {
   "cell_type": "code",
   "execution_count": 11,
   "source": [
    "logistic_model = make_pipeline(\n",
    "    numerical_preprocessor,\n",
    "    LogisticRegression(max_iter=500)\n",
    ")\n",
    "logistic_model"
   ],
   "outputs": [
    {
     "output_type": "execute_result",
     "data": {
      "text/plain": [
       "Pipeline(steps=[('pipeline',\n",
       "                 Pipeline(steps=[('simpleimputer',\n",
       "                                  SimpleImputer(strategy='median')),\n",
       "                                 ('standardscaler', StandardScaler())])),\n",
       "                ('logisticregression', LogisticRegression(max_iter=500))])"
      ],
      "text/html": [
       "<style>#sk-1b9d1614-ef77-4f0a-8c07-061f87a5d68f {color: black;background-color: white;}#sk-1b9d1614-ef77-4f0a-8c07-061f87a5d68f pre{padding: 0;}#sk-1b9d1614-ef77-4f0a-8c07-061f87a5d68f div.sk-toggleable {background-color: white;}#sk-1b9d1614-ef77-4f0a-8c07-061f87a5d68f label.sk-toggleable__label {cursor: pointer;display: block;width: 100%;margin-bottom: 0;padding: 0.2em 0.3em;box-sizing: border-box;text-align: center;}#sk-1b9d1614-ef77-4f0a-8c07-061f87a5d68f div.sk-toggleable__content {max-height: 0;max-width: 0;overflow: hidden;text-align: left;background-color: #f0f8ff;}#sk-1b9d1614-ef77-4f0a-8c07-061f87a5d68f div.sk-toggleable__content pre {margin: 0.2em;color: black;border-radius: 0.25em;background-color: #f0f8ff;}#sk-1b9d1614-ef77-4f0a-8c07-061f87a5d68f input.sk-toggleable__control:checked~div.sk-toggleable__content {max-height: 200px;max-width: 100%;overflow: auto;}#sk-1b9d1614-ef77-4f0a-8c07-061f87a5d68f div.sk-estimator input.sk-toggleable__control:checked~label.sk-toggleable__label {background-color: #d4ebff;}#sk-1b9d1614-ef77-4f0a-8c07-061f87a5d68f div.sk-label input.sk-toggleable__control:checked~label.sk-toggleable__label {background-color: #d4ebff;}#sk-1b9d1614-ef77-4f0a-8c07-061f87a5d68f input.sk-hidden--visually {border: 0;clip: rect(1px 1px 1px 1px);clip: rect(1px, 1px, 1px, 1px);height: 1px;margin: -1px;overflow: hidden;padding: 0;position: absolute;width: 1px;}#sk-1b9d1614-ef77-4f0a-8c07-061f87a5d68f div.sk-estimator {font-family: monospace;background-color: #f0f8ff;margin: 0.25em 0.25em;border: 1px dotted black;border-radius: 0.25em;box-sizing: border-box;}#sk-1b9d1614-ef77-4f0a-8c07-061f87a5d68f div.sk-estimator:hover {background-color: #d4ebff;}#sk-1b9d1614-ef77-4f0a-8c07-061f87a5d68f div.sk-parallel-item::after {content: \"\";width: 100%;border-bottom: 1px solid gray;flex-grow: 1;}#sk-1b9d1614-ef77-4f0a-8c07-061f87a5d68f div.sk-label:hover label.sk-toggleable__label {background-color: #d4ebff;}#sk-1b9d1614-ef77-4f0a-8c07-061f87a5d68f div.sk-serial::before {content: \"\";position: absolute;border-left: 1px solid gray;box-sizing: border-box;top: 2em;bottom: 0;left: 50%;}#sk-1b9d1614-ef77-4f0a-8c07-061f87a5d68f div.sk-serial {display: flex;flex-direction: column;align-items: center;background-color: white;}#sk-1b9d1614-ef77-4f0a-8c07-061f87a5d68f div.sk-item {z-index: 1;}#sk-1b9d1614-ef77-4f0a-8c07-061f87a5d68f div.sk-parallel {display: flex;align-items: stretch;justify-content: center;background-color: white;}#sk-1b9d1614-ef77-4f0a-8c07-061f87a5d68f div.sk-parallel-item {display: flex;flex-direction: column;position: relative;background-color: white;}#sk-1b9d1614-ef77-4f0a-8c07-061f87a5d68f div.sk-parallel-item:first-child::after {align-self: flex-end;width: 50%;}#sk-1b9d1614-ef77-4f0a-8c07-061f87a5d68f div.sk-parallel-item:last-child::after {align-self: flex-start;width: 50%;}#sk-1b9d1614-ef77-4f0a-8c07-061f87a5d68f div.sk-parallel-item:only-child::after {width: 0;}#sk-1b9d1614-ef77-4f0a-8c07-061f87a5d68f div.sk-dashed-wrapped {border: 1px dashed gray;margin: 0.2em;box-sizing: border-box;padding-bottom: 0.1em;background-color: white;position: relative;}#sk-1b9d1614-ef77-4f0a-8c07-061f87a5d68f div.sk-label label {font-family: monospace;font-weight: bold;background-color: white;display: inline-block;line-height: 1.2em;}#sk-1b9d1614-ef77-4f0a-8c07-061f87a5d68f div.sk-label-container {position: relative;z-index: 2;text-align: center;}#sk-1b9d1614-ef77-4f0a-8c07-061f87a5d68f div.sk-container {display: inline-block;position: relative;}</style><div id=\"sk-1b9d1614-ef77-4f0a-8c07-061f87a5d68f\" class\"sk-top-container\"><div class=\"sk-container\"><div class=\"sk-item sk-dashed-wrapped\"><div class=\"sk-label-container\"><div class=\"sk-label sk-toggleable\"><input class=\"sk-toggleable__control sk-hidden--visually\" id=\"bc86a988-b396-4456-b8ea-03390e8221b8\" type=\"checkbox\" ><label class=\"sk-toggleable__label\" for=\"bc86a988-b396-4456-b8ea-03390e8221b8\">Pipeline</label><div class=\"sk-toggleable__content\"><pre>Pipeline(steps=[('pipeline',\n",
       "                 Pipeline(steps=[('simpleimputer',\n",
       "                                  SimpleImputer(strategy='median')),\n",
       "                                 ('standardscaler', StandardScaler())])),\n",
       "                ('logisticregression', LogisticRegression(max_iter=500))])</pre></div></div></div><div class=\"sk-serial\"><div class=\"sk-item\"><div class=\"sk-label-container\"><div class=\"sk-label sk-toggleable\"><input class=\"sk-toggleable__control sk-hidden--visually\" id=\"5f80eb61-07ab-412f-a96a-e128754c0fab\" type=\"checkbox\" ><label class=\"sk-toggleable__label\" for=\"5f80eb61-07ab-412f-a96a-e128754c0fab\">pipeline: Pipeline</label><div class=\"sk-toggleable__content\"><pre>Pipeline(steps=[('simpleimputer', SimpleImputer(strategy='median')),\n",
       "                ('standardscaler', StandardScaler())])</pre></div></div></div><div class=\"sk-serial\"><div class=\"sk-item\"><div class=\"sk-estimator sk-toggleable\"><input class=\"sk-toggleable__control sk-hidden--visually\" id=\"597b51c5-2667-4321-8975-7b3ac799e8eb\" type=\"checkbox\" ><label class=\"sk-toggleable__label\" for=\"597b51c5-2667-4321-8975-7b3ac799e8eb\">SimpleImputer</label><div class=\"sk-toggleable__content\"><pre>SimpleImputer(strategy='median')</pre></div></div></div><div class=\"sk-item\"><div class=\"sk-estimator sk-toggleable\"><input class=\"sk-toggleable__control sk-hidden--visually\" id=\"10787eaa-0c2c-4a09-86db-7048eb6db235\" type=\"checkbox\" ><label class=\"sk-toggleable__label\" for=\"10787eaa-0c2c-4a09-86db-7048eb6db235\">StandardScaler</label><div class=\"sk-toggleable__content\"><pre>StandardScaler()</pre></div></div></div></div></div><div class=\"sk-item\"><div class=\"sk-estimator sk-toggleable\"><input class=\"sk-toggleable__control sk-hidden--visually\" id=\"966e149b-ad5b-4558-8597-c8090b6062a1\" type=\"checkbox\" ><label class=\"sk-toggleable__label\" for=\"966e149b-ad5b-4558-8597-c8090b6062a1\">LogisticRegression</label><div class=\"sk-toggleable__content\"><pre>LogisticRegression(max_iter=500)</pre></div></div></div></div></div></div></div>"
      ]
     },
     "metadata": {},
     "execution_count": 11
    }
   ],
   "metadata": {}
  },
  {
   "cell_type": "code",
   "execution_count": 12,
   "source": [
    "from sklearn.model_selection import cross_validate"
   ],
   "outputs": [],
   "metadata": {}
  },
  {
   "cell_type": "code",
   "execution_count": 13,
   "source": [
    "%%time\n",
    "cv_results = cross_validate(\n",
    "    logistic_model, \n",
    "    X, y,\n",
    "    cv = 5\n",
    ")\n",
    "scores = cv_results['test_score']\n",
    "print(f\"A média da acurácia no cross-validation é: {scores.mean():.3f} +/- {scores.std():.3f}\")"
   ],
   "outputs": [
    {
     "output_type": "stream",
     "name": "stdout",
     "text": [
      "A média da acurácia no cross-validation é: 0.921 +/- 0.014\n",
      "CPU times: user 528 ms, sys: 718 ms, total: 1.25 s\n",
      "Wall time: 371 ms\n"
     ]
    }
   ],
   "metadata": {}
  },
  {
   "cell_type": "markdown",
   "source": [
    "### Usando um pipeline que processa features numéricas e categóricas"
   ],
   "metadata": {}
  },
  {
   "cell_type": "code",
   "execution_count": 14,
   "source": [
    "categorical_columns = data.select_dtypes(include=['object']).columns\n",
    "categorical_columns"
   ],
   "outputs": [
    {
     "output_type": "execute_result",
     "data": {
      "text/plain": [
       "Index(['MSZoning', 'Street', 'Alley', 'LotShape', 'LandContour', 'Utilities',\n",
       "       'LotConfig', 'LandSlope', 'Neighborhood', 'Condition1', 'Condition2',\n",
       "       'BldgType', 'HouseStyle', 'RoofStyle', 'RoofMatl', 'Exterior1st',\n",
       "       'Exterior2nd', 'MasVnrType', 'ExterQual', 'ExterCond', 'Foundation',\n",
       "       'BsmtQual', 'BsmtCond', 'BsmtExposure', 'BsmtFinType1', 'BsmtFinType2',\n",
       "       'Heating', 'HeatingQC', 'CentralAir', 'Electrical', 'KitchenQual',\n",
       "       'Functional', 'FireplaceQu', 'GarageType', 'GarageFinish', 'GarageQual',\n",
       "       'GarageCond', 'PavedDrive', 'PoolQC', 'Fence', 'MiscFeature',\n",
       "       'SaleType', 'SaleCondition'],\n",
       "      dtype='object')"
      ]
     },
     "metadata": {},
     "execution_count": 14
    }
   ],
   "metadata": {}
  },
  {
   "cell_type": "code",
   "execution_count": 15,
   "source": [
    "from sklearn.preprocessing import OneHotEncoder\n",
    "from sklearn.compose import ColumnTransformer\n",
    "categorical_preprocessor = make_pipeline(\n",
    "    SimpleImputer(strategy=\"most_frequent\"),\n",
    "    OneHotEncoder(handle_unknown='ignore')\n",
    ")\n",
    "\n",
    "numerical_preprocessor = make_pipeline(\n",
    "    SimpleImputer(strategy='median'),\n",
    "    StandardScaler()\n",
    ")\n",
    "\n",
    "preprocessor = ColumnTransformer(transformers =[\n",
    "    (\"num_preprocessor\", numerical_preprocessor, numerical_columns),\n",
    "    (\"cat_preprocessor\", categorical_preprocessor, categorical_columns)\n",
    "])"
   ],
   "outputs": [],
   "metadata": {}
  },
  {
   "cell_type": "code",
   "execution_count": 16,
   "source": [
    "model = make_pipeline(\n",
    "    preprocessor,\n",
    "    LogisticRegression(max_iter=500)\n",
    ")\n",
    "model"
   ],
   "outputs": [
    {
     "output_type": "execute_result",
     "data": {
      "text/plain": [
       "Pipeline(steps=[('columntransformer',\n",
       "                 ColumnTransformer(transformers=[('num_preprocessor',\n",
       "                                                  Pipeline(steps=[('simpleimputer',\n",
       "                                                                   SimpleImputer(strategy='median')),\n",
       "                                                                  ('standardscaler',\n",
       "                                                                   StandardScaler())]),\n",
       "                                                  ['MSSubClass', 'LotFrontage',\n",
       "                                                   'LotArea', 'OverallQual',\n",
       "                                                   'OverallCond', 'YearBuilt',\n",
       "                                                   'YearRemodAdd', 'MasVnrArea',\n",
       "                                                   'BsmtFinSF1', 'BsmtFinSF2',\n",
       "                                                   'BsmtUnfSF', 'TotalBsmtSF...\n",
       "       'BsmtQual', 'BsmtCond', 'BsmtExposure', 'BsmtFinType1', 'BsmtFinType2',\n",
       "       'Heating', 'HeatingQC', 'CentralAir', 'Electrical', 'KitchenQual',\n",
       "       'Functional', 'FireplaceQu', 'GarageType', 'GarageFinish', 'GarageQual',\n",
       "       'GarageCond', 'PavedDrive', 'PoolQC', 'Fence', 'MiscFeature',\n",
       "       'SaleType', 'SaleCondition'],\n",
       "      dtype='object'))])),\n",
       "                ('logisticregression', LogisticRegression(max_iter=500))])"
      ],
      "text/html": [
       "<style>#sk-c1dca37c-de95-47f0-a8dc-6dcf3d97bcb6 {color: black;background-color: white;}#sk-c1dca37c-de95-47f0-a8dc-6dcf3d97bcb6 pre{padding: 0;}#sk-c1dca37c-de95-47f0-a8dc-6dcf3d97bcb6 div.sk-toggleable {background-color: white;}#sk-c1dca37c-de95-47f0-a8dc-6dcf3d97bcb6 label.sk-toggleable__label {cursor: pointer;display: block;width: 100%;margin-bottom: 0;padding: 0.2em 0.3em;box-sizing: border-box;text-align: center;}#sk-c1dca37c-de95-47f0-a8dc-6dcf3d97bcb6 div.sk-toggleable__content {max-height: 0;max-width: 0;overflow: hidden;text-align: left;background-color: #f0f8ff;}#sk-c1dca37c-de95-47f0-a8dc-6dcf3d97bcb6 div.sk-toggleable__content pre {margin: 0.2em;color: black;border-radius: 0.25em;background-color: #f0f8ff;}#sk-c1dca37c-de95-47f0-a8dc-6dcf3d97bcb6 input.sk-toggleable__control:checked~div.sk-toggleable__content {max-height: 200px;max-width: 100%;overflow: auto;}#sk-c1dca37c-de95-47f0-a8dc-6dcf3d97bcb6 div.sk-estimator input.sk-toggleable__control:checked~label.sk-toggleable__label {background-color: #d4ebff;}#sk-c1dca37c-de95-47f0-a8dc-6dcf3d97bcb6 div.sk-label input.sk-toggleable__control:checked~label.sk-toggleable__label {background-color: #d4ebff;}#sk-c1dca37c-de95-47f0-a8dc-6dcf3d97bcb6 input.sk-hidden--visually {border: 0;clip: rect(1px 1px 1px 1px);clip: rect(1px, 1px, 1px, 1px);height: 1px;margin: -1px;overflow: hidden;padding: 0;position: absolute;width: 1px;}#sk-c1dca37c-de95-47f0-a8dc-6dcf3d97bcb6 div.sk-estimator {font-family: monospace;background-color: #f0f8ff;margin: 0.25em 0.25em;border: 1px dotted black;border-radius: 0.25em;box-sizing: border-box;}#sk-c1dca37c-de95-47f0-a8dc-6dcf3d97bcb6 div.sk-estimator:hover {background-color: #d4ebff;}#sk-c1dca37c-de95-47f0-a8dc-6dcf3d97bcb6 div.sk-parallel-item::after {content: \"\";width: 100%;border-bottom: 1px solid gray;flex-grow: 1;}#sk-c1dca37c-de95-47f0-a8dc-6dcf3d97bcb6 div.sk-label:hover label.sk-toggleable__label {background-color: #d4ebff;}#sk-c1dca37c-de95-47f0-a8dc-6dcf3d97bcb6 div.sk-serial::before {content: \"\";position: absolute;border-left: 1px solid gray;box-sizing: border-box;top: 2em;bottom: 0;left: 50%;}#sk-c1dca37c-de95-47f0-a8dc-6dcf3d97bcb6 div.sk-serial {display: flex;flex-direction: column;align-items: center;background-color: white;}#sk-c1dca37c-de95-47f0-a8dc-6dcf3d97bcb6 div.sk-item {z-index: 1;}#sk-c1dca37c-de95-47f0-a8dc-6dcf3d97bcb6 div.sk-parallel {display: flex;align-items: stretch;justify-content: center;background-color: white;}#sk-c1dca37c-de95-47f0-a8dc-6dcf3d97bcb6 div.sk-parallel-item {display: flex;flex-direction: column;position: relative;background-color: white;}#sk-c1dca37c-de95-47f0-a8dc-6dcf3d97bcb6 div.sk-parallel-item:first-child::after {align-self: flex-end;width: 50%;}#sk-c1dca37c-de95-47f0-a8dc-6dcf3d97bcb6 div.sk-parallel-item:last-child::after {align-self: flex-start;width: 50%;}#sk-c1dca37c-de95-47f0-a8dc-6dcf3d97bcb6 div.sk-parallel-item:only-child::after {width: 0;}#sk-c1dca37c-de95-47f0-a8dc-6dcf3d97bcb6 div.sk-dashed-wrapped {border: 1px dashed gray;margin: 0.2em;box-sizing: border-box;padding-bottom: 0.1em;background-color: white;position: relative;}#sk-c1dca37c-de95-47f0-a8dc-6dcf3d97bcb6 div.sk-label label {font-family: monospace;font-weight: bold;background-color: white;display: inline-block;line-height: 1.2em;}#sk-c1dca37c-de95-47f0-a8dc-6dcf3d97bcb6 div.sk-label-container {position: relative;z-index: 2;text-align: center;}#sk-c1dca37c-de95-47f0-a8dc-6dcf3d97bcb6 div.sk-container {display: inline-block;position: relative;}</style><div id=\"sk-c1dca37c-de95-47f0-a8dc-6dcf3d97bcb6\" class\"sk-top-container\"><div class=\"sk-container\"><div class=\"sk-item sk-dashed-wrapped\"><div class=\"sk-label-container\"><div class=\"sk-label sk-toggleable\"><input class=\"sk-toggleable__control sk-hidden--visually\" id=\"e916792d-7cf0-48b4-975f-50536cf63854\" type=\"checkbox\" ><label class=\"sk-toggleable__label\" for=\"e916792d-7cf0-48b4-975f-50536cf63854\">Pipeline</label><div class=\"sk-toggleable__content\"><pre>Pipeline(steps=[('columntransformer',\n",
       "                 ColumnTransformer(transformers=[('num_preprocessor',\n",
       "                                                  Pipeline(steps=[('simpleimputer',\n",
       "                                                                   SimpleImputer(strategy='median')),\n",
       "                                                                  ('standardscaler',\n",
       "                                                                   StandardScaler())]),\n",
       "                                                  ['MSSubClass', 'LotFrontage',\n",
       "                                                   'LotArea', 'OverallQual',\n",
       "                                                   'OverallCond', 'YearBuilt',\n",
       "                                                   'YearRemodAdd', 'MasVnrArea',\n",
       "                                                   'BsmtFinSF1', 'BsmtFinSF2',\n",
       "                                                   'BsmtUnfSF', 'TotalBsmtSF...\n",
       "       'BsmtQual', 'BsmtCond', 'BsmtExposure', 'BsmtFinType1', 'BsmtFinType2',\n",
       "       'Heating', 'HeatingQC', 'CentralAir', 'Electrical', 'KitchenQual',\n",
       "       'Functional', 'FireplaceQu', 'GarageType', 'GarageFinish', 'GarageQual',\n",
       "       'GarageCond', 'PavedDrive', 'PoolQC', 'Fence', 'MiscFeature',\n",
       "       'SaleType', 'SaleCondition'],\n",
       "      dtype='object'))])),\n",
       "                ('logisticregression', LogisticRegression(max_iter=500))])</pre></div></div></div><div class=\"sk-serial\"><div class=\"sk-item sk-dashed-wrapped\"><div class=\"sk-label-container\"><div class=\"sk-label sk-toggleable\"><input class=\"sk-toggleable__control sk-hidden--visually\" id=\"5ed1302f-ddb0-4d15-873e-2cc16180f866\" type=\"checkbox\" ><label class=\"sk-toggleable__label\" for=\"5ed1302f-ddb0-4d15-873e-2cc16180f866\">columntransformer: ColumnTransformer</label><div class=\"sk-toggleable__content\"><pre>ColumnTransformer(transformers=[('num_preprocessor',\n",
       "                                 Pipeline(steps=[('simpleimputer',\n",
       "                                                  SimpleImputer(strategy='median')),\n",
       "                                                 ('standardscaler',\n",
       "                                                  StandardScaler())]),\n",
       "                                 ['MSSubClass', 'LotFrontage', 'LotArea',\n",
       "                                  'OverallQual', 'OverallCond', 'YearBuilt',\n",
       "                                  'YearRemodAdd', 'MasVnrArea', 'BsmtFinSF1',\n",
       "                                  'BsmtFinSF2', 'BsmtUnfSF', 'TotalBsmtSF',\n",
       "                                  '1stFlrSF', '2ndFlrSF', 'LowQualFinSF...\n",
       "       'Exterior2nd', 'MasVnrType', 'ExterQual', 'ExterCond', 'Foundation',\n",
       "       'BsmtQual', 'BsmtCond', 'BsmtExposure', 'BsmtFinType1', 'BsmtFinType2',\n",
       "       'Heating', 'HeatingQC', 'CentralAir', 'Electrical', 'KitchenQual',\n",
       "       'Functional', 'FireplaceQu', 'GarageType', 'GarageFinish', 'GarageQual',\n",
       "       'GarageCond', 'PavedDrive', 'PoolQC', 'Fence', 'MiscFeature',\n",
       "       'SaleType', 'SaleCondition'],\n",
       "      dtype='object'))])</pre></div></div></div><div class=\"sk-parallel\"><div class=\"sk-parallel-item\"><div class=\"sk-item\"><div class=\"sk-label-container\"><div class=\"sk-label sk-toggleable\"><input class=\"sk-toggleable__control sk-hidden--visually\" id=\"3d040380-233d-4506-9b4e-6b1412b7495b\" type=\"checkbox\" ><label class=\"sk-toggleable__label\" for=\"3d040380-233d-4506-9b4e-6b1412b7495b\">num_preprocessor</label><div class=\"sk-toggleable__content\"><pre>['MSSubClass', 'LotFrontage', 'LotArea', 'OverallQual', 'OverallCond', 'YearBuilt', 'YearRemodAdd', 'MasVnrArea', 'BsmtFinSF1', 'BsmtFinSF2', 'BsmtUnfSF', 'TotalBsmtSF', '1stFlrSF', '2ndFlrSF', 'LowQualFinSF', 'GrLivArea', 'BsmtFullBath', 'BsmtHalfBath', 'FullBath', 'HalfBath', 'BedroomAbvGr', 'KitchenAbvGr', 'TotRmsAbvGrd', 'Fireplaces', 'GarageYrBlt', 'GarageCars', 'GarageArea', 'WoodDeckSF', 'OpenPorchSF', 'EnclosedPorch', '3SsnPorch', 'ScreenPorch', 'PoolArea', 'MiscVal', 'MoSold', 'YrSold']</pre></div></div></div><div class=\"sk-serial\"><div class=\"sk-item\"><div class=\"sk-serial\"><div class=\"sk-item\"><div class=\"sk-estimator sk-toggleable\"><input class=\"sk-toggleable__control sk-hidden--visually\" id=\"821ba2c8-3f65-4879-b6d0-a10794d30115\" type=\"checkbox\" ><label class=\"sk-toggleable__label\" for=\"821ba2c8-3f65-4879-b6d0-a10794d30115\">SimpleImputer</label><div class=\"sk-toggleable__content\"><pre>SimpleImputer(strategy='median')</pre></div></div></div><div class=\"sk-item\"><div class=\"sk-estimator sk-toggleable\"><input class=\"sk-toggleable__control sk-hidden--visually\" id=\"24638c40-6a45-40a7-ab06-73034ce7113a\" type=\"checkbox\" ><label class=\"sk-toggleable__label\" for=\"24638c40-6a45-40a7-ab06-73034ce7113a\">StandardScaler</label><div class=\"sk-toggleable__content\"><pre>StandardScaler()</pre></div></div></div></div></div></div></div></div><div class=\"sk-parallel-item\"><div class=\"sk-item\"><div class=\"sk-label-container\"><div class=\"sk-label sk-toggleable\"><input class=\"sk-toggleable__control sk-hidden--visually\" id=\"82987166-b06c-4519-86a6-62143c544025\" type=\"checkbox\" ><label class=\"sk-toggleable__label\" for=\"82987166-b06c-4519-86a6-62143c544025\">cat_preprocessor</label><div class=\"sk-toggleable__content\"><pre>Index(['MSZoning', 'Street', 'Alley', 'LotShape', 'LandContour', 'Utilities',\n",
       "       'LotConfig', 'LandSlope', 'Neighborhood', 'Condition1', 'Condition2',\n",
       "       'BldgType', 'HouseStyle', 'RoofStyle', 'RoofMatl', 'Exterior1st',\n",
       "       'Exterior2nd', 'MasVnrType', 'ExterQual', 'ExterCond', 'Foundation',\n",
       "       'BsmtQual', 'BsmtCond', 'BsmtExposure', 'BsmtFinType1', 'BsmtFinType2',\n",
       "       'Heating', 'HeatingQC', 'CentralAir', 'Electrical', 'KitchenQual',\n",
       "       'Functional', 'FireplaceQu', 'GarageType', 'GarageFinish', 'GarageQual',\n",
       "       'GarageCond', 'PavedDrive', 'PoolQC', 'Fence', 'MiscFeature',\n",
       "       'SaleType', 'SaleCondition'],\n",
       "      dtype='object')</pre></div></div></div><div class=\"sk-serial\"><div class=\"sk-item\"><div class=\"sk-serial\"><div class=\"sk-item\"><div class=\"sk-estimator sk-toggleable\"><input class=\"sk-toggleable__control sk-hidden--visually\" id=\"5cd306d0-8cec-46e9-a9cc-62d1fd84bfd5\" type=\"checkbox\" ><label class=\"sk-toggleable__label\" for=\"5cd306d0-8cec-46e9-a9cc-62d1fd84bfd5\">SimpleImputer</label><div class=\"sk-toggleable__content\"><pre>SimpleImputer(strategy='most_frequent')</pre></div></div></div><div class=\"sk-item\"><div class=\"sk-estimator sk-toggleable\"><input class=\"sk-toggleable__control sk-hidden--visually\" id=\"495d6fc5-3f40-4532-95a7-ca6aa3d6e26e\" type=\"checkbox\" ><label class=\"sk-toggleable__label\" for=\"495d6fc5-3f40-4532-95a7-ca6aa3d6e26e\">OneHotEncoder</label><div class=\"sk-toggleable__content\"><pre>OneHotEncoder(handle_unknown='ignore')</pre></div></div></div></div></div></div></div></div></div></div><div class=\"sk-item\"><div class=\"sk-estimator sk-toggleable\"><input class=\"sk-toggleable__control sk-hidden--visually\" id=\"d393bf0f-f2b2-445a-8e81-0cf97314ebf9\" type=\"checkbox\" ><label class=\"sk-toggleable__label\" for=\"d393bf0f-f2b2-445a-8e81-0cf97314ebf9\">LogisticRegression</label><div class=\"sk-toggleable__content\"><pre>LogisticRegression(max_iter=500)</pre></div></div></div></div></div></div></div>"
      ]
     },
     "metadata": {},
     "execution_count": 16
    }
   ],
   "metadata": {}
  },
  {
   "cell_type": "code",
   "execution_count": 17,
   "source": [
    "model.named_steps"
   ],
   "outputs": [
    {
     "output_type": "execute_result",
     "data": {
      "text/plain": [
       "{'columntransformer': ColumnTransformer(transformers=[('num_preprocessor',\n",
       "                                  Pipeline(steps=[('simpleimputer',\n",
       "                                                   SimpleImputer(strategy='median')),\n",
       "                                                  ('standardscaler',\n",
       "                                                   StandardScaler())]),\n",
       "                                  ['MSSubClass', 'LotFrontage', 'LotArea',\n",
       "                                   'OverallQual', 'OverallCond', 'YearBuilt',\n",
       "                                   'YearRemodAdd', 'MasVnrArea', 'BsmtFinSF1',\n",
       "                                   'BsmtFinSF2', 'BsmtUnfSF', 'TotalBsmtSF',\n",
       "                                   '1stFlrSF', '2ndFlrSF', 'LowQualFinSF...\n",
       "        'Exterior2nd', 'MasVnrType', 'ExterQual', 'ExterCond', 'Foundation',\n",
       "        'BsmtQual', 'BsmtCond', 'BsmtExposure', 'BsmtFinType1', 'BsmtFinType2',\n",
       "        'Heating', 'HeatingQC', 'CentralAir', 'Electrical', 'KitchenQual',\n",
       "        'Functional', 'FireplaceQu', 'GarageType', 'GarageFinish', 'GarageQual',\n",
       "        'GarageCond', 'PavedDrive', 'PoolQC', 'Fence', 'MiscFeature',\n",
       "        'SaleType', 'SaleCondition'],\n",
       "       dtype='object'))]),\n",
       " 'logisticregression': LogisticRegression(max_iter=500)}"
      ]
     },
     "metadata": {},
     "execution_count": 17
    }
   ],
   "metadata": {}
  },
  {
   "cell_type": "code",
   "execution_count": 18,
   "source": [
    "%%time\n",
    "cv_results = cross_validate(\n",
    "    model,\n",
    "    data, target,\n",
    "    cv = 5\n",
    ")\n",
    "scores = cv_results['test_score']\n",
    "print(f\"A média da acurácia no cross-validation é: {scores.mean():.3f} +/- {scores.std():.3f}\")"
   ],
   "outputs": [
    {
     "output_type": "stream",
     "name": "stdout",
     "text": [
      "A média da acurácia no cross-validation é: 0.924 +/- 0.010\n",
      "CPU times: user 1.11 s, sys: 0 ns, total: 1.11 s\n",
      "Wall time: 1.11 s\n"
     ]
    }
   ],
   "metadata": {}
  },
  {
   "cell_type": "code",
   "execution_count": 19,
   "source": [
    "from sklearn.metrics import accuracy_score, classification_report\n",
    "model.fit(data, target)\n",
    "target_predicted = model.predict(data)\n",
    "accuracy_score(target, target_predicted)"
   ],
   "outputs": [
    {
     "output_type": "execute_result",
     "data": {
      "text/plain": [
       "0.9712328767123287"
      ]
     },
     "metadata": {},
     "execution_count": 19
    }
   ],
   "metadata": {}
  },
  {
   "cell_type": "markdown",
   "source": [
    "# Wrap-up quiz 4\n",
    "***\n",
    "\n",
    "Dado o conjunto de dados abaixo, responda algumas questões ao problema de predição da variável \"**target = SalePrice**\""
   ],
   "metadata": {}
  },
  {
   "cell_type": "code",
   "execution_count": 20,
   "source": [
    "ames_housing = pd.read_csv(\"house_prices.csv\", na_values=\"?\")\n",
    "target_name = \"SalePrice\"\n",
    "data = ames_housing.drop(columns=target_name)\n",
    "target = ames_housing[target_name]"
   ],
   "outputs": [],
   "metadata": {}
  },
  {
   "cell_type": "code",
   "execution_count": 21,
   "source": [
    "numerical_features = [\n",
    "    \"LotFrontage\", \"LotArea\", \"MasVnrArea\", \"BsmtFinSF1\", \"BsmtFinSF2\",\n",
    "    \"BsmtUnfSF\", \"TotalBsmtSF\", \"1stFlrSF\", \"2ndFlrSF\", \"LowQualFinSF\",\n",
    "    \"GrLivArea\", \"BedroomAbvGr\", \"KitchenAbvGr\", \"TotRmsAbvGrd\", \"Fireplaces\",\n",
    "    \"GarageCars\", \"GarageArea\", \"WoodDeckSF\", \"OpenPorchSF\", \"EnclosedPorch\",\n",
    "    \"3SsnPorch\", \"ScreenPorch\", \"PoolArea\", \"MiscVal\",\n",
    "]\n",
    "\n",
    "data_numerical = data[numerical_features]"
   ],
   "outputs": [],
   "metadata": {}
  },
  {
   "cell_type": "markdown",
   "source": [
    "Comece ajustando um modelo de regressão linear (sklearn.linear_model.LinearRegression). Depois use uma validação cruzada de 10-fold e para o argumento return_estimator =True no objeto, sklearn.model_selection.cross_validate para acessar todos os estimadores ajustados em cada um dos folds. Não esqueça de padronizar os dados antes de passa-los ao regressor. Como também há alguns dados faltantes, é preciso imputar esses dados antes de alimenta-los ao regressor, para isso vc pode usar sklearn.impute.SimpleImputer com parâmetros default para imputar os dados faltantes. Então crie um modelo que terá um pipeline com a forma: \n",
    "* o padronizador-->imputer-->linear regression."
   ],
   "metadata": {}
  },
  {
   "cell_type": "code",
   "execution_count": 22,
   "source": [
    "from sklearn.linear_model import LinearRegression\n",
    "from sklearn.model_selection import (\n",
    "    KFold,\n",
    "    cross_validate)\n",
    "from sklearn.pipeline import make_pipeline\n",
    "from sklearn.impute import SimpleImputer\n",
    "from sklearn.preprocessing import StandardScaler\n",
    "from sklearn import set_config\n",
    "set_config(display='diagram')"
   ],
   "outputs": [],
   "metadata": {}
  },
  {
   "cell_type": "code",
   "execution_count": 23,
   "source": [
    "model = make_pipeline(\n",
    "    StandardScaler(),\n",
    "    SimpleImputer(strategy='mean'),\n",
    "    LinearRegression(n_jobs=-1)\n",
    ")\n",
    "model"
   ],
   "outputs": [
    {
     "output_type": "execute_result",
     "data": {
      "text/plain": [
       "Pipeline(steps=[('standardscaler', StandardScaler()),\n",
       "                ('simpleimputer', SimpleImputer()),\n",
       "                ('linearregression', LinearRegression(n_jobs=-1))])"
      ],
      "text/html": [
       "<style>#sk-85316d46-19e0-420d-adb6-0f4b27c2323d {color: black;background-color: white;}#sk-85316d46-19e0-420d-adb6-0f4b27c2323d pre{padding: 0;}#sk-85316d46-19e0-420d-adb6-0f4b27c2323d div.sk-toggleable {background-color: white;}#sk-85316d46-19e0-420d-adb6-0f4b27c2323d label.sk-toggleable__label {cursor: pointer;display: block;width: 100%;margin-bottom: 0;padding: 0.2em 0.3em;box-sizing: border-box;text-align: center;}#sk-85316d46-19e0-420d-adb6-0f4b27c2323d div.sk-toggleable__content {max-height: 0;max-width: 0;overflow: hidden;text-align: left;background-color: #f0f8ff;}#sk-85316d46-19e0-420d-adb6-0f4b27c2323d div.sk-toggleable__content pre {margin: 0.2em;color: black;border-radius: 0.25em;background-color: #f0f8ff;}#sk-85316d46-19e0-420d-adb6-0f4b27c2323d input.sk-toggleable__control:checked~div.sk-toggleable__content {max-height: 200px;max-width: 100%;overflow: auto;}#sk-85316d46-19e0-420d-adb6-0f4b27c2323d div.sk-estimator input.sk-toggleable__control:checked~label.sk-toggleable__label {background-color: #d4ebff;}#sk-85316d46-19e0-420d-adb6-0f4b27c2323d div.sk-label input.sk-toggleable__control:checked~label.sk-toggleable__label {background-color: #d4ebff;}#sk-85316d46-19e0-420d-adb6-0f4b27c2323d input.sk-hidden--visually {border: 0;clip: rect(1px 1px 1px 1px);clip: rect(1px, 1px, 1px, 1px);height: 1px;margin: -1px;overflow: hidden;padding: 0;position: absolute;width: 1px;}#sk-85316d46-19e0-420d-adb6-0f4b27c2323d div.sk-estimator {font-family: monospace;background-color: #f0f8ff;margin: 0.25em 0.25em;border: 1px dotted black;border-radius: 0.25em;box-sizing: border-box;}#sk-85316d46-19e0-420d-adb6-0f4b27c2323d div.sk-estimator:hover {background-color: #d4ebff;}#sk-85316d46-19e0-420d-adb6-0f4b27c2323d div.sk-parallel-item::after {content: \"\";width: 100%;border-bottom: 1px solid gray;flex-grow: 1;}#sk-85316d46-19e0-420d-adb6-0f4b27c2323d div.sk-label:hover label.sk-toggleable__label {background-color: #d4ebff;}#sk-85316d46-19e0-420d-adb6-0f4b27c2323d div.sk-serial::before {content: \"\";position: absolute;border-left: 1px solid gray;box-sizing: border-box;top: 2em;bottom: 0;left: 50%;}#sk-85316d46-19e0-420d-adb6-0f4b27c2323d div.sk-serial {display: flex;flex-direction: column;align-items: center;background-color: white;}#sk-85316d46-19e0-420d-adb6-0f4b27c2323d div.sk-item {z-index: 1;}#sk-85316d46-19e0-420d-adb6-0f4b27c2323d div.sk-parallel {display: flex;align-items: stretch;justify-content: center;background-color: white;}#sk-85316d46-19e0-420d-adb6-0f4b27c2323d div.sk-parallel-item {display: flex;flex-direction: column;position: relative;background-color: white;}#sk-85316d46-19e0-420d-adb6-0f4b27c2323d div.sk-parallel-item:first-child::after {align-self: flex-end;width: 50%;}#sk-85316d46-19e0-420d-adb6-0f4b27c2323d div.sk-parallel-item:last-child::after {align-self: flex-start;width: 50%;}#sk-85316d46-19e0-420d-adb6-0f4b27c2323d div.sk-parallel-item:only-child::after {width: 0;}#sk-85316d46-19e0-420d-adb6-0f4b27c2323d div.sk-dashed-wrapped {border: 1px dashed gray;margin: 0.2em;box-sizing: border-box;padding-bottom: 0.1em;background-color: white;position: relative;}#sk-85316d46-19e0-420d-adb6-0f4b27c2323d div.sk-label label {font-family: monospace;font-weight: bold;background-color: white;display: inline-block;line-height: 1.2em;}#sk-85316d46-19e0-420d-adb6-0f4b27c2323d div.sk-label-container {position: relative;z-index: 2;text-align: center;}#sk-85316d46-19e0-420d-adb6-0f4b27c2323d div.sk-container {display: inline-block;position: relative;}</style><div id=\"sk-85316d46-19e0-420d-adb6-0f4b27c2323d\" class\"sk-top-container\"><div class=\"sk-container\"><div class=\"sk-item sk-dashed-wrapped\"><div class=\"sk-label-container\"><div class=\"sk-label sk-toggleable\"><input class=\"sk-toggleable__control sk-hidden--visually\" id=\"422d945c-56e8-4839-aa3d-254f205d82a6\" type=\"checkbox\" ><label class=\"sk-toggleable__label\" for=\"422d945c-56e8-4839-aa3d-254f205d82a6\">Pipeline</label><div class=\"sk-toggleable__content\"><pre>Pipeline(steps=[('standardscaler', StandardScaler()),\n",
       "                ('simpleimputer', SimpleImputer()),\n",
       "                ('linearregression', LinearRegression(n_jobs=-1))])</pre></div></div></div><div class=\"sk-serial\"><div class=\"sk-item\"><div class=\"sk-estimator sk-toggleable\"><input class=\"sk-toggleable__control sk-hidden--visually\" id=\"5db0c126-06f4-4847-8b40-90b68e5ee0cf\" type=\"checkbox\" ><label class=\"sk-toggleable__label\" for=\"5db0c126-06f4-4847-8b40-90b68e5ee0cf\">StandardScaler</label><div class=\"sk-toggleable__content\"><pre>StandardScaler()</pre></div></div></div><div class=\"sk-item\"><div class=\"sk-estimator sk-toggleable\"><input class=\"sk-toggleable__control sk-hidden--visually\" id=\"ad1a81aa-7914-4b40-9e8f-b8c0d7cfe983\" type=\"checkbox\" ><label class=\"sk-toggleable__label\" for=\"ad1a81aa-7914-4b40-9e8f-b8c0d7cfe983\">SimpleImputer</label><div class=\"sk-toggleable__content\"><pre>SimpleImputer()</pre></div></div></div><div class=\"sk-item\"><div class=\"sk-estimator sk-toggleable\"><input class=\"sk-toggleable__control sk-hidden--visually\" id=\"390b6e9e-50f3-4d42-88ad-7ee97de38cf1\" type=\"checkbox\" ><label class=\"sk-toggleable__label\" for=\"390b6e9e-50f3-4d42-88ad-7ee97de38cf1\">LinearRegression</label><div class=\"sk-toggleable__content\"><pre>LinearRegression(n_jobs=-1)</pre></div></div></div></div></div></div></div>"
      ]
     },
     "metadata": {},
     "execution_count": 23
    }
   ],
   "metadata": {}
  },
  {
   "cell_type": "code",
   "execution_count": 24,
   "source": [
    "display(\"Os steps do pipeline:\")\n",
    "display(model.steps)\n",
    "print(\"Os parâmetros do pipeline acima são:\")\n",
    "for parameter in model.get_params():\n",
    "    print(f\"{parameter}\")"
   ],
   "outputs": [
    {
     "output_type": "display_data",
     "data": {
      "text/plain": [
       "'Os steps do pipeline:'"
      ]
     },
     "metadata": {}
    },
    {
     "output_type": "display_data",
     "data": {
      "text/plain": [
       "[('standardscaler', StandardScaler()),\n",
       " ('simpleimputer', SimpleImputer()),\n",
       " ('linearregression', LinearRegression(n_jobs=-1))]"
      ]
     },
     "metadata": {}
    },
    {
     "output_type": "stream",
     "name": "stdout",
     "text": [
      "Os parâmetros do pipeline acima são:\n",
      "memory\n",
      "steps\n",
      "verbose\n",
      "standardscaler\n",
      "simpleimputer\n",
      "linearregression\n",
      "standardscaler__copy\n",
      "standardscaler__with_mean\n",
      "standardscaler__with_std\n",
      "simpleimputer__add_indicator\n",
      "simpleimputer__copy\n",
      "simpleimputer__fill_value\n",
      "simpleimputer__missing_values\n",
      "simpleimputer__strategy\n",
      "simpleimputer__verbose\n",
      "linearregression__copy_X\n",
      "linearregression__fit_intercept\n",
      "linearregression__n_jobs\n",
      "linearregression__normalize\n",
      "linearregression__positive\n"
     ]
    }
   ],
   "metadata": {}
  },
  {
   "cell_type": "code",
   "execution_count": 25,
   "source": [
    "from sklearn.metrics import mean_absolute_error\n",
    "cv = KFold(n_splits=5, shuffle=True, random_state=0)\n",
    "cv_results = cross_validate(\n",
    "    model,\n",
    "    data_numerical,\n",
    "    target,\n",
    "    cv=cv, \n",
    "    scoring = \"neg_mean_absolute_error\",\n",
    "    return_estimator=True, \n",
    "    n_jobs=-1)"
   ],
   "outputs": [],
   "metadata": {}
  },
  {
   "cell_type": "code",
   "execution_count": 26,
   "source": [
    "cv_results"
   ],
   "outputs": [
    {
     "output_type": "execute_result",
     "data": {
      "text/plain": [
       "{'fit_time': array([0.01716614, 0.01381612, 0.01580501, 0.01581383, 0.01607013]),\n",
       " 'score_time': array([0.00597811, 0.00467896, 0.00535846, 0.00534868, 0.00571394]),\n",
       " 'estimator': [Pipeline(steps=[('standardscaler', StandardScaler()),\n",
       "                  ('simpleimputer', SimpleImputer()),\n",
       "                  ('linearregression', LinearRegression(n_jobs=-1))]),\n",
       "  Pipeline(steps=[('standardscaler', StandardScaler()),\n",
       "                  ('simpleimputer', SimpleImputer()),\n",
       "                  ('linearregression', LinearRegression(n_jobs=-1))]),\n",
       "  Pipeline(steps=[('standardscaler', StandardScaler()),\n",
       "                  ('simpleimputer', SimpleImputer()),\n",
       "                  ('linearregression', LinearRegression(n_jobs=-1))]),\n",
       "  Pipeline(steps=[('standardscaler', StandardScaler()),\n",
       "                  ('simpleimputer', SimpleImputer()),\n",
       "                  ('linearregression', LinearRegression(n_jobs=-1))]),\n",
       "  Pipeline(steps=[('standardscaler', StandardScaler()),\n",
       "                  ('simpleimputer', SimpleImputer()),\n",
       "                  ('linearregression', LinearRegression(n_jobs=-1))])],\n",
       " 'test_score': array([-28533.74701589, -22572.16640282, -30434.40258904, -26755.85235974,\n",
       "        -24434.14446505])}"
      ]
     },
     "metadata": {},
     "execution_count": 26
    }
   ],
   "metadata": {}
  },
  {
   "cell_type": "code",
   "execution_count": 27,
   "source": [
    "cv_results['estimator'][0]"
   ],
   "outputs": [
    {
     "output_type": "execute_result",
     "data": {
      "text/plain": [
       "Pipeline(steps=[('standardscaler', StandardScaler()),\n",
       "                ('simpleimputer', SimpleImputer()),\n",
       "                ('linearregression', LinearRegression(n_jobs=-1))])"
      ],
      "text/html": [
       "<style>#sk-7bc93502-5f58-40ec-a87c-b89e61eca654 {color: black;background-color: white;}#sk-7bc93502-5f58-40ec-a87c-b89e61eca654 pre{padding: 0;}#sk-7bc93502-5f58-40ec-a87c-b89e61eca654 div.sk-toggleable {background-color: white;}#sk-7bc93502-5f58-40ec-a87c-b89e61eca654 label.sk-toggleable__label {cursor: pointer;display: block;width: 100%;margin-bottom: 0;padding: 0.2em 0.3em;box-sizing: border-box;text-align: center;}#sk-7bc93502-5f58-40ec-a87c-b89e61eca654 div.sk-toggleable__content {max-height: 0;max-width: 0;overflow: hidden;text-align: left;background-color: #f0f8ff;}#sk-7bc93502-5f58-40ec-a87c-b89e61eca654 div.sk-toggleable__content pre {margin: 0.2em;color: black;border-radius: 0.25em;background-color: #f0f8ff;}#sk-7bc93502-5f58-40ec-a87c-b89e61eca654 input.sk-toggleable__control:checked~div.sk-toggleable__content {max-height: 200px;max-width: 100%;overflow: auto;}#sk-7bc93502-5f58-40ec-a87c-b89e61eca654 div.sk-estimator input.sk-toggleable__control:checked~label.sk-toggleable__label {background-color: #d4ebff;}#sk-7bc93502-5f58-40ec-a87c-b89e61eca654 div.sk-label input.sk-toggleable__control:checked~label.sk-toggleable__label {background-color: #d4ebff;}#sk-7bc93502-5f58-40ec-a87c-b89e61eca654 input.sk-hidden--visually {border: 0;clip: rect(1px 1px 1px 1px);clip: rect(1px, 1px, 1px, 1px);height: 1px;margin: -1px;overflow: hidden;padding: 0;position: absolute;width: 1px;}#sk-7bc93502-5f58-40ec-a87c-b89e61eca654 div.sk-estimator {font-family: monospace;background-color: #f0f8ff;margin: 0.25em 0.25em;border: 1px dotted black;border-radius: 0.25em;box-sizing: border-box;}#sk-7bc93502-5f58-40ec-a87c-b89e61eca654 div.sk-estimator:hover {background-color: #d4ebff;}#sk-7bc93502-5f58-40ec-a87c-b89e61eca654 div.sk-parallel-item::after {content: \"\";width: 100%;border-bottom: 1px solid gray;flex-grow: 1;}#sk-7bc93502-5f58-40ec-a87c-b89e61eca654 div.sk-label:hover label.sk-toggleable__label {background-color: #d4ebff;}#sk-7bc93502-5f58-40ec-a87c-b89e61eca654 div.sk-serial::before {content: \"\";position: absolute;border-left: 1px solid gray;box-sizing: border-box;top: 2em;bottom: 0;left: 50%;}#sk-7bc93502-5f58-40ec-a87c-b89e61eca654 div.sk-serial {display: flex;flex-direction: column;align-items: center;background-color: white;}#sk-7bc93502-5f58-40ec-a87c-b89e61eca654 div.sk-item {z-index: 1;}#sk-7bc93502-5f58-40ec-a87c-b89e61eca654 div.sk-parallel {display: flex;align-items: stretch;justify-content: center;background-color: white;}#sk-7bc93502-5f58-40ec-a87c-b89e61eca654 div.sk-parallel-item {display: flex;flex-direction: column;position: relative;background-color: white;}#sk-7bc93502-5f58-40ec-a87c-b89e61eca654 div.sk-parallel-item:first-child::after {align-self: flex-end;width: 50%;}#sk-7bc93502-5f58-40ec-a87c-b89e61eca654 div.sk-parallel-item:last-child::after {align-self: flex-start;width: 50%;}#sk-7bc93502-5f58-40ec-a87c-b89e61eca654 div.sk-parallel-item:only-child::after {width: 0;}#sk-7bc93502-5f58-40ec-a87c-b89e61eca654 div.sk-dashed-wrapped {border: 1px dashed gray;margin: 0.2em;box-sizing: border-box;padding-bottom: 0.1em;background-color: white;position: relative;}#sk-7bc93502-5f58-40ec-a87c-b89e61eca654 div.sk-label label {font-family: monospace;font-weight: bold;background-color: white;display: inline-block;line-height: 1.2em;}#sk-7bc93502-5f58-40ec-a87c-b89e61eca654 div.sk-label-container {position: relative;z-index: 2;text-align: center;}#sk-7bc93502-5f58-40ec-a87c-b89e61eca654 div.sk-container {display: inline-block;position: relative;}</style><div id=\"sk-7bc93502-5f58-40ec-a87c-b89e61eca654\" class\"sk-top-container\"><div class=\"sk-container\"><div class=\"sk-item sk-dashed-wrapped\"><div class=\"sk-label-container\"><div class=\"sk-label sk-toggleable\"><input class=\"sk-toggleable__control sk-hidden--visually\" id=\"7e83fabe-e150-4150-903d-267a43801397\" type=\"checkbox\" ><label class=\"sk-toggleable__label\" for=\"7e83fabe-e150-4150-903d-267a43801397\">Pipeline</label><div class=\"sk-toggleable__content\"><pre>Pipeline(steps=[('standardscaler', StandardScaler()),\n",
       "                ('simpleimputer', SimpleImputer()),\n",
       "                ('linearregression', LinearRegression(n_jobs=-1))])</pre></div></div></div><div class=\"sk-serial\"><div class=\"sk-item\"><div class=\"sk-estimator sk-toggleable\"><input class=\"sk-toggleable__control sk-hidden--visually\" id=\"6aff13cc-fe93-4819-9235-e258329c43d7\" type=\"checkbox\" ><label class=\"sk-toggleable__label\" for=\"6aff13cc-fe93-4819-9235-e258329c43d7\">StandardScaler</label><div class=\"sk-toggleable__content\"><pre>StandardScaler()</pre></div></div></div><div class=\"sk-item\"><div class=\"sk-estimator sk-toggleable\"><input class=\"sk-toggleable__control sk-hidden--visually\" id=\"e1e054c0-822c-4571-8191-d2e9b8a09ac9\" type=\"checkbox\" ><label class=\"sk-toggleable__label\" for=\"e1e054c0-822c-4571-8191-d2e9b8a09ac9\">SimpleImputer</label><div class=\"sk-toggleable__content\"><pre>SimpleImputer()</pre></div></div></div><div class=\"sk-item\"><div class=\"sk-estimator sk-toggleable\"><input class=\"sk-toggleable__control sk-hidden--visually\" id=\"179b895e-e36d-4596-aa54-5ee3b1c1fb04\" type=\"checkbox\" ><label class=\"sk-toggleable__label\" for=\"179b895e-e36d-4596-aa54-5ee3b1c1fb04\">LinearRegression</label><div class=\"sk-toggleable__content\"><pre>LinearRegression(n_jobs=-1)</pre></div></div></div></div></div></div></div>"
      ]
     },
     "metadata": {},
     "execution_count": 27
    }
   ],
   "metadata": {}
  },
  {
   "cell_type": "code",
   "execution_count": 28,
   "source": [
    "cv_results['estimator'][0].steps"
   ],
   "outputs": [
    {
     "output_type": "execute_result",
     "data": {
      "text/plain": [
       "[('standardscaler', StandardScaler()),\n",
       " ('simpleimputer', SimpleImputer()),\n",
       " ('linearregression', LinearRegression(n_jobs=-1))]"
      ]
     },
     "metadata": {},
     "execution_count": 28
    }
   ],
   "metadata": {}
  },
  {
   "cell_type": "code",
   "execution_count": 29,
   "source": [
    "cv_results['estimator'][0]['linearregression']"
   ],
   "outputs": [
    {
     "output_type": "execute_result",
     "data": {
      "text/plain": [
       "LinearRegression(n_jobs=-1)"
      ],
      "text/html": [
       "<style>#sk-14963ff7-b92a-4690-8eb8-a0af38357b41 {color: black;background-color: white;}#sk-14963ff7-b92a-4690-8eb8-a0af38357b41 pre{padding: 0;}#sk-14963ff7-b92a-4690-8eb8-a0af38357b41 div.sk-toggleable {background-color: white;}#sk-14963ff7-b92a-4690-8eb8-a0af38357b41 label.sk-toggleable__label {cursor: pointer;display: block;width: 100%;margin-bottom: 0;padding: 0.2em 0.3em;box-sizing: border-box;text-align: center;}#sk-14963ff7-b92a-4690-8eb8-a0af38357b41 div.sk-toggleable__content {max-height: 0;max-width: 0;overflow: hidden;text-align: left;background-color: #f0f8ff;}#sk-14963ff7-b92a-4690-8eb8-a0af38357b41 div.sk-toggleable__content pre {margin: 0.2em;color: black;border-radius: 0.25em;background-color: #f0f8ff;}#sk-14963ff7-b92a-4690-8eb8-a0af38357b41 input.sk-toggleable__control:checked~div.sk-toggleable__content {max-height: 200px;max-width: 100%;overflow: auto;}#sk-14963ff7-b92a-4690-8eb8-a0af38357b41 div.sk-estimator input.sk-toggleable__control:checked~label.sk-toggleable__label {background-color: #d4ebff;}#sk-14963ff7-b92a-4690-8eb8-a0af38357b41 div.sk-label input.sk-toggleable__control:checked~label.sk-toggleable__label {background-color: #d4ebff;}#sk-14963ff7-b92a-4690-8eb8-a0af38357b41 input.sk-hidden--visually {border: 0;clip: rect(1px 1px 1px 1px);clip: rect(1px, 1px, 1px, 1px);height: 1px;margin: -1px;overflow: hidden;padding: 0;position: absolute;width: 1px;}#sk-14963ff7-b92a-4690-8eb8-a0af38357b41 div.sk-estimator {font-family: monospace;background-color: #f0f8ff;margin: 0.25em 0.25em;border: 1px dotted black;border-radius: 0.25em;box-sizing: border-box;}#sk-14963ff7-b92a-4690-8eb8-a0af38357b41 div.sk-estimator:hover {background-color: #d4ebff;}#sk-14963ff7-b92a-4690-8eb8-a0af38357b41 div.sk-parallel-item::after {content: \"\";width: 100%;border-bottom: 1px solid gray;flex-grow: 1;}#sk-14963ff7-b92a-4690-8eb8-a0af38357b41 div.sk-label:hover label.sk-toggleable__label {background-color: #d4ebff;}#sk-14963ff7-b92a-4690-8eb8-a0af38357b41 div.sk-serial::before {content: \"\";position: absolute;border-left: 1px solid gray;box-sizing: border-box;top: 2em;bottom: 0;left: 50%;}#sk-14963ff7-b92a-4690-8eb8-a0af38357b41 div.sk-serial {display: flex;flex-direction: column;align-items: center;background-color: white;}#sk-14963ff7-b92a-4690-8eb8-a0af38357b41 div.sk-item {z-index: 1;}#sk-14963ff7-b92a-4690-8eb8-a0af38357b41 div.sk-parallel {display: flex;align-items: stretch;justify-content: center;background-color: white;}#sk-14963ff7-b92a-4690-8eb8-a0af38357b41 div.sk-parallel-item {display: flex;flex-direction: column;position: relative;background-color: white;}#sk-14963ff7-b92a-4690-8eb8-a0af38357b41 div.sk-parallel-item:first-child::after {align-self: flex-end;width: 50%;}#sk-14963ff7-b92a-4690-8eb8-a0af38357b41 div.sk-parallel-item:last-child::after {align-self: flex-start;width: 50%;}#sk-14963ff7-b92a-4690-8eb8-a0af38357b41 div.sk-parallel-item:only-child::after {width: 0;}#sk-14963ff7-b92a-4690-8eb8-a0af38357b41 div.sk-dashed-wrapped {border: 1px dashed gray;margin: 0.2em;box-sizing: border-box;padding-bottom: 0.1em;background-color: white;position: relative;}#sk-14963ff7-b92a-4690-8eb8-a0af38357b41 div.sk-label label {font-family: monospace;font-weight: bold;background-color: white;display: inline-block;line-height: 1.2em;}#sk-14963ff7-b92a-4690-8eb8-a0af38357b41 div.sk-label-container {position: relative;z-index: 2;text-align: center;}#sk-14963ff7-b92a-4690-8eb8-a0af38357b41 div.sk-container {display: inline-block;position: relative;}</style><div id=\"sk-14963ff7-b92a-4690-8eb8-a0af38357b41\" class\"sk-top-container\"><div class=\"sk-container\"><div class=\"sk-item\"><div class=\"sk-estimator sk-toggleable\"><input class=\"sk-toggleable__control sk-hidden--visually\" id=\"19ddcd8a-a7da-4fe5-8064-6d33f81f83e4\" type=\"checkbox\" checked><label class=\"sk-toggleable__label\" for=\"19ddcd8a-a7da-4fe5-8064-6d33f81f83e4\">LinearRegression</label><div class=\"sk-toggleable__content\"><pre>LinearRegression(n_jobs=-1)</pre></div></div></div></div></div>"
      ]
     },
     "metadata": {},
     "execution_count": 29
    }
   ],
   "metadata": {}
  },
  {
   "cell_type": "markdown",
   "source": [
    "### Inspecionando os pesos dos coeficientes do primeiro fold, indice = 0"
   ],
   "metadata": {}
  },
  {
   "cell_type": "code",
   "execution_count": 30,
   "source": [
    "cv_results['estimator'][0]['linearregression'].coef_"
   ],
   "outputs": [
    {
     "output_type": "execute_result",
     "data": {
      "text/plain": [
       "array([  3934.87940446,   1981.41766723,   7440.79139934,  10667.22409053,\n",
       "          559.6001669 ,   3235.57575069,  14911.41820531,   8133.49591993,\n",
       "        13743.42041939,  -1490.46620647,  17480.62420773, -13227.31405269,\n",
       "       -10594.08197469,  12140.88325116,   2697.92043541,  11845.61057062,\n",
       "         4768.31905646,   2706.32596154,   2259.06016874,  -3538.31788935,\n",
       "         1243.06766995,   -150.14971191,   1241.13274837,    334.23731924])"
      ]
     },
     "metadata": {},
     "execution_count": 30
    }
   ],
   "metadata": {}
  },
  {
   "cell_type": "code",
   "execution_count": 31,
   "source": [
    "cv_results['estimator'][0].get_params()['linearregression'].coef_"
   ],
   "outputs": [
    {
     "output_type": "execute_result",
     "data": {
      "text/plain": [
       "array([  3934.87940446,   1981.41766723,   7440.79139934,  10667.22409053,\n",
       "          559.6001669 ,   3235.57575069,  14911.41820531,   8133.49591993,\n",
       "        13743.42041939,  -1490.46620647,  17480.62420773, -13227.31405269,\n",
       "       -10594.08197469,  12140.88325116,   2697.92043541,  11845.61057062,\n",
       "         4768.31905646,   2706.32596154,   2259.06016874,  -3538.31788935,\n",
       "         1243.06766995,   -150.14971191,   1241.13274837,    334.23731924])"
      ]
     },
     "metadata": {},
     "execution_count": 31
    }
   ],
   "metadata": {}
  },
  {
   "cell_type": "code",
   "execution_count": 32,
   "source": [
    "for i in range(0, 5):\n",
    "    coef_by_fold = cv_results['estimator'][i].get_params()['linearregression'].coef_\n",
    "    print(f\"fold={i}, coeficientes = {coef_by_fold}\\n\")"
   ],
   "outputs": [
    {
     "output_type": "stream",
     "name": "stdout",
     "text": [
      "fold=0, coeficientes = [  3934.87940446   1981.41766723   7440.79139934  10667.22409053\n",
      "    559.6001669    3235.57575069  14911.41820531   8133.49591993\n",
      "  13743.42041939  -1490.46620647  17480.62420773 -13227.31405269\n",
      " -10594.08197469  12140.88325116   2697.92043541  11845.61057062\n",
      "   4768.31905646   2706.32596154   2259.06016874  -3538.31788935\n",
      "   1243.06766995   -150.14971191   1241.13274837    334.23731924]\n",
      "\n",
      "fold=1, coeficientes = [-1.37620458e+03  1.36302968e+03  7.22025823e+03  8.25559098e+03\n",
      " -4.20079320e+02  3.86472740e+03  1.21963000e+04  9.18769284e+03\n",
      "  1.18490780e+04 -3.47872479e+02  1.64995397e+04 -1.13414960e+04\n",
      " -1.15693902e+04  1.29321600e+04  3.36274218e+03  2.02151109e+04\n",
      " -1.42138688e+03  5.73759434e+03  1.98309047e+03 -2.53675893e+03\n",
      "  1.05086769e+03  2.23720737e+03 -2.16219611e+03 -1.09050914e+01]\n",
      "\n",
      "fold=2, coeficientes = [   266.09192847    308.85608118   6277.56900063   8259.18683621\n",
      "   -242.3582618    2794.31001236  11284.44192688  11124.44337592\n",
      "  13981.70700575  -1881.66047144  19622.23662736 -12996.67567276\n",
      " -10930.41735298   9172.95126687   1605.03600615  20017.40240109\n",
      "  -1383.03133448   4454.36037839   2683.75771514  -1908.61067708\n",
      "    131.65746845   2185.13946196  -4389.17830502    558.78239238]\n",
      "\n",
      "fold=3, coeficientes = [  -121.11930548   1541.05823583   6021.87714529   7691.64108997\n",
      "   -389.59873145   3126.83590866  10934.54465122   9718.08345634\n",
      "  10404.46002949  -2936.92169905  15483.88474383 -11415.20147745\n",
      " -11330.2207206   13595.37249907   3369.90095388  21805.59984802\n",
      "  -2125.04767226   5344.90275909   2067.86765195  -2399.69529254\n",
      "    819.43549788   2182.88654643  -1407.43622893   -104.959456  ]\n",
      "\n",
      "fold=4, coeficientes = [-2.14740787e+02  3.02735520e+03  9.02124735e+03 -1.13088286e+18\n",
      " -3.99882143e+17 -1.07781879e+18  1.08691378e+18 -2.60302584e+18\n",
      " -2.92226489e+18 -3.50910513e+17  3.52793116e+18 -1.33281703e+04\n",
      " -9.65122580e+03  1.24989692e+04  5.10801692e+03  2.18363784e+04\n",
      " -3.57328186e+03  3.77664055e+03  2.60476616e+03 -3.29302870e+03\n",
      "  1.91994042e+03  2.52316733e+03 -2.04833909e+03 -3.00670516e+02]\n",
      "\n"
     ]
    }
   ],
   "metadata": {}
  },
  {
   "cell_type": "markdown",
   "source": [
    "### Inspecionando o intercept (ou bias) do primeiro fold, indice = 0"
   ],
   "metadata": {}
  },
  {
   "cell_type": "code",
   "execution_count": 33,
   "source": [
    "cv_results['estimator'][0]['linearregression'].intercept_"
   ],
   "outputs": [
    {
     "output_type": "execute_result",
     "data": {
      "text/plain": [
       "180808.89897260274"
      ]
     },
     "metadata": {},
     "execution_count": 33
    }
   ],
   "metadata": {}
  },
  {
   "cell_type": "code",
   "execution_count": 34,
   "source": [
    "for i in range(0, 5):\n",
    "    intercept_by_fold = cv_results['estimator'][i].get_params()['linearregression'].intercept_\n",
    "    print(f\"fold={i}, intercept = {intercept_by_fold}\\n\")"
   ],
   "outputs": [
    {
     "output_type": "stream",
     "name": "stdout",
     "text": [
      "fold=0, intercept = 180808.89897260274\n",
      "\n",
      "fold=1, intercept = 182093.42551369863\n",
      "\n",
      "fold=2, intercept = 179054.35530821918\n",
      "\n",
      "fold=3, intercept = 179174.97174657535\n",
      "\n",
      "fold=4, intercept = 183323.3293267292\n",
      "\n"
     ]
    }
   ],
   "metadata": {}
  },
  {
   "cell_type": "markdown",
   "source": [
    "## 1-Qual é a order de magnitude máxima dos pesos dos coeficientes ajustados?"
   ],
   "metadata": {}
  },
  {
   "cell_type": "markdown",
   "source": [
    "Para acessar todos os coeficientes dos 5 folds, devemos fazer um looping para percorrer os 5 folds e guardar cada lista com os pesos em uma lista interna, que ira conter as 5 listas  e depois usar uma função que verifique o máximo peso em cada uma das 5 listas."
   ],
   "metadata": {}
  },
  {
   "cell_type": "code",
   "execution_count": 35,
   "source": [
    "all_coeficientes = []   # lista com todos os coeficientes de cada fold\n",
    "# fold_ind = é o indice de cada fold interno, aqui no caso varia entre 0 e 4\n",
    "for fold_ind in cv_results['estimator']:\n",
    "    all_coeficientes.append(fold_ind.get_params()['linearregression'].coef_)\n",
    "\n",
    "print(all_coeficientes)"
   ],
   "outputs": [
    {
     "output_type": "stream",
     "name": "stdout",
     "text": [
      "[array([  3934.87940446,   1981.41766723,   7440.79139934,  10667.22409053,\n",
      "          559.6001669 ,   3235.57575069,  14911.41820531,   8133.49591993,\n",
      "        13743.42041939,  -1490.46620647,  17480.62420773, -13227.31405269,\n",
      "       -10594.08197469,  12140.88325116,   2697.92043541,  11845.61057062,\n",
      "         4768.31905646,   2706.32596154,   2259.06016874,  -3538.31788935,\n",
      "         1243.06766995,   -150.14971191,   1241.13274837,    334.23731924]), array([-1.37620458e+03,  1.36302968e+03,  7.22025823e+03,  8.25559098e+03,\n",
      "       -4.20079320e+02,  3.86472740e+03,  1.21963000e+04,  9.18769284e+03,\n",
      "        1.18490780e+04, -3.47872479e+02,  1.64995397e+04, -1.13414960e+04,\n",
      "       -1.15693902e+04,  1.29321600e+04,  3.36274218e+03,  2.02151109e+04,\n",
      "       -1.42138688e+03,  5.73759434e+03,  1.98309047e+03, -2.53675893e+03,\n",
      "        1.05086769e+03,  2.23720737e+03, -2.16219611e+03, -1.09050914e+01]), array([   266.09192847,    308.85608118,   6277.56900063,   8259.18683621,\n",
      "         -242.3582618 ,   2794.31001236,  11284.44192688,  11124.44337592,\n",
      "        13981.70700575,  -1881.66047144,  19622.23662736, -12996.67567276,\n",
      "       -10930.41735298,   9172.95126687,   1605.03600615,  20017.40240109,\n",
      "        -1383.03133448,   4454.36037839,   2683.75771514,  -1908.61067708,\n",
      "          131.65746845,   2185.13946196,  -4389.17830502,    558.78239238]), array([  -121.11930548,   1541.05823583,   6021.87714529,   7691.64108997,\n",
      "         -389.59873145,   3126.83590866,  10934.54465122,   9718.08345634,\n",
      "        10404.46002949,  -2936.92169905,  15483.88474383, -11415.20147745,\n",
      "       -11330.2207206 ,  13595.37249907,   3369.90095388,  21805.59984802,\n",
      "        -2125.04767226,   5344.90275909,   2067.86765195,  -2399.69529254,\n",
      "          819.43549788,   2182.88654643,  -1407.43622893,   -104.959456  ]), array([-2.14740787e+02,  3.02735520e+03,  9.02124735e+03, -1.13088286e+18,\n",
      "       -3.99882143e+17, -1.07781879e+18,  1.08691378e+18, -2.60302584e+18,\n",
      "       -2.92226489e+18, -3.50910513e+17,  3.52793116e+18, -1.33281703e+04,\n",
      "       -9.65122580e+03,  1.24989692e+04,  5.10801692e+03,  2.18363784e+04,\n",
      "       -3.57328186e+03,  3.77664055e+03,  2.60476616e+03, -3.29302870e+03,\n",
      "        1.91994042e+03,  2.52316733e+03, -2.04833909e+03, -3.00670516e+02])]\n"
     ]
    }
   ],
   "metadata": {}
  },
  {
   "cell_type": "code",
   "execution_count": 36,
   "source": [
    "import numpy as np\n",
    "all_coefs = np.array(all_coeficientes)\n",
    "print(f\"Maior coeficiente de ajuste encontrado é: {all_coefs.max():.2e}\")"
   ],
   "outputs": [
    {
     "output_type": "stream",
     "name": "stdout",
     "text": [
      "Maior coeficiente de ajuste encontrado é: 3.53e+18\n"
     ]
    }
   ],
   "metadata": {}
  },
  {
   "cell_type": "markdown",
   "source": [
    "Outra maneira mandrake de fazer o mesmo que foi feito anteriormente é:"
   ],
   "metadata": {}
  },
  {
   "cell_type": "code",
   "execution_count": 37,
   "source": [
    "coefs = [estimator[-1].coef_ for estimator in cv_results[\"estimator\"]] # list compreension\n",
    "coefs = pd.DataFrame(coefs, columns=numerical_features)\n",
    "display(coefs.head())"
   ],
   "outputs": [
    {
     "output_type": "display_data",
     "data": {
      "text/plain": [
       "   LotFrontage      LotArea   MasVnrArea    BsmtFinSF1    BsmtFinSF2  \\\n",
       "0  3934.879404  1981.417667  7440.791399  1.066722e+04  5.596002e+02   \n",
       "1 -1376.204577  1363.029684  7220.258227  8.255591e+03 -4.200793e+02   \n",
       "2   266.091928   308.856081  6277.569001  8.259187e+03 -2.423583e+02   \n",
       "3  -121.119305  1541.058236  6021.877145  7.691641e+03 -3.895987e+02   \n",
       "4  -214.740787  3027.355195  9021.247346 -1.130883e+18 -3.998821e+17   \n",
       "\n",
       "      BsmtUnfSF   TotalBsmtSF      1stFlrSF      2ndFlrSF  LowQualFinSF  ...  \\\n",
       "0  3.235576e+03  1.491142e+04  8.133496e+03  1.374342e+04 -1.490466e+03  ...   \n",
       "1  3.864727e+03  1.219630e+04  9.187693e+03  1.184908e+04 -3.478725e+02  ...   \n",
       "2  2.794310e+03  1.128444e+04  1.112444e+04  1.398171e+04 -1.881660e+03  ...   \n",
       "3  3.126836e+03  1.093454e+04  9.718083e+03  1.040446e+04 -2.936922e+03  ...   \n",
       "4 -1.077819e+18  1.086914e+18 -2.603026e+18 -2.922265e+18 -3.509105e+17  ...   \n",
       "\n",
       "    Fireplaces    GarageCars   GarageArea   WoodDeckSF  OpenPorchSF  \\\n",
       "0  2697.920435  11845.610571  4768.319056  2706.325962  2259.060169   \n",
       "1  3362.742176  20215.110931 -1421.386883  5737.594343  1983.090470   \n",
       "2  1605.036006  20017.402401 -1383.031334  4454.360378  2683.757715   \n",
       "3  3369.900954  21805.599848 -2125.047672  5344.902759  2067.867652   \n",
       "4  5108.016922  21836.378438 -3573.281860  3776.640546  2604.766155   \n",
       "\n",
       "   EnclosedPorch    3SsnPorch  ScreenPorch     PoolArea     MiscVal  \n",
       "0   -3538.317889  1243.067670  -150.149712  1241.132748  334.237319  \n",
       "1   -2536.758928  1050.867687  2237.207370 -2162.196112  -10.905091  \n",
       "2   -1908.610677   131.657468  2185.139462 -4389.178305  558.782392  \n",
       "3   -2399.695293   819.435498  2182.886546 -1407.436229 -104.959456  \n",
       "4   -3293.028698  1919.940419  2523.167329 -2048.339093 -300.670516  \n",
       "\n",
       "[5 rows x 24 columns]"
      ],
      "text/html": [
       "<div>\n",
       "<style scoped>\n",
       "    .dataframe tbody tr th:only-of-type {\n",
       "        vertical-align: middle;\n",
       "    }\n",
       "\n",
       "    .dataframe tbody tr th {\n",
       "        vertical-align: top;\n",
       "    }\n",
       "\n",
       "    .dataframe thead th {\n",
       "        text-align: right;\n",
       "    }\n",
       "</style>\n",
       "<table border=\"1\" class=\"dataframe\">\n",
       "  <thead>\n",
       "    <tr style=\"text-align: right;\">\n",
       "      <th></th>\n",
       "      <th>LotFrontage</th>\n",
       "      <th>LotArea</th>\n",
       "      <th>MasVnrArea</th>\n",
       "      <th>BsmtFinSF1</th>\n",
       "      <th>BsmtFinSF2</th>\n",
       "      <th>BsmtUnfSF</th>\n",
       "      <th>TotalBsmtSF</th>\n",
       "      <th>1stFlrSF</th>\n",
       "      <th>2ndFlrSF</th>\n",
       "      <th>LowQualFinSF</th>\n",
       "      <th>...</th>\n",
       "      <th>Fireplaces</th>\n",
       "      <th>GarageCars</th>\n",
       "      <th>GarageArea</th>\n",
       "      <th>WoodDeckSF</th>\n",
       "      <th>OpenPorchSF</th>\n",
       "      <th>EnclosedPorch</th>\n",
       "      <th>3SsnPorch</th>\n",
       "      <th>ScreenPorch</th>\n",
       "      <th>PoolArea</th>\n",
       "      <th>MiscVal</th>\n",
       "    </tr>\n",
       "  </thead>\n",
       "  <tbody>\n",
       "    <tr>\n",
       "      <th>0</th>\n",
       "      <td>3934.879404</td>\n",
       "      <td>1981.417667</td>\n",
       "      <td>7440.791399</td>\n",
       "      <td>1.066722e+04</td>\n",
       "      <td>5.596002e+02</td>\n",
       "      <td>3.235576e+03</td>\n",
       "      <td>1.491142e+04</td>\n",
       "      <td>8.133496e+03</td>\n",
       "      <td>1.374342e+04</td>\n",
       "      <td>-1.490466e+03</td>\n",
       "      <td>...</td>\n",
       "      <td>2697.920435</td>\n",
       "      <td>11845.610571</td>\n",
       "      <td>4768.319056</td>\n",
       "      <td>2706.325962</td>\n",
       "      <td>2259.060169</td>\n",
       "      <td>-3538.317889</td>\n",
       "      <td>1243.067670</td>\n",
       "      <td>-150.149712</td>\n",
       "      <td>1241.132748</td>\n",
       "      <td>334.237319</td>\n",
       "    </tr>\n",
       "    <tr>\n",
       "      <th>1</th>\n",
       "      <td>-1376.204577</td>\n",
       "      <td>1363.029684</td>\n",
       "      <td>7220.258227</td>\n",
       "      <td>8.255591e+03</td>\n",
       "      <td>-4.200793e+02</td>\n",
       "      <td>3.864727e+03</td>\n",
       "      <td>1.219630e+04</td>\n",
       "      <td>9.187693e+03</td>\n",
       "      <td>1.184908e+04</td>\n",
       "      <td>-3.478725e+02</td>\n",
       "      <td>...</td>\n",
       "      <td>3362.742176</td>\n",
       "      <td>20215.110931</td>\n",
       "      <td>-1421.386883</td>\n",
       "      <td>5737.594343</td>\n",
       "      <td>1983.090470</td>\n",
       "      <td>-2536.758928</td>\n",
       "      <td>1050.867687</td>\n",
       "      <td>2237.207370</td>\n",
       "      <td>-2162.196112</td>\n",
       "      <td>-10.905091</td>\n",
       "    </tr>\n",
       "    <tr>\n",
       "      <th>2</th>\n",
       "      <td>266.091928</td>\n",
       "      <td>308.856081</td>\n",
       "      <td>6277.569001</td>\n",
       "      <td>8.259187e+03</td>\n",
       "      <td>-2.423583e+02</td>\n",
       "      <td>2.794310e+03</td>\n",
       "      <td>1.128444e+04</td>\n",
       "      <td>1.112444e+04</td>\n",
       "      <td>1.398171e+04</td>\n",
       "      <td>-1.881660e+03</td>\n",
       "      <td>...</td>\n",
       "      <td>1605.036006</td>\n",
       "      <td>20017.402401</td>\n",
       "      <td>-1383.031334</td>\n",
       "      <td>4454.360378</td>\n",
       "      <td>2683.757715</td>\n",
       "      <td>-1908.610677</td>\n",
       "      <td>131.657468</td>\n",
       "      <td>2185.139462</td>\n",
       "      <td>-4389.178305</td>\n",
       "      <td>558.782392</td>\n",
       "    </tr>\n",
       "    <tr>\n",
       "      <th>3</th>\n",
       "      <td>-121.119305</td>\n",
       "      <td>1541.058236</td>\n",
       "      <td>6021.877145</td>\n",
       "      <td>7.691641e+03</td>\n",
       "      <td>-3.895987e+02</td>\n",
       "      <td>3.126836e+03</td>\n",
       "      <td>1.093454e+04</td>\n",
       "      <td>9.718083e+03</td>\n",
       "      <td>1.040446e+04</td>\n",
       "      <td>-2.936922e+03</td>\n",
       "      <td>...</td>\n",
       "      <td>3369.900954</td>\n",
       "      <td>21805.599848</td>\n",
       "      <td>-2125.047672</td>\n",
       "      <td>5344.902759</td>\n",
       "      <td>2067.867652</td>\n",
       "      <td>-2399.695293</td>\n",
       "      <td>819.435498</td>\n",
       "      <td>2182.886546</td>\n",
       "      <td>-1407.436229</td>\n",
       "      <td>-104.959456</td>\n",
       "    </tr>\n",
       "    <tr>\n",
       "      <th>4</th>\n",
       "      <td>-214.740787</td>\n",
       "      <td>3027.355195</td>\n",
       "      <td>9021.247346</td>\n",
       "      <td>-1.130883e+18</td>\n",
       "      <td>-3.998821e+17</td>\n",
       "      <td>-1.077819e+18</td>\n",
       "      <td>1.086914e+18</td>\n",
       "      <td>-2.603026e+18</td>\n",
       "      <td>-2.922265e+18</td>\n",
       "      <td>-3.509105e+17</td>\n",
       "      <td>...</td>\n",
       "      <td>5108.016922</td>\n",
       "      <td>21836.378438</td>\n",
       "      <td>-3573.281860</td>\n",
       "      <td>3776.640546</td>\n",
       "      <td>2604.766155</td>\n",
       "      <td>-3293.028698</td>\n",
       "      <td>1919.940419</td>\n",
       "      <td>2523.167329</td>\n",
       "      <td>-2048.339093</td>\n",
       "      <td>-300.670516</td>\n",
       "    </tr>\n",
       "  </tbody>\n",
       "</table>\n",
       "<p>5 rows × 24 columns</p>\n",
       "</div>"
      ]
     },
     "metadata": {}
    }
   ],
   "metadata": {}
  },
  {
   "cell_type": "markdown",
   "source": [
    "Aqui, usamos coefs.describe () para calcular o mínimo e o máximo, mas observe que esta não é a única solução.\n",
    "\n",
    "Vemos que o problema é mal condicionado porque os coeficientes da regressão linear em cada dobra podem ser muito grandes. Isso se deve a alguns erros numéricos e não devemos usar este modelo na prática.\n",
    "\n",
    "Para inspecionar visualmente os coeficientes, você pode usar um boxplot:"
   ],
   "metadata": {}
  },
  {
   "cell_type": "code",
   "execution_count": 38,
   "source": [
    "display(coefs.describe().loc[[\"min\", \"max\"]])"
   ],
   "outputs": [
    {
     "output_type": "display_data",
     "data": {
      "text/plain": [
       "     LotFrontage      LotArea   MasVnrArea    BsmtFinSF1    BsmtFinSF2  \\\n",
       "min -1376.204577   308.856081  6021.877145 -1.130883e+18 -3.998821e+17   \n",
       "max  3934.879404  3027.355195  9021.247346  1.066722e+04  5.596002e+02   \n",
       "\n",
       "        BsmtUnfSF   TotalBsmtSF      1stFlrSF      2ndFlrSF  LowQualFinSF  \\\n",
       "min -1.077819e+18  1.093454e+04 -2.603026e+18 -2.922265e+18 -3.509105e+17   \n",
       "max  3.864727e+03  1.086914e+18  1.112444e+04  1.398171e+04 -3.478725e+02   \n",
       "\n",
       "     ...   Fireplaces    GarageCars   GarageArea   WoodDeckSF  OpenPorchSF  \\\n",
       "min  ...  1605.036006  11845.610571 -3573.281860  2706.325962  1983.090470   \n",
       "max  ...  5108.016922  21836.378438  4768.319056  5737.594343  2683.757715   \n",
       "\n",
       "     EnclosedPorch    3SsnPorch  ScreenPorch     PoolArea     MiscVal  \n",
       "min   -3538.317889   131.657468  -150.149712 -4389.178305 -300.670516  \n",
       "max   -1908.610677  1919.940419  2523.167329  1241.132748  558.782392  \n",
       "\n",
       "[2 rows x 24 columns]"
      ],
      "text/html": [
       "<div>\n",
       "<style scoped>\n",
       "    .dataframe tbody tr th:only-of-type {\n",
       "        vertical-align: middle;\n",
       "    }\n",
       "\n",
       "    .dataframe tbody tr th {\n",
       "        vertical-align: top;\n",
       "    }\n",
       "\n",
       "    .dataframe thead th {\n",
       "        text-align: right;\n",
       "    }\n",
       "</style>\n",
       "<table border=\"1\" class=\"dataframe\">\n",
       "  <thead>\n",
       "    <tr style=\"text-align: right;\">\n",
       "      <th></th>\n",
       "      <th>LotFrontage</th>\n",
       "      <th>LotArea</th>\n",
       "      <th>MasVnrArea</th>\n",
       "      <th>BsmtFinSF1</th>\n",
       "      <th>BsmtFinSF2</th>\n",
       "      <th>BsmtUnfSF</th>\n",
       "      <th>TotalBsmtSF</th>\n",
       "      <th>1stFlrSF</th>\n",
       "      <th>2ndFlrSF</th>\n",
       "      <th>LowQualFinSF</th>\n",
       "      <th>...</th>\n",
       "      <th>Fireplaces</th>\n",
       "      <th>GarageCars</th>\n",
       "      <th>GarageArea</th>\n",
       "      <th>WoodDeckSF</th>\n",
       "      <th>OpenPorchSF</th>\n",
       "      <th>EnclosedPorch</th>\n",
       "      <th>3SsnPorch</th>\n",
       "      <th>ScreenPorch</th>\n",
       "      <th>PoolArea</th>\n",
       "      <th>MiscVal</th>\n",
       "    </tr>\n",
       "  </thead>\n",
       "  <tbody>\n",
       "    <tr>\n",
       "      <th>min</th>\n",
       "      <td>-1376.204577</td>\n",
       "      <td>308.856081</td>\n",
       "      <td>6021.877145</td>\n",
       "      <td>-1.130883e+18</td>\n",
       "      <td>-3.998821e+17</td>\n",
       "      <td>-1.077819e+18</td>\n",
       "      <td>1.093454e+04</td>\n",
       "      <td>-2.603026e+18</td>\n",
       "      <td>-2.922265e+18</td>\n",
       "      <td>-3.509105e+17</td>\n",
       "      <td>...</td>\n",
       "      <td>1605.036006</td>\n",
       "      <td>11845.610571</td>\n",
       "      <td>-3573.281860</td>\n",
       "      <td>2706.325962</td>\n",
       "      <td>1983.090470</td>\n",
       "      <td>-3538.317889</td>\n",
       "      <td>131.657468</td>\n",
       "      <td>-150.149712</td>\n",
       "      <td>-4389.178305</td>\n",
       "      <td>-300.670516</td>\n",
       "    </tr>\n",
       "    <tr>\n",
       "      <th>max</th>\n",
       "      <td>3934.879404</td>\n",
       "      <td>3027.355195</td>\n",
       "      <td>9021.247346</td>\n",
       "      <td>1.066722e+04</td>\n",
       "      <td>5.596002e+02</td>\n",
       "      <td>3.864727e+03</td>\n",
       "      <td>1.086914e+18</td>\n",
       "      <td>1.112444e+04</td>\n",
       "      <td>1.398171e+04</td>\n",
       "      <td>-3.478725e+02</td>\n",
       "      <td>...</td>\n",
       "      <td>5108.016922</td>\n",
       "      <td>21836.378438</td>\n",
       "      <td>4768.319056</td>\n",
       "      <td>5737.594343</td>\n",
       "      <td>2683.757715</td>\n",
       "      <td>-1908.610677</td>\n",
       "      <td>1919.940419</td>\n",
       "      <td>2523.167329</td>\n",
       "      <td>1241.132748</td>\n",
       "      <td>558.782392</td>\n",
       "    </tr>\n",
       "  </tbody>\n",
       "</table>\n",
       "<p>2 rows × 24 columns</p>\n",
       "</div>"
      ]
     },
     "metadata": {}
    }
   ],
   "metadata": {}
  },
  {
   "cell_type": "code",
   "execution_count": 39,
   "source": [
    "import matplotlib.pyplot as plt\n",
    "import seaborn as sns\n",
    "\n",
    "sns.set_context(\"talk\")\n",
    "# Define the style of the box style\n",
    "boxplot_property = {\n",
    "    \"vert\": True,\n",
    "    \"whis\": 100,\n",
    "    \"patch_artist\": True,\n",
    "    \"widths\": 0.5,\n",
    "    \"rot\": 90,\n",
    "    \"boxprops\": dict(linewidth=3, color=\"black\", alpha=0.9),\n",
    "    \"medianprops\": dict(linewidth=2.5, color=\"black\", alpha=0.9),\n",
    "    \"whiskerprops\": dict(linewidth=3, color=\"black\", alpha=0.9),\n",
    "    \"capprops\": dict(linewidth=3, color=\"black\", alpha=0.9),\n",
    "}\n",
    "\n",
    "_, ax = plt.subplots(figsize=(15, 10))\n",
    "_ = coefs.plot.box(**boxplot_property, ax=ax)"
   ],
   "outputs": [
    {
     "output_type": "display_data",
     "data": {
      "text/plain": [
       "<Figure size 1080x720 with 1 Axes>"
      ],
      "image/png": "[encoded data removed]"
     },
     "metadata": {
      "needs_background": "light"
     }
    }
   ],
   "metadata": {}
  },
  {
   "cell_type": "markdown",
   "source": [
    "### 2-Repita o mesmo experimento com regressor ridge(**sklearn.linear_model.Ridge**) com os parâmetros padrões ? "
   ],
   "metadata": {}
  },
  {
   "cell_type": "code",
   "execution_count": 40,
   "source": [
    "from sklearn.linear_model import Ridge\n",
    "\n",
    "model = make_pipeline(\n",
    "    StandardScaler(),\n",
    "    SimpleImputer(strategy='mean'),\n",
    "    Ridge()\n",
    ")\n",
    "model"
   ],
   "outputs": [
    {
     "output_type": "execute_result",
     "data": {
      "text/plain": [
       "Pipeline(steps=[('standardscaler', StandardScaler()),\n",
       "                ('simpleimputer', SimpleImputer()), ('ridge', Ridge())])"
      ],
      "text/html": [
       "<style>#sk-c174d7d8-0b2e-4f3d-819e-d2eb62e0b450 {color: black;background-color: white;}#sk-c174d7d8-0b2e-4f3d-819e-d2eb62e0b450 pre{padding: 0;}#sk-c174d7d8-0b2e-4f3d-819e-d2eb62e0b450 div.sk-toggleable {background-color: white;}#sk-c174d7d8-0b2e-4f3d-819e-d2eb62e0b450 label.sk-toggleable__label {cursor: pointer;display: block;width: 100%;margin-bottom: 0;padding: 0.2em 0.3em;box-sizing: border-box;text-align: center;}#sk-c174d7d8-0b2e-4f3d-819e-d2eb62e0b450 div.sk-toggleable__content {max-height: 0;max-width: 0;overflow: hidden;text-align: left;background-color: #f0f8ff;}#sk-c174d7d8-0b2e-4f3d-819e-d2eb62e0b450 div.sk-toggleable__content pre {margin: 0.2em;color: black;border-radius: 0.25em;background-color: #f0f8ff;}#sk-c174d7d8-0b2e-4f3d-819e-d2eb62e0b450 input.sk-toggleable__control:checked~div.sk-toggleable__content {max-height: 200px;max-width: 100%;overflow: auto;}#sk-c174d7d8-0b2e-4f3d-819e-d2eb62e0b450 div.sk-estimator input.sk-toggleable__control:checked~label.sk-toggleable__label {background-color: #d4ebff;}#sk-c174d7d8-0b2e-4f3d-819e-d2eb62e0b450 div.sk-label input.sk-toggleable__control:checked~label.sk-toggleable__label {background-color: #d4ebff;}#sk-c174d7d8-0b2e-4f3d-819e-d2eb62e0b450 input.sk-hidden--visually {border: 0;clip: rect(1px 1px 1px 1px);clip: rect(1px, 1px, 1px, 1px);height: 1px;margin: -1px;overflow: hidden;padding: 0;position: absolute;width: 1px;}#sk-c174d7d8-0b2e-4f3d-819e-d2eb62e0b450 div.sk-estimator {font-family: monospace;background-color: #f0f8ff;margin: 0.25em 0.25em;border: 1px dotted black;border-radius: 0.25em;box-sizing: border-box;}#sk-c174d7d8-0b2e-4f3d-819e-d2eb62e0b450 div.sk-estimator:hover {background-color: #d4ebff;}#sk-c174d7d8-0b2e-4f3d-819e-d2eb62e0b450 div.sk-parallel-item::after {content: \"\";width: 100%;border-bottom: 1px solid gray;flex-grow: 1;}#sk-c174d7d8-0b2e-4f3d-819e-d2eb62e0b450 div.sk-label:hover label.sk-toggleable__label {background-color: #d4ebff;}#sk-c174d7d8-0b2e-4f3d-819e-d2eb62e0b450 div.sk-serial::before {content: \"\";position: absolute;border-left: 1px solid gray;box-sizing: border-box;top: 2em;bottom: 0;left: 50%;}#sk-c174d7d8-0b2e-4f3d-819e-d2eb62e0b450 div.sk-serial {display: flex;flex-direction: column;align-items: center;background-color: white;}#sk-c174d7d8-0b2e-4f3d-819e-d2eb62e0b450 div.sk-item {z-index: 1;}#sk-c174d7d8-0b2e-4f3d-819e-d2eb62e0b450 div.sk-parallel {display: flex;align-items: stretch;justify-content: center;background-color: white;}#sk-c174d7d8-0b2e-4f3d-819e-d2eb62e0b450 div.sk-parallel-item {display: flex;flex-direction: column;position: relative;background-color: white;}#sk-c174d7d8-0b2e-4f3d-819e-d2eb62e0b450 div.sk-parallel-item:first-child::after {align-self: flex-end;width: 50%;}#sk-c174d7d8-0b2e-4f3d-819e-d2eb62e0b450 div.sk-parallel-item:last-child::after {align-self: flex-start;width: 50%;}#sk-c174d7d8-0b2e-4f3d-819e-d2eb62e0b450 div.sk-parallel-item:only-child::after {width: 0;}#sk-c174d7d8-0b2e-4f3d-819e-d2eb62e0b450 div.sk-dashed-wrapped {border: 1px dashed gray;margin: 0.2em;box-sizing: border-box;padding-bottom: 0.1em;background-color: white;position: relative;}#sk-c174d7d8-0b2e-4f3d-819e-d2eb62e0b450 div.sk-label label {font-family: monospace;font-weight: bold;background-color: white;display: inline-block;line-height: 1.2em;}#sk-c174d7d8-0b2e-4f3d-819e-d2eb62e0b450 div.sk-label-container {position: relative;z-index: 2;text-align: center;}#sk-c174d7d8-0b2e-4f3d-819e-d2eb62e0b450 div.sk-container {display: inline-block;position: relative;}</style><div id=\"sk-c174d7d8-0b2e-4f3d-819e-d2eb62e0b450\" class\"sk-top-container\"><div class=\"sk-container\"><div class=\"sk-item sk-dashed-wrapped\"><div class=\"sk-label-container\"><div class=\"sk-label sk-toggleable\"><input class=\"sk-toggleable__control sk-hidden--visually\" id=\"2a857664-6b2d-4ba4-9020-e1da7b256b50\" type=\"checkbox\" ><label class=\"sk-toggleable__label\" for=\"2a857664-6b2d-4ba4-9020-e1da7b256b50\">Pipeline</label><div class=\"sk-toggleable__content\"><pre>Pipeline(steps=[('standardscaler', StandardScaler()),\n",
       "                ('simpleimputer', SimpleImputer()), ('ridge', Ridge())])</pre></div></div></div><div class=\"sk-serial\"><div class=\"sk-item\"><div class=\"sk-estimator sk-toggleable\"><input class=\"sk-toggleable__control sk-hidden--visually\" id=\"6470fba8-55ed-406b-81fe-3b02fe96e6f8\" type=\"checkbox\" ><label class=\"sk-toggleable__label\" for=\"6470fba8-55ed-406b-81fe-3b02fe96e6f8\">StandardScaler</label><div class=\"sk-toggleable__content\"><pre>StandardScaler()</pre></div></div></div><div class=\"sk-item\"><div class=\"sk-estimator sk-toggleable\"><input class=\"sk-toggleable__control sk-hidden--visually\" id=\"58a66be6-8d87-4a00-8fcc-aae9d770ae10\" type=\"checkbox\" ><label class=\"sk-toggleable__label\" for=\"58a66be6-8d87-4a00-8fcc-aae9d770ae10\">SimpleImputer</label><div class=\"sk-toggleable__content\"><pre>SimpleImputer()</pre></div></div></div><div class=\"sk-item\"><div class=\"sk-estimator sk-toggleable\"><input class=\"sk-toggleable__control sk-hidden--visually\" id=\"54f86a1e-65bc-4436-8caf-15506b0b5e8b\" type=\"checkbox\" ><label class=\"sk-toggleable__label\" for=\"54f86a1e-65bc-4436-8caf-15506b0b5e8b\">Ridge</label><div class=\"sk-toggleable__content\"><pre>Ridge()</pre></div></div></div></div></div></div></div>"
      ]
     },
     "metadata": {},
     "execution_count": 40
    }
   ],
   "metadata": {}
  },
  {
   "cell_type": "code",
   "execution_count": 41,
   "source": [
    "display(\"Os steps do pipeline:\")\n",
    "display(model.steps)\n",
    "print(\"Os parâmetros do pipeline acima são:\")\n",
    "for parameter in model.get_params():\n",
    "    print(f\"{parameter}\")"
   ],
   "outputs": [
    {
     "output_type": "display_data",
     "data": {
      "text/plain": [
       "'Os steps do pipeline:'"
      ]
     },
     "metadata": {}
    },
    {
     "output_type": "display_data",
     "data": {
      "text/plain": [
       "[('standardscaler', StandardScaler()),\n",
       " ('simpleimputer', SimpleImputer()),\n",
       " ('ridge', Ridge())]"
      ]
     },
     "metadata": {}
    },
    {
     "output_type": "stream",
     "name": "stdout",
     "text": [
      "Os parâmetros do pipeline acima são:\n",
      "memory\n",
      "steps\n",
      "verbose\n",
      "standardscaler\n",
      "simpleimputer\n",
      "ridge\n",
      "standardscaler__copy\n",
      "standardscaler__with_mean\n",
      "standardscaler__with_std\n",
      "simpleimputer__add_indicator\n",
      "simpleimputer__copy\n",
      "simpleimputer__fill_value\n",
      "simpleimputer__missing_values\n",
      "simpleimputer__strategy\n",
      "simpleimputer__verbose\n",
      "ridge__alpha\n",
      "ridge__copy_X\n",
      "ridge__fit_intercept\n",
      "ridge__max_iter\n",
      "ridge__normalize\n",
      "ridge__random_state\n",
      "ridge__solver\n",
      "ridge__tol\n"
     ]
    }
   ],
   "metadata": {}
  },
  {
   "cell_type": "code",
   "execution_count": 42,
   "source": [
    "cv_results = cross_validate(\n",
    "    model,\n",
    "    data_numerical,\n",
    "    target,\n",
    "    cv=cv, \n",
    "    scoring = \"neg_mean_absolute_error\",\n",
    "    return_estimator=True, \n",
    "    n_jobs=-1)"
   ],
   "outputs": [],
   "metadata": {}
  },
  {
   "cell_type": "code",
   "execution_count": 43,
   "source": [
    "coefs = [estimator[-1].coef_ for estimator in cv_results[\"estimator\"]] # list compreension\n",
    "coefs = pd.DataFrame(coefs, columns=numerical_features)\n",
    "display(coefs.head())"
   ],
   "outputs": [
    {
     "output_type": "display_data",
     "data": {
      "text/plain": [
       "   LotFrontage      LotArea   MasVnrArea    BsmtFinSF1  BsmtFinSF2  \\\n",
       "0  3929.617157  1981.858009  7444.583864  10657.027572  556.301398   \n",
       "1 -1375.552902  1362.517610  7221.393169   8246.324977 -422.016966   \n",
       "2   265.236213   309.018069  6282.372588   8253.593394 -242.861925   \n",
       "3  -121.568502  1542.749110  6024.989170   7685.761121 -392.061536   \n",
       "4 -1648.371407  2187.433111  7193.088844   8606.665507 -221.460701   \n",
       "\n",
       "     BsmtUnfSF   TotalBsmtSF      1stFlrSF      2ndFlrSF  LowQualFinSF  ...  \\\n",
       "0  3232.199958  14895.816406   8137.398609  13725.453977  -1488.457016  ...   \n",
       "1  3864.862901  12186.148716   9184.541855  11839.662302   -348.028839  ...   \n",
       "2  2797.037189  11281.209617  11104.085345  13962.219997  -1879.995593  ...   \n",
       "3  3129.640149  10930.363587   9709.627043  10398.230448  -2933.498995  ...   \n",
       "4  2454.864306  11307.678190  10321.969713  12200.933214  -1890.307878  ...   \n",
       "\n",
       "    Fireplaces    GarageCars   GarageArea   WoodDeckSF  OpenPorchSF  \\\n",
       "0  2711.444176  11823.863979  4801.915081  2711.106845  2267.164011   \n",
       "1  3379.739752  20127.786874 -1326.138326  5739.714241  1987.387702   \n",
       "2  1628.112829  19934.392107 -1291.422301  4457.764659  2688.252610   \n",
       "3  3387.595628  21721.678003 -2034.683235  5347.689786  2071.618468   \n",
       "4  4202.531962  22112.345838 -3127.016634  5211.956093  1158.991002   \n",
       "\n",
       "   EnclosedPorch    3SsnPorch  ScreenPorch     PoolArea     MiscVal  \n",
       "0   -3534.440214  1243.361676  -149.761244  1237.909483  333.639132  \n",
       "1   -2538.363538  1052.063285  2234.386249 -2160.426744  -12.665691  \n",
       "2   -1911.177571   132.811570  2183.688079 -4380.854296  556.108702  \n",
       "3   -2400.859339   820.006447  2182.844535 -1406.754684 -108.395236  \n",
       "4   -3259.704057  1390.695324  1815.564470 -2027.746132  108.869489  \n",
       "\n",
       "[5 rows x 24 columns]"
      ],
      "text/html": [
       "<div>\n",
       "<style scoped>\n",
       "    .dataframe tbody tr th:only-of-type {\n",
       "        vertical-align: middle;\n",
       "    }\n",
       "\n",
       "    .dataframe tbody tr th {\n",
       "        vertical-align: top;\n",
       "    }\n",
       "\n",
       "    .dataframe thead th {\n",
       "        text-align: right;\n",
       "    }\n",
       "</style>\n",
       "<table border=\"1\" class=\"dataframe\">\n",
       "  <thead>\n",
       "    <tr style=\"text-align: right;\">\n",
       "      <th></th>\n",
       "      <th>LotFrontage</th>\n",
       "      <th>LotArea</th>\n",
       "      <th>MasVnrArea</th>\n",
       "      <th>BsmtFinSF1</th>\n",
       "      <th>BsmtFinSF2</th>\n",
       "      <th>BsmtUnfSF</th>\n",
       "      <th>TotalBsmtSF</th>\n",
       "      <th>1stFlrSF</th>\n",
       "      <th>2ndFlrSF</th>\n",
       "      <th>LowQualFinSF</th>\n",
       "      <th>...</th>\n",
       "      <th>Fireplaces</th>\n",
       "      <th>GarageCars</th>\n",
       "      <th>GarageArea</th>\n",
       "      <th>WoodDeckSF</th>\n",
       "      <th>OpenPorchSF</th>\n",
       "      <th>EnclosedPorch</th>\n",
       "      <th>3SsnPorch</th>\n",
       "      <th>ScreenPorch</th>\n",
       "      <th>PoolArea</th>\n",
       "      <th>MiscVal</th>\n",
       "    </tr>\n",
       "  </thead>\n",
       "  <tbody>\n",
       "    <tr>\n",
       "      <th>0</th>\n",
       "      <td>3929.617157</td>\n",
       "      <td>1981.858009</td>\n",
       "      <td>7444.583864</td>\n",
       "      <td>10657.027572</td>\n",
       "      <td>556.301398</td>\n",
       "      <td>3232.199958</td>\n",
       "      <td>14895.816406</td>\n",
       "      <td>8137.398609</td>\n",
       "      <td>13725.453977</td>\n",
       "      <td>-1488.457016</td>\n",
       "      <td>...</td>\n",
       "      <td>2711.444176</td>\n",
       "      <td>11823.863979</td>\n",
       "      <td>4801.915081</td>\n",
       "      <td>2711.106845</td>\n",
       "      <td>2267.164011</td>\n",
       "      <td>-3534.440214</td>\n",
       "      <td>1243.361676</td>\n",
       "      <td>-149.761244</td>\n",
       "      <td>1237.909483</td>\n",
       "      <td>333.639132</td>\n",
       "    </tr>\n",
       "    <tr>\n",
       "      <th>1</th>\n",
       "      <td>-1375.552902</td>\n",
       "      <td>1362.517610</td>\n",
       "      <td>7221.393169</td>\n",
       "      <td>8246.324977</td>\n",
       "      <td>-422.016966</td>\n",
       "      <td>3864.862901</td>\n",
       "      <td>12186.148716</td>\n",
       "      <td>9184.541855</td>\n",
       "      <td>11839.662302</td>\n",
       "      <td>-348.028839</td>\n",
       "      <td>...</td>\n",
       "      <td>3379.739752</td>\n",
       "      <td>20127.786874</td>\n",
       "      <td>-1326.138326</td>\n",
       "      <td>5739.714241</td>\n",
       "      <td>1987.387702</td>\n",
       "      <td>-2538.363538</td>\n",
       "      <td>1052.063285</td>\n",
       "      <td>2234.386249</td>\n",
       "      <td>-2160.426744</td>\n",
       "      <td>-12.665691</td>\n",
       "    </tr>\n",
       "    <tr>\n",
       "      <th>2</th>\n",
       "      <td>265.236213</td>\n",
       "      <td>309.018069</td>\n",
       "      <td>6282.372588</td>\n",
       "      <td>8253.593394</td>\n",
       "      <td>-242.861925</td>\n",
       "      <td>2797.037189</td>\n",
       "      <td>11281.209617</td>\n",
       "      <td>11104.085345</td>\n",
       "      <td>13962.219997</td>\n",
       "      <td>-1879.995593</td>\n",
       "      <td>...</td>\n",
       "      <td>1628.112829</td>\n",
       "      <td>19934.392107</td>\n",
       "      <td>-1291.422301</td>\n",
       "      <td>4457.764659</td>\n",
       "      <td>2688.252610</td>\n",
       "      <td>-1911.177571</td>\n",
       "      <td>132.811570</td>\n",
       "      <td>2183.688079</td>\n",
       "      <td>-4380.854296</td>\n",
       "      <td>556.108702</td>\n",
       "    </tr>\n",
       "    <tr>\n",
       "      <th>3</th>\n",
       "      <td>-121.568502</td>\n",
       "      <td>1542.749110</td>\n",
       "      <td>6024.989170</td>\n",
       "      <td>7685.761121</td>\n",
       "      <td>-392.061536</td>\n",
       "      <td>3129.640149</td>\n",
       "      <td>10930.363587</td>\n",
       "      <td>9709.627043</td>\n",
       "      <td>10398.230448</td>\n",
       "      <td>-2933.498995</td>\n",
       "      <td>...</td>\n",
       "      <td>3387.595628</td>\n",
       "      <td>21721.678003</td>\n",
       "      <td>-2034.683235</td>\n",
       "      <td>5347.689786</td>\n",
       "      <td>2071.618468</td>\n",
       "      <td>-2400.859339</td>\n",
       "      <td>820.006447</td>\n",
       "      <td>2182.844535</td>\n",
       "      <td>-1406.754684</td>\n",
       "      <td>-108.395236</td>\n",
       "    </tr>\n",
       "    <tr>\n",
       "      <th>4</th>\n",
       "      <td>-1648.371407</td>\n",
       "      <td>2187.433111</td>\n",
       "      <td>7193.088844</td>\n",
       "      <td>8606.665507</td>\n",
       "      <td>-221.460701</td>\n",
       "      <td>2454.864306</td>\n",
       "      <td>11307.678190</td>\n",
       "      <td>10321.969713</td>\n",
       "      <td>12200.933214</td>\n",
       "      <td>-1890.307878</td>\n",
       "      <td>...</td>\n",
       "      <td>4202.531962</td>\n",
       "      <td>22112.345838</td>\n",
       "      <td>-3127.016634</td>\n",
       "      <td>5211.956093</td>\n",
       "      <td>1158.991002</td>\n",
       "      <td>-3259.704057</td>\n",
       "      <td>1390.695324</td>\n",
       "      <td>1815.564470</td>\n",
       "      <td>-2027.746132</td>\n",
       "      <td>108.869489</td>\n",
       "    </tr>\n",
       "  </tbody>\n",
       "</table>\n",
       "<p>5 rows × 24 columns</p>\n",
       "</div>"
      ]
     },
     "metadata": {}
    }
   ],
   "metadata": {}
  },
  {
   "cell_type": "code",
   "execution_count": 44,
   "source": [
    "display(coefs.describe().loc[[\"min\", \"max\"]])"
   ],
   "outputs": [
    {
     "output_type": "display_data",
     "data": {
      "text/plain": [
       "     LotFrontage      LotArea   MasVnrArea    BsmtFinSF1  BsmtFinSF2  \\\n",
       "min -1648.371407   309.018069  6024.989170   7685.761121 -422.016966   \n",
       "max  3929.617157  2187.433111  7444.583864  10657.027572  556.301398   \n",
       "\n",
       "       BsmtUnfSF   TotalBsmtSF      1stFlrSF      2ndFlrSF  LowQualFinSF  ...  \\\n",
       "min  2454.864306  10930.363587   8137.398609  10398.230448  -2933.498995  ...   \n",
       "max  3864.862901  14895.816406  11104.085345  13962.219997   -348.028839  ...   \n",
       "\n",
       "      Fireplaces    GarageCars   GarageArea   WoodDeckSF  OpenPorchSF  \\\n",
       "min  1628.112829  11823.863979 -3127.016634  2711.106845  1158.991002   \n",
       "max  4202.531962  22112.345838  4801.915081  5739.714241  2688.252610   \n",
       "\n",
       "     EnclosedPorch    3SsnPorch  ScreenPorch     PoolArea     MiscVal  \n",
       "min   -3534.440214   132.811570  -149.761244 -4380.854296 -108.395236  \n",
       "max   -1911.177571  1390.695324  2234.386249  1237.909483  556.108702  \n",
       "\n",
       "[2 rows x 24 columns]"
      ],
      "text/html": [
       "<div>\n",
       "<style scoped>\n",
       "    .dataframe tbody tr th:only-of-type {\n",
       "        vertical-align: middle;\n",
       "    }\n",
       "\n",
       "    .dataframe tbody tr th {\n",
       "        vertical-align: top;\n",
       "    }\n",
       "\n",
       "    .dataframe thead th {\n",
       "        text-align: right;\n",
       "    }\n",
       "</style>\n",
       "<table border=\"1\" class=\"dataframe\">\n",
       "  <thead>\n",
       "    <tr style=\"text-align: right;\">\n",
       "      <th></th>\n",
       "      <th>LotFrontage</th>\n",
       "      <th>LotArea</th>\n",
       "      <th>MasVnrArea</th>\n",
       "      <th>BsmtFinSF1</th>\n",
       "      <th>BsmtFinSF2</th>\n",
       "      <th>BsmtUnfSF</th>\n",
       "      <th>TotalBsmtSF</th>\n",
       "      <th>1stFlrSF</th>\n",
       "      <th>2ndFlrSF</th>\n",
       "      <th>LowQualFinSF</th>\n",
       "      <th>...</th>\n",
       "      <th>Fireplaces</th>\n",
       "      <th>GarageCars</th>\n",
       "      <th>GarageArea</th>\n",
       "      <th>WoodDeckSF</th>\n",
       "      <th>OpenPorchSF</th>\n",
       "      <th>EnclosedPorch</th>\n",
       "      <th>3SsnPorch</th>\n",
       "      <th>ScreenPorch</th>\n",
       "      <th>PoolArea</th>\n",
       "      <th>MiscVal</th>\n",
       "    </tr>\n",
       "  </thead>\n",
       "  <tbody>\n",
       "    <tr>\n",
       "      <th>min</th>\n",
       "      <td>-1648.371407</td>\n",
       "      <td>309.018069</td>\n",
       "      <td>6024.989170</td>\n",
       "      <td>7685.761121</td>\n",
       "      <td>-422.016966</td>\n",
       "      <td>2454.864306</td>\n",
       "      <td>10930.363587</td>\n",
       "      <td>8137.398609</td>\n",
       "      <td>10398.230448</td>\n",
       "      <td>-2933.498995</td>\n",
       "      <td>...</td>\n",
       "      <td>1628.112829</td>\n",
       "      <td>11823.863979</td>\n",
       "      <td>-3127.016634</td>\n",
       "      <td>2711.106845</td>\n",
       "      <td>1158.991002</td>\n",
       "      <td>-3534.440214</td>\n",
       "      <td>132.811570</td>\n",
       "      <td>-149.761244</td>\n",
       "      <td>-4380.854296</td>\n",
       "      <td>-108.395236</td>\n",
       "    </tr>\n",
       "    <tr>\n",
       "      <th>max</th>\n",
       "      <td>3929.617157</td>\n",
       "      <td>2187.433111</td>\n",
       "      <td>7444.583864</td>\n",
       "      <td>10657.027572</td>\n",
       "      <td>556.301398</td>\n",
       "      <td>3864.862901</td>\n",
       "      <td>14895.816406</td>\n",
       "      <td>11104.085345</td>\n",
       "      <td>13962.219997</td>\n",
       "      <td>-348.028839</td>\n",
       "      <td>...</td>\n",
       "      <td>4202.531962</td>\n",
       "      <td>22112.345838</td>\n",
       "      <td>4801.915081</td>\n",
       "      <td>5739.714241</td>\n",
       "      <td>2688.252610</td>\n",
       "      <td>-1911.177571</td>\n",
       "      <td>1390.695324</td>\n",
       "      <td>2234.386249</td>\n",
       "      <td>1237.909483</td>\n",
       "      <td>556.108702</td>\n",
       "    </tr>\n",
       "  </tbody>\n",
       "</table>\n",
       "<p>2 rows × 24 columns</p>\n",
       "</div>"
      ]
     },
     "metadata": {}
    }
   ],
   "metadata": {}
  },
  {
   "cell_type": "code",
   "execution_count": 45,
   "source": [
    "all_coeficientes = []   # lista com todos os coeficientes de cada fold\n",
    "# fold_ind = é o indice de cada fold interno, aqui no caso varia entre 0 e 4\n",
    "for fold_ind in cv_results['estimator']:\n",
    "    all_coeficientes.append(fold_ind.get_params()['ridge'].coef_)\n",
    "\n",
    "\n",
    "all_coefs = np.array(all_coeficientes)\n",
    "print(f\"Maior coeficiente de ajuste encontrado é: {all_coefs.max():.2e}\")"
   ],
   "outputs": [
    {
     "output_type": "stream",
     "name": "stdout",
     "text": [
      "Maior coeficiente de ajuste encontrado é: 2.21e+04\n"
     ]
    }
   ],
   "metadata": {}
  },
  {
   "cell_type": "code",
   "execution_count": 46,
   "source": [
    "_, ax = plt.subplots(figsize=(15, 10))\n",
    "_ = coefs.abs().plot.box(**boxplot_property, ax=ax)"
   ],
   "outputs": [
    {
     "output_type": "display_data",
     "data": {
      "text/plain": [
       "<Figure size 1080x720 with 1 Axes>"
      ],
      "image/png": "[encoded data removed]"
     },
     "metadata": {
      "needs_background": "light"
     }
    }
   ],
   "metadata": {}
  },
  {
   "cell_type": "markdown",
   "source": [
    "A regularização reduzirá os coeficientes para zero. Evita erros numéricos. Nesse caso, o extremo é em torno de 20.000."
   ],
   "metadata": {}
  },
  {
   "cell_type": "markdown",
   "source": [
    "### 3-Quais são as duas features mais importantes usados ​​pelo regressor de ridge? Você pode fazer um gráfico de boxplot dos coeficientes em todos os folds para obter um bom insight\n"
   ],
   "metadata": {}
  },
  {
   "cell_type": "code",
   "execution_count": 47,
   "source": [
    "_, ax = plt.subplots(figsize=(12, 8))\n",
    "_ = coefs.abs().plot.box(**boxplot_property, ax=ax)"
   ],
   "outputs": [
    {
     "output_type": "display_data",
     "data": {
      "text/plain": [
       "<Figure size 864x576 with 1 Axes>"
      ],
      "image/png": "[encoded data removed]"
     },
     "metadata": {
      "needs_background": "light"
     }
    }
   ],
   "metadata": {}
  },
  {
   "cell_type": "markdown",
   "source": [
    "Olhando a variabilidade da variável \"GarageCars\""
   ],
   "metadata": {}
  },
  {
   "cell_type": "code",
   "execution_count": 48,
   "source": [
    "coefs.describe()[\"GarageCars\"]"
   ],
   "outputs": [
    {
     "output_type": "execute_result",
     "data": {
      "text/plain": [
       "count        5.000000\n",
       "mean     19144.013360\n",
       "std       4202.155654\n",
       "min      11823.863979\n",
       "25%      19934.392107\n",
       "50%      20127.786874\n",
       "75%      21721.678003\n",
       "max      22112.345838\n",
       "Name: GarageCars, dtype: float64"
      ]
     },
     "metadata": {},
     "execution_count": 48
    }
   ],
   "metadata": {}
  },
  {
   "cell_type": "markdown",
   "source": [
    "### 4 - Remova a feature \"GarageArea\" do dataset e repita o último experimento com a regressão ridge. Qual é o impacto nos pesos ao remover a feature \"GarageArea\" do dataset?"
   ],
   "metadata": {}
  },
  {
   "cell_type": "code",
   "execution_count": 49,
   "source": [
    "numerical_features = [\n",
    "    \"LotFrontage\", \"LotArea\", \"MasVnrArea\", \"BsmtFinSF1\", \"BsmtFinSF2\",\n",
    "    \"BsmtUnfSF\", \"TotalBsmtSF\", \"1stFlrSF\", \"2ndFlrSF\", \"LowQualFinSF\",\n",
    "    \"GrLivArea\", \"BedroomAbvGr\", \"KitchenAbvGr\", \"TotRmsAbvGrd\", \"Fireplaces\",\n",
    "    \"GarageCars\",\"WoodDeckSF\", \"OpenPorchSF\", \"EnclosedPorch\",\n",
    "    \"3SsnPorch\", \"ScreenPorch\", \"PoolArea\", \"MiscVal\",\n",
    "]\n",
    "\n",
    "data_numerical = data[numerical_features]"
   ],
   "outputs": [],
   "metadata": {}
  },
  {
   "cell_type": "code",
   "execution_count": 50,
   "source": [
    "model = make_pipeline(\n",
    "    StandardScaler(),\n",
    "    SimpleImputer(strategy='mean'),\n",
    "    Ridge()\n",
    ")\n",
    "cv_results = cross_validate(\n",
    "    model,\n",
    "    data_numerical,\n",
    "    target,\n",
    "    cv=cv, \n",
    "    scoring = \"neg_mean_absolute_error\",\n",
    "    return_estimator=True, \n",
    "    n_jobs=-1)\n",
    "\n",
    "coefs = [estimator[-1].coef_ for estimator in cv_results[\"estimator\"]] # list compreension\n",
    "coefs = pd.DataFrame(coefs, columns=numerical_features)\n",
    "display(coefs.head())"
   ],
   "outputs": [
    {
     "output_type": "display_data",
     "data": {
      "text/plain": [
       "   LotFrontage      LotArea   MasVnrArea    BsmtFinSF1  BsmtFinSF2  \\\n",
       "0  4151.749516  1997.520065  7473.917306  10828.054914  543.840781   \n",
       "1 -1469.189482  1345.572727  7176.198100   8180.904492 -427.730279   \n",
       "2   197.925566   291.197814  6228.718712   8198.564701 -239.642967   \n",
       "3  -274.916933  1557.853092  5976.383055   7612.933900 -409.954765   \n",
       "4 -1859.971712  2172.886058  7098.476732   8463.956827 -219.155074   \n",
       "\n",
       "     BsmtUnfSF   TotalBsmtSF      1stFlrSF      2ndFlrSF  LowQualFinSF  ...  \\\n",
       "0  3168.435302  15003.969331   8470.720856  13720.484903  -1405.658124  ...   \n",
       "1  3881.770976  12133.242454   9116.104926  11837.211270   -362.801521  ...   \n",
       "2  2822.461465  11251.024569  10997.234830  13953.956052  -1891.962582  ...   \n",
       "3  3155.254965  10873.969138   9550.438771  10397.973402  -2930.068497  ...   \n",
       "4  2478.796159  11183.776347  10167.007212  12157.786091  -1912.257120  ...   \n",
       "\n",
       "   TotRmsAbvGrd   Fireplaces    GarageCars   WoodDeckSF  OpenPorchSF  \\\n",
       "0  12070.551391  2386.239475  15776.909557  2751.389297  2393.011393   \n",
       "1  12923.628581  3467.212309  19048.514208  5737.746859  1949.659499   \n",
       "2   9235.808912  1724.924814  18898.341512  4443.435220  2631.911129   \n",
       "3  13632.781329  3532.488688  20095.045610  5350.346076  1997.387629   \n",
       "4  12296.423200  4381.209220  19604.605737  5204.608173  1059.143346   \n",
       "\n",
       "   EnclosedPorch    3SsnPorch  ScreenPorch     PoolArea     MiscVal  \n",
       "0   -3469.221866  1221.869913  -114.525458  1243.644875  391.087303  \n",
       "1   -2566.868224  1067.305606  2227.286914 -2181.410338  -29.374872  \n",
       "2   -1947.245089   133.025089  2184.192621 -4400.332569  541.975608  \n",
       "3   -2414.848544   809.438285  2192.741021 -1432.986848 -133.931956  \n",
       "4   -3297.951937  1415.298491  1817.322730 -2047.309805   68.276493  \n",
       "\n",
       "[5 rows x 23 columns]"
      ],
      "text/html": [
       "<div>\n",
       "<style scoped>\n",
       "    .dataframe tbody tr th:only-of-type {\n",
       "        vertical-align: middle;\n",
       "    }\n",
       "\n",
       "    .dataframe tbody tr th {\n",
       "        vertical-align: top;\n",
       "    }\n",
       "\n",
       "    .dataframe thead th {\n",
       "        text-align: right;\n",
       "    }\n",
       "</style>\n",
       "<table border=\"1\" class=\"dataframe\">\n",
       "  <thead>\n",
       "    <tr style=\"text-align: right;\">\n",
       "      <th></th>\n",
       "      <th>LotFrontage</th>\n",
       "      <th>LotArea</th>\n",
       "      <th>MasVnrArea</th>\n",
       "      <th>BsmtFinSF1</th>\n",
       "      <th>BsmtFinSF2</th>\n",
       "      <th>BsmtUnfSF</th>\n",
       "      <th>TotalBsmtSF</th>\n",
       "      <th>1stFlrSF</th>\n",
       "      <th>2ndFlrSF</th>\n",
       "      <th>LowQualFinSF</th>\n",
       "      <th>...</th>\n",
       "      <th>TotRmsAbvGrd</th>\n",
       "      <th>Fireplaces</th>\n",
       "      <th>GarageCars</th>\n",
       "      <th>WoodDeckSF</th>\n",
       "      <th>OpenPorchSF</th>\n",
       "      <th>EnclosedPorch</th>\n",
       "      <th>3SsnPorch</th>\n",
       "      <th>ScreenPorch</th>\n",
       "      <th>PoolArea</th>\n",
       "      <th>MiscVal</th>\n",
       "    </tr>\n",
       "  </thead>\n",
       "  <tbody>\n",
       "    <tr>\n",
       "      <th>0</th>\n",
       "      <td>4151.749516</td>\n",
       "      <td>1997.520065</td>\n",
       "      <td>7473.917306</td>\n",
       "      <td>10828.054914</td>\n",
       "      <td>543.840781</td>\n",
       "      <td>3168.435302</td>\n",
       "      <td>15003.969331</td>\n",
       "      <td>8470.720856</td>\n",
       "      <td>13720.484903</td>\n",
       "      <td>-1405.658124</td>\n",
       "      <td>...</td>\n",
       "      <td>12070.551391</td>\n",
       "      <td>2386.239475</td>\n",
       "      <td>15776.909557</td>\n",
       "      <td>2751.389297</td>\n",
       "      <td>2393.011393</td>\n",
       "      <td>-3469.221866</td>\n",
       "      <td>1221.869913</td>\n",
       "      <td>-114.525458</td>\n",
       "      <td>1243.644875</td>\n",
       "      <td>391.087303</td>\n",
       "    </tr>\n",
       "    <tr>\n",
       "      <th>1</th>\n",
       "      <td>-1469.189482</td>\n",
       "      <td>1345.572727</td>\n",
       "      <td>7176.198100</td>\n",
       "      <td>8180.904492</td>\n",
       "      <td>-427.730279</td>\n",
       "      <td>3881.770976</td>\n",
       "      <td>12133.242454</td>\n",
       "      <td>9116.104926</td>\n",
       "      <td>11837.211270</td>\n",
       "      <td>-362.801521</td>\n",
       "      <td>...</td>\n",
       "      <td>12923.628581</td>\n",
       "      <td>3467.212309</td>\n",
       "      <td>19048.514208</td>\n",
       "      <td>5737.746859</td>\n",
       "      <td>1949.659499</td>\n",
       "      <td>-2566.868224</td>\n",
       "      <td>1067.305606</td>\n",
       "      <td>2227.286914</td>\n",
       "      <td>-2181.410338</td>\n",
       "      <td>-29.374872</td>\n",
       "    </tr>\n",
       "    <tr>\n",
       "      <th>2</th>\n",
       "      <td>197.925566</td>\n",
       "      <td>291.197814</td>\n",
       "      <td>6228.718712</td>\n",
       "      <td>8198.564701</td>\n",
       "      <td>-239.642967</td>\n",
       "      <td>2822.461465</td>\n",
       "      <td>11251.024569</td>\n",
       "      <td>10997.234830</td>\n",
       "      <td>13953.956052</td>\n",
       "      <td>-1891.962582</td>\n",
       "      <td>...</td>\n",
       "      <td>9235.808912</td>\n",
       "      <td>1724.924814</td>\n",
       "      <td>18898.341512</td>\n",
       "      <td>4443.435220</td>\n",
       "      <td>2631.911129</td>\n",
       "      <td>-1947.245089</td>\n",
       "      <td>133.025089</td>\n",
       "      <td>2184.192621</td>\n",
       "      <td>-4400.332569</td>\n",
       "      <td>541.975608</td>\n",
       "    </tr>\n",
       "    <tr>\n",
       "      <th>3</th>\n",
       "      <td>-274.916933</td>\n",
       "      <td>1557.853092</td>\n",
       "      <td>5976.383055</td>\n",
       "      <td>7612.933900</td>\n",
       "      <td>-409.954765</td>\n",
       "      <td>3155.254965</td>\n",
       "      <td>10873.969138</td>\n",
       "      <td>9550.438771</td>\n",
       "      <td>10397.973402</td>\n",
       "      <td>-2930.068497</td>\n",
       "      <td>...</td>\n",
       "      <td>13632.781329</td>\n",
       "      <td>3532.488688</td>\n",
       "      <td>20095.045610</td>\n",
       "      <td>5350.346076</td>\n",
       "      <td>1997.387629</td>\n",
       "      <td>-2414.848544</td>\n",
       "      <td>809.438285</td>\n",
       "      <td>2192.741021</td>\n",
       "      <td>-1432.986848</td>\n",
       "      <td>-133.931956</td>\n",
       "    </tr>\n",
       "    <tr>\n",
       "      <th>4</th>\n",
       "      <td>-1859.971712</td>\n",
       "      <td>2172.886058</td>\n",
       "      <td>7098.476732</td>\n",
       "      <td>8463.956827</td>\n",
       "      <td>-219.155074</td>\n",
       "      <td>2478.796159</td>\n",
       "      <td>11183.776347</td>\n",
       "      <td>10167.007212</td>\n",
       "      <td>12157.786091</td>\n",
       "      <td>-1912.257120</td>\n",
       "      <td>...</td>\n",
       "      <td>12296.423200</td>\n",
       "      <td>4381.209220</td>\n",
       "      <td>19604.605737</td>\n",
       "      <td>5204.608173</td>\n",
       "      <td>1059.143346</td>\n",
       "      <td>-3297.951937</td>\n",
       "      <td>1415.298491</td>\n",
       "      <td>1817.322730</td>\n",
       "      <td>-2047.309805</td>\n",
       "      <td>68.276493</td>\n",
       "    </tr>\n",
       "  </tbody>\n",
       "</table>\n",
       "<p>5 rows × 23 columns</p>\n",
       "</div>"
      ]
     },
     "metadata": {}
    }
   ],
   "metadata": {}
  },
  {
   "cell_type": "code",
   "execution_count": 51,
   "source": [
    "display(coefs.describe().loc[[\"min\", \"max\"]])"
   ],
   "outputs": [
    {
     "output_type": "display_data",
     "data": {
      "text/plain": [
       "     LotFrontage      LotArea   MasVnrArea    BsmtFinSF1  BsmtFinSF2  \\\n",
       "min -1859.971712   291.197814  5976.383055   7612.933900 -427.730279   \n",
       "max  4151.749516  2172.886058  7473.917306  10828.054914  543.840781   \n",
       "\n",
       "       BsmtUnfSF   TotalBsmtSF      1stFlrSF      2ndFlrSF  LowQualFinSF  ...  \\\n",
       "min  2478.796159  10873.969138   8470.720856  10397.973402  -2930.068497  ...   \n",
       "max  3881.770976  15003.969331  10997.234830  13953.956052   -362.801521  ...   \n",
       "\n",
       "     TotRmsAbvGrd   Fireplaces    GarageCars   WoodDeckSF  OpenPorchSF  \\\n",
       "min   9235.808912  1724.924814  15776.909557  2751.389297  1059.143346   \n",
       "max  13632.781329  4381.209220  20095.045610  5737.746859  2631.911129   \n",
       "\n",
       "     EnclosedPorch    3SsnPorch  ScreenPorch     PoolArea     MiscVal  \n",
       "min   -3469.221866   133.025089  -114.525458 -4400.332569 -133.931956  \n",
       "max   -1947.245089  1415.298491  2227.286914  1243.644875  541.975608  \n",
       "\n",
       "[2 rows x 23 columns]"
      ],
      "text/html": [
       "<div>\n",
       "<style scoped>\n",
       "    .dataframe tbody tr th:only-of-type {\n",
       "        vertical-align: middle;\n",
       "    }\n",
       "\n",
       "    .dataframe tbody tr th {\n",
       "        vertical-align: top;\n",
       "    }\n",
       "\n",
       "    .dataframe thead th {\n",
       "        text-align: right;\n",
       "    }\n",
       "</style>\n",
       "<table border=\"1\" class=\"dataframe\">\n",
       "  <thead>\n",
       "    <tr style=\"text-align: right;\">\n",
       "      <th></th>\n",
       "      <th>LotFrontage</th>\n",
       "      <th>LotArea</th>\n",
       "      <th>MasVnrArea</th>\n",
       "      <th>BsmtFinSF1</th>\n",
       "      <th>BsmtFinSF2</th>\n",
       "      <th>BsmtUnfSF</th>\n",
       "      <th>TotalBsmtSF</th>\n",
       "      <th>1stFlrSF</th>\n",
       "      <th>2ndFlrSF</th>\n",
       "      <th>LowQualFinSF</th>\n",
       "      <th>...</th>\n",
       "      <th>TotRmsAbvGrd</th>\n",
       "      <th>Fireplaces</th>\n",
       "      <th>GarageCars</th>\n",
       "      <th>WoodDeckSF</th>\n",
       "      <th>OpenPorchSF</th>\n",
       "      <th>EnclosedPorch</th>\n",
       "      <th>3SsnPorch</th>\n",
       "      <th>ScreenPorch</th>\n",
       "      <th>PoolArea</th>\n",
       "      <th>MiscVal</th>\n",
       "    </tr>\n",
       "  </thead>\n",
       "  <tbody>\n",
       "    <tr>\n",
       "      <th>min</th>\n",
       "      <td>-1859.971712</td>\n",
       "      <td>291.197814</td>\n",
       "      <td>5976.383055</td>\n",
       "      <td>7612.933900</td>\n",
       "      <td>-427.730279</td>\n",
       "      <td>2478.796159</td>\n",
       "      <td>10873.969138</td>\n",
       "      <td>8470.720856</td>\n",
       "      <td>10397.973402</td>\n",
       "      <td>-2930.068497</td>\n",
       "      <td>...</td>\n",
       "      <td>9235.808912</td>\n",
       "      <td>1724.924814</td>\n",
       "      <td>15776.909557</td>\n",
       "      <td>2751.389297</td>\n",
       "      <td>1059.143346</td>\n",
       "      <td>-3469.221866</td>\n",
       "      <td>133.025089</td>\n",
       "      <td>-114.525458</td>\n",
       "      <td>-4400.332569</td>\n",
       "      <td>-133.931956</td>\n",
       "    </tr>\n",
       "    <tr>\n",
       "      <th>max</th>\n",
       "      <td>4151.749516</td>\n",
       "      <td>2172.886058</td>\n",
       "      <td>7473.917306</td>\n",
       "      <td>10828.054914</td>\n",
       "      <td>543.840781</td>\n",
       "      <td>3881.770976</td>\n",
       "      <td>15003.969331</td>\n",
       "      <td>10997.234830</td>\n",
       "      <td>13953.956052</td>\n",
       "      <td>-362.801521</td>\n",
       "      <td>...</td>\n",
       "      <td>13632.781329</td>\n",
       "      <td>4381.209220</td>\n",
       "      <td>20095.045610</td>\n",
       "      <td>5737.746859</td>\n",
       "      <td>2631.911129</td>\n",
       "      <td>-1947.245089</td>\n",
       "      <td>1415.298491</td>\n",
       "      <td>2227.286914</td>\n",
       "      <td>1243.644875</td>\n",
       "      <td>541.975608</td>\n",
       "    </tr>\n",
       "  </tbody>\n",
       "</table>\n",
       "<p>2 rows × 23 columns</p>\n",
       "</div>"
      ]
     },
     "metadata": {}
    }
   ],
   "metadata": {}
  },
  {
   "cell_type": "code",
   "execution_count": 52,
   "source": [
    "all_coeficientes = []   # lista com todos os coeficientes de cada fold\n",
    "# fold_ind = é o indice de cada fold interno, aqui no caso varia entre 0 e 4\n",
    "for fold_ind in cv_results['estimator']:\n",
    "    all_coeficientes.append(fold_ind.get_params()['ridge'].coef_)\n",
    "\n",
    "\n",
    "all_coefs = np.array(all_coeficientes)\n",
    "print(f\"Maior coeficiente de ajuste encontrado é: {all_coefs.max():.2e}\")"
   ],
   "outputs": [
    {
     "output_type": "stream",
     "name": "stdout",
     "text": [
      "Maior coeficiente de ajuste encontrado é: 2.01e+04\n"
     ]
    }
   ],
   "metadata": {}
  },
  {
   "cell_type": "code",
   "execution_count": 53,
   "source": [
    "_, ax = plt.subplots(figsize=(12, 8))\n",
    "_ = coefs.abs().plot.box(**boxplot_property, ax=ax)"
   ],
   "outputs": [
    {
     "output_type": "display_data",
     "data": {
      "text/plain": [
       "<Figure size 864x576 with 1 Axes>"
      ],
      "image/png": "[encoded data removed]"
     },
     "metadata": {
      "needs_background": "light"
     }
    }
   ],
   "metadata": {}
  },
  {
   "cell_type": "markdown",
   "source": [
    "Para entender melhor o que aconteceu é preciso olhar a variabilidade  do coeficiente \"GarageCars\" durante o experimento. Vamos checar o qto mudou a desvio padrão desta variável."
   ],
   "metadata": {}
  },
  {
   "cell_type": "code",
   "execution_count": 54,
   "source": [
    "coefs.describe()[\"GarageCars\"]"
   ],
   "outputs": [
    {
     "output_type": "execute_result",
     "data": {
      "text/plain": [
       "count        5.000000\n",
       "mean     18684.683325\n",
       "std       1693.262386\n",
       "min      15776.909557\n",
       "25%      18898.341512\n",
       "50%      19048.514208\n",
       "75%      19604.605737\n",
       "max      20095.045610\n",
       "Name: GarageCars, dtype: float64"
      ]
     },
     "metadata": {},
     "execution_count": 54
    }
   ],
   "metadata": {}
  },
  {
   "cell_type": "markdown",
   "source": [
    "### 5- Qual é a razão para observarmos o impacto no peso do coeficiente mais importante, após a retirada da feature \"GarageCars\"?"
   ],
   "metadata": {}
  },
  {
   "cell_type": "markdown",
   "source": [
    "As features \"GarageCars\" e \"GarageArea\" são correlacionadas e carregam portanto informações similares."
   ],
   "metadata": {}
  },
  {
   "cell_type": "markdown",
   "source": [
    "### 6-Agora, procuraremos a força de regularização que maximizará o desempenho estatístico de nosso modelo preditivo. Ajuste um sklearn.linear_model.RidgeCV ao invés de um regressor Ridge passe alphas = np.logspace (-1, 3, num = 30) para explorar o efeito de alterar a intensidade da regularização.Existem diferenças importantes em relação aos pesos mais importantes?"
   ],
   "metadata": {}
  },
  {
   "cell_type": "code",
   "execution_count": 63,
   "source": [
    "from sklearn.linear_model import RidgeCV\n",
    "\n",
    "alphas = np.logspace(-1, 3, num=30)\n",
    "model = make_pipeline(\n",
    "    StandardScaler(),\n",
    "    SimpleImputer(strategy='mean'),\n",
    "    RidgeCV(alphas=alphas, store_cv_values=True)\n",
    ")\n",
    "model"
   ],
   "outputs": [
    {
     "output_type": "execute_result",
     "data": {
      "text/plain": [
       "Pipeline(steps=[('standardscaler', StandardScaler()),\n",
       "                ('simpleimputer', SimpleImputer()),\n",
       "                ('ridgecv',\n",
       "                 RidgeCV(alphas=array([1.00000000e-01, 1.37382380e-01, 1.88739182e-01, 2.59294380e-01,\n",
       "       3.56224789e-01, 4.89390092e-01, 6.72335754e-01, 9.23670857e-01,\n",
       "       1.26896100e+00, 1.74332882e+00, 2.39502662e+00, 3.29034456e+00,\n",
       "       4.52035366e+00, 6.21016942e+00, 8.53167852e+00, 1.17210230e+01,\n",
       "       1.61026203e+01, 2.21221629e+01, 3.03919538e+01, 4.17531894e+01,\n",
       "       5.73615251e+01, 7.88046282e+01, 1.08263673e+02, 1.48735211e+02,\n",
       "       2.04335972e+02, 2.80721620e+02, 3.85662042e+02, 5.29831691e+02,\n",
       "       7.27895384e+02, 1.00000000e+03]),\n",
       "                         store_cv_values=True))])"
      ],
      "text/html": [
       "<style>#sk-b9edfd4b-1b6e-4cf7-be55-3b9cd0a15895 {color: black;background-color: white;}#sk-b9edfd4b-1b6e-4cf7-be55-3b9cd0a15895 pre{padding: 0;}#sk-b9edfd4b-1b6e-4cf7-be55-3b9cd0a15895 div.sk-toggleable {background-color: white;}#sk-b9edfd4b-1b6e-4cf7-be55-3b9cd0a15895 label.sk-toggleable__label {cursor: pointer;display: block;width: 100%;margin-bottom: 0;padding: 0.2em 0.3em;box-sizing: border-box;text-align: center;}#sk-b9edfd4b-1b6e-4cf7-be55-3b9cd0a15895 div.sk-toggleable__content {max-height: 0;max-width: 0;overflow: hidden;text-align: left;background-color: #f0f8ff;}#sk-b9edfd4b-1b6e-4cf7-be55-3b9cd0a15895 div.sk-toggleable__content pre {margin: 0.2em;color: black;border-radius: 0.25em;background-color: #f0f8ff;}#sk-b9edfd4b-1b6e-4cf7-be55-3b9cd0a15895 input.sk-toggleable__control:checked~div.sk-toggleable__content {max-height: 200px;max-width: 100%;overflow: auto;}#sk-b9edfd4b-1b6e-4cf7-be55-3b9cd0a15895 div.sk-estimator input.sk-toggleable__control:checked~label.sk-toggleable__label {background-color: #d4ebff;}#sk-b9edfd4b-1b6e-4cf7-be55-3b9cd0a15895 div.sk-label input.sk-toggleable__control:checked~label.sk-toggleable__label {background-color: #d4ebff;}#sk-b9edfd4b-1b6e-4cf7-be55-3b9cd0a15895 input.sk-hidden--visually {border: 0;clip: rect(1px 1px 1px 1px);clip: rect(1px, 1px, 1px, 1px);height: 1px;margin: -1px;overflow: hidden;padding: 0;position: absolute;width: 1px;}#sk-b9edfd4b-1b6e-4cf7-be55-3b9cd0a15895 div.sk-estimator {font-family: monospace;background-color: #f0f8ff;margin: 0.25em 0.25em;border: 1px dotted black;border-radius: 0.25em;box-sizing: border-box;}#sk-b9edfd4b-1b6e-4cf7-be55-3b9cd0a15895 div.sk-estimator:hover {background-color: #d4ebff;}#sk-b9edfd4b-1b6e-4cf7-be55-3b9cd0a15895 div.sk-parallel-item::after {content: \"\";width: 100%;border-bottom: 1px solid gray;flex-grow: 1;}#sk-b9edfd4b-1b6e-4cf7-be55-3b9cd0a15895 div.sk-label:hover label.sk-toggleable__label {background-color: #d4ebff;}#sk-b9edfd4b-1b6e-4cf7-be55-3b9cd0a15895 div.sk-serial::before {content: \"\";position: absolute;border-left: 1px solid gray;box-sizing: border-box;top: 2em;bottom: 0;left: 50%;}#sk-b9edfd4b-1b6e-4cf7-be55-3b9cd0a15895 div.sk-serial {display: flex;flex-direction: column;align-items: center;background-color: white;}#sk-b9edfd4b-1b6e-4cf7-be55-3b9cd0a15895 div.sk-item {z-index: 1;}#sk-b9edfd4b-1b6e-4cf7-be55-3b9cd0a15895 div.sk-parallel {display: flex;align-items: stretch;justify-content: center;background-color: white;}#sk-b9edfd4b-1b6e-4cf7-be55-3b9cd0a15895 div.sk-parallel-item {display: flex;flex-direction: column;position: relative;background-color: white;}#sk-b9edfd4b-1b6e-4cf7-be55-3b9cd0a15895 div.sk-parallel-item:first-child::after {align-self: flex-end;width: 50%;}#sk-b9edfd4b-1b6e-4cf7-be55-3b9cd0a15895 div.sk-parallel-item:last-child::after {align-self: flex-start;width: 50%;}#sk-b9edfd4b-1b6e-4cf7-be55-3b9cd0a15895 div.sk-parallel-item:only-child::after {width: 0;}#sk-b9edfd4b-1b6e-4cf7-be55-3b9cd0a15895 div.sk-dashed-wrapped {border: 1px dashed gray;margin: 0.2em;box-sizing: border-box;padding-bottom: 0.1em;background-color: white;position: relative;}#sk-b9edfd4b-1b6e-4cf7-be55-3b9cd0a15895 div.sk-label label {font-family: monospace;font-weight: bold;background-color: white;display: inline-block;line-height: 1.2em;}#sk-b9edfd4b-1b6e-4cf7-be55-3b9cd0a15895 div.sk-label-container {position: relative;z-index: 2;text-align: center;}#sk-b9edfd4b-1b6e-4cf7-be55-3b9cd0a15895 div.sk-container {display: inline-block;position: relative;}</style><div id=\"sk-b9edfd4b-1b6e-4cf7-be55-3b9cd0a15895\" class\"sk-top-container\"><div class=\"sk-container\"><div class=\"sk-item sk-dashed-wrapped\"><div class=\"sk-label-container\"><div class=\"sk-label sk-toggleable\"><input class=\"sk-toggleable__control sk-hidden--visually\" id=\"3d5659ec-b25b-4fde-af75-5fc85370034a\" type=\"checkbox\" ><label class=\"sk-toggleable__label\" for=\"3d5659ec-b25b-4fde-af75-5fc85370034a\">Pipeline</label><div class=\"sk-toggleable__content\"><pre>Pipeline(steps=[('standardscaler', StandardScaler()),\n",
       "                ('simpleimputer', SimpleImputer()),\n",
       "                ('ridgecv',\n",
       "                 RidgeCV(alphas=array([1.00000000e-01, 1.37382380e-01, 1.88739182e-01, 2.59294380e-01,\n",
       "       3.56224789e-01, 4.89390092e-01, 6.72335754e-01, 9.23670857e-01,\n",
       "       1.26896100e+00, 1.74332882e+00, 2.39502662e+00, 3.29034456e+00,\n",
       "       4.52035366e+00, 6.21016942e+00, 8.53167852e+00, 1.17210230e+01,\n",
       "       1.61026203e+01, 2.21221629e+01, 3.03919538e+01, 4.17531894e+01,\n",
       "       5.73615251e+01, 7.88046282e+01, 1.08263673e+02, 1.48735211e+02,\n",
       "       2.04335972e+02, 2.80721620e+02, 3.85662042e+02, 5.29831691e+02,\n",
       "       7.27895384e+02, 1.00000000e+03]),\n",
       "                         store_cv_values=True))])</pre></div></div></div><div class=\"sk-serial\"><div class=\"sk-item\"><div class=\"sk-estimator sk-toggleable\"><input class=\"sk-toggleable__control sk-hidden--visually\" id=\"43d3ad5b-b9e6-4e56-a7e2-0cfcae563e35\" type=\"checkbox\" ><label class=\"sk-toggleable__label\" for=\"43d3ad5b-b9e6-4e56-a7e2-0cfcae563e35\">StandardScaler</label><div class=\"sk-toggleable__content\"><pre>StandardScaler()</pre></div></div></div><div class=\"sk-item\"><div class=\"sk-estimator sk-toggleable\"><input class=\"sk-toggleable__control sk-hidden--visually\" id=\"1af7c0d2-81b6-4616-92f2-a4defd289275\" type=\"checkbox\" ><label class=\"sk-toggleable__label\" for=\"1af7c0d2-81b6-4616-92f2-a4defd289275\">SimpleImputer</label><div class=\"sk-toggleable__content\"><pre>SimpleImputer()</pre></div></div></div><div class=\"sk-item\"><div class=\"sk-estimator sk-toggleable\"><input class=\"sk-toggleable__control sk-hidden--visually\" id=\"1f125063-271d-467a-be0c-8a83b8031988\" type=\"checkbox\" ><label class=\"sk-toggleable__label\" for=\"1f125063-271d-467a-be0c-8a83b8031988\">RidgeCV</label><div class=\"sk-toggleable__content\"><pre>RidgeCV(alphas=array([1.00000000e-01, 1.37382380e-01, 1.88739182e-01, 2.59294380e-01,\n",
       "       3.56224789e-01, 4.89390092e-01, 6.72335754e-01, 9.23670857e-01,\n",
       "       1.26896100e+00, 1.74332882e+00, 2.39502662e+00, 3.29034456e+00,\n",
       "       4.52035366e+00, 6.21016942e+00, 8.53167852e+00, 1.17210230e+01,\n",
       "       1.61026203e+01, 2.21221629e+01, 3.03919538e+01, 4.17531894e+01,\n",
       "       5.73615251e+01, 7.88046282e+01, 1.08263673e+02, 1.48735211e+02,\n",
       "       2.04335972e+02, 2.80721620e+02, 3.85662042e+02, 5.29831691e+02,\n",
       "       7.27895384e+02, 1.00000000e+03]),\n",
       "        store_cv_values=True)</pre></div></div></div></div></div></div></div>"
      ]
     },
     "metadata": {},
     "execution_count": 63
    }
   ],
   "metadata": {}
  },
  {
   "cell_type": "code",
   "execution_count": 64,
   "source": [
    "display(\"Os steps do pipeline:\")\n",
    "display(model.steps)\n",
    "print(\"Os parâmetros do pipeline acima são:\")\n",
    "for parameter in model.get_params():\n",
    "    print(f\"{parameter}\")"
   ],
   "outputs": [
    {
     "output_type": "display_data",
     "data": {
      "text/plain": [
       "'Os steps do pipeline:'"
      ]
     },
     "metadata": {}
    },
    {
     "output_type": "display_data",
     "data": {
      "text/plain": [
       "[('standardscaler', StandardScaler()),\n",
       " ('simpleimputer', SimpleImputer()),\n",
       " ('ridgecv',\n",
       "  RidgeCV(alphas=array([1.00000000e-01, 1.37382380e-01, 1.88739182e-01, 2.59294380e-01,\n",
       "         3.56224789e-01, 4.89390092e-01, 6.72335754e-01, 9.23670857e-01,\n",
       "         1.26896100e+00, 1.74332882e+00, 2.39502662e+00, 3.29034456e+00,\n",
       "         4.52035366e+00, 6.21016942e+00, 8.53167852e+00, 1.17210230e+01,\n",
       "         1.61026203e+01, 2.21221629e+01, 3.03919538e+01, 4.17531894e+01,\n",
       "         5.73615251e+01, 7.88046282e+01, 1.08263673e+02, 1.48735211e+02,\n",
       "         2.04335972e+02, 2.80721620e+02, 3.85662042e+02, 5.29831691e+02,\n",
       "         7.27895384e+02, 1.00000000e+03]),\n",
       "          store_cv_values=True))]"
      ]
     },
     "metadata": {}
    },
    {
     "output_type": "stream",
     "name": "stdout",
     "text": [
      "Os parâmetros do pipeline acima são:\n",
      "memory\n",
      "steps\n",
      "verbose\n",
      "standardscaler\n",
      "simpleimputer\n",
      "ridgecv\n",
      "standardscaler__copy\n",
      "standardscaler__with_mean\n",
      "standardscaler__with_std\n",
      "simpleimputer__add_indicator\n",
      "simpleimputer__copy\n",
      "simpleimputer__fill_value\n",
      "simpleimputer__missing_values\n",
      "simpleimputer__strategy\n",
      "simpleimputer__verbose\n",
      "ridgecv__alpha_per_target\n",
      "ridgecv__alphas\n",
      "ridgecv__cv\n",
      "ridgecv__fit_intercept\n",
      "ridgecv__gcv_mode\n",
      "ridgecv__normalize\n",
      "ridgecv__scoring\n",
      "ridgecv__store_cv_values\n"
     ]
    }
   ],
   "metadata": {}
  },
  {
   "cell_type": "code",
   "execution_count": 65,
   "source": [
    "numerical_features = [\n",
    "    \"LotFrontage\", \"LotArea\", \"MasVnrArea\", \"BsmtFinSF1\", \"BsmtFinSF2\",\n",
    "    \"BsmtUnfSF\", \"TotalBsmtSF\", \"1stFlrSF\", \"2ndFlrSF\", \"LowQualFinSF\",\n",
    "    \"GrLivArea\", \"BedroomAbvGr\", \"KitchenAbvGr\", \"TotRmsAbvGrd\", \"Fireplaces\",\n",
    "    \"GarageCars\", \"GarageArea\", \"WoodDeckSF\", \"OpenPorchSF\", \"EnclosedPorch\",\n",
    "    \"3SsnPorch\", \"ScreenPorch\", \"PoolArea\", \"MiscVal\",\n",
    "]\n",
    "\n",
    "data_numerical = data[numerical_features]"
   ],
   "outputs": [],
   "metadata": {}
  },
  {
   "cell_type": "code",
   "execution_count": 67,
   "source": [
    "from sklearn.model_selection import ShuffleSplit\n",
    "\n",
    "cv = ShuffleSplit(n_splits=5, random_state=1)\n",
    "cv_results = cross_validate(\n",
    "    model,\n",
    "    data_numerical,\n",
    "    target,\n",
    "    cv=cv, \n",
    "    scoring = \"neg_mean_absolute_error\",\n",
    "    return_estimator=True, \n",
    "    return_train_score=True,\n",
    "    n_jobs=-1)\n",
    "\n",
    "coefs = [estimator[-1].coef_ for estimator in cv_results[\"estimator\"]] # list compreension\n",
    "coefs = pd.DataFrame(coefs, columns=numerical_features)\n",
    "display(coefs.head())"
   ],
   "outputs": [
    {
     "output_type": "display_data",
     "data": {
      "text/plain": [
       "   LotFrontage      LotArea   MasVnrArea    BsmtFinSF1  BsmtFinSF2  \\\n",
       "0    61.892403  1477.309879  6155.310482   6942.575642 -545.421991   \n",
       "1   601.947572  1694.842370  7280.067381   7233.601141 -284.981048   \n",
       "2   729.296327  1759.128883  7802.118451   6641.320616 -370.042554   \n",
       "3   688.291181  2074.252987  7570.729653   6434.310820 -330.343822   \n",
       "4  3567.129986  2167.213310  6214.872750  10991.542192 -516.526228   \n",
       "\n",
       "     BsmtUnfSF   TotalBsmtSF     1stFlrSF      2ndFlrSF  LowQualFinSF  ...  \\\n",
       "0  2989.657390   9980.819892  8503.830522   8877.919458  -1264.418995  ...   \n",
       "1  2462.965716   9866.770147  8609.385991   9082.060726  -1357.930108  ...   \n",
       "2  3122.807571   9979.441786  7959.486370   8326.819490  -1096.164674  ...   \n",
       "3  3298.508345   9876.016300  8134.284728   9128.869688  -1258.666965  ...   \n",
       "4  3132.640349  14702.593447  8078.092620  12925.265972  -2263.860850  ...   \n",
       "\n",
       "    Fireplaces    GarageCars   GarageArea   WoodDeckSF  OpenPorchSF  \\\n",
       "0  5136.322416  12984.065764  6778.192445  5166.193092  2957.298841   \n",
       "1  5327.718897  12596.444027  6174.364683  4835.826944  3116.951672   \n",
       "2  5055.603286  12342.540207  7437.090656  5473.420560  3067.481059   \n",
       "3  5516.486437  12476.432263  6929.023257  5160.136607  2976.742912   \n",
       "4  2953.135325  10945.002814  5859.586872  3431.155815  2966.883532   \n",
       "\n",
       "   EnclosedPorch    3SsnPorch  ScreenPorch     PoolArea     MiscVal  \n",
       "0   -2452.950419   955.604036  1821.482925 -1184.164427    5.331057  \n",
       "1   -2394.883215  1331.948862  1372.290683  -743.576649  -63.877404  \n",
       "2   -2327.381879  1054.052743  1742.710070 -3637.852969   66.685071  \n",
       "3   -2841.322773   596.599083  1349.599791  -997.284981  -19.312440  \n",
       "4   -3082.555472   877.284425  1200.071411  2284.019887 -418.875687  \n",
       "\n",
       "[5 rows x 24 columns]"
      ],
      "text/html": [
       "<div>\n",
       "<style scoped>\n",
       "    .dataframe tbody tr th:only-of-type {\n",
       "        vertical-align: middle;\n",
       "    }\n",
       "\n",
       "    .dataframe tbody tr th {\n",
       "        vertical-align: top;\n",
       "    }\n",
       "\n",
       "    .dataframe thead th {\n",
       "        text-align: right;\n",
       "    }\n",
       "</style>\n",
       "<table border=\"1\" class=\"dataframe\">\n",
       "  <thead>\n",
       "    <tr style=\"text-align: right;\">\n",
       "      <th></th>\n",
       "      <th>LotFrontage</th>\n",
       "      <th>LotArea</th>\n",
       "      <th>MasVnrArea</th>\n",
       "      <th>BsmtFinSF1</th>\n",
       "      <th>BsmtFinSF2</th>\n",
       "      <th>BsmtUnfSF</th>\n",
       "      <th>TotalBsmtSF</th>\n",
       "      <th>1stFlrSF</th>\n",
       "      <th>2ndFlrSF</th>\n",
       "      <th>LowQualFinSF</th>\n",
       "      <th>...</th>\n",
       "      <th>Fireplaces</th>\n",
       "      <th>GarageCars</th>\n",
       "      <th>GarageArea</th>\n",
       "      <th>WoodDeckSF</th>\n",
       "      <th>OpenPorchSF</th>\n",
       "      <th>EnclosedPorch</th>\n",
       "      <th>3SsnPorch</th>\n",
       "      <th>ScreenPorch</th>\n",
       "      <th>PoolArea</th>\n",
       "      <th>MiscVal</th>\n",
       "    </tr>\n",
       "  </thead>\n",
       "  <tbody>\n",
       "    <tr>\n",
       "      <th>0</th>\n",
       "      <td>61.892403</td>\n",
       "      <td>1477.309879</td>\n",
       "      <td>6155.310482</td>\n",
       "      <td>6942.575642</td>\n",
       "      <td>-545.421991</td>\n",
       "      <td>2989.657390</td>\n",
       "      <td>9980.819892</td>\n",
       "      <td>8503.830522</td>\n",
       "      <td>8877.919458</td>\n",
       "      <td>-1264.418995</td>\n",
       "      <td>...</td>\n",
       "      <td>5136.322416</td>\n",
       "      <td>12984.065764</td>\n",
       "      <td>6778.192445</td>\n",
       "      <td>5166.193092</td>\n",
       "      <td>2957.298841</td>\n",
       "      <td>-2452.950419</td>\n",
       "      <td>955.604036</td>\n",
       "      <td>1821.482925</td>\n",
       "      <td>-1184.164427</td>\n",
       "      <td>5.331057</td>\n",
       "    </tr>\n",
       "    <tr>\n",
       "      <th>1</th>\n",
       "      <td>601.947572</td>\n",
       "      <td>1694.842370</td>\n",
       "      <td>7280.067381</td>\n",
       "      <td>7233.601141</td>\n",
       "      <td>-284.981048</td>\n",
       "      <td>2462.965716</td>\n",
       "      <td>9866.770147</td>\n",
       "      <td>8609.385991</td>\n",
       "      <td>9082.060726</td>\n",
       "      <td>-1357.930108</td>\n",
       "      <td>...</td>\n",
       "      <td>5327.718897</td>\n",
       "      <td>12596.444027</td>\n",
       "      <td>6174.364683</td>\n",
       "      <td>4835.826944</td>\n",
       "      <td>3116.951672</td>\n",
       "      <td>-2394.883215</td>\n",
       "      <td>1331.948862</td>\n",
       "      <td>1372.290683</td>\n",
       "      <td>-743.576649</td>\n",
       "      <td>-63.877404</td>\n",
       "    </tr>\n",
       "    <tr>\n",
       "      <th>2</th>\n",
       "      <td>729.296327</td>\n",
       "      <td>1759.128883</td>\n",
       "      <td>7802.118451</td>\n",
       "      <td>6641.320616</td>\n",
       "      <td>-370.042554</td>\n",
       "      <td>3122.807571</td>\n",
       "      <td>9979.441786</td>\n",
       "      <td>7959.486370</td>\n",
       "      <td>8326.819490</td>\n",
       "      <td>-1096.164674</td>\n",
       "      <td>...</td>\n",
       "      <td>5055.603286</td>\n",
       "      <td>12342.540207</td>\n",
       "      <td>7437.090656</td>\n",
       "      <td>5473.420560</td>\n",
       "      <td>3067.481059</td>\n",
       "      <td>-2327.381879</td>\n",
       "      <td>1054.052743</td>\n",
       "      <td>1742.710070</td>\n",
       "      <td>-3637.852969</td>\n",
       "      <td>66.685071</td>\n",
       "    </tr>\n",
       "    <tr>\n",
       "      <th>3</th>\n",
       "      <td>688.291181</td>\n",
       "      <td>2074.252987</td>\n",
       "      <td>7570.729653</td>\n",
       "      <td>6434.310820</td>\n",
       "      <td>-330.343822</td>\n",
       "      <td>3298.508345</td>\n",
       "      <td>9876.016300</td>\n",
       "      <td>8134.284728</td>\n",
       "      <td>9128.869688</td>\n",
       "      <td>-1258.666965</td>\n",
       "      <td>...</td>\n",
       "      <td>5516.486437</td>\n",
       "      <td>12476.432263</td>\n",
       "      <td>6929.023257</td>\n",
       "      <td>5160.136607</td>\n",
       "      <td>2976.742912</td>\n",
       "      <td>-2841.322773</td>\n",
       "      <td>596.599083</td>\n",
       "      <td>1349.599791</td>\n",
       "      <td>-997.284981</td>\n",
       "      <td>-19.312440</td>\n",
       "    </tr>\n",
       "    <tr>\n",
       "      <th>4</th>\n",
       "      <td>3567.129986</td>\n",
       "      <td>2167.213310</td>\n",
       "      <td>6214.872750</td>\n",
       "      <td>10991.542192</td>\n",
       "      <td>-516.526228</td>\n",
       "      <td>3132.640349</td>\n",
       "      <td>14702.593447</td>\n",
       "      <td>8078.092620</td>\n",
       "      <td>12925.265972</td>\n",
       "      <td>-2263.860850</td>\n",
       "      <td>...</td>\n",
       "      <td>2953.135325</td>\n",
       "      <td>10945.002814</td>\n",
       "      <td>5859.586872</td>\n",
       "      <td>3431.155815</td>\n",
       "      <td>2966.883532</td>\n",
       "      <td>-3082.555472</td>\n",
       "      <td>877.284425</td>\n",
       "      <td>1200.071411</td>\n",
       "      <td>2284.019887</td>\n",
       "      <td>-418.875687</td>\n",
       "    </tr>\n",
       "  </tbody>\n",
       "</table>\n",
       "<p>5 rows × 24 columns</p>\n",
       "</div>"
      ]
     },
     "metadata": {}
    }
   ],
   "metadata": {}
  },
  {
   "cell_type": "code",
   "execution_count": 68,
   "source": [
    "all_coeficientes = []   # lista com todos os coeficientes de cada fold\n",
    "# fold_ind = é o indice de cada fold interno, aqui no caso varia entre 0 e 4\n",
    "for fold_ind in cv_results['estimator']:\n",
    "    all_coeficientes.append(fold_ind.get_params()['ridgecv'].coef_)\n",
    "\n",
    "\n",
    "all_coefs = np.array(all_coeficientes)\n",
    "print(f\"Maior coeficiente de ajuste encontrado é: {all_coefs.max():.2e}\")"
   ],
   "outputs": [
    {
     "output_type": "stream",
     "name": "stdout",
     "text": [
      "Maior coeficiente de ajuste encontrado é: 1.67e+04\n"
     ]
    }
   ],
   "metadata": {}
  },
  {
   "cell_type": "code",
   "execution_count": 69,
   "source": [
    "coefs = [estimator[-1].coef_ for estimator in cv_results[\"estimator\"]]\n",
    "coefs = pd.DataFrame(coefs, columns=data_numerical.columns)\n",
    "_, ax = plt.subplots(figsize=(10, 7))\n",
    "_ = coefs.abs().plot.box(**boxplot_property, ax=ax)"
   ],
   "outputs": [
    {
     "output_type": "display_data",
     "data": {
      "text/plain": [
       "<Figure size 720x504 with 1 Axes>"
      ],
      "image/png": "[encoded data removed]"
     },
     "metadata": {
      "needs_background": "light"
     }
    }
   ],
   "metadata": {}
  },
  {
   "cell_type": "markdown",
   "source": [
    "No gráfico, vemos que as classificações e a magnitude das características não mudaram muito. A magnitude diminuiu ligeiramente; isso pode significar que nosso modelo escolheu um parâmetro de regularização mais forte do que o valor padrão em Ridge."
   ],
   "metadata": {}
  },
  {
   "cell_type": "code",
   "execution_count": 70,
   "source": [
    "mse_alphas = [est[-1].cv_values_.mean(axis=0)\n",
    "              for est in cv_results[\"estimator\"]]\n",
    "cv_alphas = pd.DataFrame(mse_alphas, columns=alphas)\n",
    "cv_alphas"
   ],
   "outputs": [
    {
     "output_type": "execute_result",
     "data": {
      "text/plain": [
       "    0.100000      0.137382      0.188739      0.259294      0.356225     \\\n",
       "0  2.017945e+09  2.017922e+09  2.017891e+09  2.017849e+09  2.017791e+09   \n",
       "1  2.052119e+09  2.052096e+09  2.052064e+09  2.052021e+09  2.051961e+09   \n",
       "2  1.975546e+09  1.975522e+09  1.975489e+09  1.975443e+09  1.975381e+09   \n",
       "3  2.061163e+09  2.061139e+09  2.061107e+09  2.061062e+09  2.061001e+09   \n",
       "4  1.447502e+09  1.447494e+09  1.447484e+09  1.447469e+09  1.447450e+09   \n",
       "\n",
       "    0.489390      0.672336      0.923671      1.268961      1.743329     ...  \\\n",
       "0  2.017711e+09  2.017602e+09  2.017452e+09  2.017247e+09  2.016967e+09  ...   \n",
       "1  2.051879e+09  2.051767e+09  2.051613e+09  2.051402e+09  2.051114e+09  ...   \n",
       "2  1.975295e+09  1.975178e+09  1.975017e+09  1.974797e+09  1.974495e+09  ...   \n",
       "3  2.060916e+09  2.060801e+09  2.060642e+09  2.060425e+09  2.060129e+09  ...   \n",
       "4  1.447423e+09  1.447386e+09  1.447336e+09  1.447267e+09  1.447174e+09  ...   \n",
       "\n",
       "    57.361525     78.804628     108.263673    148.735211    204.335972   \\\n",
       "0  1.992414e+09  1.985844e+09  1.978479e+09  1.970753e+09  1.963485e+09   \n",
       "1  2.025714e+09  2.018889e+09  2.011228e+09  2.003169e+09  1.995532e+09   \n",
       "2  1.946957e+09  1.939265e+09  1.930490e+09  1.921082e+09  1.911926e+09   \n",
       "3  2.033240e+09  2.025755e+09  2.017193e+09  2.007943e+09  1.998795e+09   \n",
       "4  1.440949e+09  1.440399e+09  1.440773e+09  1.442890e+09  1.447920e+09   \n",
       "\n",
       "    280.721620    385.662042    529.831691    727.895384    1000.000000  \n",
       "0  1.958036e+09  1.956485e+09  1.961839e+09  1.978307e+09  2.011672e+09  \n",
       "1  1.989662e+09  1.987596e+09  1.992262e+09  2.007764e+09  2.039779e+09  \n",
       "2  1.904501e+09  1.901049e+09  1.904743e+09  1.919927e+09  1.952433e+09  \n",
       "3  1.991093e+09  1.986919e+09  1.989306e+09  2.002524e+09  2.032465e+09  \n",
       "4  1.457427e+09  1.473432e+09  1.498574e+09  1.536470e+09  1.592317e+09  \n",
       "\n",
       "[5 rows x 30 columns]"
      ],
      "text/html": [
       "<div>\n",
       "<style scoped>\n",
       "    .dataframe tbody tr th:only-of-type {\n",
       "        vertical-align: middle;\n",
       "    }\n",
       "\n",
       "    .dataframe tbody tr th {\n",
       "        vertical-align: top;\n",
       "    }\n",
       "\n",
       "    .dataframe thead th {\n",
       "        text-align: right;\n",
       "    }\n",
       "</style>\n",
       "<table border=\"1\" class=\"dataframe\">\n",
       "  <thead>\n",
       "    <tr style=\"text-align: right;\">\n",
       "      <th></th>\n",
       "      <th>0.100000</th>\n",
       "      <th>0.137382</th>\n",
       "      <th>0.188739</th>\n",
       "      <th>0.259294</th>\n",
       "      <th>0.356225</th>\n",
       "      <th>0.489390</th>\n",
       "      <th>0.672336</th>\n",
       "      <th>0.923671</th>\n",
       "      <th>1.268961</th>\n",
       "      <th>1.743329</th>\n",
       "      <th>...</th>\n",
       "      <th>57.361525</th>\n",
       "      <th>78.804628</th>\n",
       "      <th>108.263673</th>\n",
       "      <th>148.735211</th>\n",
       "      <th>204.335972</th>\n",
       "      <th>280.721620</th>\n",
       "      <th>385.662042</th>\n",
       "      <th>529.831691</th>\n",
       "      <th>727.895384</th>\n",
       "      <th>1000.000000</th>\n",
       "    </tr>\n",
       "  </thead>\n",
       "  <tbody>\n",
       "    <tr>\n",
       "      <th>0</th>\n",
       "      <td>2.017945e+09</td>\n",
       "      <td>2.017922e+09</td>\n",
       "      <td>2.017891e+09</td>\n",
       "      <td>2.017849e+09</td>\n",
       "      <td>2.017791e+09</td>\n",
       "      <td>2.017711e+09</td>\n",
       "      <td>2.017602e+09</td>\n",
       "      <td>2.017452e+09</td>\n",
       "      <td>2.017247e+09</td>\n",
       "      <td>2.016967e+09</td>\n",
       "      <td>...</td>\n",
       "      <td>1.992414e+09</td>\n",
       "      <td>1.985844e+09</td>\n",
       "      <td>1.978479e+09</td>\n",
       "      <td>1.970753e+09</td>\n",
       "      <td>1.963485e+09</td>\n",
       "      <td>1.958036e+09</td>\n",
       "      <td>1.956485e+09</td>\n",
       "      <td>1.961839e+09</td>\n",
       "      <td>1.978307e+09</td>\n",
       "      <td>2.011672e+09</td>\n",
       "    </tr>\n",
       "    <tr>\n",
       "      <th>1</th>\n",
       "      <td>2.052119e+09</td>\n",
       "      <td>2.052096e+09</td>\n",
       "      <td>2.052064e+09</td>\n",
       "      <td>2.052021e+09</td>\n",
       "      <td>2.051961e+09</td>\n",
       "      <td>2.051879e+09</td>\n",
       "      <td>2.051767e+09</td>\n",
       "      <td>2.051613e+09</td>\n",
       "      <td>2.051402e+09</td>\n",
       "      <td>2.051114e+09</td>\n",
       "      <td>...</td>\n",
       "      <td>2.025714e+09</td>\n",
       "      <td>2.018889e+09</td>\n",
       "      <td>2.011228e+09</td>\n",
       "      <td>2.003169e+09</td>\n",
       "      <td>1.995532e+09</td>\n",
       "      <td>1.989662e+09</td>\n",
       "      <td>1.987596e+09</td>\n",
       "      <td>1.992262e+09</td>\n",
       "      <td>2.007764e+09</td>\n",
       "      <td>2.039779e+09</td>\n",
       "    </tr>\n",
       "    <tr>\n",
       "      <th>2</th>\n",
       "      <td>1.975546e+09</td>\n",
       "      <td>1.975522e+09</td>\n",
       "      <td>1.975489e+09</td>\n",
       "      <td>1.975443e+09</td>\n",
       "      <td>1.975381e+09</td>\n",
       "      <td>1.975295e+09</td>\n",
       "      <td>1.975178e+09</td>\n",
       "      <td>1.975017e+09</td>\n",
       "      <td>1.974797e+09</td>\n",
       "      <td>1.974495e+09</td>\n",
       "      <td>...</td>\n",
       "      <td>1.946957e+09</td>\n",
       "      <td>1.939265e+09</td>\n",
       "      <td>1.930490e+09</td>\n",
       "      <td>1.921082e+09</td>\n",
       "      <td>1.911926e+09</td>\n",
       "      <td>1.904501e+09</td>\n",
       "      <td>1.901049e+09</td>\n",
       "      <td>1.904743e+09</td>\n",
       "      <td>1.919927e+09</td>\n",
       "      <td>1.952433e+09</td>\n",
       "    </tr>\n",
       "    <tr>\n",
       "      <th>3</th>\n",
       "      <td>2.061163e+09</td>\n",
       "      <td>2.061139e+09</td>\n",
       "      <td>2.061107e+09</td>\n",
       "      <td>2.061062e+09</td>\n",
       "      <td>2.061001e+09</td>\n",
       "      <td>2.060916e+09</td>\n",
       "      <td>2.060801e+09</td>\n",
       "      <td>2.060642e+09</td>\n",
       "      <td>2.060425e+09</td>\n",
       "      <td>2.060129e+09</td>\n",
       "      <td>...</td>\n",
       "      <td>2.033240e+09</td>\n",
       "      <td>2.025755e+09</td>\n",
       "      <td>2.017193e+09</td>\n",
       "      <td>2.007943e+09</td>\n",
       "      <td>1.998795e+09</td>\n",
       "      <td>1.991093e+09</td>\n",
       "      <td>1.986919e+09</td>\n",
       "      <td>1.989306e+09</td>\n",
       "      <td>2.002524e+09</td>\n",
       "      <td>2.032465e+09</td>\n",
       "    </tr>\n",
       "    <tr>\n",
       "      <th>4</th>\n",
       "      <td>1.447502e+09</td>\n",
       "      <td>1.447494e+09</td>\n",
       "      <td>1.447484e+09</td>\n",
       "      <td>1.447469e+09</td>\n",
       "      <td>1.447450e+09</td>\n",
       "      <td>1.447423e+09</td>\n",
       "      <td>1.447386e+09</td>\n",
       "      <td>1.447336e+09</td>\n",
       "      <td>1.447267e+09</td>\n",
       "      <td>1.447174e+09</td>\n",
       "      <td>...</td>\n",
       "      <td>1.440949e+09</td>\n",
       "      <td>1.440399e+09</td>\n",
       "      <td>1.440773e+09</td>\n",
       "      <td>1.442890e+09</td>\n",
       "      <td>1.447920e+09</td>\n",
       "      <td>1.457427e+09</td>\n",
       "      <td>1.473432e+09</td>\n",
       "      <td>1.498574e+09</td>\n",
       "      <td>1.536470e+09</td>\n",
       "      <td>1.592317e+09</td>\n",
       "    </tr>\n",
       "  </tbody>\n",
       "</table>\n",
       "<p>5 rows × 30 columns</p>\n",
       "</div>"
      ]
     },
     "metadata": {},
     "execution_count": 70
    }
   ],
   "metadata": {}
  },
  {
   "cell_type": "code",
   "execution_count": 71,
   "source": [
    "train_error = -cv_results[\"train_score\"]\n",
    "print(f\"Mean squared error of linear regression model on the train set:\\n\"\n",
    "      f\"{train_error.mean():.3f} +/- {train_error.std():.3f}\")"
   ],
   "outputs": [
    {
     "output_type": "stream",
     "name": "stdout",
     "text": [
      "Mean squared error of linear regression model on the train set:\n",
      "25736.615 +/- 541.853\n"
     ]
    }
   ],
   "metadata": {}
  },
  {
   "cell_type": "code",
   "execution_count": 72,
   "source": [
    "test_error = -cv_results[\"test_score\"]\n",
    "print(f\"Mean squared error of linear regression model on the test set:\\n\"\n",
    "      f\"{test_error.mean():.3f} +/- {test_error.std():.3f}\")"
   ],
   "outputs": [
    {
     "output_type": "stream",
     "name": "stdout",
     "text": [
      "Mean squared error of linear regression model on the test set:\n",
      "27207.167 +/- 1995.130\n"
     ]
    }
   ],
   "metadata": {}
  },
  {
   "cell_type": "code",
   "execution_count": 73,
   "source": [
    "cv_alphas.mean(axis=0).plot(marker=\"+\")\n",
    "plt.ylabel(\"Mean squared error\\n (lower is better)\")\n",
    "plt.xlabel(\"alpha\")\n",
    "_ = plt.title(\"Error obtained by cross-validation\")"
   ],
   "outputs": [
    {
     "output_type": "display_data",
     "data": {
      "text/plain": [
       "<Figure size 432x288 with 1 Axes>"
      ],
      "image/png": "[encoded data removed]"
     },
     "metadata": {
      "needs_background": "light"
     }
    }
   ],
   "metadata": {}
  },
  {
   "cell_type": "code",
   "execution_count": 75,
   "source": [
    "alpha = [estimator[-1].alpha_ for estimator in cv_results[\"estimator\"]]\n",
    "alpha = pd.Series(alpha, name=\"alpha\")\n",
    "alpha"
   ],
   "outputs": [
    {
     "output_type": "execute_result",
     "data": {
      "text/plain": [
       "0    385.662042\n",
       "1    385.662042\n",
       "2    385.662042\n",
       "3    385.662042\n",
       "4     78.804628\n",
       "Name: alpha, dtype: float64"
      ]
     },
     "metadata": {},
     "execution_count": 75
    }
   ],
   "metadata": {}
  },
  {
   "cell_type": "code",
   "execution_count": null,
   "source": [
    "sns.set(style='whitegrid')\n",
    "ax = sns.swarmplot(x=alpha)"
   ],
   "outputs": [],
   "metadata": {}
  }
 ],
 "metadata": {
  "orig_nbformat": 4,
  "language_info": {
   "name": "python"
  }
 },
 "nbformat": 4,
 "nbformat_minor": 2
}