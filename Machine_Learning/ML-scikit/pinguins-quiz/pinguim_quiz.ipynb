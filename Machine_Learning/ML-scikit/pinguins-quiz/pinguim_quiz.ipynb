{
 "cells": [
  {
   "cell_type": "markdown",
   "source": [
    "## Questões sobre Machine Learning\n",
    "\n",
    "Dataset - pinguins"
   ],
   "metadata": {}
  },
  {
   "cell_type": "code",
   "execution_count": 1,
   "source": [
    "import pandas as pd\n",
    "\n",
    "penguins = pd.read_csv(\"penguins.csv\")\n",
    "\n",
    "columns = [\"Body Mass (g)\", \"Flipper Length (mm)\", \"Culmen Length (mm)\"]\n",
    "target_name = \"Species\"\n",
    "\n",
    "# Remove lines with missing values for the columns of interestes\n",
    "penguins_non_missing = penguins[columns + [target_name]].dropna()\n",
    "\n",
    "data = penguins_non_missing[columns]\n",
    "target = penguins_non_missing[target_name]"
   ],
   "outputs": [],
   "metadata": {}
  },
  {
   "cell_type": "code",
   "execution_count": 2,
   "source": [
    "penguins.head()"
   ],
   "outputs": [
    {
     "output_type": "execute_result",
     "data": {
      "text/plain": [
       "  studyName  Sample Number                              Species  Region  \\\n",
       "0   PAL0708              1  Adelie Penguin (Pygoscelis adeliae)  Anvers   \n",
       "1   PAL0708              2  Adelie Penguin (Pygoscelis adeliae)  Anvers   \n",
       "2   PAL0708              3  Adelie Penguin (Pygoscelis adeliae)  Anvers   \n",
       "3   PAL0708              4  Adelie Penguin (Pygoscelis adeliae)  Anvers   \n",
       "4   PAL0708              5  Adelie Penguin (Pygoscelis adeliae)  Anvers   \n",
       "\n",
       "      Island               Stage Individual ID Clutch Completion    Date Egg  \\\n",
       "0  Torgersen  Adult, 1 Egg Stage          N1A1               Yes  2007-11-11   \n",
       "1  Torgersen  Adult, 1 Egg Stage          N1A2               Yes  2007-11-11   \n",
       "2  Torgersen  Adult, 1 Egg Stage          N2A1               Yes  2007-11-16   \n",
       "3  Torgersen  Adult, 1 Egg Stage          N2A2               Yes  2007-11-16   \n",
       "4  Torgersen  Adult, 1 Egg Stage          N3A1               Yes  2007-11-16   \n",
       "\n",
       "   Culmen Length (mm)  Culmen Depth (mm)  Flipper Length (mm)  Body Mass (g)  \\\n",
       "0                39.1               18.7                181.0         3750.0   \n",
       "1                39.5               17.4                186.0         3800.0   \n",
       "2                40.3               18.0                195.0         3250.0   \n",
       "3                 NaN                NaN                  NaN            NaN   \n",
       "4                36.7               19.3                193.0         3450.0   \n",
       "\n",
       "      Sex  Delta 15 N (o/oo)  Delta 13 C (o/oo)  \\\n",
       "0    MALE                NaN                NaN   \n",
       "1  FEMALE            8.94956          -24.69454   \n",
       "2  FEMALE            8.36821          -25.33302   \n",
       "3     NaN                NaN                NaN   \n",
       "4  FEMALE            8.76651          -25.32426   \n",
       "\n",
       "                         Comments  \n",
       "0  Not enough blood for isotopes.  \n",
       "1                             NaN  \n",
       "2                             NaN  \n",
       "3              Adult not sampled.  \n",
       "4                             NaN  "
      ],
      "text/html": [
       "<div>\n",
       "<style scoped>\n",
       "    .dataframe tbody tr th:only-of-type {\n",
       "        vertical-align: middle;\n",
       "    }\n",
       "\n",
       "    .dataframe tbody tr th {\n",
       "        vertical-align: top;\n",
       "    }\n",
       "\n",
       "    .dataframe thead th {\n",
       "        text-align: right;\n",
       "    }\n",
       "</style>\n",
       "<table border=\"1\" class=\"dataframe\">\n",
       "  <thead>\n",
       "    <tr style=\"text-align: right;\">\n",
       "      <th></th>\n",
       "      <th>studyName</th>\n",
       "      <th>Sample Number</th>\n",
       "      <th>Species</th>\n",
       "      <th>Region</th>\n",
       "      <th>Island</th>\n",
       "      <th>Stage</th>\n",
       "      <th>Individual ID</th>\n",
       "      <th>Clutch Completion</th>\n",
       "      <th>Date Egg</th>\n",
       "      <th>Culmen Length (mm)</th>\n",
       "      <th>Culmen Depth (mm)</th>\n",
       "      <th>Flipper Length (mm)</th>\n",
       "      <th>Body Mass (g)</th>\n",
       "      <th>Sex</th>\n",
       "      <th>Delta 15 N (o/oo)</th>\n",
       "      <th>Delta 13 C (o/oo)</th>\n",
       "      <th>Comments</th>\n",
       "    </tr>\n",
       "  </thead>\n",
       "  <tbody>\n",
       "    <tr>\n",
       "      <th>0</th>\n",
       "      <td>PAL0708</td>\n",
       "      <td>1</td>\n",
       "      <td>Adelie Penguin (Pygoscelis adeliae)</td>\n",
       "      <td>Anvers</td>\n",
       "      <td>Torgersen</td>\n",
       "      <td>Adult, 1 Egg Stage</td>\n",
       "      <td>N1A1</td>\n",
       "      <td>Yes</td>\n",
       "      <td>2007-11-11</td>\n",
       "      <td>39.1</td>\n",
       "      <td>18.7</td>\n",
       "      <td>181.0</td>\n",
       "      <td>3750.0</td>\n",
       "      <td>MALE</td>\n",
       "      <td>NaN</td>\n",
       "      <td>NaN</td>\n",
       "      <td>Not enough blood for isotopes.</td>\n",
       "    </tr>\n",
       "    <tr>\n",
       "      <th>1</th>\n",
       "      <td>PAL0708</td>\n",
       "      <td>2</td>\n",
       "      <td>Adelie Penguin (Pygoscelis adeliae)</td>\n",
       "      <td>Anvers</td>\n",
       "      <td>Torgersen</td>\n",
       "      <td>Adult, 1 Egg Stage</td>\n",
       "      <td>N1A2</td>\n",
       "      <td>Yes</td>\n",
       "      <td>2007-11-11</td>\n",
       "      <td>39.5</td>\n",
       "      <td>17.4</td>\n",
       "      <td>186.0</td>\n",
       "      <td>3800.0</td>\n",
       "      <td>FEMALE</td>\n",
       "      <td>8.94956</td>\n",
       "      <td>-24.69454</td>\n",
       "      <td>NaN</td>\n",
       "    </tr>\n",
       "    <tr>\n",
       "      <th>2</th>\n",
       "      <td>PAL0708</td>\n",
       "      <td>3</td>\n",
       "      <td>Adelie Penguin (Pygoscelis adeliae)</td>\n",
       "      <td>Anvers</td>\n",
       "      <td>Torgersen</td>\n",
       "      <td>Adult, 1 Egg Stage</td>\n",
       "      <td>N2A1</td>\n",
       "      <td>Yes</td>\n",
       "      <td>2007-11-16</td>\n",
       "      <td>40.3</td>\n",
       "      <td>18.0</td>\n",
       "      <td>195.0</td>\n",
       "      <td>3250.0</td>\n",
       "      <td>FEMALE</td>\n",
       "      <td>8.36821</td>\n",
       "      <td>-25.33302</td>\n",
       "      <td>NaN</td>\n",
       "    </tr>\n",
       "    <tr>\n",
       "      <th>3</th>\n",
       "      <td>PAL0708</td>\n",
       "      <td>4</td>\n",
       "      <td>Adelie Penguin (Pygoscelis adeliae)</td>\n",
       "      <td>Anvers</td>\n",
       "      <td>Torgersen</td>\n",
       "      <td>Adult, 1 Egg Stage</td>\n",
       "      <td>N2A2</td>\n",
       "      <td>Yes</td>\n",
       "      <td>2007-11-16</td>\n",
       "      <td>NaN</td>\n",
       "      <td>NaN</td>\n",
       "      <td>NaN</td>\n",
       "      <td>NaN</td>\n",
       "      <td>NaN</td>\n",
       "      <td>NaN</td>\n",
       "      <td>NaN</td>\n",
       "      <td>Adult not sampled.</td>\n",
       "    </tr>\n",
       "    <tr>\n",
       "      <th>4</th>\n",
       "      <td>PAL0708</td>\n",
       "      <td>5</td>\n",
       "      <td>Adelie Penguin (Pygoscelis adeliae)</td>\n",
       "      <td>Anvers</td>\n",
       "      <td>Torgersen</td>\n",
       "      <td>Adult, 1 Egg Stage</td>\n",
       "      <td>N3A1</td>\n",
       "      <td>Yes</td>\n",
       "      <td>2007-11-16</td>\n",
       "      <td>36.7</td>\n",
       "      <td>19.3</td>\n",
       "      <td>193.0</td>\n",
       "      <td>3450.0</td>\n",
       "      <td>FEMALE</td>\n",
       "      <td>8.76651</td>\n",
       "      <td>-25.32426</td>\n",
       "      <td>NaN</td>\n",
       "    </tr>\n",
       "  </tbody>\n",
       "</table>\n",
       "</div>"
      ]
     },
     "metadata": {},
     "execution_count": 2
    }
   ],
   "metadata": {}
  },
  {
   "cell_type": "code",
   "execution_count": 3,
   "source": [
    "penguins.info()"
   ],
   "outputs": [
    {
     "output_type": "stream",
     "name": "stdout",
     "text": [
      "<class 'pandas.core.frame.DataFrame'>\n",
      "RangeIndex: 344 entries, 0 to 343\n",
      "Data columns (total 17 columns):\n",
      " #   Column               Non-Null Count  Dtype  \n",
      "---  ------               --------------  -----  \n",
      " 0   studyName            344 non-null    object \n",
      " 1   Sample Number        344 non-null    int64  \n",
      " 2   Species              344 non-null    object \n",
      " 3   Region               344 non-null    object \n",
      " 4   Island               344 non-null    object \n",
      " 5   Stage                344 non-null    object \n",
      " 6   Individual ID        344 non-null    object \n",
      " 7   Clutch Completion    344 non-null    object \n",
      " 8   Date Egg             344 non-null    object \n",
      " 9   Culmen Length (mm)   342 non-null    float64\n",
      " 10  Culmen Depth (mm)    342 non-null    float64\n",
      " 11  Flipper Length (mm)  342 non-null    float64\n",
      " 12  Body Mass (g)        342 non-null    float64\n",
      " 13  Sex                  334 non-null    object \n",
      " 14  Delta 15 N (o/oo)    330 non-null    float64\n",
      " 15  Delta 13 C (o/oo)    331 non-null    float64\n",
      " 16  Comments             54 non-null     object \n",
      "dtypes: float64(6), int64(1), object(10)\n",
      "memory usage: 45.8+ KB\n"
     ]
    }
   ],
   "metadata": {}
  },
  {
   "cell_type": "code",
   "execution_count": 4,
   "source": [
    "target.value_counts()"
   ],
   "outputs": [
    {
     "output_type": "execute_result",
     "data": {
      "text/plain": [
       "Adelie Penguin (Pygoscelis adeliae)          151\n",
       "Gentoo penguin (Pygoscelis papua)            123\n",
       "Chinstrap penguin (Pygoscelis antarctica)     68\n",
       "Name: Species, dtype: int64"
      ]
     },
     "metadata": {},
     "execution_count": 4
    }
   ],
   "metadata": {}
  },
  {
   "cell_type": "markdown",
   "source": [
    "### Conclusões iniciais sobre o dataset:\n",
    "\n",
    "1. O problema a ser solucionado é um problema classificação multiclasse.\n",
    "2. A proporção de contagem das classes são desbalenceadas: algumas classes são 2x maior do que outra."
   ],
   "metadata": {}
  },
  {
   "cell_type": "markdown",
   "source": [
    "Selecionando apenas o dataset com variáveis numéricas:"
   ],
   "metadata": {}
  },
  {
   "cell_type": "code",
   "execution_count": 5,
   "source": [
    "data_numeric = data.select_dtypes(exclude=['object']).columns\n",
    "data_numeric"
   ],
   "outputs": [
    {
     "output_type": "execute_result",
     "data": {
      "text/plain": [
       "Index(['Body Mass (g)', 'Flipper Length (mm)', 'Culmen Length (mm)'], dtype='object')"
      ]
     },
     "metadata": {},
     "execution_count": 5
    }
   ],
   "metadata": {}
  },
  {
   "cell_type": "code",
   "execution_count": 6,
   "source": [
    "data = data[data_numeric].copy()\n",
    "data.head()"
   ],
   "outputs": [
    {
     "output_type": "execute_result",
     "data": {
      "text/plain": [
       "   Body Mass (g)  Flipper Length (mm)  Culmen Length (mm)\n",
       "0         3750.0                181.0                39.1\n",
       "1         3800.0                186.0                39.5\n",
       "2         3250.0                195.0                40.3\n",
       "4         3450.0                193.0                36.7\n",
       "5         3650.0                190.0                39.3"
      ],
      "text/html": [
       "<div>\n",
       "<style scoped>\n",
       "    .dataframe tbody tr th:only-of-type {\n",
       "        vertical-align: middle;\n",
       "    }\n",
       "\n",
       "    .dataframe tbody tr th {\n",
       "        vertical-align: top;\n",
       "    }\n",
       "\n",
       "    .dataframe thead th {\n",
       "        text-align: right;\n",
       "    }\n",
       "</style>\n",
       "<table border=\"1\" class=\"dataframe\">\n",
       "  <thead>\n",
       "    <tr style=\"text-align: right;\">\n",
       "      <th></th>\n",
       "      <th>Body Mass (g)</th>\n",
       "      <th>Flipper Length (mm)</th>\n",
       "      <th>Culmen Length (mm)</th>\n",
       "    </tr>\n",
       "  </thead>\n",
       "  <tbody>\n",
       "    <tr>\n",
       "      <th>0</th>\n",
       "      <td>3750.0</td>\n",
       "      <td>181.0</td>\n",
       "      <td>39.1</td>\n",
       "    </tr>\n",
       "    <tr>\n",
       "      <th>1</th>\n",
       "      <td>3800.0</td>\n",
       "      <td>186.0</td>\n",
       "      <td>39.5</td>\n",
       "    </tr>\n",
       "    <tr>\n",
       "      <th>2</th>\n",
       "      <td>3250.0</td>\n",
       "      <td>195.0</td>\n",
       "      <td>40.3</td>\n",
       "    </tr>\n",
       "    <tr>\n",
       "      <th>4</th>\n",
       "      <td>3450.0</td>\n",
       "      <td>193.0</td>\n",
       "      <td>36.7</td>\n",
       "    </tr>\n",
       "    <tr>\n",
       "      <th>5</th>\n",
       "      <td>3650.0</td>\n",
       "      <td>190.0</td>\n",
       "      <td>39.3</td>\n",
       "    </tr>\n",
       "  </tbody>\n",
       "</table>\n",
       "</div>"
      ]
     },
     "metadata": {},
     "execution_count": 6
    }
   ],
   "metadata": {}
  },
  {
   "cell_type": "code",
   "execution_count": 7,
   "source": [
    "data.isna().sum()"
   ],
   "outputs": [
    {
     "output_type": "execute_result",
     "data": {
      "text/plain": [
       "Body Mass (g)          0\n",
       "Flipper Length (mm)    0\n",
       "Culmen Length (mm)     0\n",
       "dtype: int64"
      ]
     },
     "metadata": {},
     "execution_count": 7
    }
   ],
   "metadata": {}
  },
  {
   "cell_type": "code",
   "execution_count": 9,
   "source": [
    "data.shape"
   ],
   "outputs": [
    {
     "output_type": "execute_result",
     "data": {
      "text/plain": [
       "(342, 3)"
      ]
     },
     "metadata": {},
     "execution_count": 9
    }
   ],
   "metadata": {}
  },
  {
   "cell_type": "markdown",
   "source": [
    "Considere o seguinte pipeline:\n",
    "\n",
    "1. Avalie um pipeline usando 10-fold cross-validation usando como métrica o scoring = 'balanced_accuracy.\n",
    "2. Use o sklearn.model_selection.cross-validation com scoring='balanced_accuracy'. \n",
    "3. Use model.get_params() para listar os parâmetros do pipeline.\n",
    "4. Use model.set_params(param_name = param_value) para atualizar-los.\n",
    "\n",
    "Nós consideramos um modelo melhor (performance estatística) se sua média do score via cross-validation é maior do que a média + desvio padrão da cross-validation do que o modelo que estamos comparando.\n"
   ],
   "metadata": {}
  },
  {
   "cell_type": "code",
   "execution_count": 15,
   "source": [
    "from sklearn.neighbors import KNeighborsClassifier\n",
    "from sklearn.preprocessing import StandardScaler\n",
    "from sklearn.model_selection import cross_validate\n",
    "from sklearn.pipeline import Pipeline\n",
    "model = Pipeline(steps=[\n",
    "    (\"preprocessor\", StandardScaler()),\n",
    "    (\"classifier\", KNeighborsClassifier(n_neighbors=5)),\n",
    "])"
   ],
   "outputs": [],
   "metadata": {}
  },
  {
   "cell_type": "code",
   "execution_count": 16,
   "source": [
    "print(f\"Os steps do pipeline são: \\n{model.steps}\")"
   ],
   "outputs": [
    {
     "output_type": "stream",
     "name": "stdout",
     "text": [
      "Os steps do pipeline são: \n",
      "[('preprocessor', StandardScaler()), ('classifier', KNeighborsClassifier())]\n"
     ]
    }
   ],
   "metadata": {}
  },
  {
   "cell_type": "code",
   "execution_count": 17,
   "source": [
    "print(\"Os parâmetros do pipeline são:\")\n",
    "for parameter in model.get_params():\n",
    "    print(f\"{parameter}\")"
   ],
   "outputs": [
    {
     "output_type": "stream",
     "name": "stdout",
     "text": [
      "Os parâmetros do pipeline são:\n",
      "memory\n",
      "steps\n",
      "verbose\n",
      "preprocessor\n",
      "classifier\n",
      "preprocessor__copy\n",
      "preprocessor__with_mean\n",
      "preprocessor__with_std\n",
      "classifier__algorithm\n",
      "classifier__leaf_size\n",
      "classifier__metric\n",
      "classifier__metric_params\n",
      "classifier__n_jobs\n",
      "classifier__n_neighbors\n",
      "classifier__p\n",
      "classifier__weights\n"
     ]
    }
   ],
   "metadata": {}
  },
  {
   "cell_type": "markdown",
   "source": [
    "#### Implementando a validação cruzada com : cross-validation_curve\n",
    "***"
   ],
   "metadata": {}
  },
  {
   "cell_type": "code",
   "execution_count": 18,
   "source": [
    "%%time\n",
    "cv_results = cross_validate(\n",
    "model, # pipeline\n",
    "data, target, # feature matrix, target vector\n",
    "scoring = \"balanced_accuracy\", # loss function\n",
    "cv = 10, #cross-validation technique\n",
    "n_jobs = -1,\n",
    ")\n",
    "scores = cv_results['test_score']\n",
    "print(f\"A média da acurácia no cross-validation é: {scores.mean():.3f} +/- {scores.std():.3f}\")"
   ],
   "outputs": [
    {
     "output_type": "stream",
     "name": "stdout",
     "text": [
      "A média da acurácia no cross-validation é: 0.952 +/- 0.040\n",
      "CPU times: user 62.6 ms, sys: 64.2 ms, total: 127 ms\n",
      "Wall time: 2.76 s\n"
     ]
    }
   ],
   "metadata": {}
  },
  {
   "cell_type": "markdown",
   "source": [
    "* A média da \"balanced-accuracy\" no conjunto de teste do pipeline acima é entre: $0.9 \\lt 1.0 $"
   ],
   "metadata": {}
  },
  {
   "cell_type": "markdown",
   "source": [
    "É possível mudar os parâmetros do pipeline e rodar novamente a validação cruzada da seguinte forma:"
   ],
   "metadata": {}
  },
  {
   "cell_type": "code",
   "execution_count": 20,
   "source": [
    "model.set_params(classifier__n_neighbors=51)\n",
    "cv_results = cross_validate(\n",
    "model, # pipeline\n",
    "data, target, # feature matrix, target vector\n",
    "scoring = \"balanced_accuracy\", # loss function\n",
    "cv = 10, #cross-validation technique\n",
    "n_jobs = -1,\n",
    ")\n",
    "scores = cv_results['test_score']\n",
    "print(f\"A média da acurácia no cross-validation é: {scores.mean():.3f} +/- {scores.std():.3f}\")"
   ],
   "outputs": [
    {
     "output_type": "stream",
     "name": "stdout",
     "text": [
      "A média da acurácia no cross-validation é: 0.942 +/- 0.039\n"
     ]
    }
   ],
   "metadata": {}
  },
  {
   "cell_type": "markdown",
   "source": [
    "Mudando o número de n_neighbors para 51, temos um score um pouco pior do que o obtido com 5. Podemos voltar para o valor anterior e setar o preprocessador para None com:"
   ],
   "metadata": {}
  },
  {
   "cell_type": "code",
   "execution_count": 21,
   "source": [
    "model.set_params(preprocessor=None, classifier__n_neighbors = 5)\n",
    "cv_results = cross_validate(\n",
    "model, # pipeline\n",
    "data, target, # feature matrix, target vector\n",
    "scoring = \"balanced_accuracy\", # loss function\n",
    "cv = 10, #cross-validation technique\n",
    "n_jobs = -1,\n",
    ")\n",
    "scores = cv_results['test_score']\n",
    "print(f\"A média da acurácia no cross-validation é: {scores.mean():.3f} +/- {scores.std():.3f}\")"
   ],
   "outputs": [
    {
     "output_type": "stream",
     "name": "stdout",
     "text": [
      "A média da acurácia no cross-validation é: 0.740 +/- 0.087\n"
     ]
    }
   ],
   "metadata": {}
  },
  {
   "cell_type": "markdown",
   "source": [
    "Resumindo, não fazendo preprocessando com o algoritmo k_neighbors, temos um score bem pior. Comprovando que este algoritmo necessita que as variáveis numéricas estejam preprocessadas."
   ],
   "metadata": {}
  },
  {
   "cell_type": "markdown",
   "source": [
    "Para a próxima questão iremos estudar o impacto de diferentes tipos de processadores no pipeline do modelo definido inicialmente.\n",
    "\n",
    "* MinMaxScaler\n",
    "* QuantileTranformer\n",
    "* PowerTransformer\n",
    "\n",
    "O método Box-Cox é uma estratégia comum para valores positivos. Os outros preprocessadores funcionam para qualquer tipo de feature numérica.\n",
    "\n",
    "Use o sklearn.model_selection.GridSearchCV para estudar o impacto da escolha do preprocessador e o número de neighbors em uma validação cruzada com cv = 10, usando a métrica scoring = 'balanced_accuracy'. Queremos estudar a influência do range n_neighbors = [5, 51, 101] com todos os preprocessadores."
   ],
   "metadata": {}
  },
  {
   "cell_type": "code",
   "execution_count": 22,
   "source": [
    "from sklearn.preprocessing import MinMaxScaler\n",
    "from sklearn.preprocessing import QuantileTransformer\n",
    "from sklearn.preprocessing import PowerTransformer\n",
    "\n",
    "\n",
    "all_preprocessors = [\n",
    "    None,\n",
    "    StandardScaler(),\n",
    "    MinMaxScaler(),\n",
    "    QuantileTransformer(n_quantiles=100),\n",
    "    PowerTransformer(method=\"box-cox\"),\n",
    "]"
   ],
   "outputs": [],
   "metadata": {}
  },
  {
   "cell_type": "code",
   "execution_count": 23,
   "source": [
    "from sklearn.model_selection import GridSearchCV\n",
    "\n",
    "param_grid = {\n",
    "    \"preprocessor\": all_preprocessors,\n",
    "    \"classifier__n_neighbors\": [5, 51, 101],\n",
    "}\n",
    "\n",
    "grid_search = GridSearchCV(\n",
    "    model,\n",
    "    param_grid=param_grid,\n",
    "    scoring=\"balanced_accuracy\",\n",
    "    cv=10,\n",
    ").fit(data, target)\n",
    "grid_search.cv_results_"
   ],
   "outputs": [
    {
     "output_type": "execute_result",
     "data": {
      "text/plain": [
       "{'mean_fit_time': array([0.00517299, 0.00633981, 0.00551231, 0.00772493, 0.01412013,\n",
       "        0.00616221, 0.00761209, 0.00607443, 0.00771194, 0.01290171,\n",
       "        0.00451956, 0.00806606, 0.00820496, 0.00961752, 0.01369481]),\n",
       " 'std_fit_time': array([0.00162966, 0.00090139, 0.00019069, 0.00096377, 0.0026218 ,\n",
       "        0.00092373, 0.00101022, 0.00095238, 0.00095634, 0.00187563,\n",
       "        0.0006682 , 0.00076931, 0.00107406, 0.00082228, 0.00191603]),\n",
       " 'mean_score_time': array([0.00736599, 0.00620892, 0.00620825, 0.00643232, 0.00766938,\n",
       "        0.00818155, 0.00721512, 0.0065613 , 0.00633509, 0.00702453,\n",
       "        0.00727072, 0.00863185, 0.00870481, 0.00802302, 0.00763559]),\n",
       " 'std_score_time': array([0.00094419, 0.00104062, 0.00076182, 0.00109847, 0.0011511 ,\n",
       "        0.00106737, 0.00129363, 0.00080641, 0.00043057, 0.00104278,\n",
       "        0.00084532, 0.00104403, 0.00178715, 0.00053528, 0.00091649]),\n",
       " 'param_classifier__n_neighbors': masked_array(data=[5, 5, 5, 5, 5, 51, 51, 51, 51, 51, 101, 101, 101, 101,\n",
       "                    101],\n",
       "              mask=[False, False, False, False, False, False, False, False,\n",
       "                    False, False, False, False, False, False, False],\n",
       "        fill_value='?',\n",
       "             dtype=object),\n",
       " 'param_preprocessor': masked_array(data=[None, StandardScaler(), MinMaxScaler(),\n",
       "                    QuantileTransformer(n_quantiles=100),\n",
       "                    PowerTransformer(method='box-cox'), None,\n",
       "                    StandardScaler(), MinMaxScaler(),\n",
       "                    QuantileTransformer(n_quantiles=100),\n",
       "                    PowerTransformer(method='box-cox'), None,\n",
       "                    StandardScaler(), MinMaxScaler(),\n",
       "                    QuantileTransformer(n_quantiles=100),\n",
       "                    PowerTransformer(method='box-cox')],\n",
       "              mask=[False, False, False, False, False, False, False, False,\n",
       "                    False, False, False, False, False, False, False],\n",
       "        fill_value='?',\n",
       "             dtype=object),\n",
       " 'params': [{'classifier__n_neighbors': 5, 'preprocessor': None},\n",
       "  {'classifier__n_neighbors': 5, 'preprocessor': StandardScaler()},\n",
       "  {'classifier__n_neighbors': 5, 'preprocessor': MinMaxScaler()},\n",
       "  {'classifier__n_neighbors': 5,\n",
       "   'preprocessor': QuantileTransformer(n_quantiles=100)},\n",
       "  {'classifier__n_neighbors': 5,\n",
       "   'preprocessor': PowerTransformer(method='box-cox')},\n",
       "  {'classifier__n_neighbors': 51, 'preprocessor': None},\n",
       "  {'classifier__n_neighbors': 51, 'preprocessor': StandardScaler()},\n",
       "  {'classifier__n_neighbors': 51, 'preprocessor': MinMaxScaler()},\n",
       "  {'classifier__n_neighbors': 51,\n",
       "   'preprocessor': QuantileTransformer(n_quantiles=100)},\n",
       "  {'classifier__n_neighbors': 51,\n",
       "   'preprocessor': PowerTransformer(method='box-cox')},\n",
       "  {'classifier__n_neighbors': 101, 'preprocessor': None},\n",
       "  {'classifier__n_neighbors': 101, 'preprocessor': StandardScaler()},\n",
       "  {'classifier__n_neighbors': 101, 'preprocessor': MinMaxScaler()},\n",
       "  {'classifier__n_neighbors': 101,\n",
       "   'preprocessor': QuantileTransformer(n_quantiles=100)},\n",
       "  {'classifier__n_neighbors': 101,\n",
       "   'preprocessor': PowerTransformer(method='box-cox')}],\n",
       " 'split0_test_score': array([0.66468254, 1.        , 1.        , 0.95238095, 1.        ,\n",
       "        0.61805556, 0.95238095, 0.9047619 , 0.85714286, 0.9047619 ,\n",
       "        0.61805556, 0.85714286, 0.85714286, 0.85714286, 0.9047619 ]),\n",
       " 'split1_test_score': array([0.73601954, 1.        , 0.95238095, 0.92673993, 0.97777778,\n",
       "        0.56752137, 0.97777778, 0.95238095, 0.95238095, 0.97777778,\n",
       "        0.59316239, 0.95238095, 0.85714286, 0.85714286, 0.9047619 ]),\n",
       " 'split2_test_score': array([0.74102564, 1.        , 1.        , 1.        , 1.        ,\n",
       "        0.5965812 , 1.        , 1.        , 1.        , 1.        ,\n",
       "        0.57435897, 0.94444444, 0.94444444, 0.77777778, 0.88888889]),\n",
       " 'split3_test_score': array([0.7042735 , 0.91880342, 0.94444444, 0.91880342, 0.86324786,\n",
       "        0.56410256, 0.86324786, 0.86324786, 0.86324786, 0.86324786,\n",
       "        0.56410256, 0.86324786, 0.86324786, 0.86324786, 0.88888889]),\n",
       " 'split4_test_score': array([0.58412698, 0.88253968, 0.88253968, 0.9047619 , 0.88253968,\n",
       "        0.53333333, 0.88253968, 0.83492063, 0.9047619 , 0.83492063,\n",
       "        0.58888889, 0.83492063, 0.83492063, 0.76507937, 0.78730159]),\n",
       " 'split5_test_score': array([0.66984127, 0.95238095, 0.93015873, 1.        , 0.95238095,\n",
       "        0.64444444, 0.95238095, 0.95238095, 0.9047619 , 0.95238095,\n",
       "        0.64444444, 0.85714286, 0.85714286, 0.81269841, 0.80952381]),\n",
       " 'split6_test_score': array([0.83492063, 0.97777778, 0.95555556, 0.97777778, 0.95555556,\n",
       "        0.62222222, 0.95555556, 0.90793651, 0.97777778, 0.90793651,\n",
       "        0.62222222, 0.83492063, 0.76507937, 0.76507937, 0.81269841]),\n",
       " 'split7_test_score': array([0.74285714, 0.93015873, 0.95238095, 0.93015873, 0.93015873,\n",
       "        0.62222222, 0.95238095, 0.95238095, 0.93015873, 0.95238095,\n",
       "        0.62222222, 0.88253968, 0.9047619 , 0.83492063, 0.88253968]),\n",
       " 'split8_test_score': array([0.88253968, 0.90793651, 0.90793651, 0.90793651, 0.90793651,\n",
       "        0.64444444, 0.93015873, 0.93015873, 0.93015873, 0.93015873,\n",
       "        0.64444444, 0.83492063, 0.83492063, 0.73968254, 0.83492063]),\n",
       " 'split9_test_score': array([0.83809524, 0.95238095, 0.95238095, 0.95238095, 1.        ,\n",
       "        0.63888889, 0.95238095, 0.9047619 , 0.95238095, 0.9047619 ,\n",
       "        0.66666667, 0.9047619 , 0.9047619 , 0.85714286, 0.85714286]),\n",
       " 'mean_test_score': array([0.73983822, 0.9521978 , 0.94777778, 0.94709402, 0.94695971,\n",
       "        0.60518162, 0.94188034, 0.92029304, 0.92727717, 0.92283272,\n",
       "        0.61385684, 0.87664225, 0.86235653, 0.81299145, 0.85714286]),\n",
       " 'std_test_score': array([0.08668489, 0.0399021 , 0.03426844, 0.03379682, 0.04738728,\n",
       "        0.03647979, 0.03890548, 0.0455161 , 0.04375886, 0.04788268,\n",
       "        0.03147205, 0.04161842, 0.04624446, 0.04478846, 0.04100034]),\n",
       " 'rank_test_score': array([13,  1,  2,  3,  4, 15,  5,  8,  6,  7, 14,  9, 10, 12, 11],\n",
       "       dtype=int32)}"
      ]
     },
     "metadata": {},
     "execution_count": 23
    }
   ],
   "metadata": {}
  },
  {
   "cell_type": "markdown",
   "source": [
    "Podemos sortear os resultados e focar apenas nas colunas de interesse:"
   ],
   "metadata": {}
  },
  {
   "cell_type": "code",
   "execution_count": 24,
   "source": [
    "results = (\n",
    "    pd.DataFrame(grid_search.cv_results_)\n",
    "    .sort_values(by=\"mean_test_score\", ascending=False)\n",
    ")\n",
    "\n",
    "results = results[\n",
    "    [c for c in results.columns if c.startswith(\"param_\")]\n",
    "    + [\"mean_test_score\", \"std_test_score\"]\n",
    "]\n"
   ],
   "outputs": [],
   "metadata": {}
  },
  {
   "cell_type": "code",
   "execution_count": 25,
   "source": [
    "results.shape"
   ],
   "outputs": [
    {
     "output_type": "execute_result",
     "data": {
      "text/plain": [
       "(15, 4)"
      ]
     },
     "metadata": {},
     "execution_count": 25
    }
   ],
   "metadata": {}
  },
  {
   "cell_type": "code",
   "execution_count": 26,
   "source": [
    "results"
   ],
   "outputs": [
    {
     "output_type": "execute_result",
     "data": {
      "text/plain": [
       "   param_classifier__n_neighbors                    param_preprocessor  \\\n",
       "1                              5                      StandardScaler()   \n",
       "2                              5                        MinMaxScaler()   \n",
       "3                              5  QuantileTransformer(n_quantiles=100)   \n",
       "4                              5    PowerTransformer(method='box-cox')   \n",
       "6                             51                      StandardScaler()   \n",
       "8                             51  QuantileTransformer(n_quantiles=100)   \n",
       "9                             51    PowerTransformer(method='box-cox')   \n",
       "7                             51                        MinMaxScaler()   \n",
       "11                           101                      StandardScaler()   \n",
       "12                           101                        MinMaxScaler()   \n",
       "14                           101    PowerTransformer(method='box-cox')   \n",
       "13                           101  QuantileTransformer(n_quantiles=100)   \n",
       "0                              5                                  None   \n",
       "10                           101                                  None   \n",
       "5                             51                                  None   \n",
       "\n",
       "    mean_test_score  std_test_score  \n",
       "1          0.952198        0.039902  \n",
       "2          0.947778        0.034268  \n",
       "3          0.947094        0.033797  \n",
       "4          0.946960        0.047387  \n",
       "6          0.941880        0.038905  \n",
       "8          0.927277        0.043759  \n",
       "9          0.922833        0.047883  \n",
       "7          0.920293        0.045516  \n",
       "11         0.876642        0.041618  \n",
       "12         0.862357        0.046244  \n",
       "14         0.857143        0.041000  \n",
       "13         0.812991        0.044788  \n",
       "0          0.739838        0.086685  \n",
       "10         0.613857        0.031472  \n",
       "5          0.605182        0.036480  "
      ],
      "text/html": [
       "<div>\n",
       "<style scoped>\n",
       "    .dataframe tbody tr th:only-of-type {\n",
       "        vertical-align: middle;\n",
       "    }\n",
       "\n",
       "    .dataframe tbody tr th {\n",
       "        vertical-align: top;\n",
       "    }\n",
       "\n",
       "    .dataframe thead th {\n",
       "        text-align: right;\n",
       "    }\n",
       "</style>\n",
       "<table border=\"1\" class=\"dataframe\">\n",
       "  <thead>\n",
       "    <tr style=\"text-align: right;\">\n",
       "      <th></th>\n",
       "      <th>param_classifier__n_neighbors</th>\n",
       "      <th>param_preprocessor</th>\n",
       "      <th>mean_test_score</th>\n",
       "      <th>std_test_score</th>\n",
       "    </tr>\n",
       "  </thead>\n",
       "  <tbody>\n",
       "    <tr>\n",
       "      <th>1</th>\n",
       "      <td>5</td>\n",
       "      <td>StandardScaler()</td>\n",
       "      <td>0.952198</td>\n",
       "      <td>0.039902</td>\n",
       "    </tr>\n",
       "    <tr>\n",
       "      <th>2</th>\n",
       "      <td>5</td>\n",
       "      <td>MinMaxScaler()</td>\n",
       "      <td>0.947778</td>\n",
       "      <td>0.034268</td>\n",
       "    </tr>\n",
       "    <tr>\n",
       "      <th>3</th>\n",
       "      <td>5</td>\n",
       "      <td>QuantileTransformer(n_quantiles=100)</td>\n",
       "      <td>0.947094</td>\n",
       "      <td>0.033797</td>\n",
       "    </tr>\n",
       "    <tr>\n",
       "      <th>4</th>\n",
       "      <td>5</td>\n",
       "      <td>PowerTransformer(method='box-cox')</td>\n",
       "      <td>0.946960</td>\n",
       "      <td>0.047387</td>\n",
       "    </tr>\n",
       "    <tr>\n",
       "      <th>6</th>\n",
       "      <td>51</td>\n",
       "      <td>StandardScaler()</td>\n",
       "      <td>0.941880</td>\n",
       "      <td>0.038905</td>\n",
       "    </tr>\n",
       "    <tr>\n",
       "      <th>8</th>\n",
       "      <td>51</td>\n",
       "      <td>QuantileTransformer(n_quantiles=100)</td>\n",
       "      <td>0.927277</td>\n",
       "      <td>0.043759</td>\n",
       "    </tr>\n",
       "    <tr>\n",
       "      <th>9</th>\n",
       "      <td>51</td>\n",
       "      <td>PowerTransformer(method='box-cox')</td>\n",
       "      <td>0.922833</td>\n",
       "      <td>0.047883</td>\n",
       "    </tr>\n",
       "    <tr>\n",
       "      <th>7</th>\n",
       "      <td>51</td>\n",
       "      <td>MinMaxScaler()</td>\n",
       "      <td>0.920293</td>\n",
       "      <td>0.045516</td>\n",
       "    </tr>\n",
       "    <tr>\n",
       "      <th>11</th>\n",
       "      <td>101</td>\n",
       "      <td>StandardScaler()</td>\n",
       "      <td>0.876642</td>\n",
       "      <td>0.041618</td>\n",
       "    </tr>\n",
       "    <tr>\n",
       "      <th>12</th>\n",
       "      <td>101</td>\n",
       "      <td>MinMaxScaler()</td>\n",
       "      <td>0.862357</td>\n",
       "      <td>0.046244</td>\n",
       "    </tr>\n",
       "    <tr>\n",
       "      <th>14</th>\n",
       "      <td>101</td>\n",
       "      <td>PowerTransformer(method='box-cox')</td>\n",
       "      <td>0.857143</td>\n",
       "      <td>0.041000</td>\n",
       "    </tr>\n",
       "    <tr>\n",
       "      <th>13</th>\n",
       "      <td>101</td>\n",
       "      <td>QuantileTransformer(n_quantiles=100)</td>\n",
       "      <td>0.812991</td>\n",
       "      <td>0.044788</td>\n",
       "    </tr>\n",
       "    <tr>\n",
       "      <th>0</th>\n",
       "      <td>5</td>\n",
       "      <td>None</td>\n",
       "      <td>0.739838</td>\n",
       "      <td>0.086685</td>\n",
       "    </tr>\n",
       "    <tr>\n",
       "      <th>10</th>\n",
       "      <td>101</td>\n",
       "      <td>None</td>\n",
       "      <td>0.613857</td>\n",
       "      <td>0.031472</td>\n",
       "    </tr>\n",
       "    <tr>\n",
       "      <th>5</th>\n",
       "      <td>51</td>\n",
       "      <td>None</td>\n",
       "      <td>0.605182</td>\n",
       "      <td>0.036480</td>\n",
       "    </tr>\n",
       "  </tbody>\n",
       "</table>\n",
       "</div>"
      ]
     },
     "metadata": {},
     "execution_count": 26
    }
   ],
   "metadata": {}
  },
  {
   "cell_type": "markdown",
   "source": [
    "Podemos observar que os melhores scores são para n_neighbors = 5, com qualquer um dos processadores. Em seguida temos n_neighbors = 51 com uma performance estatística um pouco pior, mas não exatamente muito distante.Para tais modelos temos uma média de acurácia no conjunto de testes acima de $0.92$ enquanto o melhor modelo é em torno de $0.95 \\pm 0.04$.\n",
    "\n",
    "Os modelos sem processamento (preprocessor = None) são todos abaixo de 0.75, mesmo com **n_neighbors=5**.\n",
    "\n",
    "Modelos com qualquer processamento e n_neighbors=101 estão entre [0.80, 0.88]. Estes são significante melhores do que os modelos sem processamento algum, mas piores do que os modelos com um valor de n_neighbors = 5.\n",
    "\n",
    "A principal razão que explica remover o preprocessamento leva a performance ruins é que as features de entrada tem range de valores bem diferentes qdo usam as unidades padrões (g, mm).\n",
    "\n",
    "Usualmente, setando valores grandes de n_neighbors, faz os modelos underfitting. Aqui o dado é bem estruturado tem muito pouco ruído: usando valores de n_neighbord é bom, ou melhor do que valores intermediários que não overfitting."
   ],
   "metadata": {}
  },
  {
   "cell_type": "code",
   "execution_count": null,
   "source": [],
   "outputs": [],
   "metadata": {}
  }
 ],
 "metadata": {
  "orig_nbformat": 4,
  "language_info": {
   "name": "python"
  }
 },
 "nbformat": 4,
 "nbformat_minor": 2
}