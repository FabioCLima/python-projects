{
 "cells": [
  {
   "cell_type": "markdown",
   "source": [
    "# Linear Regression em Scikit-learn\n",
    "***\n",
    "\n",
    "Quando estamos fazendo machine learning, estamos interessados em selecionar o modelo que minimiza o erro nos dados disponíveis. \n",
    "\n",
    "O problema de achar os melhores parâmetros para a combinação linear que representa o modelo com o menor erro possível. A achar a forma fechada da solução que minimiza o erro, é implementada no Scikit-learn."
   ],
   "metadata": {}
  },
  {
   "cell_type": "markdown",
   "source": [
    "## Problema:\n",
    "***\n",
    "\n",
    "Treinar um modelo que representa a relação linear entre features e vetor alvo (target)."
   ],
   "metadata": {}
  },
  {
   "cell_type": "code",
   "execution_count": 1,
   "source": [
    "import pandas as pd\n",
    "\n",
    "penguins = pd.read_csv(\"penguins_regression.csv\")\n",
    "feature_names = \"Flipper Length (mm)\"\n",
    "target_name = \"Body Mass (g)\"\n",
    "data, target = penguins[[feature_names]], penguins[target_name]\n",
    "\n",
    "data.head()"
   ],
   "outputs": [
    {
     "output_type": "execute_result",
     "data": {
      "text/plain": [
       "   Flipper Length (mm)\n",
       "0                181.0\n",
       "1                186.0\n",
       "2                195.0\n",
       "3                193.0\n",
       "4                190.0"
      ],
      "text/html": [
       "<div>\n",
       "<style scoped>\n",
       "    .dataframe tbody tr th:only-of-type {\n",
       "        vertical-align: middle;\n",
       "    }\n",
       "\n",
       "    .dataframe tbody tr th {\n",
       "        vertical-align: top;\n",
       "    }\n",
       "\n",
       "    .dataframe thead th {\n",
       "        text-align: right;\n",
       "    }\n",
       "</style>\n",
       "<table border=\"1\" class=\"dataframe\">\n",
       "  <thead>\n",
       "    <tr style=\"text-align: right;\">\n",
       "      <th></th>\n",
       "      <th>Flipper Length (mm)</th>\n",
       "    </tr>\n",
       "  </thead>\n",
       "  <tbody>\n",
       "    <tr>\n",
       "      <th>0</th>\n",
       "      <td>181.0</td>\n",
       "    </tr>\n",
       "    <tr>\n",
       "      <th>1</th>\n",
       "      <td>186.0</td>\n",
       "    </tr>\n",
       "    <tr>\n",
       "      <th>2</th>\n",
       "      <td>195.0</td>\n",
       "    </tr>\n",
       "    <tr>\n",
       "      <th>3</th>\n",
       "      <td>193.0</td>\n",
       "    </tr>\n",
       "    <tr>\n",
       "      <th>4</th>\n",
       "      <td>190.0</td>\n",
       "    </tr>\n",
       "  </tbody>\n",
       "</table>\n",
       "</div>"
      ]
     },
     "metadata": {},
     "execution_count": 1
    }
   ],
   "metadata": {}
  },
  {
   "cell_type": "code",
   "execution_count": 2,
   "source": [
    "from sklearn.linear_model import LinearRegression\n",
    "\n",
    "linear_regression = LinearRegression()\n",
    "linear_regression.fit(data, target)"
   ],
   "outputs": [
    {
     "output_type": "execute_result",
     "data": {
      "text/plain": [
       "LinearRegression()"
      ]
     },
     "metadata": {},
     "execution_count": 2
    }
   ],
   "metadata": {}
  },
  {
   "cell_type": "code",
   "execution_count": 3,
   "source": [
    "model = linear_regression\n",
    "print(\"Os parâmetros do modelo são:\")\n",
    "for parameter in model.get_params():\n",
    "    print(f\"{parameter}\")"
   ],
   "outputs": [
    {
     "output_type": "stream",
     "name": "stdout",
     "text": [
      "Os parâmetros do modelo são:\n",
      "copy_X\n",
      "fit_intercept\n",
      "n_jobs\n",
      "normalize\n",
      "positive\n"
     ]
    }
   ],
   "metadata": {}
  },
  {
   "cell_type": "markdown",
   "source": [
    "A instância da classe linear_regression irá gravar os valores nos atributos coef_ e intercept_. Podemos checar os valores ótimos do modelo encontrado, usando:"
   ],
   "metadata": {}
  },
  {
   "cell_type": "markdown",
   "source": [
    "$y = ax + b$\n",
    "* a = linear_regression_[0] # se tiver mais features será um vetor = data.shape[1]\n",
    "* b = linear_regression.intercept_"
   ],
   "metadata": {}
  },
  {
   "cell_type": "code",
   "execution_count": 4,
   "source": [
    "# peso do coeficiente \n",
    "weight_flipper_length = linear_regression.coef_[0]\n",
    "weight_flipper_length"
   ],
   "outputs": [
    {
     "output_type": "execute_result",
     "data": {
      "text/plain": [
       "49.68556640610011"
      ]
     },
     "metadata": {},
     "execution_count": 4
    }
   ],
   "metadata": {}
  },
  {
   "cell_type": "code",
   "execution_count": 5,
   "source": [
    "# intercept ou bias \n",
    "intercept_body_mass = linear_regression.intercept_\n",
    "intercept_body_mass"
   ],
   "outputs": [
    {
     "output_type": "execute_result",
     "data": {
      "text/plain": [
       "-5780.831358077066"
      ]
     },
     "metadata": {},
     "execution_count": 5
    }
   ],
   "metadata": {}
  },
  {
   "cell_type": "markdown",
   "source": [
    "A regressão linear assume que a relação entre as features, e a variável target é aproximadamente linear. Isto é o efeito dos coeficientes (pesos ou parâmetros) das features no vetor target é constante. "
   ],
   "metadata": {}
  },
  {
   "cell_type": "code",
   "execution_count": 6,
   "source": [
    "import numpy as np\n",
    "\n",
    "flipper_length_range = np.linspace(data.min(), data.max(), num=300)\n",
    "predicted_body_mass = (\n",
    "    weight_flipper_length * flipper_length_range + intercept_body_mass)"
   ],
   "outputs": [],
   "metadata": {}
  },
  {
   "cell_type": "code",
   "execution_count": 7,
   "source": [
    "import matplotlib.pyplot as plt\n",
    "import seaborn as sns\n",
    "\n",
    "sns.scatterplot(x=data[feature_names], y=target, color=\"black\", alpha=0.5)\n",
    "plt.plot(flipper_length_range, predicted_body_mass)\n",
    "_ = plt.title(\"Modelo usando LinearRegression do scikit-learn\")"
   ],
   "outputs": [
    {
     "output_type": "display_data",
     "data": {
      "text/plain": [
       "<Figure size 432x288 with 1 Axes>"
      ],
      "image/png": "[encoded data removed]"
     },
     "metadata": {
      "needs_background": "light"
     }
    }
   ],
   "metadata": {}
  },
  {
   "cell_type": "code",
   "execution_count": 8,
   "source": [
    "from sklearn.metrics import mean_squared_error\n",
    "\n",
    "inferred_body_mass = linear_regression.predict(data)\n",
    "model_error = mean_squared_error(target, inferred_body_mass)\n",
    "print(f\"O erro quadrático médio do modelo otimizado é {model_error:.2f}\")"
   ],
   "outputs": [
    {
     "output_type": "stream",
     "name": "stdout",
     "text": [
      "O erro quadrático médio do modelo otimizado é 154546.19\n"
     ]
    }
   ],
   "metadata": {}
  },
  {
   "cell_type": "markdown",
   "source": [
    "Um modelo de regressão linear minimiza o erro médio quadrático no conjunto de treinamento. Isto significa que os parâmetros obtidos após o fit(isto é: coef_ e o intercept_) são parâmetros otimizados que minimizam o erro médio quadrático. Em outras palavras, qualquer outra escolha para os coeficientes para o modelo irá resultar em um erro maior no conjunto de treinamento. Contudo essa métrica é um pouco complicada de interpretar."
   ],
   "metadata": {}
  },
  {
   "cell_type": "code",
   "execution_count": 9,
   "source": [
    "from sklearn.metrics import mean_absolute_error\n",
    "\n",
    "model_error = mean_absolute_error(target, inferred_body_mass)\n",
    "print(f\"A média absoluta do erro do modelo otimizado é: {model_error:.2f} g\")"
   ],
   "outputs": [
    {
     "output_type": "stream",
     "name": "stdout",
     "text": [
      "A média absoluta do erro do modelo otimizado é: 313.00 g\n"
     ]
    }
   ],
   "metadata": {}
  },
  {
   "cell_type": "markdown",
   "source": [
    "A média absoluta do erro de 313 gramas significa que em média, o nosso modelo erra por $\\pm 313$ g a massa do penguim, dado que o tamanho do seu flipper."
   ],
   "metadata": {}
  }
 ],
 "metadata": {
  "orig_nbformat": 4,
  "language_info": {
   "name": "python"
  }
 },
 "nbformat": 4,
 "nbformat_minor": 2
}