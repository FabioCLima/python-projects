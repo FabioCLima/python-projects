{
 "cells": [
  {
   "cell_type": "markdown",
   "source": [
    "# Modelo preditivo\n",
    "***\n",
    "\n",
    "Neste dataset, o objetivo é prever o valor da mediana dos preços da casa na área de California. As features coletadas se baseam no estado real e informação geográfica.\n",
    "\n",
    "Como o objetivo é prever um valor contínuo, esta tarefa é de regressão."
   ],
   "metadata": {}
  },
  {
   "cell_type": "code",
   "execution_count": 1,
   "source": [
    "from sklearn.datasets import fetch_california_housing\n",
    "\n",
    "housing = fetch_california_housing(as_frame=True)\n",
    "data, target = housing.data, housing.target"
   ],
   "outputs": [],
   "metadata": {}
  },
  {
   "cell_type": "code",
   "execution_count": 2,
   "source": [
    "print(housing.DESCR)"
   ],
   "outputs": [
    {
     "output_type": "stream",
     "name": "stdout",
     "text": [
      ".. _california_housing_dataset:\n",
      "\n",
      "California Housing dataset\n",
      "--------------------------\n",
      "\n",
      "**Data Set Characteristics:**\n",
      "\n",
      "    :Number of Instances: 20640\n",
      "\n",
      "    :Number of Attributes: 8 numeric, predictive attributes and the target\n",
      "\n",
      "    :Attribute Information:\n",
      "        - MedInc        median income in block\n",
      "        - HouseAge      median house age in block\n",
      "        - AveRooms      average number of rooms\n",
      "        - AveBedrms     average number of bedrooms\n",
      "        - Population    block population\n",
      "        - AveOccup      average house occupancy\n",
      "        - Latitude      house block latitude\n",
      "        - Longitude     house block longitude\n",
      "\n",
      "    :Missing Attribute Values: None\n",
      "\n",
      "This dataset was obtained from the StatLib repository.\n",
      "http://lib.stat.cmu.edu/datasets/\n",
      "\n",
      "The target variable is the median house value for California districts.\n",
      "\n",
      "This dataset was derived from the 1990 U.S. census, using one row per census\n",
      "block group. A block group is the smallest geographical unit for which the U.S.\n",
      "Census Bureau publishes sample data (a block group typically has a population\n",
      "of 600 to 3,000 people).\n",
      "\n",
      "It can be downloaded/loaded using the\n",
      ":func:`sklearn.datasets.fetch_california_housing` function.\n",
      "\n",
      ".. topic:: References\n",
      "\n",
      "    - Pace, R. Kelley and Ronald Barry, Sparse Spatial Autoregressions,\n",
      "      Statistics and Probability Letters, 33 (1997) 291-297\n",
      "\n"
     ]
    }
   ],
   "metadata": {}
  },
  {
   "cell_type": "code",
   "execution_count": 3,
   "source": [
    "data.head()"
   ],
   "outputs": [
    {
     "output_type": "execute_result",
     "data": {
      "text/plain": [
       "   MedInc  HouseAge  AveRooms  AveBedrms  Population  AveOccup  Latitude  \\\n",
       "0  8.3252      41.0  6.984127   1.023810       322.0  2.555556     37.88   \n",
       "1  8.3014      21.0  6.238137   0.971880      2401.0  2.109842     37.86   \n",
       "2  7.2574      52.0  8.288136   1.073446       496.0  2.802260     37.85   \n",
       "3  5.6431      52.0  5.817352   1.073059       558.0  2.547945     37.85   \n",
       "4  3.8462      52.0  6.281853   1.081081       565.0  2.181467     37.85   \n",
       "\n",
       "   Longitude  \n",
       "0    -122.23  \n",
       "1    -122.22  \n",
       "2    -122.24  \n",
       "3    -122.25  \n",
       "4    -122.25  "
      ],
      "text/html": [
       "<div>\n",
       "<style scoped>\n",
       "    .dataframe tbody tr th:only-of-type {\n",
       "        vertical-align: middle;\n",
       "    }\n",
       "\n",
       "    .dataframe tbody tr th {\n",
       "        vertical-align: top;\n",
       "    }\n",
       "\n",
       "    .dataframe thead th {\n",
       "        text-align: right;\n",
       "    }\n",
       "</style>\n",
       "<table border=\"1\" class=\"dataframe\">\n",
       "  <thead>\n",
       "    <tr style=\"text-align: right;\">\n",
       "      <th></th>\n",
       "      <th>MedInc</th>\n",
       "      <th>HouseAge</th>\n",
       "      <th>AveRooms</th>\n",
       "      <th>AveBedrms</th>\n",
       "      <th>Population</th>\n",
       "      <th>AveOccup</th>\n",
       "      <th>Latitude</th>\n",
       "      <th>Longitude</th>\n",
       "    </tr>\n",
       "  </thead>\n",
       "  <tbody>\n",
       "    <tr>\n",
       "      <th>0</th>\n",
       "      <td>8.3252</td>\n",
       "      <td>41.0</td>\n",
       "      <td>6.984127</td>\n",
       "      <td>1.023810</td>\n",
       "      <td>322.0</td>\n",
       "      <td>2.555556</td>\n",
       "      <td>37.88</td>\n",
       "      <td>-122.23</td>\n",
       "    </tr>\n",
       "    <tr>\n",
       "      <th>1</th>\n",
       "      <td>8.3014</td>\n",
       "      <td>21.0</td>\n",
       "      <td>6.238137</td>\n",
       "      <td>0.971880</td>\n",
       "      <td>2401.0</td>\n",
       "      <td>2.109842</td>\n",
       "      <td>37.86</td>\n",
       "      <td>-122.22</td>\n",
       "    </tr>\n",
       "    <tr>\n",
       "      <th>2</th>\n",
       "      <td>7.2574</td>\n",
       "      <td>52.0</td>\n",
       "      <td>8.288136</td>\n",
       "      <td>1.073446</td>\n",
       "      <td>496.0</td>\n",
       "      <td>2.802260</td>\n",
       "      <td>37.85</td>\n",
       "      <td>-122.24</td>\n",
       "    </tr>\n",
       "    <tr>\n",
       "      <th>3</th>\n",
       "      <td>5.6431</td>\n",
       "      <td>52.0</td>\n",
       "      <td>5.817352</td>\n",
       "      <td>1.073059</td>\n",
       "      <td>558.0</td>\n",
       "      <td>2.547945</td>\n",
       "      <td>37.85</td>\n",
       "      <td>-122.25</td>\n",
       "    </tr>\n",
       "    <tr>\n",
       "      <th>4</th>\n",
       "      <td>3.8462</td>\n",
       "      <td>52.0</td>\n",
       "      <td>6.281853</td>\n",
       "      <td>1.081081</td>\n",
       "      <td>565.0</td>\n",
       "      <td>2.181467</td>\n",
       "      <td>37.85</td>\n",
       "      <td>-122.25</td>\n",
       "    </tr>\n",
       "  </tbody>\n",
       "</table>\n",
       "</div>"
      ]
     },
     "metadata": {},
     "execution_count": 3
    }
   ],
   "metadata": {}
  },
  {
   "cell_type": "markdown",
   "source": [
    "Para facilitar futura visualização, vamos transformar os preços de dólar($) para (k$)."
   ],
   "metadata": {}
  },
  {
   "cell_type": "code",
   "execution_count": 4,
   "source": [
    "target *= 100\n",
    "target.head()"
   ],
   "outputs": [
    {
     "output_type": "execute_result",
     "data": {
      "text/plain": [
       "0    452.6\n",
       "1    358.5\n",
       "2    352.1\n",
       "3    341.3\n",
       "4    342.2\n",
       "Name: MedHouseVal, dtype: float64"
      ]
     },
     "metadata": {},
     "execution_count": 4
    }
   ],
   "metadata": {}
  },
  {
   "cell_type": "markdown",
   "source": [
    "## Erro de treinamento vs erro de teste."
   ],
   "metadata": {}
  },
  {
   "cell_type": "code",
   "execution_count": 5,
   "source": [
    "from sklearn.tree import DecisionTreeRegressor\n",
    "from sklearn import set_config\n",
    "set_config(display='diagram')\n",
    "\n",
    "tree_reg = DecisionTreeRegressor(random_state=0)\n",
    "tree_reg.fit(data, target)"
   ],
   "outputs": [
    {
     "output_type": "execute_result",
     "data": {
      "text/plain": [
       "DecisionTreeRegressor(random_state=0)"
      ],
      "text/html": [
       "<style>#sk-07682975-55a0-4ce2-b8fc-b9152298b5c8 {color: black;background-color: white;}#sk-07682975-55a0-4ce2-b8fc-b9152298b5c8 pre{padding: 0;}#sk-07682975-55a0-4ce2-b8fc-b9152298b5c8 div.sk-toggleable {background-color: white;}#sk-07682975-55a0-4ce2-b8fc-b9152298b5c8 label.sk-toggleable__label {cursor: pointer;display: block;width: 100%;margin-bottom: 0;padding: 0.2em 0.3em;box-sizing: border-box;text-align: center;}#sk-07682975-55a0-4ce2-b8fc-b9152298b5c8 div.sk-toggleable__content {max-height: 0;max-width: 0;overflow: hidden;text-align: left;background-color: #f0f8ff;}#sk-07682975-55a0-4ce2-b8fc-b9152298b5c8 div.sk-toggleable__content pre {margin: 0.2em;color: black;border-radius: 0.25em;background-color: #f0f8ff;}#sk-07682975-55a0-4ce2-b8fc-b9152298b5c8 input.sk-toggleable__control:checked~div.sk-toggleable__content {max-height: 200px;max-width: 100%;overflow: auto;}#sk-07682975-55a0-4ce2-b8fc-b9152298b5c8 div.sk-estimator input.sk-toggleable__control:checked~label.sk-toggleable__label {background-color: #d4ebff;}#sk-07682975-55a0-4ce2-b8fc-b9152298b5c8 div.sk-label input.sk-toggleable__control:checked~label.sk-toggleable__label {background-color: #d4ebff;}#sk-07682975-55a0-4ce2-b8fc-b9152298b5c8 input.sk-hidden--visually {border: 0;clip: rect(1px 1px 1px 1px);clip: rect(1px, 1px, 1px, 1px);height: 1px;margin: -1px;overflow: hidden;padding: 0;position: absolute;width: 1px;}#sk-07682975-55a0-4ce2-b8fc-b9152298b5c8 div.sk-estimator {font-family: monospace;background-color: #f0f8ff;margin: 0.25em 0.25em;border: 1px dotted black;border-radius: 0.25em;box-sizing: border-box;}#sk-07682975-55a0-4ce2-b8fc-b9152298b5c8 div.sk-estimator:hover {background-color: #d4ebff;}#sk-07682975-55a0-4ce2-b8fc-b9152298b5c8 div.sk-parallel-item::after {content: \"\";width: 100%;border-bottom: 1px solid gray;flex-grow: 1;}#sk-07682975-55a0-4ce2-b8fc-b9152298b5c8 div.sk-label:hover label.sk-toggleable__label {background-color: #d4ebff;}#sk-07682975-55a0-4ce2-b8fc-b9152298b5c8 div.sk-serial::before {content: \"\";position: absolute;border-left: 1px solid gray;box-sizing: border-box;top: 2em;bottom: 0;left: 50%;}#sk-07682975-55a0-4ce2-b8fc-b9152298b5c8 div.sk-serial {display: flex;flex-direction: column;align-items: center;background-color: white;}#sk-07682975-55a0-4ce2-b8fc-b9152298b5c8 div.sk-item {z-index: 1;}#sk-07682975-55a0-4ce2-b8fc-b9152298b5c8 div.sk-parallel {display: flex;align-items: stretch;justify-content: center;background-color: white;}#sk-07682975-55a0-4ce2-b8fc-b9152298b5c8 div.sk-parallel-item {display: flex;flex-direction: column;position: relative;background-color: white;}#sk-07682975-55a0-4ce2-b8fc-b9152298b5c8 div.sk-parallel-item:first-child::after {align-self: flex-end;width: 50%;}#sk-07682975-55a0-4ce2-b8fc-b9152298b5c8 div.sk-parallel-item:last-child::after {align-self: flex-start;width: 50%;}#sk-07682975-55a0-4ce2-b8fc-b9152298b5c8 div.sk-parallel-item:only-child::after {width: 0;}#sk-07682975-55a0-4ce2-b8fc-b9152298b5c8 div.sk-dashed-wrapped {border: 1px dashed gray;margin: 0.2em;box-sizing: border-box;padding-bottom: 0.1em;background-color: white;position: relative;}#sk-07682975-55a0-4ce2-b8fc-b9152298b5c8 div.sk-label label {font-family: monospace;font-weight: bold;background-color: white;display: inline-block;line-height: 1.2em;}#sk-07682975-55a0-4ce2-b8fc-b9152298b5c8 div.sk-label-container {position: relative;z-index: 2;text-align: center;}#sk-07682975-55a0-4ce2-b8fc-b9152298b5c8 div.sk-container {display: inline-block;position: relative;}</style><div id=\"sk-07682975-55a0-4ce2-b8fc-b9152298b5c8\" class\"sk-top-container\"><div class=\"sk-container\"><div class=\"sk-item\"><div class=\"sk-estimator sk-toggleable\"><input class=\"sk-toggleable__control sk-hidden--visually\" id=\"401160f5-57c1-4e4b-81cc-e95eb15d3d1f\" type=\"checkbox\" checked><label class=\"sk-toggleable__label\" for=\"401160f5-57c1-4e4b-81cc-e95eb15d3d1f\">DecisionTreeRegressor</label><div class=\"sk-toggleable__content\"><pre>DecisionTreeRegressor(random_state=0)</pre></div></div></div></div></div>"
      ]
     },
     "metadata": {},
     "execution_count": 5
    }
   ],
   "metadata": {}
  },
  {
   "cell_type": "markdown",
   "source": [
    "Depois de treinar o modelo, queremos avaliar a performance estatística antes de colocar o modelo em produção. Para isso vamos usar a métrica **mean absolute error**, que nos dá o erro na unidade nativa do variável target, que aqui será (k$).\n",
    "*erro médio absoluto expressa o erro de previsão médio absoluto do modelo. Se quisermos ignorar os outliers, é uma boa métrica para ser usada."
   ],
   "metadata": {}
  },
  {
   "cell_type": "code",
   "execution_count": 6,
   "source": [
    "from sklearn.metrics import mean_absolute_error\n",
    "\n",
    "target_predicted = tree_reg.predict(data)\n",
    "score = mean_absolute_error(target, target_predicted)\n",
    "print(f\"Na média, nosso regressor erra por {score:.2f} k$\")"
   ],
   "outputs": [
    {
     "output_type": "stream",
     "name": "stdout",
     "text": [
      "Na média, nosso regressor erra por 0.00 k$\n"
     ]
    }
   ],
   "metadata": {}
  },
  {
   "cell_type": "markdown",
   "source": [
    "O erro computado acima é chamado de erro empirico ou erro de treinamento.\n",
    "\n",
    "Nos treinamos um modelo preditivo para minimizar o erro de treinamento, mas nosso objetivo é minimizar o erro nos dados não vistos na etapa de treinamento.\n",
    "\n",
    "Esse erro é chamado de erro de generalização ou \"true\" **erro de teste**."
   ],
   "metadata": {}
  },
  {
   "cell_type": "markdown",
   "source": [
    "### Avaliação de modelo envolve(steps):\n",
    "***\n",
    "\n",
    "* dividir o dataset em 2 subsets: conj. treinamento e conj. teste\n",
    "* treinar o modelo no conjunto de treinamento.\n",
    "* estimação do erro de treinamento calculado no conjunto de treinamento.\n",
    "* estimação do erro de teste calculado no conjunto de teste"
   ],
   "metadata": {}
  },
  {
   "cell_type": "markdown",
   "source": [
    "Dividir os dados em treinamento e teste:"
   ],
   "metadata": {}
  },
  {
   "cell_type": "code",
   "execution_count": 7,
   "source": [
    "from sklearn.model_selection import train_test_split\n",
    "data_train, data_test, target_train, target_test = train_test_split(data, target, random_state = 0)"
   ],
   "outputs": [],
   "metadata": {}
  },
  {
   "cell_type": "code",
   "execution_count": 8,
   "source": [
    "tree_reg.fit(data_train, target_train)\n",
    "tree_reg"
   ],
   "outputs": [
    {
     "output_type": "execute_result",
     "data": {
      "text/plain": [
       "DecisionTreeRegressor(random_state=0)"
      ],
      "text/html": [
       "<style>#sk-4aa63430-4bea-480e-bd20-22f24e81fb27 {color: black;background-color: white;}#sk-4aa63430-4bea-480e-bd20-22f24e81fb27 pre{padding: 0;}#sk-4aa63430-4bea-480e-bd20-22f24e81fb27 div.sk-toggleable {background-color: white;}#sk-4aa63430-4bea-480e-bd20-22f24e81fb27 label.sk-toggleable__label {cursor: pointer;display: block;width: 100%;margin-bottom: 0;padding: 0.2em 0.3em;box-sizing: border-box;text-align: center;}#sk-4aa63430-4bea-480e-bd20-22f24e81fb27 div.sk-toggleable__content {max-height: 0;max-width: 0;overflow: hidden;text-align: left;background-color: #f0f8ff;}#sk-4aa63430-4bea-480e-bd20-22f24e81fb27 div.sk-toggleable__content pre {margin: 0.2em;color: black;border-radius: 0.25em;background-color: #f0f8ff;}#sk-4aa63430-4bea-480e-bd20-22f24e81fb27 input.sk-toggleable__control:checked~div.sk-toggleable__content {max-height: 200px;max-width: 100%;overflow: auto;}#sk-4aa63430-4bea-480e-bd20-22f24e81fb27 div.sk-estimator input.sk-toggleable__control:checked~label.sk-toggleable__label {background-color: #d4ebff;}#sk-4aa63430-4bea-480e-bd20-22f24e81fb27 div.sk-label input.sk-toggleable__control:checked~label.sk-toggleable__label {background-color: #d4ebff;}#sk-4aa63430-4bea-480e-bd20-22f24e81fb27 input.sk-hidden--visually {border: 0;clip: rect(1px 1px 1px 1px);clip: rect(1px, 1px, 1px, 1px);height: 1px;margin: -1px;overflow: hidden;padding: 0;position: absolute;width: 1px;}#sk-4aa63430-4bea-480e-bd20-22f24e81fb27 div.sk-estimator {font-family: monospace;background-color: #f0f8ff;margin: 0.25em 0.25em;border: 1px dotted black;border-radius: 0.25em;box-sizing: border-box;}#sk-4aa63430-4bea-480e-bd20-22f24e81fb27 div.sk-estimator:hover {background-color: #d4ebff;}#sk-4aa63430-4bea-480e-bd20-22f24e81fb27 div.sk-parallel-item::after {content: \"\";width: 100%;border-bottom: 1px solid gray;flex-grow: 1;}#sk-4aa63430-4bea-480e-bd20-22f24e81fb27 div.sk-label:hover label.sk-toggleable__label {background-color: #d4ebff;}#sk-4aa63430-4bea-480e-bd20-22f24e81fb27 div.sk-serial::before {content: \"\";position: absolute;border-left: 1px solid gray;box-sizing: border-box;top: 2em;bottom: 0;left: 50%;}#sk-4aa63430-4bea-480e-bd20-22f24e81fb27 div.sk-serial {display: flex;flex-direction: column;align-items: center;background-color: white;}#sk-4aa63430-4bea-480e-bd20-22f24e81fb27 div.sk-item {z-index: 1;}#sk-4aa63430-4bea-480e-bd20-22f24e81fb27 div.sk-parallel {display: flex;align-items: stretch;justify-content: center;background-color: white;}#sk-4aa63430-4bea-480e-bd20-22f24e81fb27 div.sk-parallel-item {display: flex;flex-direction: column;position: relative;background-color: white;}#sk-4aa63430-4bea-480e-bd20-22f24e81fb27 div.sk-parallel-item:first-child::after {align-self: flex-end;width: 50%;}#sk-4aa63430-4bea-480e-bd20-22f24e81fb27 div.sk-parallel-item:last-child::after {align-self: flex-start;width: 50%;}#sk-4aa63430-4bea-480e-bd20-22f24e81fb27 div.sk-parallel-item:only-child::after {width: 0;}#sk-4aa63430-4bea-480e-bd20-22f24e81fb27 div.sk-dashed-wrapped {border: 1px dashed gray;margin: 0.2em;box-sizing: border-box;padding-bottom: 0.1em;background-color: white;position: relative;}#sk-4aa63430-4bea-480e-bd20-22f24e81fb27 div.sk-label label {font-family: monospace;font-weight: bold;background-color: white;display: inline-block;line-height: 1.2em;}#sk-4aa63430-4bea-480e-bd20-22f24e81fb27 div.sk-label-container {position: relative;z-index: 2;text-align: center;}#sk-4aa63430-4bea-480e-bd20-22f24e81fb27 div.sk-container {display: inline-block;position: relative;}</style><div id=\"sk-4aa63430-4bea-480e-bd20-22f24e81fb27\" class\"sk-top-container\"><div class=\"sk-container\"><div class=\"sk-item\"><div class=\"sk-estimator sk-toggleable\"><input class=\"sk-toggleable__control sk-hidden--visually\" id=\"7c9c07ae-e649-4be0-8666-d7e084216d35\" type=\"checkbox\" checked><label class=\"sk-toggleable__label\" for=\"7c9c07ae-e649-4be0-8666-d7e084216d35\">DecisionTreeRegressor</label><div class=\"sk-toggleable__content\"><pre>DecisionTreeRegressor(random_state=0)</pre></div></div></div></div></div>"
      ]
     },
     "metadata": {},
     "execution_count": 8
    }
   ],
   "metadata": {}
  },
  {
   "cell_type": "code",
   "execution_count": 10,
   "source": [
    "target_predicted = tree_reg.predict(data_train)\n",
    "score = mean_absolute_error(target_train, target_predicted)\n",
    "print(f\"O erro de treinamento do nosso modelo é: {score:.2f} k$\")"
   ],
   "outputs": [
    {
     "output_type": "stream",
     "name": "stdout",
     "text": [
      "O erro de treinamento do nosso modelo é: 0.00 k$\n"
     ]
    }
   ],
   "metadata": {}
  },
  {
   "cell_type": "markdown",
   "source": [
    "Observamos a mesma solução anterior, o que indica que nosso modelo memorizou os dados. Vamos computar o erro de teste para ver o que obtemos."
   ],
   "metadata": {}
  },
  {
   "cell_type": "code",
   "execution_count": 11,
   "source": [
    "target_predicted = tree_reg.predict(data_test)\n",
    "score = mean_absolute_error(target_test, target_predicted)\n",
    "print(f\"O erro de teste do nosso modelo é: {score:.2f} k$\")"
   ],
   "outputs": [
    {
     "output_type": "stream",
     "name": "stdout",
     "text": [
      "O erro de teste do nosso modelo é: 47.28 k$\n"
     ]
    }
   ],
   "metadata": {}
  },
  {
   "cell_type": "markdown",
   "source": [
    "O erro com respeito ao conjunto de teste é o que esperaríamos do nosso modelo em um ambiente de produção."
   ],
   "metadata": {}
  },
  {
   "cell_type": "markdown",
   "source": [
    "### Estabilidade da validação cruzada\n",
    "***\n",
    "\n",
    "Quando executamos uma simples divisão train-test nós não temos nenhuma indicação com respeito a robustez da avaliação do nosso modelo preditivo: em particular, se o conjunto de teste é pequeno, a estimação do erro de teste será instável e não refletirá a verdadeira taxa de erro que poderia ser observado com o mesmo modelo em uma quantidade ilimitada de dados para teste.\n",
    "\n",
    "Ou poderíamos ter sorte e na nossa divisão aleatória do nosso dataset limitado, e conseguirmos somente casos simples para prever no conjunto de teste, apenas por chance. A estimação do erro não refletiria  a realidade e seria otimista.\n",
    "\n",
    "**Cross-validation** permitir estimar a robustez do modelo preditivo repetindo o procedimento de divisão. Isso daria muitos conjuntos de treinamento/teste para avaliar os erros associados e então teríamos como estimar a variabilidade da performance estatística do nosso modelo."
   ],
   "metadata": {}
  },
  {
   "cell_type": "code",
   "execution_count": 12,
   "source": [
    "from sklearn.model_selection import cross_validate\n",
    "from sklearn.model_selection import ShuffleSplit\n",
    "\n",
    "cv = ShuffleSplit(n_splits=40, test_size=0.3, random_state=0)\n",
    "cv_results = cross_validate(\n",
    "    tree_reg, data, target, cv=cv, scoring=\"neg_mean_absolute_error\")"
   ],
   "outputs": [],
   "metadata": {}
  },
  {
   "cell_type": "code",
   "execution_count": 14,
   "source": [
    "import pandas as pd\n",
    "\n",
    "cv_results = pd.DataFrame(cv_results)\n",
    "cv_results.head()"
   ],
   "outputs": [
    {
     "output_type": "execute_result",
     "data": {
      "text/plain": [
       "   fit_time  score_time  test_score\n",
       "0  0.192168    0.004492  -46.909797\n",
       "1  0.159771    0.006127  -46.421170\n",
       "2  0.172655    0.005598  -47.411089\n",
       "3  0.178934    0.005662  -44.319824\n",
       "4  0.173069    0.004647  -47.607875"
      ],
      "text/html": [
       "<div>\n",
       "<style scoped>\n",
       "    .dataframe tbody tr th:only-of-type {\n",
       "        vertical-align: middle;\n",
       "    }\n",
       "\n",
       "    .dataframe tbody tr th {\n",
       "        vertical-align: top;\n",
       "    }\n",
       "\n",
       "    .dataframe thead th {\n",
       "        text-align: right;\n",
       "    }\n",
       "</style>\n",
       "<table border=\"1\" class=\"dataframe\">\n",
       "  <thead>\n",
       "    <tr style=\"text-align: right;\">\n",
       "      <th></th>\n",
       "      <th>fit_time</th>\n",
       "      <th>score_time</th>\n",
       "      <th>test_score</th>\n",
       "    </tr>\n",
       "  </thead>\n",
       "  <tbody>\n",
       "    <tr>\n",
       "      <th>0</th>\n",
       "      <td>0.192168</td>\n",
       "      <td>0.004492</td>\n",
       "      <td>-46.909797</td>\n",
       "    </tr>\n",
       "    <tr>\n",
       "      <th>1</th>\n",
       "      <td>0.159771</td>\n",
       "      <td>0.006127</td>\n",
       "      <td>-46.421170</td>\n",
       "    </tr>\n",
       "    <tr>\n",
       "      <th>2</th>\n",
       "      <td>0.172655</td>\n",
       "      <td>0.005598</td>\n",
       "      <td>-47.411089</td>\n",
       "    </tr>\n",
       "    <tr>\n",
       "      <th>3</th>\n",
       "      <td>0.178934</td>\n",
       "      <td>0.005662</td>\n",
       "      <td>-44.319824</td>\n",
       "    </tr>\n",
       "    <tr>\n",
       "      <th>4</th>\n",
       "      <td>0.173069</td>\n",
       "      <td>0.004647</td>\n",
       "      <td>-47.607875</td>\n",
       "    </tr>\n",
       "  </tbody>\n",
       "</table>\n",
       "</div>"
      ]
     },
     "metadata": {},
     "execution_count": 14
    }
   ],
   "metadata": {}
  },
  {
   "cell_type": "markdown",
   "source": [
    "Uma pontuação(score) é uma métrica para a qual valores mais altos significam melhores resultados. Pelo contrário, um erro é uma métrica para a qual valores mais baixos significam melhores resultados. A pontuação de parâmetro em cross_validate sempre espera uma função que seja uma pontuação.\n",
    "\n",
    "Para facilitar, todas as métricas de erro no scikit-learn, como mean_absolute_error, podem ser transformadas em uma pontuação a ser usada em cross_validate. Para fazer isso, você precisa passar uma string da métrica de erro com uma string neg_ adicional na frente para a pontuação do parâmetro; por exemplo scoring = \"neg_mean_absolute_error\". Neste caso, o negativo do erro absoluto médio será calculado, o que seria equivalente a uma pontuação."
   ],
   "metadata": {}
  },
  {
   "cell_type": "markdown",
   "source": [
    "Vamos reverter a negação para pegar o erro atual."
   ],
   "metadata": {}
  },
  {
   "cell_type": "code",
   "execution_count": 15,
   "source": [
    "cv_results['test_error'] = -cv_results['test_score']\n",
    "cv_results.head()"
   ],
   "outputs": [
    {
     "output_type": "execute_result",
     "data": {
      "text/plain": [
       "   fit_time  score_time  test_score  test_error\n",
       "0  0.192168    0.004492  -46.909797   46.909797\n",
       "1  0.159771    0.006127  -46.421170   46.421170\n",
       "2  0.172655    0.005598  -47.411089   47.411089\n",
       "3  0.178934    0.005662  -44.319824   44.319824\n",
       "4  0.173069    0.004647  -47.607875   47.607875"
      ],
      "text/html": [
       "<div>\n",
       "<style scoped>\n",
       "    .dataframe tbody tr th:only-of-type {\n",
       "        vertical-align: middle;\n",
       "    }\n",
       "\n",
       "    .dataframe tbody tr th {\n",
       "        vertical-align: top;\n",
       "    }\n",
       "\n",
       "    .dataframe thead th {\n",
       "        text-align: right;\n",
       "    }\n",
       "</style>\n",
       "<table border=\"1\" class=\"dataframe\">\n",
       "  <thead>\n",
       "    <tr style=\"text-align: right;\">\n",
       "      <th></th>\n",
       "      <th>fit_time</th>\n",
       "      <th>score_time</th>\n",
       "      <th>test_score</th>\n",
       "      <th>test_error</th>\n",
       "    </tr>\n",
       "  </thead>\n",
       "  <tbody>\n",
       "    <tr>\n",
       "      <th>0</th>\n",
       "      <td>0.192168</td>\n",
       "      <td>0.004492</td>\n",
       "      <td>-46.909797</td>\n",
       "      <td>46.909797</td>\n",
       "    </tr>\n",
       "    <tr>\n",
       "      <th>1</th>\n",
       "      <td>0.159771</td>\n",
       "      <td>0.006127</td>\n",
       "      <td>-46.421170</td>\n",
       "      <td>46.421170</td>\n",
       "    </tr>\n",
       "    <tr>\n",
       "      <th>2</th>\n",
       "      <td>0.172655</td>\n",
       "      <td>0.005598</td>\n",
       "      <td>-47.411089</td>\n",
       "      <td>47.411089</td>\n",
       "    </tr>\n",
       "    <tr>\n",
       "      <th>3</th>\n",
       "      <td>0.178934</td>\n",
       "      <td>0.005662</td>\n",
       "      <td>-44.319824</td>\n",
       "      <td>44.319824</td>\n",
       "    </tr>\n",
       "    <tr>\n",
       "      <th>4</th>\n",
       "      <td>0.173069</td>\n",
       "      <td>0.004647</td>\n",
       "      <td>-47.607875</td>\n",
       "      <td>47.607875</td>\n",
       "    </tr>\n",
       "  </tbody>\n",
       "</table>\n",
       "</div>"
      ]
     },
     "metadata": {},
     "execution_count": 15
    }
   ],
   "metadata": {}
  },
  {
   "cell_type": "markdown",
   "source": [
    "Nós podemos ler no dataframe acima, o tempo de treinamento de cada fold, predição de cada iteração da validação cruzada. Como também podemos pegar o score de teste que corresponde ao erro de teste em cada fold."
   ],
   "metadata": {}
  },
  {
   "cell_type": "markdown",
   "source": [
    "Podemos usar os folds da validação cruzada para olhar os erros de teste e através da análise visual da sua distribuição estimar a variabilidade.\n"
   ],
   "metadata": {}
  },
  {
   "cell_type": "code",
   "execution_count": 16,
   "source": [
    "import matplotlib.pyplot as plt\n",
    "\n",
    "cv_results[\"test_error\"].plot.hist(bins=10, edgecolor=\"black\", density=True)\n",
    "plt.xlabel(\"Mean absolute error (k$)\")\n",
    "_ = plt.title(\"Test error distribution\")"
   ],
   "outputs": [
    {
     "output_type": "display_data",
     "data": {
      "text/plain": [
       "<Figure size 432x288 with 1 Axes>"
      ],
      "image/png": "[encoded data removed]"
     },
     "metadata": {
      "needs_background": "light"
     }
    }
   ],
   "metadata": {}
  },
  {
   "cell_type": "markdown",
   "source": [
    "Podemos observar que o erro no conjunto de teste é centralizado ao redor de $47 k$ USD e varia entre 43 k$ a 50 k$."
   ],
   "metadata": {}
  },
  {
   "cell_type": "code",
   "execution_count": 17,
   "source": [
    "print(f\"A média do erro de teste na validação cruzada é: {cv_results['test_error'].mean():.2f} k$\")"
   ],
   "outputs": [
    {
     "output_type": "stream",
     "name": "stdout",
     "text": [
      "A média do erro de teste na validação cruzada é: 46.36 k$\n"
     ]
    }
   ],
   "metadata": {}
  },
  {
   "cell_type": "code",
   "execution_count": 18,
   "source": [
    "print(f\"O desvio padrão do erro de teste é: {cv_results['test_error'].std():.2f} k$\")"
   ],
   "outputs": [
    {
     "output_type": "stream",
     "name": "stdout",
     "text": [
      "O desvio padrão do erro de teste é: 1.17 k$\n"
     ]
    }
   ],
   "metadata": {}
  },
  {
   "cell_type": "markdown",
   "source": [
    "Podemos notar que o desvio padrão do erro de teste é bem menor que a média do erro. Poderíamos comparar o erro de teste com a variabilidade natural do nosso target do dataset."
   ],
   "metadata": {}
  },
  {
   "cell_type": "code",
   "execution_count": 19,
   "source": [
    "target.plot.hist(bins=20, edgecolor=\"black\", density=True)\n",
    "plt.xlabel(\"Median House Value (k$)\")\n",
    "_ = plt.title(\"Target distribution\")"
   ],
   "outputs": [
    {
     "output_type": "display_data",
     "data": {
      "text/plain": [
       "<Figure size 432x288 with 1 Axes>"
      ],
      "image/png": "[encoded data removed]"
     },
     "metadata": {
      "needs_background": "light"
     }
    }
   ],
   "metadata": {}
  },
  {
   "cell_type": "code",
   "execution_count": 20,
   "source": [
    "print(f\"O desvio padrão do target é :{target.std():.2f} k$\")"
   ],
   "outputs": [
    {
     "output_type": "stream",
     "name": "stdout",
     "text": [
      "O desvio padrão do target é :115.40 k$\n"
     ]
    }
   ],
   "metadata": {}
  },
  {
   "cell_type": "markdown",
   "source": [
    "Considerando o erro a média do erro obtido com validação cruzada que foi de $47 k$ USD, não é um problema qdo estivermos prevendo casas no valor de 500 k$, mas é um problema qdo o valor da casa é de 50 k$, o que nos indica que o erro médio absoluto não é a métrica ideal para esse problema. Podemos usar uma métrica relativa o valor do target da previsão, mean absolute percentage error seria uma melhor escolha.\n",
    "\n",
    "De qualquer maneira um erro de 47 k$ é muito grande para que usemos o nosso modelo para prever os valores dos preços das casas sem a supervisão de um expert do assunto."
   ],
   "metadata": {}
  },
  {
   "cell_type": "code",
   "execution_count": 21,
   "source": [
    "cv_results = cross_validate(tree_reg, data, target, return_estimator=True)\n",
    "cv_results"
   ],
   "outputs": [
    {
     "output_type": "execute_result",
     "data": {
      "text/plain": [
       "{'fit_time': array([0.19787955, 0.17467546, 0.17885065, 0.18902946, 0.1793077 ]),\n",
       " 'score_time': array([0.00459528, 0.00373554, 0.00482488, 0.00359917, 0.00374126]),\n",
       " 'estimator': [DecisionTreeRegressor(random_state=0),\n",
       "  DecisionTreeRegressor(random_state=0),\n",
       "  DecisionTreeRegressor(random_state=0),\n",
       "  DecisionTreeRegressor(random_state=0),\n",
       "  DecisionTreeRegressor(random_state=0)],\n",
       " 'test_score': array([0.26291527, 0.41947109, 0.44492564, 0.23357874, 0.40788361])}"
      ]
     },
     "metadata": {},
     "execution_count": 21
    }
   ],
   "metadata": {}
  },
  {
   "cell_type": "code",
   "execution_count": 22,
   "source": [
    "cv_results[\"estimator\"]"
   ],
   "outputs": [
    {
     "output_type": "execute_result",
     "data": {
      "text/plain": [
       "[DecisionTreeRegressor(random_state=0),\n",
       " DecisionTreeRegressor(random_state=0),\n",
       " DecisionTreeRegressor(random_state=0),\n",
       " DecisionTreeRegressor(random_state=0),\n",
       " DecisionTreeRegressor(random_state=0)]"
      ]
     },
     "metadata": {},
     "execution_count": 22
    }
   ],
   "metadata": {}
  },
  {
   "cell_type": "markdown",
   "source": [
    "Ter acesso aos regressores é útil porque permite a inspeção dos valores internos do fit destes regressores."
   ],
   "metadata": {}
  },
  {
   "cell_type": "code",
   "execution_count": 24,
   "source": [
    "from sklearn.model_selection import cross_val_score\n",
    "\n",
    "scores = cross_val_score(tree_reg, data, target)\n",
    "scores"
   ],
   "outputs": [
    {
     "output_type": "execute_result",
     "data": {
      "text/plain": [
       "array([0.26291527, 0.41947109, 0.44492564, 0.23357874, 0.40788361])"
      ]
     },
     "metadata": {},
     "execution_count": 24
    }
   ],
   "metadata": {}
  },
  {
   "cell_type": "code",
   "execution_count": 25,
   "source": [
    "data.columns"
   ],
   "outputs": [
    {
     "output_type": "execute_result",
     "data": {
      "text/plain": [
       "Index(['MedInc', 'HouseAge', 'AveRooms', 'AveBedrms', 'Population', 'AveOccup',\n",
       "       'Latitude', 'Longitude'],\n",
       "      dtype='object')"
      ]
     },
     "metadata": {},
     "execution_count": 25
    }
   ],
   "metadata": {}
  },
  {
   "cell_type": "code",
   "execution_count": 27,
   "source": [
    "target[:5]"
   ],
   "outputs": [
    {
     "output_type": "execute_result",
     "data": {
      "text/plain": [
       "0    452.6\n",
       "1    358.5\n",
       "2    352.1\n",
       "3    341.3\n",
       "4    342.2\n",
       "Name: MedHouseVal, dtype: float64"
      ]
     },
     "metadata": {},
     "execution_count": 27
    }
   ],
   "metadata": {}
  },
  {
   "cell_type": "code",
   "execution_count": 28,
   "source": [
    "from sklearn.linear_model import LinearRegression\n",
    "lin_reg = LinearRegression()"
   ],
   "outputs": [],
   "metadata": {}
  },
  {
   "cell_type": "code",
   "execution_count": 32,
   "source": [
    "from sklearn.pipeline import make_pipeline\n",
    "from sklearn.preprocessing import StandardScaler\n",
    "data.dtypes"
   ],
   "outputs": [
    {
     "output_type": "execute_result",
     "data": {
      "text/plain": [
       "MedInc        float64\n",
       "HouseAge      float64\n",
       "AveRooms      float64\n",
       "AveBedrms     float64\n",
       "Population    float64\n",
       "AveOccup      float64\n",
       "Latitude      float64\n",
       "Longitude     float64\n",
       "dtype: object"
      ]
     },
     "metadata": {},
     "execution_count": 32
    }
   ],
   "metadata": {}
  },
  {
   "cell_type": "code",
   "execution_count": 33,
   "source": [
    "linear_model = make_pipeline(\n",
    "    StandardScaler(),\n",
    "    LinearRegression()\n",
    ")\n",
    "linear_model"
   ],
   "outputs": [
    {
     "output_type": "execute_result",
     "data": {
      "text/plain": [
       "Pipeline(steps=[('standardscaler', StandardScaler()),\n",
       "                ('linearregression', LinearRegression())])"
      ],
      "text/html": [
       "<style>#sk-d5a65b5a-6ddf-46ab-a6e7-d83869ffaf6d {color: black;background-color: white;}#sk-d5a65b5a-6ddf-46ab-a6e7-d83869ffaf6d pre{padding: 0;}#sk-d5a65b5a-6ddf-46ab-a6e7-d83869ffaf6d div.sk-toggleable {background-color: white;}#sk-d5a65b5a-6ddf-46ab-a6e7-d83869ffaf6d label.sk-toggleable__label {cursor: pointer;display: block;width: 100%;margin-bottom: 0;padding: 0.2em 0.3em;box-sizing: border-box;text-align: center;}#sk-d5a65b5a-6ddf-46ab-a6e7-d83869ffaf6d div.sk-toggleable__content {max-height: 0;max-width: 0;overflow: hidden;text-align: left;background-color: #f0f8ff;}#sk-d5a65b5a-6ddf-46ab-a6e7-d83869ffaf6d div.sk-toggleable__content pre {margin: 0.2em;color: black;border-radius: 0.25em;background-color: #f0f8ff;}#sk-d5a65b5a-6ddf-46ab-a6e7-d83869ffaf6d input.sk-toggleable__control:checked~div.sk-toggleable__content {max-height: 200px;max-width: 100%;overflow: auto;}#sk-d5a65b5a-6ddf-46ab-a6e7-d83869ffaf6d div.sk-estimator input.sk-toggleable__control:checked~label.sk-toggleable__label {background-color: #d4ebff;}#sk-d5a65b5a-6ddf-46ab-a6e7-d83869ffaf6d div.sk-label input.sk-toggleable__control:checked~label.sk-toggleable__label {background-color: #d4ebff;}#sk-d5a65b5a-6ddf-46ab-a6e7-d83869ffaf6d input.sk-hidden--visually {border: 0;clip: rect(1px 1px 1px 1px);clip: rect(1px, 1px, 1px, 1px);height: 1px;margin: -1px;overflow: hidden;padding: 0;position: absolute;width: 1px;}#sk-d5a65b5a-6ddf-46ab-a6e7-d83869ffaf6d div.sk-estimator {font-family: monospace;background-color: #f0f8ff;margin: 0.25em 0.25em;border: 1px dotted black;border-radius: 0.25em;box-sizing: border-box;}#sk-d5a65b5a-6ddf-46ab-a6e7-d83869ffaf6d div.sk-estimator:hover {background-color: #d4ebff;}#sk-d5a65b5a-6ddf-46ab-a6e7-d83869ffaf6d div.sk-parallel-item::after {content: \"\";width: 100%;border-bottom: 1px solid gray;flex-grow: 1;}#sk-d5a65b5a-6ddf-46ab-a6e7-d83869ffaf6d div.sk-label:hover label.sk-toggleable__label {background-color: #d4ebff;}#sk-d5a65b5a-6ddf-46ab-a6e7-d83869ffaf6d div.sk-serial::before {content: \"\";position: absolute;border-left: 1px solid gray;box-sizing: border-box;top: 2em;bottom: 0;left: 50%;}#sk-d5a65b5a-6ddf-46ab-a6e7-d83869ffaf6d div.sk-serial {display: flex;flex-direction: column;align-items: center;background-color: white;}#sk-d5a65b5a-6ddf-46ab-a6e7-d83869ffaf6d div.sk-item {z-index: 1;}#sk-d5a65b5a-6ddf-46ab-a6e7-d83869ffaf6d div.sk-parallel {display: flex;align-items: stretch;justify-content: center;background-color: white;}#sk-d5a65b5a-6ddf-46ab-a6e7-d83869ffaf6d div.sk-parallel-item {display: flex;flex-direction: column;position: relative;background-color: white;}#sk-d5a65b5a-6ddf-46ab-a6e7-d83869ffaf6d div.sk-parallel-item:first-child::after {align-self: flex-end;width: 50%;}#sk-d5a65b5a-6ddf-46ab-a6e7-d83869ffaf6d div.sk-parallel-item:last-child::after {align-self: flex-start;width: 50%;}#sk-d5a65b5a-6ddf-46ab-a6e7-d83869ffaf6d div.sk-parallel-item:only-child::after {width: 0;}#sk-d5a65b5a-6ddf-46ab-a6e7-d83869ffaf6d div.sk-dashed-wrapped {border: 1px dashed gray;margin: 0.2em;box-sizing: border-box;padding-bottom: 0.1em;background-color: white;position: relative;}#sk-d5a65b5a-6ddf-46ab-a6e7-d83869ffaf6d div.sk-label label {font-family: monospace;font-weight: bold;background-color: white;display: inline-block;line-height: 1.2em;}#sk-d5a65b5a-6ddf-46ab-a6e7-d83869ffaf6d div.sk-label-container {position: relative;z-index: 2;text-align: center;}#sk-d5a65b5a-6ddf-46ab-a6e7-d83869ffaf6d div.sk-container {display: inline-block;position: relative;}</style><div id=\"sk-d5a65b5a-6ddf-46ab-a6e7-d83869ffaf6d\" class\"sk-top-container\"><div class=\"sk-container\"><div class=\"sk-item sk-dashed-wrapped\"><div class=\"sk-label-container\"><div class=\"sk-label sk-toggleable\"><input class=\"sk-toggleable__control sk-hidden--visually\" id=\"e8073031-b4bb-4f5f-82ec-9c3af3825f10\" type=\"checkbox\" ><label class=\"sk-toggleable__label\" for=\"e8073031-b4bb-4f5f-82ec-9c3af3825f10\">Pipeline</label><div class=\"sk-toggleable__content\"><pre>Pipeline(steps=[('standardscaler', StandardScaler()),\n",
       "                ('linearregression', LinearRegression())])</pre></div></div></div><div class=\"sk-serial\"><div class=\"sk-item\"><div class=\"sk-estimator sk-toggleable\"><input class=\"sk-toggleable__control sk-hidden--visually\" id=\"81987c9e-d43c-4a79-9a08-599c53f76ae7\" type=\"checkbox\" ><label class=\"sk-toggleable__label\" for=\"81987c9e-d43c-4a79-9a08-599c53f76ae7\">StandardScaler</label><div class=\"sk-toggleable__content\"><pre>StandardScaler()</pre></div></div></div><div class=\"sk-item\"><div class=\"sk-estimator sk-toggleable\"><input class=\"sk-toggleable__control sk-hidden--visually\" id=\"8c1e5b96-3da8-494e-a6a2-b6e191a914b3\" type=\"checkbox\" ><label class=\"sk-toggleable__label\" for=\"8c1e5b96-3da8-494e-a6a2-b6e191a914b3\">LinearRegression</label><div class=\"sk-toggleable__content\"><pre>LinearRegression()</pre></div></div></div></div></div></div></div>"
      ]
     },
     "metadata": {},
     "execution_count": 33
    }
   ],
   "metadata": {}
  },
  {
   "cell_type": "code",
   "execution_count": 34,
   "source": [
    "print(f\"Pipeline steps:\\n{linear_model.steps}\")"
   ],
   "outputs": [
    {
     "output_type": "stream",
     "name": "stdout",
     "text": [
      "Pipeline steps:\n",
      "[('standardscaler', StandardScaler()), ('linearregression', LinearRegression())]\n"
     ]
    }
   ],
   "metadata": {}
  },
  {
   "cell_type": "code",
   "execution_count": 35,
   "source": [
    "_ = linear_model.fit(data_train, target_train)"
   ],
   "outputs": [],
   "metadata": {}
  },
  {
   "cell_type": "code",
   "execution_count": 37,
   "source": [
    "cv = ShuffleSplit(n_splits=40, test_size=0.3, random_state=0)\n",
    "cv_results = cross_validate(\n",
    "    linear_model, data, target, cv=cv, scoring=\"neg_mean_squared_error\")"
   ],
   "outputs": [],
   "metadata": {}
  },
  {
   "cell_type": "code",
   "execution_count": 38,
   "source": [
    "# Pontuação nos conjuntos de teste dos splits\n",
    "cv_results = pd.DataFrame(cv_results)\n",
    "cv_results.head(10)"
   ],
   "outputs": [
    {
     "output_type": "execute_result",
     "data": {
      "text/plain": [
       "   fit_time  score_time   test_score\n",
       "0  0.019795    0.004131 -5431.489670\n",
       "1  0.020151    0.005701 -5379.547943\n",
       "2  0.020127    0.005929 -5458.188203\n",
       "3  0.019619    0.012556 -4922.420431\n",
       "4  0.029997    0.014753 -5219.908777\n",
       "5  0.046217    0.011139 -5258.556051\n",
       "6  0.041705    0.027967 -5335.972492\n",
       "7  0.054723    0.013320 -5232.386115\n",
       "8  0.045856    0.013564 -5257.945324\n",
       "9  0.066518    0.045224 -5630.336054"
      ],
      "text/html": [
       "<div>\n",
       "<style scoped>\n",
       "    .dataframe tbody tr th:only-of-type {\n",
       "        vertical-align: middle;\n",
       "    }\n",
       "\n",
       "    .dataframe tbody tr th {\n",
       "        vertical-align: top;\n",
       "    }\n",
       "\n",
       "    .dataframe thead th {\n",
       "        text-align: right;\n",
       "    }\n",
       "</style>\n",
       "<table border=\"1\" class=\"dataframe\">\n",
       "  <thead>\n",
       "    <tr style=\"text-align: right;\">\n",
       "      <th></th>\n",
       "      <th>fit_time</th>\n",
       "      <th>score_time</th>\n",
       "      <th>test_score</th>\n",
       "    </tr>\n",
       "  </thead>\n",
       "  <tbody>\n",
       "    <tr>\n",
       "      <th>0</th>\n",
       "      <td>0.019795</td>\n",
       "      <td>0.004131</td>\n",
       "      <td>-5431.489670</td>\n",
       "    </tr>\n",
       "    <tr>\n",
       "      <th>1</th>\n",
       "      <td>0.020151</td>\n",
       "      <td>0.005701</td>\n",
       "      <td>-5379.547943</td>\n",
       "    </tr>\n",
       "    <tr>\n",
       "      <th>2</th>\n",
       "      <td>0.020127</td>\n",
       "      <td>0.005929</td>\n",
       "      <td>-5458.188203</td>\n",
       "    </tr>\n",
       "    <tr>\n",
       "      <th>3</th>\n",
       "      <td>0.019619</td>\n",
       "      <td>0.012556</td>\n",
       "      <td>-4922.420431</td>\n",
       "    </tr>\n",
       "    <tr>\n",
       "      <th>4</th>\n",
       "      <td>0.029997</td>\n",
       "      <td>0.014753</td>\n",
       "      <td>-5219.908777</td>\n",
       "    </tr>\n",
       "    <tr>\n",
       "      <th>5</th>\n",
       "      <td>0.046217</td>\n",
       "      <td>0.011139</td>\n",
       "      <td>-5258.556051</td>\n",
       "    </tr>\n",
       "    <tr>\n",
       "      <th>6</th>\n",
       "      <td>0.041705</td>\n",
       "      <td>0.027967</td>\n",
       "      <td>-5335.972492</td>\n",
       "    </tr>\n",
       "    <tr>\n",
       "      <th>7</th>\n",
       "      <td>0.054723</td>\n",
       "      <td>0.013320</td>\n",
       "      <td>-5232.386115</td>\n",
       "    </tr>\n",
       "    <tr>\n",
       "      <th>8</th>\n",
       "      <td>0.045856</td>\n",
       "      <td>0.013564</td>\n",
       "      <td>-5257.945324</td>\n",
       "    </tr>\n",
       "    <tr>\n",
       "      <th>9</th>\n",
       "      <td>0.066518</td>\n",
       "      <td>0.045224</td>\n",
       "      <td>-5630.336054</td>\n",
       "    </tr>\n",
       "  </tbody>\n",
       "</table>\n",
       "</div>"
      ]
     },
     "metadata": {},
     "execution_count": 38
    }
   ],
   "metadata": {}
  },
  {
   "cell_type": "code",
   "execution_count": 39,
   "source": [
    "cv_results['test_error'] = -cv_results['test_score']\n",
    "cv_results.head(10)"
   ],
   "outputs": [
    {
     "output_type": "execute_result",
     "data": {
      "text/plain": [
       "   fit_time  score_time   test_score   test_error\n",
       "0  0.019795    0.004131 -5431.489670  5431.489670\n",
       "1  0.020151    0.005701 -5379.547943  5379.547943\n",
       "2  0.020127    0.005929 -5458.188203  5458.188203\n",
       "3  0.019619    0.012556 -4922.420431  4922.420431\n",
       "4  0.029997    0.014753 -5219.908777  5219.908777\n",
       "5  0.046217    0.011139 -5258.556051  5258.556051\n",
       "6  0.041705    0.027967 -5335.972492  5335.972492\n",
       "7  0.054723    0.013320 -5232.386115  5232.386115\n",
       "8  0.045856    0.013564 -5257.945324  5257.945324\n",
       "9  0.066518    0.045224 -5630.336054  5630.336054"
      ],
      "text/html": [
       "<div>\n",
       "<style scoped>\n",
       "    .dataframe tbody tr th:only-of-type {\n",
       "        vertical-align: middle;\n",
       "    }\n",
       "\n",
       "    .dataframe tbody tr th {\n",
       "        vertical-align: top;\n",
       "    }\n",
       "\n",
       "    .dataframe thead th {\n",
       "        text-align: right;\n",
       "    }\n",
       "</style>\n",
       "<table border=\"1\" class=\"dataframe\">\n",
       "  <thead>\n",
       "    <tr style=\"text-align: right;\">\n",
       "      <th></th>\n",
       "      <th>fit_time</th>\n",
       "      <th>score_time</th>\n",
       "      <th>test_score</th>\n",
       "      <th>test_error</th>\n",
       "    </tr>\n",
       "  </thead>\n",
       "  <tbody>\n",
       "    <tr>\n",
       "      <th>0</th>\n",
       "      <td>0.019795</td>\n",
       "      <td>0.004131</td>\n",
       "      <td>-5431.489670</td>\n",
       "      <td>5431.489670</td>\n",
       "    </tr>\n",
       "    <tr>\n",
       "      <th>1</th>\n",
       "      <td>0.020151</td>\n",
       "      <td>0.005701</td>\n",
       "      <td>-5379.547943</td>\n",
       "      <td>5379.547943</td>\n",
       "    </tr>\n",
       "    <tr>\n",
       "      <th>2</th>\n",
       "      <td>0.020127</td>\n",
       "      <td>0.005929</td>\n",
       "      <td>-5458.188203</td>\n",
       "      <td>5458.188203</td>\n",
       "    </tr>\n",
       "    <tr>\n",
       "      <th>3</th>\n",
       "      <td>0.019619</td>\n",
       "      <td>0.012556</td>\n",
       "      <td>-4922.420431</td>\n",
       "      <td>4922.420431</td>\n",
       "    </tr>\n",
       "    <tr>\n",
       "      <th>4</th>\n",
       "      <td>0.029997</td>\n",
       "      <td>0.014753</td>\n",
       "      <td>-5219.908777</td>\n",
       "      <td>5219.908777</td>\n",
       "    </tr>\n",
       "    <tr>\n",
       "      <th>5</th>\n",
       "      <td>0.046217</td>\n",
       "      <td>0.011139</td>\n",
       "      <td>-5258.556051</td>\n",
       "      <td>5258.556051</td>\n",
       "    </tr>\n",
       "    <tr>\n",
       "      <th>6</th>\n",
       "      <td>0.041705</td>\n",
       "      <td>0.027967</td>\n",
       "      <td>-5335.972492</td>\n",
       "      <td>5335.972492</td>\n",
       "    </tr>\n",
       "    <tr>\n",
       "      <th>7</th>\n",
       "      <td>0.054723</td>\n",
       "      <td>0.013320</td>\n",
       "      <td>-5232.386115</td>\n",
       "      <td>5232.386115</td>\n",
       "    </tr>\n",
       "    <tr>\n",
       "      <th>8</th>\n",
       "      <td>0.045856</td>\n",
       "      <td>0.013564</td>\n",
       "      <td>-5257.945324</td>\n",
       "      <td>5257.945324</td>\n",
       "    </tr>\n",
       "    <tr>\n",
       "      <th>9</th>\n",
       "      <td>0.066518</td>\n",
       "      <td>0.045224</td>\n",
       "      <td>-5630.336054</td>\n",
       "      <td>5630.336054</td>\n",
       "    </tr>\n",
       "  </tbody>\n",
       "</table>\n",
       "</div>"
      ]
     },
     "metadata": {},
     "execution_count": 39
    }
   ],
   "metadata": {}
  },
  {
   "cell_type": "code",
   "execution_count": 41,
   "source": [
    "print(f\"A média do erro no conjunto de teste usando validação cruzado do modelo linear é:\\\n",
    "      \\n{cv_results['test_error'].mean():.3f} +/- {cv_results['test_error'].std():.3f} k$\")"
   ],
   "outputs": [
    {
     "output_type": "stream",
     "name": "stdout",
     "text": [
      "A média do erro no conjunto de teste usando validação cruzado do modelo linear é:      \n",
      "5300.185 +/- 149.455 k$\n"
     ]
    }
   ],
   "metadata": {}
  },
  {
   "cell_type": "code",
   "execution_count": 47,
   "source": [
    "print(f\"O total de features no dataset analisado : {data.shape[1]}\")"
   ],
   "outputs": [
    {
     "output_type": "stream",
     "name": "stdout",
     "text": [
      "O total de features no dataset analisado : 8\n"
     ]
    }
   ],
   "metadata": {}
  },
  {
   "cell_type": "code",
   "execution_count": 42,
   "source": [
    "print(f\"Pipeline steps:\\n{linear_model.steps}\")"
   ],
   "outputs": [
    {
     "output_type": "stream",
     "name": "stdout",
     "text": [
      "Pipeline steps:\n",
      "[('standardscaler', StandardScaler()), ('linearregression', LinearRegression())]\n"
     ]
    }
   ],
   "metadata": {}
  },
  {
   "cell_type": "code",
   "execution_count": 48,
   "source": [
    "coeficientes = linear_model.named_steps['linearregression'].coef_\n",
    "print(f\"Os pesos das características(coeficientes) da regressão linear do modelo são: \\n{coeficientes}\")"
   ],
   "outputs": [
    {
     "output_type": "stream",
     "name": "stdout",
     "text": [
      "Os pesos das características(coeficientes) da regressão linear do modelo são: \n",
      "[ 83.18994482  12.09374001 -26.17515663  30.40521224  -0.87355926\n",
      "  -2.98444244 -89.23653827 -86.38503112]\n"
     ]
    }
   ],
   "metadata": {}
  },
  {
   "cell_type": "code",
   "execution_count": 50,
   "source": [
    "linear_model.named_steps['linearregression'].coef_.shape"
   ],
   "outputs": [
    {
     "output_type": "execute_result",
     "data": {
      "text/plain": [
       "(8,)"
      ]
     },
     "metadata": {},
     "execution_count": 50
    }
   ],
   "metadata": {}
  },
  {
   "cell_type": "code",
   "execution_count": 53,
   "source": [
    "valor_medio_esperado = linear_model.named_steps['linearregression'].intercept_"
   ],
   "outputs": [],
   "metadata": {}
  },
  {
   "cell_type": "code",
   "execution_count": 55,
   "source": [
    "print(f\"O valor médio do target usando a regressão linear ou a interseção com o eixo Y é: \\\n",
    "    {valor_medio_esperado:.2f} k$\")"
   ],
   "outputs": [
    {
     "output_type": "stream",
     "name": "stdout",
     "text": [
      "O valor médio do target usando a regressão linear ou a interseção com o eixo Y é:     207.44 k$\n"
     ]
    }
   ],
   "metadata": {}
  },
  {
   "cell_type": "code",
   "execution_count": 57,
   "source": [
    "r2_test = linear_model.score(data_test, target_test)\n",
    "print(f\"O score do conj. de teste usando estimador linear é: {r2_test:.3f}\")"
   ],
   "outputs": [
    {
     "output_type": "stream",
     "name": "stdout",
     "text": [
      "O score do conj. de teste usando estimador linear é: 0.591\n"
     ]
    }
   ],
   "metadata": {}
  },
  {
   "cell_type": "code",
   "execution_count": 58,
   "source": [
    "r2_test_tree = tree_reg.score(data_test, target_test)\n",
    "print(f\"O score do conj. de teste usando estimador de decision tree é: {r2_test_tree:.3f}\")"
   ],
   "outputs": [
    {
     "output_type": "stream",
     "name": "stdout",
     "text": [
      "O score do conj. de teste usando estimador de decision tree é: 0.584\n"
     ]
    }
   ],
   "metadata": {}
  },
  {
   "cell_type": "markdown",
   "source": [
    "Os coeficientes de regressão vistos individualmente como atributos do pipeline, explicam o valor esperado(model.intercept_) e como os atributos (pesos) que causam impacto na predição. Um coeficiente positivo indica que, à medida que o valor de um atributo aumenta, o mesmo ocorrerá com a predição."
   ],
   "metadata": {}
  },
  {
   "cell_type": "markdown",
   "source": [
    "Para melhor entender a performance estatística dos nosso modelos e achar insights de como melhora-lo, nós iremos comparar os erros de treinamento com os erros de teste. Para isso vamos computar o erro de treinamento usando a função de validação cruzada(**cross_validate()**)"
   ],
   "metadata": {}
  },
  {
   "cell_type": "code",
   "execution_count": 61,
   "source": [
    "# Decision tree\n",
    "tree_reg=DecisionTreeRegressor(random_state=0)\n",
    "cv = ShuffleSplit(n_splits=30, test_size=0.2)\n",
    "cv_results_tree = cross_validate(tree_reg, data, target,\n",
    "                            cv=cv, scoring=\"neg_mean_squared_error\", # RMSE\n",
    "                            return_train_score=True, n_jobs=-1)\n",
    "cv_results_tree = pd.DataFrame(cv_results_tree)"
   ],
   "outputs": [],
   "metadata": {}
  },
  {
   "cell_type": "markdown",
   "source": [
    "A validação cruzada usa o valor negativo da erro quadrático médio (**neg_mean_squared_error**). Nós transformamos o RMSE negativo em RMSE positivo, fazendo:"
   ],
   "metadata": {}
  },
  {
   "cell_type": "code",
   "execution_count": 63,
   "source": [
    "scores_tree = pd.DataFrame()\n",
    "scores_tree[['train error', \"test error\"]] = -cv_results_tree[['train_score', \"test_score\"]]\n",
    "\n",
    "scores_tree.head(10)"
   ],
   "outputs": [
    {
     "output_type": "execute_result",
     "data": {
      "text/plain": [
       "    train error   test error\n",
       "0  5.287447e-28  5347.887133\n",
       "1  1.952500e-26  5285.880631\n",
       "2  4.201388e-28  5340.018578\n",
       "3  1.387906e-26  5043.049351\n",
       "4  4.778663e-28  5101.186329\n",
       "5  1.957901e-26  5025.207834\n",
       "6  1.482951e-26  5159.656132\n",
       "7  5.537926e-28  5182.443640\n",
       "8  2.075998e-26  5290.819527\n",
       "9  4.796274e-28  5443.965406"
      ],
      "text/html": [
       "<div>\n",
       "<style scoped>\n",
       "    .dataframe tbody tr th:only-of-type {\n",
       "        vertical-align: middle;\n",
       "    }\n",
       "\n",
       "    .dataframe tbody tr th {\n",
       "        vertical-align: top;\n",
       "    }\n",
       "\n",
       "    .dataframe thead th {\n",
       "        text-align: right;\n",
       "    }\n",
       "</style>\n",
       "<table border=\"1\" class=\"dataframe\">\n",
       "  <thead>\n",
       "    <tr style=\"text-align: right;\">\n",
       "      <th></th>\n",
       "      <th>train error</th>\n",
       "      <th>test error</th>\n",
       "    </tr>\n",
       "  </thead>\n",
       "  <tbody>\n",
       "    <tr>\n",
       "      <th>0</th>\n",
       "      <td>5.287447e-28</td>\n",
       "      <td>5347.887133</td>\n",
       "    </tr>\n",
       "    <tr>\n",
       "      <th>1</th>\n",
       "      <td>1.952500e-26</td>\n",
       "      <td>5285.880631</td>\n",
       "    </tr>\n",
       "    <tr>\n",
       "      <th>2</th>\n",
       "      <td>4.201388e-28</td>\n",
       "      <td>5340.018578</td>\n",
       "    </tr>\n",
       "    <tr>\n",
       "      <th>3</th>\n",
       "      <td>1.387906e-26</td>\n",
       "      <td>5043.049351</td>\n",
       "    </tr>\n",
       "    <tr>\n",
       "      <th>4</th>\n",
       "      <td>4.778663e-28</td>\n",
       "      <td>5101.186329</td>\n",
       "    </tr>\n",
       "    <tr>\n",
       "      <th>5</th>\n",
       "      <td>1.957901e-26</td>\n",
       "      <td>5025.207834</td>\n",
       "    </tr>\n",
       "    <tr>\n",
       "      <th>6</th>\n",
       "      <td>1.482951e-26</td>\n",
       "      <td>5159.656132</td>\n",
       "    </tr>\n",
       "    <tr>\n",
       "      <th>7</th>\n",
       "      <td>5.537926e-28</td>\n",
       "      <td>5182.443640</td>\n",
       "    </tr>\n",
       "    <tr>\n",
       "      <th>8</th>\n",
       "      <td>2.075998e-26</td>\n",
       "      <td>5290.819527</td>\n",
       "    </tr>\n",
       "    <tr>\n",
       "      <th>9</th>\n",
       "      <td>4.796274e-28</td>\n",
       "      <td>5443.965406</td>\n",
       "    </tr>\n",
       "  </tbody>\n",
       "</table>\n",
       "</div>"
      ]
     },
     "metadata": {},
     "execution_count": 63
    }
   ],
   "metadata": {}
  },
  {
   "cell_type": "code",
   "execution_count": 65,
   "source": [
    "scores_tree.plot.hist(bins=50, edgecolor='k', density=True)\n",
    "plt.xlabel(\"Erro quadrático médio(RMSE) k$\")\n",
    "_ = plt.title(\"Distribuição dos erros de treinamento e \\\n",
    "    teste \\n calculados via validação cruzada usando o decision tree\")"
   ],
   "outputs": [
    {
     "output_type": "display_data",
     "data": {
      "text/plain": [
       "<Figure size 576x396 with 1 Axes>"
      ],
      "image/png": "[encoded data removed]"
     },
     "metadata": {}
    }
   ],
   "metadata": {}
  },
  {
   "cell_type": "markdown",
   "source": [
    "Plotando a distribuição dos erros de treinamento e teste, nós pegamos a informação se o modelo está sofrendo de \"overfitting\", \"underfitting\" ou ambos ao mesmo tempo.\n",
    "\n",
    "No modelo de decision tree, vemos um pequeno erro de treinamento(aproximadamente zero), significando que o modelo não está sofrendo de \"overfitting\". É flexível o suficiente para capturar qualquer variação presente no conjunto de treinamento.\n",
    "\n",
    "Contudo o grande erro de teste, nos diz que o modelo está sofrendo de \"overfitting\", ou seja, o modelo memorizou as muitas variações presentes no conjunto de treinamento que podem ser consideradas como \"ruídos\" e que não ajudam a generalizar para ajudar nas predições do conjunto de teste."
   ],
   "metadata": {}
  },
  {
   "cell_type": "code",
   "execution_count": 66,
   "source": [
    "# Modelo Linear\n",
    "\n",
    "cv = ShuffleSplit(n_splits=30, test_size=0.2)\n",
    "cv_results_lr = cross_validate(linear_model, data, target,\n",
    "                            cv=cv, scoring=\"neg_mean_squared_error\", # RMSE\n",
    "                            return_train_score=True, n_jobs=-1)\n",
    "cv_results_lr = pd.DataFrame(cv_results_lr)\n",
    "\n",
    "scores_lr = pd.DataFrame()\n",
    "scores_lr[['train error', \"test error\"]] = -cv_results_lr[['train_score', \"test_score\"]]\n",
    "\n",
    "scores_lr.head(10)"
   ],
   "outputs": [
    {
     "output_type": "execute_result",
     "data": {
      "text/plain": [
       "   train error   test error\n",
       "0  5269.128900  5150.584358\n",
       "1  5319.374019  4944.347098\n",
       "2  5334.175578  5087.355390\n",
       "3  5208.979975  5387.308609\n",
       "4  5207.715798  5450.414076\n",
       "5  5213.014427  5369.134635\n",
       "6  5185.900728  5477.192096\n",
       "7  5225.511425  5340.656161\n",
       "8  5261.177635  5309.835606\n",
       "9  5251.782949  5212.370404"
      ],
      "text/html": [
       "<div>\n",
       "<style scoped>\n",
       "    .dataframe tbody tr th:only-of-type {\n",
       "        vertical-align: middle;\n",
       "    }\n",
       "\n",
       "    .dataframe tbody tr th {\n",
       "        vertical-align: top;\n",
       "    }\n",
       "\n",
       "    .dataframe thead th {\n",
       "        text-align: right;\n",
       "    }\n",
       "</style>\n",
       "<table border=\"1\" class=\"dataframe\">\n",
       "  <thead>\n",
       "    <tr style=\"text-align: right;\">\n",
       "      <th></th>\n",
       "      <th>train error</th>\n",
       "      <th>test error</th>\n",
       "    </tr>\n",
       "  </thead>\n",
       "  <tbody>\n",
       "    <tr>\n",
       "      <th>0</th>\n",
       "      <td>5269.128900</td>\n",
       "      <td>5150.584358</td>\n",
       "    </tr>\n",
       "    <tr>\n",
       "      <th>1</th>\n",
       "      <td>5319.374019</td>\n",
       "      <td>4944.347098</td>\n",
       "    </tr>\n",
       "    <tr>\n",
       "      <th>2</th>\n",
       "      <td>5334.175578</td>\n",
       "      <td>5087.355390</td>\n",
       "    </tr>\n",
       "    <tr>\n",
       "      <th>3</th>\n",
       "      <td>5208.979975</td>\n",
       "      <td>5387.308609</td>\n",
       "    </tr>\n",
       "    <tr>\n",
       "      <th>4</th>\n",
       "      <td>5207.715798</td>\n",
       "      <td>5450.414076</td>\n",
       "    </tr>\n",
       "    <tr>\n",
       "      <th>5</th>\n",
       "      <td>5213.014427</td>\n",
       "      <td>5369.134635</td>\n",
       "    </tr>\n",
       "    <tr>\n",
       "      <th>6</th>\n",
       "      <td>5185.900728</td>\n",
       "      <td>5477.192096</td>\n",
       "    </tr>\n",
       "    <tr>\n",
       "      <th>7</th>\n",
       "      <td>5225.511425</td>\n",
       "      <td>5340.656161</td>\n",
       "    </tr>\n",
       "    <tr>\n",
       "      <th>8</th>\n",
       "      <td>5261.177635</td>\n",
       "      <td>5309.835606</td>\n",
       "    </tr>\n",
       "    <tr>\n",
       "      <th>9</th>\n",
       "      <td>5251.782949</td>\n",
       "      <td>5212.370404</td>\n",
       "    </tr>\n",
       "  </tbody>\n",
       "</table>\n",
       "</div>"
      ]
     },
     "metadata": {},
     "execution_count": 66
    }
   ],
   "metadata": {}
  },
  {
   "cell_type": "code",
   "execution_count": 67,
   "source": [
    "scores_lr.plot.hist(bins=50, edgecolor='k', density=True)\n",
    "plt.xlabel(\"Erro quadrático médio(RMSE) k$\")\n",
    "_ = plt.title(\"Distribuição dos erros de treinamento e \\\n",
    "    teste \\n calculados via validação cruzada usando o modelo linear\")"
   ],
   "outputs": [
    {
     "output_type": "display_data",
     "data": {
      "text/plain": [
       "<Figure size 576x396 with 1 Axes>"
      ],
      "image/png": "[encoded data removed]"
     },
     "metadata": {}
    }
   ],
   "metadata": {}
  },
  {
   "cell_type": "markdown",
   "source": [
    "Usando o modelo linear, percebemos que os erros de treinamento, e os erros de teste são altos, o que nos informa que esse não é um modelo que pode ser usado, o modelo sofre de overfitting e underfitting ao mesmo tempo."
   ],
   "metadata": {}
  },
  {
   "cell_type": "markdown",
   "source": [
    "### Curva de validação\n",
    "Alguns hiperparâmetros de um modelo são a chave para sair de modelo que está underfitting para um modelo que overfitting, e talvez achar um bom balanço entre os dois. Nós podemos adquirir conhecimento sobre essas informações usando a curva de validação.\n",
    "\n",
    "Para um decision tree, o parâmetro max_depth é usado para controlar o tradeoff entre o underfitting e overfitting."
   ],
   "metadata": {}
  },
  {
   "cell_type": "code",
   "execution_count": 68,
   "source": [
    "%%time\n",
    "from sklearn.model_selection import validation_curve\n",
    "\n",
    "max_depth = [1, 5, 10, 15, 20, 25]\n",
    "train_scores, test_scores = validation_curve(\n",
    "    tree_reg, data, target, param_name=\"max_depth\", param_range=max_depth,\n",
    "    cv=cv, scoring=\"neg_mean_squared_error\", n_jobs=2)\n",
    "train_errors, test_errors = -train_scores, -test_scores"
   ],
   "outputs": [
    {
     "output_type": "stream",
     "name": "stdout",
     "text": [
      "CPU times: user 583 ms, sys: 73.7 ms, total: 657 ms\n",
      "Wall time: 17.7 s\n"
     ]
    }
   ],
   "metadata": {}
  },
  {
   "cell_type": "code",
   "execution_count": 69,
   "source": [
    "plt.plot(max_depth, train_errors.mean(axis=1), label=\"Training error\")\n",
    "plt.plot(max_depth, test_errors.mean(axis=1), label=\"Testing error\")\n",
    "plt.legend()\n",
    "\n",
    "plt.xlabel(\"Profundidade máxima da decision tree\")\n",
    "plt.ylabel(\"Erro médio quadrático(k$)\")"
   ],
   "outputs": [
    {
     "output_type": "execute_result",
     "data": {
      "text/plain": [
       "Text(0, 0.5, 'Erro médio quadrático(k$)')"
      ]
     },
     "metadata": {},
     "execution_count": 69
    },
    {
     "output_type": "display_data",
     "data": {
      "text/plain": [
       "<Figure size 576x396 with 1 Axes>"
      ],
      "image/png": "[encoded data removed]"
     },
     "metadata": {}
    }
   ],
   "metadata": {}
  },
  {
   "cell_type": "markdown",
   "source": [
    "Podemos dividir o gráfico em 3 áreas básicas:\n",
    "\n",
    "* max_depth < 10, a decision tree underfits. O erro de treinamento e de teste são ambos altos. O modelo tem muitas restrições e não consegue capturar a variabilidade do variável target.\n",
    "* a região em torno de max_depth = 10 corresponde ao parâmetro qual o decision tree generaliza melhor. É flexível o suficiente para capturar a fração da variabilidade do alvo, enquanto não generaliza todo o ruído do target.\n",
    "* max_depth > 10, a decision tree overfita. O erro de treinamento se torna muito pequeno, enquanto o erro de teste aumenta. Nesta região o modelo cria decisões especificamente para o ruído impedindo a sua habilidade de generalização no conjunto de testes."
   ],
   "metadata": {}
  },
  {
   "cell_type": "code",
   "execution_count": 71,
   "source": [
    "plt.errorbar(max_depth, train_errors.mean(axis=1),\n",
    "             yerr=train_errors.std(axis=1), label='Training error')\n",
    "plt.errorbar(max_depth, test_errors.mean(axis=1),\n",
    "             yerr=test_errors.std(axis=1), label='Testing error')\n",
    "plt.legend()\n",
    "\n",
    "plt.xlabel(\"Profundidade máxima da decision tree\")\n",
    "plt.ylabel(\"Erro quadrático médio(k$)\")\n",
    "_ = plt.title(\"Curva de validação da decision tree\")"
   ],
   "outputs": [
    {
     "output_type": "display_data",
     "data": {
      "text/plain": [
       "<Figure size 576x396 with 1 Axes>"
      ],
      "image/png": "[encoded data removed]"
     },
     "metadata": {}
    }
   ],
   "metadata": {}
  },
  {
   "cell_type": "markdown",
   "source": [
    "Tivemos sorte a variância dos erros são pequenos em relação aos seus respectivos valores. Portanto as conclusões anteriores são claras. O que nem sempre é o caso."
   ],
   "metadata": {}
  },
  {
   "cell_type": "markdown",
   "source": [
    "## Setar e pegar os hiperparâmetros no Scikit-Learning\n",
    "***"
   ],
   "metadata": {}
  },
  {
   "cell_type": "code",
   "execution_count": 72,
   "source": [
    "model = make_pipeline(\n",
    "    StandardScaler(),\n",
    "    DecisionTreeRegressor(random_state=123)\n",
    ")\n",
    "model"
   ],
   "outputs": [
    {
     "output_type": "execute_result",
     "data": {
      "text/plain": [
       "Pipeline(steps=[('standardscaler', StandardScaler()),\n",
       "                ('decisiontreeregressor',\n",
       "                 DecisionTreeRegressor(random_state=123))])"
      ],
      "text/html": [
       "<style>#sk-42b18245-84e2-4a46-b222-43af3ed9abbf {color: black;background-color: white;}#sk-42b18245-84e2-4a46-b222-43af3ed9abbf pre{padding: 0;}#sk-42b18245-84e2-4a46-b222-43af3ed9abbf div.sk-toggleable {background-color: white;}#sk-42b18245-84e2-4a46-b222-43af3ed9abbf label.sk-toggleable__label {cursor: pointer;display: block;width: 100%;margin-bottom: 0;padding: 0.2em 0.3em;box-sizing: border-box;text-align: center;}#sk-42b18245-84e2-4a46-b222-43af3ed9abbf div.sk-toggleable__content {max-height: 0;max-width: 0;overflow: hidden;text-align: left;background-color: #f0f8ff;}#sk-42b18245-84e2-4a46-b222-43af3ed9abbf div.sk-toggleable__content pre {margin: 0.2em;color: black;border-radius: 0.25em;background-color: #f0f8ff;}#sk-42b18245-84e2-4a46-b222-43af3ed9abbf input.sk-toggleable__control:checked~div.sk-toggleable__content {max-height: 200px;max-width: 100%;overflow: auto;}#sk-42b18245-84e2-4a46-b222-43af3ed9abbf div.sk-estimator input.sk-toggleable__control:checked~label.sk-toggleable__label {background-color: #d4ebff;}#sk-42b18245-84e2-4a46-b222-43af3ed9abbf div.sk-label input.sk-toggleable__control:checked~label.sk-toggleable__label {background-color: #d4ebff;}#sk-42b18245-84e2-4a46-b222-43af3ed9abbf input.sk-hidden--visually {border: 0;clip: rect(1px 1px 1px 1px);clip: rect(1px, 1px, 1px, 1px);height: 1px;margin: -1px;overflow: hidden;padding: 0;position: absolute;width: 1px;}#sk-42b18245-84e2-4a46-b222-43af3ed9abbf div.sk-estimator {font-family: monospace;background-color: #f0f8ff;margin: 0.25em 0.25em;border: 1px dotted black;border-radius: 0.25em;box-sizing: border-box;}#sk-42b18245-84e2-4a46-b222-43af3ed9abbf div.sk-estimator:hover {background-color: #d4ebff;}#sk-42b18245-84e2-4a46-b222-43af3ed9abbf div.sk-parallel-item::after {content: \"\";width: 100%;border-bottom: 1px solid gray;flex-grow: 1;}#sk-42b18245-84e2-4a46-b222-43af3ed9abbf div.sk-label:hover label.sk-toggleable__label {background-color: #d4ebff;}#sk-42b18245-84e2-4a46-b222-43af3ed9abbf div.sk-serial::before {content: \"\";position: absolute;border-left: 1px solid gray;box-sizing: border-box;top: 2em;bottom: 0;left: 50%;}#sk-42b18245-84e2-4a46-b222-43af3ed9abbf div.sk-serial {display: flex;flex-direction: column;align-items: center;background-color: white;}#sk-42b18245-84e2-4a46-b222-43af3ed9abbf div.sk-item {z-index: 1;}#sk-42b18245-84e2-4a46-b222-43af3ed9abbf div.sk-parallel {display: flex;align-items: stretch;justify-content: center;background-color: white;}#sk-42b18245-84e2-4a46-b222-43af3ed9abbf div.sk-parallel-item {display: flex;flex-direction: column;position: relative;background-color: white;}#sk-42b18245-84e2-4a46-b222-43af3ed9abbf div.sk-parallel-item:first-child::after {align-self: flex-end;width: 50%;}#sk-42b18245-84e2-4a46-b222-43af3ed9abbf div.sk-parallel-item:last-child::after {align-self: flex-start;width: 50%;}#sk-42b18245-84e2-4a46-b222-43af3ed9abbf div.sk-parallel-item:only-child::after {width: 0;}#sk-42b18245-84e2-4a46-b222-43af3ed9abbf div.sk-dashed-wrapped {border: 1px dashed gray;margin: 0.2em;box-sizing: border-box;padding-bottom: 0.1em;background-color: white;position: relative;}#sk-42b18245-84e2-4a46-b222-43af3ed9abbf div.sk-label label {font-family: monospace;font-weight: bold;background-color: white;display: inline-block;line-height: 1.2em;}#sk-42b18245-84e2-4a46-b222-43af3ed9abbf div.sk-label-container {position: relative;z-index: 2;text-align: center;}#sk-42b18245-84e2-4a46-b222-43af3ed9abbf div.sk-container {display: inline-block;position: relative;}</style><div id=\"sk-42b18245-84e2-4a46-b222-43af3ed9abbf\" class\"sk-top-container\"><div class=\"sk-container\"><div class=\"sk-item sk-dashed-wrapped\"><div class=\"sk-label-container\"><div class=\"sk-label sk-toggleable\"><input class=\"sk-toggleable__control sk-hidden--visually\" id=\"c841c829-667a-4990-81da-3b77a5862a28\" type=\"checkbox\" ><label class=\"sk-toggleable__label\" for=\"c841c829-667a-4990-81da-3b77a5862a28\">Pipeline</label><div class=\"sk-toggleable__content\"><pre>Pipeline(steps=[('standardscaler', StandardScaler()),\n",
       "                ('decisiontreeregressor',\n",
       "                 DecisionTreeRegressor(random_state=123))])</pre></div></div></div><div class=\"sk-serial\"><div class=\"sk-item\"><div class=\"sk-estimator sk-toggleable\"><input class=\"sk-toggleable__control sk-hidden--visually\" id=\"673b88b6-d236-4583-8490-54a8b0c39734\" type=\"checkbox\" ><label class=\"sk-toggleable__label\" for=\"673b88b6-d236-4583-8490-54a8b0c39734\">StandardScaler</label><div class=\"sk-toggleable__content\"><pre>StandardScaler()</pre></div></div></div><div class=\"sk-item\"><div class=\"sk-estimator sk-toggleable\"><input class=\"sk-toggleable__control sk-hidden--visually\" id=\"ed70049f-6371-4d00-894f-d197abae0c43\" type=\"checkbox\" ><label class=\"sk-toggleable__label\" for=\"ed70049f-6371-4d00-894f-d197abae0c43\">DecisionTreeRegressor</label><div class=\"sk-toggleable__content\"><pre>DecisionTreeRegressor(random_state=123)</pre></div></div></div></div></div></div></div>"
      ]
     },
     "metadata": {},
     "execution_count": 72
    }
   ],
   "metadata": {}
  },
  {
   "cell_type": "markdown",
   "source": [
    "Avaliando a performance estatística do modelo  via validação cruzada.\n",
    "\n",
    "Podemos mudar o valor de algum  do modelo depois que modelo já tiver sido criado com método, **set_param**."
   ],
   "metadata": {}
  },
  {
   "cell_type": "code",
   "execution_count": 85,
   "source": [
    "cv_results = cross_validate(model, data, target, scoring = 'neg_mean_squared_error')\n",
    "cv_results = pd.DataFrame(cv_results)\n",
    "cv_results['test_error'] = -cv_results['test_score']\n",
    "cv_results.head()"
   ],
   "outputs": [
    {
     "output_type": "execute_result",
     "data": {
      "text/plain": [
       "   fit_time  score_time   test_score   test_error\n",
       "0  0.259987    0.003896 -8091.405884  8091.405884\n",
       "1  0.208969    0.006716 -7502.472731  7502.472731\n",
       "2  0.507500    0.012990 -8446.147015  8446.147015\n",
       "3  0.238677    0.005026 -9453.479345  9453.479345\n",
       "4  0.191556    0.004692 -8488.060473  8488.060473"
      ],
      "text/html": [
       "<div>\n",
       "<style scoped>\n",
       "    .dataframe tbody tr th:only-of-type {\n",
       "        vertical-align: middle;\n",
       "    }\n",
       "\n",
       "    .dataframe tbody tr th {\n",
       "        vertical-align: top;\n",
       "    }\n",
       "\n",
       "    .dataframe thead th {\n",
       "        text-align: right;\n",
       "    }\n",
       "</style>\n",
       "<table border=\"1\" class=\"dataframe\">\n",
       "  <thead>\n",
       "    <tr style=\"text-align: right;\">\n",
       "      <th></th>\n",
       "      <th>fit_time</th>\n",
       "      <th>score_time</th>\n",
       "      <th>test_score</th>\n",
       "      <th>test_error</th>\n",
       "    </tr>\n",
       "  </thead>\n",
       "  <tbody>\n",
       "    <tr>\n",
       "      <th>0</th>\n",
       "      <td>0.259987</td>\n",
       "      <td>0.003896</td>\n",
       "      <td>-8091.405884</td>\n",
       "      <td>8091.405884</td>\n",
       "    </tr>\n",
       "    <tr>\n",
       "      <th>1</th>\n",
       "      <td>0.208969</td>\n",
       "      <td>0.006716</td>\n",
       "      <td>-7502.472731</td>\n",
       "      <td>7502.472731</td>\n",
       "    </tr>\n",
       "    <tr>\n",
       "      <th>2</th>\n",
       "      <td>0.507500</td>\n",
       "      <td>0.012990</td>\n",
       "      <td>-8446.147015</td>\n",
       "      <td>8446.147015</td>\n",
       "    </tr>\n",
       "    <tr>\n",
       "      <th>3</th>\n",
       "      <td>0.238677</td>\n",
       "      <td>0.005026</td>\n",
       "      <td>-9453.479345</td>\n",
       "      <td>9453.479345</td>\n",
       "    </tr>\n",
       "    <tr>\n",
       "      <th>4</th>\n",
       "      <td>0.191556</td>\n",
       "      <td>0.004692</td>\n",
       "      <td>-8488.060473</td>\n",
       "      <td>8488.060473</td>\n",
       "    </tr>\n",
       "  </tbody>\n",
       "</table>\n",
       "</div>"
      ]
     },
     "metadata": {},
     "execution_count": 85
    }
   ],
   "metadata": {}
  },
  {
   "cell_type": "code",
   "execution_count": 86,
   "source": [
    "scores = cv_results['test_error']\n",
    "print(f\"O RMSE via validação cruzada é:\\n\"\n",
    "      f\"{scores.mean():.3f} +/- {scores.std():.3f}\")"
   ],
   "outputs": [
    {
     "output_type": "stream",
     "name": "stdout",
     "text": [
      "O RMSE via validação cruzada é:\n",
      "8396.313 +/- 710.707\n"
     ]
    }
   ],
   "metadata": {}
  },
  {
   "cell_type": "markdown",
   "source": [
    "Criamos um modelo aonde padronizamos os dados, e em seguida usamos um estimador de árvore de decisão. Quando usamos um pipeline podemos pegar os steps da seguinte forma:"
   ],
   "metadata": {}
  },
  {
   "cell_type": "code",
   "execution_count": 80,
   "source": [
    "print(f\"Pipeline steps:\\n{model.steps}\")"
   ],
   "outputs": [
    {
     "output_type": "stream",
     "name": "stdout",
     "text": [
      "Pipeline steps:\n",
      "[('standardscaler', StandardScaler()), ('decisiontreeregressor', DecisionTreeRegressor(random_state=123))]\n"
     ]
    }
   ],
   "metadata": {}
  },
  {
   "cell_type": "markdown",
   "source": [
    "Em geral, podemos usar o método **get_params** do scikit-learn para listar todos os parâmetros em cada passo e seus respectivos valores. Para listar todos os parâmetros que existem no pipeline criado, façamos:"
   ],
   "metadata": {}
  },
  {
   "cell_type": "code",
   "execution_count": 81,
   "source": [
    "for parameter in model.get_params():\n",
    "    print(parameter)"
   ],
   "outputs": [
    {
     "output_type": "stream",
     "name": "stdout",
     "text": [
      "memory\n",
      "steps\n",
      "verbose\n",
      "standardscaler\n",
      "decisiontreeregressor\n",
      "standardscaler__copy\n",
      "standardscaler__with_mean\n",
      "standardscaler__with_std\n",
      "decisiontreeregressor__ccp_alpha\n",
      "decisiontreeregressor__criterion\n",
      "decisiontreeregressor__max_depth\n",
      "decisiontreeregressor__max_features\n",
      "decisiontreeregressor__max_leaf_nodes\n",
      "decisiontreeregressor__min_impurity_decrease\n",
      "decisiontreeregressor__min_impurity_split\n",
      "decisiontreeregressor__min_samples_leaf\n",
      "decisiontreeregressor__min_samples_split\n",
      "decisiontreeregressor__min_weight_fraction_leaf\n",
      "decisiontreeregressor__random_state\n",
      "decisiontreeregressor__splitter\n"
     ]
    }
   ],
   "metadata": {}
  },
  {
   "cell_type": "markdown",
   "source": [
    "**.get_params()** retorna um dicionário aonde as chaves são os nomes dos parâmetros e os valores associados a cada um dos parâmetros. Para acessar um simples parâmetro, por exemplo *\"decisiontreeregressor__max_depth\"*, podemos usar:"
   ],
   "metadata": {}
  },
  {
   "cell_type": "code",
   "execution_count": 87,
   "source": [
    "model.set_params(decisiontreeregressor__max_depth = 10)\n",
    "cv_results = cross_validate(model, data, target, scoring = 'neg_mean_squared_error')\n",
    "cv_results = pd.DataFrame(cv_results)\n",
    "cv_results['test_error'] = -cv_results['test_score']\n",
    "scores = cv_results['test_error']\n",
    "print(f\"O RMSE via validação cruzada é:\\n\"\n",
    "      f\"{scores.mean():.3f} +/- {scores.std():.3f}\")"
   ],
   "outputs": [
    {
     "output_type": "stream",
     "name": "stdout",
     "text": [
      "O RMSE via validação cruzada é:\n",
      "6625.249 +/- 881.826\n"
     ]
    }
   ],
   "metadata": {}
  },
  {
   "cell_type": "code",
   "execution_count": 88,
   "source": [
    "max_depth_value = model.get_params()['decisiontreeregressor__max_depth']\n",
    "print(f\"O valor default do max_depth no pipeline criado é: \\n {max_depth_value}\")"
   ],
   "outputs": [
    {
     "output_type": "stream",
     "name": "stdout",
     "text": [
      "O valor default do max_depth no pipeline criado é: \n",
      " 10\n"
     ]
    }
   ],
   "metadata": {}
  },
  {
   "cell_type": "code",
   "execution_count": 91,
   "source": [
    "for max_depth in [None, 1, 5, 10, 50, 100]:\n",
    "    model.set_params(decisiontreeregressor__max_depth = max_depth)\n",
    "    cv_results = cross_validate(model, data, target, scoring = 'neg_mean_squared_error')\n",
    "    cv_results = pd.DataFrame(cv_results)\n",
    "    cv_results['test_error'] = -cv_results['test_score']\n",
    "    scores = cv_results['test_error']\n",
    "    print(f\"O RMSE via validação cruzada com max_depth = {max_depth}:\\n\"\n",
    "          f\"{scores.mean():.3f} +/- {scores.std():.3f}\")"
   ],
   "outputs": [
    {
     "output_type": "stream",
     "name": "stdout",
     "text": [
      "O RMSE via validação cruzada com max_depth = None:\n",
      "8396.313 +/- 710.707\n",
      "O RMSE via validação cruzada com max_depth = 1:\n",
      "9547.850 +/- 827.611\n",
      "O RMSE via validação cruzada com max_depth = 5:\n",
      "6658.528 +/- 1026.323\n",
      "O RMSE via validação cruzada com max_depth = 10:\n",
      "6625.249 +/- 881.826\n",
      "O RMSE via validação cruzada com max_depth = 50:\n",
      "8396.313 +/- 710.707\n",
      "O RMSE via validação cruzada com max_depth = 100:\n",
      "8396.313 +/- 710.707\n"
     ]
    }
   ],
   "metadata": {}
  },
  {
   "cell_type": "markdown",
   "source": [
    "### Warning:\n",
    "***\n",
    "\n",
    "Quando avaliamos uma família de modelos nos dados de teste e escolhemos o que performa estatisticamente melhor, nós não podemos mais confiar no score da previsão, e nós precisamos aplicar o modelo selecionado em um novo dado. Como o conjunto de teste foi usado para selecionar o modelo, este não é mais independente do modelo. Para resolver esses problemas é bom separar os dados em treino, teste e validação."
   ],
   "metadata": {}
  },
  {
   "cell_type": "markdown",
   "source": [],
   "metadata": {}
  }
 ],
 "metadata": {
  "orig_nbformat": 4,
  "language_info": {
   "name": "python"
  }
 },
 "nbformat": 4,
 "nbformat_minor": 2
}