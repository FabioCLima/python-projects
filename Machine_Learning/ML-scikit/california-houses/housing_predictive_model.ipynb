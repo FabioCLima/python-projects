{
 "cells": [
  {
   "cell_type": "markdown",
   "source": [
    "# Modelo preditivo\n",
    "***\n",
    "\n",
    "Neste dataset, o objetivo é prever o valor da mediana dos preços da casa na área de California. As features coletadas se baseam no estado real e informação geográfica.\n",
    "\n",
    "Como o objetivo é prever um valor contínuo, esta tarefa é de regressão."
   ],
   "metadata": {}
  },
  {
   "cell_type": "code",
   "execution_count": 1,
   "source": [
    "from sklearn.datasets import fetch_california_housing\n",
    "\n",
    "housing = fetch_california_housing(as_frame=True)\n",
    "data, target = housing.data, housing.target"
   ],
   "outputs": [],
   "metadata": {}
  },
  {
   "cell_type": "code",
   "execution_count": 2,
   "source": [
    "print(housing.DESCR)"
   ],
   "outputs": [
    {
     "output_type": "stream",
     "name": "stdout",
     "text": [
      ".. _california_housing_dataset:\n",
      "\n",
      "California Housing dataset\n",
      "--------------------------\n",
      "\n",
      "**Data Set Characteristics:**\n",
      "\n",
      "    :Number of Instances: 20640\n",
      "\n",
      "    :Number of Attributes: 8 numeric, predictive attributes and the target\n",
      "\n",
      "    :Attribute Information:\n",
      "        - MedInc        median income in block\n",
      "        - HouseAge      median house age in block\n",
      "        - AveRooms      average number of rooms\n",
      "        - AveBedrms     average number of bedrooms\n",
      "        - Population    block population\n",
      "        - AveOccup      average house occupancy\n",
      "        - Latitude      house block latitude\n",
      "        - Longitude     house block longitude\n",
      "\n",
      "    :Missing Attribute Values: None\n",
      "\n",
      "This dataset was obtained from the StatLib repository.\n",
      "http://lib.stat.cmu.edu/datasets/\n",
      "\n",
      "The target variable is the median house value for California districts.\n",
      "\n",
      "This dataset was derived from the 1990 U.S. census, using one row per census\n",
      "block group. A block group is the smallest geographical unit for which the U.S.\n",
      "Census Bureau publishes sample data (a block group typically has a population\n",
      "of 600 to 3,000 people).\n",
      "\n",
      "It can be downloaded/loaded using the\n",
      ":func:`sklearn.datasets.fetch_california_housing` function.\n",
      "\n",
      ".. topic:: References\n",
      "\n",
      "    - Pace, R. Kelley and Ronald Barry, Sparse Spatial Autoregressions,\n",
      "      Statistics and Probability Letters, 33 (1997) 291-297\n",
      "\n"
     ]
    }
   ],
   "metadata": {}
  },
  {
   "cell_type": "code",
   "execution_count": 3,
   "source": [
    "data.head()"
   ],
   "outputs": [
    {
     "output_type": "execute_result",
     "data": {
      "text/plain": [
       "   MedInc  HouseAge  AveRooms  AveBedrms  Population  AveOccup  Latitude  \\\n",
       "0  8.3252      41.0  6.984127   1.023810       322.0  2.555556     37.88   \n",
       "1  8.3014      21.0  6.238137   0.971880      2401.0  2.109842     37.86   \n",
       "2  7.2574      52.0  8.288136   1.073446       496.0  2.802260     37.85   \n",
       "3  5.6431      52.0  5.817352   1.073059       558.0  2.547945     37.85   \n",
       "4  3.8462      52.0  6.281853   1.081081       565.0  2.181467     37.85   \n",
       "\n",
       "   Longitude  \n",
       "0    -122.23  \n",
       "1    -122.22  \n",
       "2    -122.24  \n",
       "3    -122.25  \n",
       "4    -122.25  "
      ],
      "text/html": [
       "<div>\n",
       "<style scoped>\n",
       "    .dataframe tbody tr th:only-of-type {\n",
       "        vertical-align: middle;\n",
       "    }\n",
       "\n",
       "    .dataframe tbody tr th {\n",
       "        vertical-align: top;\n",
       "    }\n",
       "\n",
       "    .dataframe thead th {\n",
       "        text-align: right;\n",
       "    }\n",
       "</style>\n",
       "<table border=\"1\" class=\"dataframe\">\n",
       "  <thead>\n",
       "    <tr style=\"text-align: right;\">\n",
       "      <th></th>\n",
       "      <th>MedInc</th>\n",
       "      <th>HouseAge</th>\n",
       "      <th>AveRooms</th>\n",
       "      <th>AveBedrms</th>\n",
       "      <th>Population</th>\n",
       "      <th>AveOccup</th>\n",
       "      <th>Latitude</th>\n",
       "      <th>Longitude</th>\n",
       "    </tr>\n",
       "  </thead>\n",
       "  <tbody>\n",
       "    <tr>\n",
       "      <th>0</th>\n",
       "      <td>8.3252</td>\n",
       "      <td>41.0</td>\n",
       "      <td>6.984127</td>\n",
       "      <td>1.023810</td>\n",
       "      <td>322.0</td>\n",
       "      <td>2.555556</td>\n",
       "      <td>37.88</td>\n",
       "      <td>-122.23</td>\n",
       "    </tr>\n",
       "    <tr>\n",
       "      <th>1</th>\n",
       "      <td>8.3014</td>\n",
       "      <td>21.0</td>\n",
       "      <td>6.238137</td>\n",
       "      <td>0.971880</td>\n",
       "      <td>2401.0</td>\n",
       "      <td>2.109842</td>\n",
       "      <td>37.86</td>\n",
       "      <td>-122.22</td>\n",
       "    </tr>\n",
       "    <tr>\n",
       "      <th>2</th>\n",
       "      <td>7.2574</td>\n",
       "      <td>52.0</td>\n",
       "      <td>8.288136</td>\n",
       "      <td>1.073446</td>\n",
       "      <td>496.0</td>\n",
       "      <td>2.802260</td>\n",
       "      <td>37.85</td>\n",
       "      <td>-122.24</td>\n",
       "    </tr>\n",
       "    <tr>\n",
       "      <th>3</th>\n",
       "      <td>5.6431</td>\n",
       "      <td>52.0</td>\n",
       "      <td>5.817352</td>\n",
       "      <td>1.073059</td>\n",
       "      <td>558.0</td>\n",
       "      <td>2.547945</td>\n",
       "      <td>37.85</td>\n",
       "      <td>-122.25</td>\n",
       "    </tr>\n",
       "    <tr>\n",
       "      <th>4</th>\n",
       "      <td>3.8462</td>\n",
       "      <td>52.0</td>\n",
       "      <td>6.281853</td>\n",
       "      <td>1.081081</td>\n",
       "      <td>565.0</td>\n",
       "      <td>2.181467</td>\n",
       "      <td>37.85</td>\n",
       "      <td>-122.25</td>\n",
       "    </tr>\n",
       "  </tbody>\n",
       "</table>\n",
       "</div>"
      ]
     },
     "metadata": {},
     "execution_count": 3
    }
   ],
   "metadata": {}
  },
  {
   "cell_type": "markdown",
   "source": [
    "Para facilitar futura visualização, vamos transformar os preços de dólar($) para (k$)."
   ],
   "metadata": {}
  },
  {
   "cell_type": "code",
   "execution_count": 4,
   "source": [
    "target *= 100\n",
    "target.head() # rescale the target in k$"
   ],
   "outputs": [
    {
     "output_type": "execute_result",
     "data": {
      "text/plain": [
       "0    452.6\n",
       "1    358.5\n",
       "2    352.1\n",
       "3    341.3\n",
       "4    342.2\n",
       "Name: MedHouseVal, dtype: float64"
      ]
     },
     "metadata": {},
     "execution_count": 4
    }
   ],
   "metadata": {}
  },
  {
   "cell_type": "markdown",
   "source": [
    "## Erro de treinamento vs erro de teste."
   ],
   "metadata": {}
  },
  {
   "cell_type": "code",
   "execution_count": 5,
   "source": [
    "from sklearn.tree import DecisionTreeRegressor\n",
    "from sklearn import set_config\n",
    "set_config(display='diagram')\n",
    "\n",
    "tree_reg = DecisionTreeRegressor(random_state=0)\n",
    "tree_reg.fit(data, target)"
   ],
   "outputs": [
    {
     "output_type": "execute_result",
     "data": {
      "text/plain": [
       "DecisionTreeRegressor(random_state=0)"
      ],
      "text/html": [
       "<style>#sk-c48eec6a-6ec4-463e-84ec-e5c6c06f8c52 {color: black;background-color: white;}#sk-c48eec6a-6ec4-463e-84ec-e5c6c06f8c52 pre{padding: 0;}#sk-c48eec6a-6ec4-463e-84ec-e5c6c06f8c52 div.sk-toggleable {background-color: white;}#sk-c48eec6a-6ec4-463e-84ec-e5c6c06f8c52 label.sk-toggleable__label {cursor: pointer;display: block;width: 100%;margin-bottom: 0;padding: 0.2em 0.3em;box-sizing: border-box;text-align: center;}#sk-c48eec6a-6ec4-463e-84ec-e5c6c06f8c52 div.sk-toggleable__content {max-height: 0;max-width: 0;overflow: hidden;text-align: left;background-color: #f0f8ff;}#sk-c48eec6a-6ec4-463e-84ec-e5c6c06f8c52 div.sk-toggleable__content pre {margin: 0.2em;color: black;border-radius: 0.25em;background-color: #f0f8ff;}#sk-c48eec6a-6ec4-463e-84ec-e5c6c06f8c52 input.sk-toggleable__control:checked~div.sk-toggleable__content {max-height: 200px;max-width: 100%;overflow: auto;}#sk-c48eec6a-6ec4-463e-84ec-e5c6c06f8c52 div.sk-estimator input.sk-toggleable__control:checked~label.sk-toggleable__label {background-color: #d4ebff;}#sk-c48eec6a-6ec4-463e-84ec-e5c6c06f8c52 div.sk-label input.sk-toggleable__control:checked~label.sk-toggleable__label {background-color: #d4ebff;}#sk-c48eec6a-6ec4-463e-84ec-e5c6c06f8c52 input.sk-hidden--visually {border: 0;clip: rect(1px 1px 1px 1px);clip: rect(1px, 1px, 1px, 1px);height: 1px;margin: -1px;overflow: hidden;padding: 0;position: absolute;width: 1px;}#sk-c48eec6a-6ec4-463e-84ec-e5c6c06f8c52 div.sk-estimator {font-family: monospace;background-color: #f0f8ff;margin: 0.25em 0.25em;border: 1px dotted black;border-radius: 0.25em;box-sizing: border-box;}#sk-c48eec6a-6ec4-463e-84ec-e5c6c06f8c52 div.sk-estimator:hover {background-color: #d4ebff;}#sk-c48eec6a-6ec4-463e-84ec-e5c6c06f8c52 div.sk-parallel-item::after {content: \"\";width: 100%;border-bottom: 1px solid gray;flex-grow: 1;}#sk-c48eec6a-6ec4-463e-84ec-e5c6c06f8c52 div.sk-label:hover label.sk-toggleable__label {background-color: #d4ebff;}#sk-c48eec6a-6ec4-463e-84ec-e5c6c06f8c52 div.sk-serial::before {content: \"\";position: absolute;border-left: 1px solid gray;box-sizing: border-box;top: 2em;bottom: 0;left: 50%;}#sk-c48eec6a-6ec4-463e-84ec-e5c6c06f8c52 div.sk-serial {display: flex;flex-direction: column;align-items: center;background-color: white;}#sk-c48eec6a-6ec4-463e-84ec-e5c6c06f8c52 div.sk-item {z-index: 1;}#sk-c48eec6a-6ec4-463e-84ec-e5c6c06f8c52 div.sk-parallel {display: flex;align-items: stretch;justify-content: center;background-color: white;}#sk-c48eec6a-6ec4-463e-84ec-e5c6c06f8c52 div.sk-parallel-item {display: flex;flex-direction: column;position: relative;background-color: white;}#sk-c48eec6a-6ec4-463e-84ec-e5c6c06f8c52 div.sk-parallel-item:first-child::after {align-self: flex-end;width: 50%;}#sk-c48eec6a-6ec4-463e-84ec-e5c6c06f8c52 div.sk-parallel-item:last-child::after {align-self: flex-start;width: 50%;}#sk-c48eec6a-6ec4-463e-84ec-e5c6c06f8c52 div.sk-parallel-item:only-child::after {width: 0;}#sk-c48eec6a-6ec4-463e-84ec-e5c6c06f8c52 div.sk-dashed-wrapped {border: 1px dashed gray;margin: 0.2em;box-sizing: border-box;padding-bottom: 0.1em;background-color: white;position: relative;}#sk-c48eec6a-6ec4-463e-84ec-e5c6c06f8c52 div.sk-label label {font-family: monospace;font-weight: bold;background-color: white;display: inline-block;line-height: 1.2em;}#sk-c48eec6a-6ec4-463e-84ec-e5c6c06f8c52 div.sk-label-container {position: relative;z-index: 2;text-align: center;}#sk-c48eec6a-6ec4-463e-84ec-e5c6c06f8c52 div.sk-container {display: inline-block;position: relative;}</style><div id=\"sk-c48eec6a-6ec4-463e-84ec-e5c6c06f8c52\" class\"sk-top-container\"><div class=\"sk-container\"><div class=\"sk-item\"><div class=\"sk-estimator sk-toggleable\"><input class=\"sk-toggleable__control sk-hidden--visually\" id=\"ecd06308-17a9-4feb-a451-7becf659cf3b\" type=\"checkbox\" checked><label class=\"sk-toggleable__label\" for=\"ecd06308-17a9-4feb-a451-7becf659cf3b\">DecisionTreeRegressor</label><div class=\"sk-toggleable__content\"><pre>DecisionTreeRegressor(random_state=0)</pre></div></div></div></div></div>"
      ]
     },
     "metadata": {},
     "execution_count": 5
    }
   ],
   "metadata": {}
  },
  {
   "cell_type": "markdown",
   "source": [
    "Depois de treinar o modelo, queremos avaliar a performance estatística antes de colocar o modelo em produção. Para isso vamos usar a métrica **mean absolute error**, que nos dá o erro na unidade nativa do variável target, que aqui será (k$).\n",
    "*erro médio absoluto expressa o erro de previsão médio absoluto do modelo. Se quisermos ignorar os outliers, é uma boa métrica para ser usada."
   ],
   "metadata": {}
  },
  {
   "cell_type": "code",
   "execution_count": 6,
   "source": [
    "from sklearn.metrics import mean_absolute_error\n",
    "\n",
    "target_predicted = tree_reg.predict(data)\n",
    "score = mean_absolute_error(target, target_predicted)\n",
    "print(f\"Na média, nosso regressor erra por {score:.2f} k$\")"
   ],
   "outputs": [
    {
     "output_type": "stream",
     "name": "stdout",
     "text": [
      "Na média, nosso regressor erra por 0.00 k$\n"
     ]
    }
   ],
   "metadata": {}
  },
  {
   "cell_type": "markdown",
   "source": [
    "O erro computado acima é chamado de erro empirico ou erro de treinamento.\n",
    "\n",
    "Nos treinamos um modelo preditivo para minimizar o erro de treinamento, mas nosso objetivo é minimizar o erro nos dados não vistos na etapa de treinamento.\n",
    "\n",
    "Esse erro é chamado de erro de generalização ou \"true\" **erro de teste**."
   ],
   "metadata": {}
  },
  {
   "cell_type": "markdown",
   "source": [
    "### Avaliação de modelo envolve(steps):\n",
    "***\n",
    "\n",
    "* dividir o dataset em 2 subsets: conj. treinamento e conj. teste\n",
    "* treinar o modelo no conjunto de treinamento.\n",
    "* estimação do erro de treinamento calculado no conjunto de treinamento.\n",
    "* estimação do erro de teste calculado no conjunto de teste"
   ],
   "metadata": {}
  },
  {
   "cell_type": "markdown",
   "source": [
    "Dividir os dados em treinamento e teste:"
   ],
   "metadata": {}
  },
  {
   "cell_type": "code",
   "execution_count": 7,
   "source": [
    "from sklearn.model_selection import train_test_split\n",
    "data_train, data_test, target_train, target_test = train_test_split(data, target, random_state = 0)"
   ],
   "outputs": [],
   "metadata": {}
  },
  {
   "cell_type": "code",
   "execution_count": 8,
   "source": [
    "tree_reg.fit(data_train, target_train)\n",
    "tree_reg"
   ],
   "outputs": [
    {
     "output_type": "execute_result",
     "data": {
      "text/plain": [
       "DecisionTreeRegressor(random_state=0)"
      ],
      "text/html": [
       "<style>#sk-1b41d7f9-c161-47fb-8fff-fbfb25e4737e {color: black;background-color: white;}#sk-1b41d7f9-c161-47fb-8fff-fbfb25e4737e pre{padding: 0;}#sk-1b41d7f9-c161-47fb-8fff-fbfb25e4737e div.sk-toggleable {background-color: white;}#sk-1b41d7f9-c161-47fb-8fff-fbfb25e4737e label.sk-toggleable__label {cursor: pointer;display: block;width: 100%;margin-bottom: 0;padding: 0.2em 0.3em;box-sizing: border-box;text-align: center;}#sk-1b41d7f9-c161-47fb-8fff-fbfb25e4737e div.sk-toggleable__content {max-height: 0;max-width: 0;overflow: hidden;text-align: left;background-color: #f0f8ff;}#sk-1b41d7f9-c161-47fb-8fff-fbfb25e4737e div.sk-toggleable__content pre {margin: 0.2em;color: black;border-radius: 0.25em;background-color: #f0f8ff;}#sk-1b41d7f9-c161-47fb-8fff-fbfb25e4737e input.sk-toggleable__control:checked~div.sk-toggleable__content {max-height: 200px;max-width: 100%;overflow: auto;}#sk-1b41d7f9-c161-47fb-8fff-fbfb25e4737e div.sk-estimator input.sk-toggleable__control:checked~label.sk-toggleable__label {background-color: #d4ebff;}#sk-1b41d7f9-c161-47fb-8fff-fbfb25e4737e div.sk-label input.sk-toggleable__control:checked~label.sk-toggleable__label {background-color: #d4ebff;}#sk-1b41d7f9-c161-47fb-8fff-fbfb25e4737e input.sk-hidden--visually {border: 0;clip: rect(1px 1px 1px 1px);clip: rect(1px, 1px, 1px, 1px);height: 1px;margin: -1px;overflow: hidden;padding: 0;position: absolute;width: 1px;}#sk-1b41d7f9-c161-47fb-8fff-fbfb25e4737e div.sk-estimator {font-family: monospace;background-color: #f0f8ff;margin: 0.25em 0.25em;border: 1px dotted black;border-radius: 0.25em;box-sizing: border-box;}#sk-1b41d7f9-c161-47fb-8fff-fbfb25e4737e div.sk-estimator:hover {background-color: #d4ebff;}#sk-1b41d7f9-c161-47fb-8fff-fbfb25e4737e div.sk-parallel-item::after {content: \"\";width: 100%;border-bottom: 1px solid gray;flex-grow: 1;}#sk-1b41d7f9-c161-47fb-8fff-fbfb25e4737e div.sk-label:hover label.sk-toggleable__label {background-color: #d4ebff;}#sk-1b41d7f9-c161-47fb-8fff-fbfb25e4737e div.sk-serial::before {content: \"\";position: absolute;border-left: 1px solid gray;box-sizing: border-box;top: 2em;bottom: 0;left: 50%;}#sk-1b41d7f9-c161-47fb-8fff-fbfb25e4737e div.sk-serial {display: flex;flex-direction: column;align-items: center;background-color: white;}#sk-1b41d7f9-c161-47fb-8fff-fbfb25e4737e div.sk-item {z-index: 1;}#sk-1b41d7f9-c161-47fb-8fff-fbfb25e4737e div.sk-parallel {display: flex;align-items: stretch;justify-content: center;background-color: white;}#sk-1b41d7f9-c161-47fb-8fff-fbfb25e4737e div.sk-parallel-item {display: flex;flex-direction: column;position: relative;background-color: white;}#sk-1b41d7f9-c161-47fb-8fff-fbfb25e4737e div.sk-parallel-item:first-child::after {align-self: flex-end;width: 50%;}#sk-1b41d7f9-c161-47fb-8fff-fbfb25e4737e div.sk-parallel-item:last-child::after {align-self: flex-start;width: 50%;}#sk-1b41d7f9-c161-47fb-8fff-fbfb25e4737e div.sk-parallel-item:only-child::after {width: 0;}#sk-1b41d7f9-c161-47fb-8fff-fbfb25e4737e div.sk-dashed-wrapped {border: 1px dashed gray;margin: 0.2em;box-sizing: border-box;padding-bottom: 0.1em;background-color: white;position: relative;}#sk-1b41d7f9-c161-47fb-8fff-fbfb25e4737e div.sk-label label {font-family: monospace;font-weight: bold;background-color: white;display: inline-block;line-height: 1.2em;}#sk-1b41d7f9-c161-47fb-8fff-fbfb25e4737e div.sk-label-container {position: relative;z-index: 2;text-align: center;}#sk-1b41d7f9-c161-47fb-8fff-fbfb25e4737e div.sk-container {display: inline-block;position: relative;}</style><div id=\"sk-1b41d7f9-c161-47fb-8fff-fbfb25e4737e\" class\"sk-top-container\"><div class=\"sk-container\"><div class=\"sk-item\"><div class=\"sk-estimator sk-toggleable\"><input class=\"sk-toggleable__control sk-hidden--visually\" id=\"f8da2ac1-d8fd-48b2-b321-c5a6627f89d0\" type=\"checkbox\" checked><label class=\"sk-toggleable__label\" for=\"f8da2ac1-d8fd-48b2-b321-c5a6627f89d0\">DecisionTreeRegressor</label><div class=\"sk-toggleable__content\"><pre>DecisionTreeRegressor(random_state=0)</pre></div></div></div></div></div>"
      ]
     },
     "metadata": {},
     "execution_count": 8
    }
   ],
   "metadata": {}
  },
  {
   "cell_type": "code",
   "execution_count": 9,
   "source": [
    "target_predicted = tree_reg.predict(data_train)\n",
    "score = mean_absolute_error(target_train, target_predicted)\n",
    "print(f\"O erro de treinamento do nosso modelo é: {score:.2f} k$\")"
   ],
   "outputs": [
    {
     "output_type": "stream",
     "name": "stdout",
     "text": [
      "O erro de treinamento do nosso modelo é: 0.00 k$\n"
     ]
    }
   ],
   "metadata": {}
  },
  {
   "cell_type": "markdown",
   "source": [
    "Observamos a mesma solução anterior, o que indica que nosso modelo memorizou os dados. Vamos computar o erro de teste para ver o que obtemos."
   ],
   "metadata": {}
  },
  {
   "cell_type": "code",
   "execution_count": 10,
   "source": [
    "target_predicted = tree_reg.predict(data_test)\n",
    "score = mean_absolute_error(target_test, target_predicted)\n",
    "print(f\"O erro de teste do nosso modelo é: {score:.2f} k$\")"
   ],
   "outputs": [
    {
     "output_type": "stream",
     "name": "stdout",
     "text": [
      "O erro de teste do nosso modelo é: 47.28 k$\n"
     ]
    }
   ],
   "metadata": {}
  },
  {
   "cell_type": "markdown",
   "source": [
    "O erro com respeito ao conjunto de teste é o que esperaríamos do nosso modelo em um ambiente de produção."
   ],
   "metadata": {}
  },
  {
   "cell_type": "markdown",
   "source": [
    "### Estabilidade da validação cruzada\n",
    "***\n",
    "\n",
    "Quando executamos uma simples divisão train-test nós não temos nenhuma indicação com respeito a robustez da avaliação do nosso modelo preditivo: em particular, se o conjunto de teste é pequeno, a estimação do erro de teste será instável e não refletirá a verdadeira taxa de erro que poderia ser observado com o mesmo modelo em uma quantidade ilimitada de dados para teste.\n",
    "\n",
    "Ou poderíamos ter sorte e na nossa divisão aleatória do nosso dataset limitado, e conseguirmos somente casos simples para prever no conjunto de teste, apenas por chance. A estimação do erro não refletiria  a realidade e seria otimista.\n",
    "\n",
    "**Cross-validation** permitir estimar a robustez do modelo preditivo repetindo o procedimento de divisão. Isso daria muitos conjuntos de treinamento/teste para avaliar os erros associados e então teríamos como estimar a variabilidade da performance estatística do nosso modelo."
   ],
   "metadata": {}
  },
  {
   "cell_type": "code",
   "execution_count": 11,
   "source": [
    "from sklearn.model_selection import cross_validate\n",
    "from sklearn.model_selection import ShuffleSplit\n",
    "\n",
    "cv = ShuffleSplit(n_splits=40, test_size=0.3, random_state=0)\n",
    "cv_results = cross_validate(\n",
    "    tree_reg, data, target, cv=cv, scoring=\"neg_mean_absolute_error\")"
   ],
   "outputs": [],
   "metadata": {}
  },
  {
   "cell_type": "code",
   "execution_count": 12,
   "source": [
    "import pandas as pd\n",
    "\n",
    "cv_results = pd.DataFrame(cv_results)\n",
    "cv_results.head()"
   ],
   "outputs": [
    {
     "output_type": "execute_result",
     "data": {
      "text/plain": [
       "   fit_time  score_time  test_score\n",
       "0  0.172456    0.004499  -46.909797\n",
       "1  0.189371    0.005185  -46.421170\n",
       "2  0.181118    0.006346  -47.411089\n",
       "3  0.165489    0.004512  -44.319824\n",
       "4  0.162273    0.004683  -47.607875"
      ],
      "text/html": [
       "<div>\n",
       "<style scoped>\n",
       "    .dataframe tbody tr th:only-of-type {\n",
       "        vertical-align: middle;\n",
       "    }\n",
       "\n",
       "    .dataframe tbody tr th {\n",
       "        vertical-align: top;\n",
       "    }\n",
       "\n",
       "    .dataframe thead th {\n",
       "        text-align: right;\n",
       "    }\n",
       "</style>\n",
       "<table border=\"1\" class=\"dataframe\">\n",
       "  <thead>\n",
       "    <tr style=\"text-align: right;\">\n",
       "      <th></th>\n",
       "      <th>fit_time</th>\n",
       "      <th>score_time</th>\n",
       "      <th>test_score</th>\n",
       "    </tr>\n",
       "  </thead>\n",
       "  <tbody>\n",
       "    <tr>\n",
       "      <th>0</th>\n",
       "      <td>0.172456</td>\n",
       "      <td>0.004499</td>\n",
       "      <td>-46.909797</td>\n",
       "    </tr>\n",
       "    <tr>\n",
       "      <th>1</th>\n",
       "      <td>0.189371</td>\n",
       "      <td>0.005185</td>\n",
       "      <td>-46.421170</td>\n",
       "    </tr>\n",
       "    <tr>\n",
       "      <th>2</th>\n",
       "      <td>0.181118</td>\n",
       "      <td>0.006346</td>\n",
       "      <td>-47.411089</td>\n",
       "    </tr>\n",
       "    <tr>\n",
       "      <th>3</th>\n",
       "      <td>0.165489</td>\n",
       "      <td>0.004512</td>\n",
       "      <td>-44.319824</td>\n",
       "    </tr>\n",
       "    <tr>\n",
       "      <th>4</th>\n",
       "      <td>0.162273</td>\n",
       "      <td>0.004683</td>\n",
       "      <td>-47.607875</td>\n",
       "    </tr>\n",
       "  </tbody>\n",
       "</table>\n",
       "</div>"
      ]
     },
     "metadata": {},
     "execution_count": 12
    }
   ],
   "metadata": {}
  },
  {
   "cell_type": "markdown",
   "source": [
    "Uma pontuação(score) é uma métrica para a qual valores mais altos significam melhores resultados. Pelo contrário, um erro é uma métrica para a qual valores mais baixos significam melhores resultados. A pontuação de parâmetro em cross_validate sempre espera uma função que seja uma pontuação.\n",
    "\n",
    "Para facilitar, todas as métricas de erro no scikit-learn, como mean_absolute_error, podem ser transformadas em uma pontuação a ser usada em cross_validate. Para fazer isso, você precisa passar uma string da métrica de erro com uma string neg_ adicional na frente para a pontuação do parâmetro; por exemplo scoring = \"neg_mean_absolute_error\". Neste caso, o negativo do erro absoluto médio será calculado, o que seria equivalente a uma pontuação."
   ],
   "metadata": {}
  },
  {
   "cell_type": "markdown",
   "source": [
    "Vamos reverter a negação para pegar o erro atual."
   ],
   "metadata": {}
  },
  {
   "cell_type": "code",
   "execution_count": 13,
   "source": [
    "cv_results['test_error'] = -cv_results['test_score']\n",
    "cv_results.head()"
   ],
   "outputs": [
    {
     "output_type": "execute_result",
     "data": {
      "text/plain": [
       "   fit_time  score_time  test_score  test_error\n",
       "0  0.172456    0.004499  -46.909797   46.909797\n",
       "1  0.189371    0.005185  -46.421170   46.421170\n",
       "2  0.181118    0.006346  -47.411089   47.411089\n",
       "3  0.165489    0.004512  -44.319824   44.319824\n",
       "4  0.162273    0.004683  -47.607875   47.607875"
      ],
      "text/html": [
       "<div>\n",
       "<style scoped>\n",
       "    .dataframe tbody tr th:only-of-type {\n",
       "        vertical-align: middle;\n",
       "    }\n",
       "\n",
       "    .dataframe tbody tr th {\n",
       "        vertical-align: top;\n",
       "    }\n",
       "\n",
       "    .dataframe thead th {\n",
       "        text-align: right;\n",
       "    }\n",
       "</style>\n",
       "<table border=\"1\" class=\"dataframe\">\n",
       "  <thead>\n",
       "    <tr style=\"text-align: right;\">\n",
       "      <th></th>\n",
       "      <th>fit_time</th>\n",
       "      <th>score_time</th>\n",
       "      <th>test_score</th>\n",
       "      <th>test_error</th>\n",
       "    </tr>\n",
       "  </thead>\n",
       "  <tbody>\n",
       "    <tr>\n",
       "      <th>0</th>\n",
       "      <td>0.172456</td>\n",
       "      <td>0.004499</td>\n",
       "      <td>-46.909797</td>\n",
       "      <td>46.909797</td>\n",
       "    </tr>\n",
       "    <tr>\n",
       "      <th>1</th>\n",
       "      <td>0.189371</td>\n",
       "      <td>0.005185</td>\n",
       "      <td>-46.421170</td>\n",
       "      <td>46.421170</td>\n",
       "    </tr>\n",
       "    <tr>\n",
       "      <th>2</th>\n",
       "      <td>0.181118</td>\n",
       "      <td>0.006346</td>\n",
       "      <td>-47.411089</td>\n",
       "      <td>47.411089</td>\n",
       "    </tr>\n",
       "    <tr>\n",
       "      <th>3</th>\n",
       "      <td>0.165489</td>\n",
       "      <td>0.004512</td>\n",
       "      <td>-44.319824</td>\n",
       "      <td>44.319824</td>\n",
       "    </tr>\n",
       "    <tr>\n",
       "      <th>4</th>\n",
       "      <td>0.162273</td>\n",
       "      <td>0.004683</td>\n",
       "      <td>-47.607875</td>\n",
       "      <td>47.607875</td>\n",
       "    </tr>\n",
       "  </tbody>\n",
       "</table>\n",
       "</div>"
      ]
     },
     "metadata": {},
     "execution_count": 13
    }
   ],
   "metadata": {}
  },
  {
   "cell_type": "markdown",
   "source": [
    "Nós podemos ler no dataframe acima, o tempo de treinamento de cada fold, predição de cada iteração da validação cruzada. Como também podemos pegar o score de teste que corresponde ao erro de teste em cada fold."
   ],
   "metadata": {}
  },
  {
   "cell_type": "markdown",
   "source": [
    "Podemos usar os folds da validação cruzada para olhar os erros de teste e através da análise visual da sua distribuição estimar a variabilidade.\n"
   ],
   "metadata": {}
  },
  {
   "cell_type": "code",
   "execution_count": 14,
   "source": [
    "import matplotlib.pyplot as plt\n",
    "\n",
    "cv_results[\"test_error\"].plot.hist(bins=10, edgecolor=\"black\", density=True)\n",
    "plt.xlabel(\"Mean absolute error (k$)\")\n",
    "_ = plt.title(\"Test error distribution\")"
   ],
   "outputs": [
    {
     "output_type": "display_data",
     "data": {
      "text/plain": [
       "<Figure size 432x288 with 1 Axes>"
      ],
      "image/png": "[encoded data removed]"
     },
     "metadata": {
      "needs_background": "light"
     }
    }
   ],
   "metadata": {}
  },
  {
   "cell_type": "markdown",
   "source": [
    "Podemos observar que o erro no conjunto de teste é centralizado ao redor de $47 k$ USD e varia entre 43 k$ a 50 k$."
   ],
   "metadata": {}
  },
  {
   "cell_type": "code",
   "execution_count": 15,
   "source": [
    "print(f\"A média do erro de teste na validação cruzada é: {cv_results['test_error'].mean():.2f} k$\")"
   ],
   "outputs": [
    {
     "output_type": "stream",
     "name": "stdout",
     "text": [
      "A média do erro de teste na validação cruzada é: 46.36 k$\n"
     ]
    }
   ],
   "metadata": {}
  },
  {
   "cell_type": "code",
   "execution_count": 16,
   "source": [
    "print(f\"O desvio padrão do erro de teste é: {cv_results['test_error'].std():.2f} k$\")"
   ],
   "outputs": [
    {
     "output_type": "stream",
     "name": "stdout",
     "text": [
      "O desvio padrão do erro de teste é: 1.17 k$\n"
     ]
    }
   ],
   "metadata": {}
  },
  {
   "cell_type": "markdown",
   "source": [
    "Podemos notar que o desvio padrão do erro de teste é bem menor que a média do erro. Poderíamos comparar o erro de teste com a variabilidade natural do nosso target do dataset."
   ],
   "metadata": {}
  },
  {
   "cell_type": "code",
   "execution_count": 17,
   "source": [
    "target.plot.hist(bins=20, edgecolor=\"black\", density=True)\n",
    "plt.xlabel(\"Median House Value (k$)\")\n",
    "_ = plt.title(\"Target distribution\")"
   ],
   "outputs": [
    {
     "output_type": "display_data",
     "data": {
      "text/plain": [
       "<Figure size 432x288 with 1 Axes>"
      ],
      "image/png": "[encoded data removed]"
     },
     "metadata": {
      "needs_background": "light"
     }
    }
   ],
   "metadata": {}
  },
  {
   "cell_type": "code",
   "execution_count": 18,
   "source": [
    "print(f\"O desvio padrão do target é :{target.std():.2f} k$\")"
   ],
   "outputs": [
    {
     "output_type": "stream",
     "name": "stdout",
     "text": [
      "O desvio padrão do target é :115.40 k$\n"
     ]
    }
   ],
   "metadata": {}
  },
  {
   "cell_type": "markdown",
   "source": [
    "Considerando o erro a média do erro obtido com validação cruzada que foi de $47 k$ USD, não é um problema qdo estivermos prevendo casas no valor de 500 k$, mas é um problema qdo o valor da casa é de 50 k$, o que nos indica que o erro médio absoluto não é a métrica ideal para esse problema. Podemos usar uma métrica relativa o valor do target da previsão, mean absolute percentage error seria uma melhor escolha.\n",
    "\n",
    "De qualquer maneira um erro de 47 k$ é muito grande para que usemos o nosso modelo para prever os valores dos preços das casas sem a supervisão de um expert do assunto."
   ],
   "metadata": {}
  },
  {
   "cell_type": "code",
   "execution_count": 19,
   "source": [
    "cv_results = cross_validate(tree_reg, data, target, return_estimator=True)\n",
    "cv_results"
   ],
   "outputs": [
    {
     "output_type": "execute_result",
     "data": {
      "text/plain": [
       "{'fit_time': array([0.21163654, 0.20255828, 0.25834179, 0.22371149, 0.19612169]),\n",
       " 'score_time': array([0.00467706, 0.00496078, 0.00698471, 0.00567222, 0.00409794]),\n",
       " 'estimator': [DecisionTreeRegressor(random_state=0),\n",
       "  DecisionTreeRegressor(random_state=0),\n",
       "  DecisionTreeRegressor(random_state=0),\n",
       "  DecisionTreeRegressor(random_state=0),\n",
       "  DecisionTreeRegressor(random_state=0)],\n",
       " 'test_score': array([0.26291527, 0.41947109, 0.44492564, 0.23357874, 0.40788361])}"
      ]
     },
     "metadata": {},
     "execution_count": 19
    }
   ],
   "metadata": {}
  },
  {
   "cell_type": "code",
   "execution_count": 20,
   "source": [
    "cv_results[\"estimator\"]"
   ],
   "outputs": [
    {
     "output_type": "execute_result",
     "data": {
      "text/plain": [
       "[DecisionTreeRegressor(random_state=0),\n",
       " DecisionTreeRegressor(random_state=0),\n",
       " DecisionTreeRegressor(random_state=0),\n",
       " DecisionTreeRegressor(random_state=0),\n",
       " DecisionTreeRegressor(random_state=0)]"
      ]
     },
     "metadata": {},
     "execution_count": 20
    }
   ],
   "metadata": {}
  },
  {
   "cell_type": "markdown",
   "source": [
    "Ter acesso aos regressores é útil porque permite a inspeção dos valores internos do fit destes regressores."
   ],
   "metadata": {}
  },
  {
   "cell_type": "code",
   "execution_count": 21,
   "source": [
    "from sklearn.model_selection import cross_val_score\n",
    "\n",
    "scores = cross_val_score(tree_reg, data, target)\n",
    "scores"
   ],
   "outputs": [
    {
     "output_type": "execute_result",
     "data": {
      "text/plain": [
       "array([0.26291527, 0.41947109, 0.44492564, 0.23357874, 0.40788361])"
      ]
     },
     "metadata": {},
     "execution_count": 21
    }
   ],
   "metadata": {}
  },
  {
   "cell_type": "code",
   "execution_count": 22,
   "source": [
    "data.columns"
   ],
   "outputs": [
    {
     "output_type": "execute_result",
     "data": {
      "text/plain": [
       "Index(['MedInc', 'HouseAge', 'AveRooms', 'AveBedrms', 'Population', 'AveOccup',\n",
       "       'Latitude', 'Longitude'],\n",
       "      dtype='object')"
      ]
     },
     "metadata": {},
     "execution_count": 22
    }
   ],
   "metadata": {}
  },
  {
   "cell_type": "code",
   "execution_count": 23,
   "source": [
    "target[:5]"
   ],
   "outputs": [
    {
     "output_type": "execute_result",
     "data": {
      "text/plain": [
       "0    452.6\n",
       "1    358.5\n",
       "2    352.1\n",
       "3    341.3\n",
       "4    342.2\n",
       "Name: MedHouseVal, dtype: float64"
      ]
     },
     "metadata": {},
     "execution_count": 23
    }
   ],
   "metadata": {}
  },
  {
   "cell_type": "code",
   "execution_count": 24,
   "source": [
    "from sklearn.linear_model import LinearRegression\n",
    "lin_reg = LinearRegression()"
   ],
   "outputs": [],
   "metadata": {}
  },
  {
   "cell_type": "code",
   "execution_count": 25,
   "source": [
    "from sklearn.pipeline import make_pipeline\n",
    "from sklearn.preprocessing import StandardScaler\n",
    "data.dtypes"
   ],
   "outputs": [
    {
     "output_type": "execute_result",
     "data": {
      "text/plain": [
       "MedInc        float64\n",
       "HouseAge      float64\n",
       "AveRooms      float64\n",
       "AveBedrms     float64\n",
       "Population    float64\n",
       "AveOccup      float64\n",
       "Latitude      float64\n",
       "Longitude     float64\n",
       "dtype: object"
      ]
     },
     "metadata": {},
     "execution_count": 25
    }
   ],
   "metadata": {}
  },
  {
   "cell_type": "code",
   "execution_count": 26,
   "source": [
    "linear_model = make_pipeline(\n",
    "    StandardScaler(),\n",
    "    LinearRegression()\n",
    ")\n",
    "linear_model"
   ],
   "outputs": [
    {
     "output_type": "execute_result",
     "data": {
      "text/plain": [
       "Pipeline(steps=[('standardscaler', StandardScaler()),\n",
       "                ('linearregression', LinearRegression())])"
      ],
      "text/html": [
       "<style>#sk-28037be0-e820-4610-9874-9d84c644d4e9 {color: black;background-color: white;}#sk-28037be0-e820-4610-9874-9d84c644d4e9 pre{padding: 0;}#sk-28037be0-e820-4610-9874-9d84c644d4e9 div.sk-toggleable {background-color: white;}#sk-28037be0-e820-4610-9874-9d84c644d4e9 label.sk-toggleable__label {cursor: pointer;display: block;width: 100%;margin-bottom: 0;padding: 0.2em 0.3em;box-sizing: border-box;text-align: center;}#sk-28037be0-e820-4610-9874-9d84c644d4e9 div.sk-toggleable__content {max-height: 0;max-width: 0;overflow: hidden;text-align: left;background-color: #f0f8ff;}#sk-28037be0-e820-4610-9874-9d84c644d4e9 div.sk-toggleable__content pre {margin: 0.2em;color: black;border-radius: 0.25em;background-color: #f0f8ff;}#sk-28037be0-e820-4610-9874-9d84c644d4e9 input.sk-toggleable__control:checked~div.sk-toggleable__content {max-height: 200px;max-width: 100%;overflow: auto;}#sk-28037be0-e820-4610-9874-9d84c644d4e9 div.sk-estimator input.sk-toggleable__control:checked~label.sk-toggleable__label {background-color: #d4ebff;}#sk-28037be0-e820-4610-9874-9d84c644d4e9 div.sk-label input.sk-toggleable__control:checked~label.sk-toggleable__label {background-color: #d4ebff;}#sk-28037be0-e820-4610-9874-9d84c644d4e9 input.sk-hidden--visually {border: 0;clip: rect(1px 1px 1px 1px);clip: rect(1px, 1px, 1px, 1px);height: 1px;margin: -1px;overflow: hidden;padding: 0;position: absolute;width: 1px;}#sk-28037be0-e820-4610-9874-9d84c644d4e9 div.sk-estimator {font-family: monospace;background-color: #f0f8ff;margin: 0.25em 0.25em;border: 1px dotted black;border-radius: 0.25em;box-sizing: border-box;}#sk-28037be0-e820-4610-9874-9d84c644d4e9 div.sk-estimator:hover {background-color: #d4ebff;}#sk-28037be0-e820-4610-9874-9d84c644d4e9 div.sk-parallel-item::after {content: \"\";width: 100%;border-bottom: 1px solid gray;flex-grow: 1;}#sk-28037be0-e820-4610-9874-9d84c644d4e9 div.sk-label:hover label.sk-toggleable__label {background-color: #d4ebff;}#sk-28037be0-e820-4610-9874-9d84c644d4e9 div.sk-serial::before {content: \"\";position: absolute;border-left: 1px solid gray;box-sizing: border-box;top: 2em;bottom: 0;left: 50%;}#sk-28037be0-e820-4610-9874-9d84c644d4e9 div.sk-serial {display: flex;flex-direction: column;align-items: center;background-color: white;}#sk-28037be0-e820-4610-9874-9d84c644d4e9 div.sk-item {z-index: 1;}#sk-28037be0-e820-4610-9874-9d84c644d4e9 div.sk-parallel {display: flex;align-items: stretch;justify-content: center;background-color: white;}#sk-28037be0-e820-4610-9874-9d84c644d4e9 div.sk-parallel-item {display: flex;flex-direction: column;position: relative;background-color: white;}#sk-28037be0-e820-4610-9874-9d84c644d4e9 div.sk-parallel-item:first-child::after {align-self: flex-end;width: 50%;}#sk-28037be0-e820-4610-9874-9d84c644d4e9 div.sk-parallel-item:last-child::after {align-self: flex-start;width: 50%;}#sk-28037be0-e820-4610-9874-9d84c644d4e9 div.sk-parallel-item:only-child::after {width: 0;}#sk-28037be0-e820-4610-9874-9d84c644d4e9 div.sk-dashed-wrapped {border: 1px dashed gray;margin: 0.2em;box-sizing: border-box;padding-bottom: 0.1em;background-color: white;position: relative;}#sk-28037be0-e820-4610-9874-9d84c644d4e9 div.sk-label label {font-family: monospace;font-weight: bold;background-color: white;display: inline-block;line-height: 1.2em;}#sk-28037be0-e820-4610-9874-9d84c644d4e9 div.sk-label-container {position: relative;z-index: 2;text-align: center;}#sk-28037be0-e820-4610-9874-9d84c644d4e9 div.sk-container {display: inline-block;position: relative;}</style><div id=\"sk-28037be0-e820-4610-9874-9d84c644d4e9\" class\"sk-top-container\"><div class=\"sk-container\"><div class=\"sk-item sk-dashed-wrapped\"><div class=\"sk-label-container\"><div class=\"sk-label sk-toggleable\"><input class=\"sk-toggleable__control sk-hidden--visually\" id=\"049bbbfa-3aef-4d5d-94b3-062803eb7691\" type=\"checkbox\" ><label class=\"sk-toggleable__label\" for=\"049bbbfa-3aef-4d5d-94b3-062803eb7691\">Pipeline</label><div class=\"sk-toggleable__content\"><pre>Pipeline(steps=[('standardscaler', StandardScaler()),\n",
       "                ('linearregression', LinearRegression())])</pre></div></div></div><div class=\"sk-serial\"><div class=\"sk-item\"><div class=\"sk-estimator sk-toggleable\"><input class=\"sk-toggleable__control sk-hidden--visually\" id=\"0abe3d4d-7e9c-416b-a01f-316a4fc0b329\" type=\"checkbox\" ><label class=\"sk-toggleable__label\" for=\"0abe3d4d-7e9c-416b-a01f-316a4fc0b329\">StandardScaler</label><div class=\"sk-toggleable__content\"><pre>StandardScaler()</pre></div></div></div><div class=\"sk-item\"><div class=\"sk-estimator sk-toggleable\"><input class=\"sk-toggleable__control sk-hidden--visually\" id=\"e571ef92-474b-4496-bfef-0d4f276ce418\" type=\"checkbox\" ><label class=\"sk-toggleable__label\" for=\"e571ef92-474b-4496-bfef-0d4f276ce418\">LinearRegression</label><div class=\"sk-toggleable__content\"><pre>LinearRegression()</pre></div></div></div></div></div></div></div>"
      ]
     },
     "metadata": {},
     "execution_count": 26
    }
   ],
   "metadata": {}
  },
  {
   "cell_type": "code",
   "execution_count": 27,
   "source": [
    "print(f\"Pipeline steps:\\n{linear_model.steps}\")"
   ],
   "outputs": [
    {
     "output_type": "stream",
     "name": "stdout",
     "text": [
      "Pipeline steps:\n",
      "[('standardscaler', StandardScaler()), ('linearregression', LinearRegression())]\n"
     ]
    }
   ],
   "metadata": {}
  },
  {
   "cell_type": "code",
   "execution_count": 28,
   "source": [
    "_ = linear_model.fit(data_train, target_train)"
   ],
   "outputs": [],
   "metadata": {}
  },
  {
   "cell_type": "code",
   "execution_count": 29,
   "source": [
    "cv = ShuffleSplit(n_splits=40, test_size=0.3, random_state=0)\n",
    "cv_results = cross_validate(\n",
    "    linear_model, data, target, cv=cv, scoring=\"neg_mean_squared_error\")"
   ],
   "outputs": [],
   "metadata": {}
  },
  {
   "cell_type": "code",
   "execution_count": 30,
   "source": [
    "# Pontuação nos conjuntos de teste dos splits\n",
    "cv_results = pd.DataFrame(cv_results)\n",
    "cv_results.head(10)"
   ],
   "outputs": [
    {
     "output_type": "execute_result",
     "data": {
      "text/plain": [
       "   fit_time  score_time   test_score\n",
       "0  0.017811    0.007504 -5431.489670\n",
       "1  0.023667    0.017109 -5379.547943\n",
       "2  0.041494    0.009154 -5458.188203\n",
       "3  0.024108    0.005605 -4922.420431\n",
       "4  0.029120    0.005716 -5219.908777\n",
       "5  0.020874    0.006199 -5258.556051\n",
       "6  0.027005    0.005745 -5335.972492\n",
       "7  0.023055    0.005682 -5232.386115\n",
       "8  0.025338    0.005787 -5257.945324\n",
       "9  0.020319    0.005684 -5630.336054"
      ],
      "text/html": [
       "<div>\n",
       "<style scoped>\n",
       "    .dataframe tbody tr th:only-of-type {\n",
       "        vertical-align: middle;\n",
       "    }\n",
       "\n",
       "    .dataframe tbody tr th {\n",
       "        vertical-align: top;\n",
       "    }\n",
       "\n",
       "    .dataframe thead th {\n",
       "        text-align: right;\n",
       "    }\n",
       "</style>\n",
       "<table border=\"1\" class=\"dataframe\">\n",
       "  <thead>\n",
       "    <tr style=\"text-align: right;\">\n",
       "      <th></th>\n",
       "      <th>fit_time</th>\n",
       "      <th>score_time</th>\n",
       "      <th>test_score</th>\n",
       "    </tr>\n",
       "  </thead>\n",
       "  <tbody>\n",
       "    <tr>\n",
       "      <th>0</th>\n",
       "      <td>0.017811</td>\n",
       "      <td>0.007504</td>\n",
       "      <td>-5431.489670</td>\n",
       "    </tr>\n",
       "    <tr>\n",
       "      <th>1</th>\n",
       "      <td>0.023667</td>\n",
       "      <td>0.017109</td>\n",
       "      <td>-5379.547943</td>\n",
       "    </tr>\n",
       "    <tr>\n",
       "      <th>2</th>\n",
       "      <td>0.041494</td>\n",
       "      <td>0.009154</td>\n",
       "      <td>-5458.188203</td>\n",
       "    </tr>\n",
       "    <tr>\n",
       "      <th>3</th>\n",
       "      <td>0.024108</td>\n",
       "      <td>0.005605</td>\n",
       "      <td>-4922.420431</td>\n",
       "    </tr>\n",
       "    <tr>\n",
       "      <th>4</th>\n",
       "      <td>0.029120</td>\n",
       "      <td>0.005716</td>\n",
       "      <td>-5219.908777</td>\n",
       "    </tr>\n",
       "    <tr>\n",
       "      <th>5</th>\n",
       "      <td>0.020874</td>\n",
       "      <td>0.006199</td>\n",
       "      <td>-5258.556051</td>\n",
       "    </tr>\n",
       "    <tr>\n",
       "      <th>6</th>\n",
       "      <td>0.027005</td>\n",
       "      <td>0.005745</td>\n",
       "      <td>-5335.972492</td>\n",
       "    </tr>\n",
       "    <tr>\n",
       "      <th>7</th>\n",
       "      <td>0.023055</td>\n",
       "      <td>0.005682</td>\n",
       "      <td>-5232.386115</td>\n",
       "    </tr>\n",
       "    <tr>\n",
       "      <th>8</th>\n",
       "      <td>0.025338</td>\n",
       "      <td>0.005787</td>\n",
       "      <td>-5257.945324</td>\n",
       "    </tr>\n",
       "    <tr>\n",
       "      <th>9</th>\n",
       "      <td>0.020319</td>\n",
       "      <td>0.005684</td>\n",
       "      <td>-5630.336054</td>\n",
       "    </tr>\n",
       "  </tbody>\n",
       "</table>\n",
       "</div>"
      ]
     },
     "metadata": {},
     "execution_count": 30
    }
   ],
   "metadata": {}
  },
  {
   "cell_type": "code",
   "execution_count": 31,
   "source": [
    "cv_results['test_error'] = -cv_results['test_score']\n",
    "cv_results.head(10)"
   ],
   "outputs": [
    {
     "output_type": "execute_result",
     "data": {
      "text/plain": [
       "   fit_time  score_time   test_score   test_error\n",
       "0  0.017811    0.007504 -5431.489670  5431.489670\n",
       "1  0.023667    0.017109 -5379.547943  5379.547943\n",
       "2  0.041494    0.009154 -5458.188203  5458.188203\n",
       "3  0.024108    0.005605 -4922.420431  4922.420431\n",
       "4  0.029120    0.005716 -5219.908777  5219.908777\n",
       "5  0.020874    0.006199 -5258.556051  5258.556051\n",
       "6  0.027005    0.005745 -5335.972492  5335.972492\n",
       "7  0.023055    0.005682 -5232.386115  5232.386115\n",
       "8  0.025338    0.005787 -5257.945324  5257.945324\n",
       "9  0.020319    0.005684 -5630.336054  5630.336054"
      ],
      "text/html": [
       "<div>\n",
       "<style scoped>\n",
       "    .dataframe tbody tr th:only-of-type {\n",
       "        vertical-align: middle;\n",
       "    }\n",
       "\n",
       "    .dataframe tbody tr th {\n",
       "        vertical-align: top;\n",
       "    }\n",
       "\n",
       "    .dataframe thead th {\n",
       "        text-align: right;\n",
       "    }\n",
       "</style>\n",
       "<table border=\"1\" class=\"dataframe\">\n",
       "  <thead>\n",
       "    <tr style=\"text-align: right;\">\n",
       "      <th></th>\n",
       "      <th>fit_time</th>\n",
       "      <th>score_time</th>\n",
       "      <th>test_score</th>\n",
       "      <th>test_error</th>\n",
       "    </tr>\n",
       "  </thead>\n",
       "  <tbody>\n",
       "    <tr>\n",
       "      <th>0</th>\n",
       "      <td>0.017811</td>\n",
       "      <td>0.007504</td>\n",
       "      <td>-5431.489670</td>\n",
       "      <td>5431.489670</td>\n",
       "    </tr>\n",
       "    <tr>\n",
       "      <th>1</th>\n",
       "      <td>0.023667</td>\n",
       "      <td>0.017109</td>\n",
       "      <td>-5379.547943</td>\n",
       "      <td>5379.547943</td>\n",
       "    </tr>\n",
       "    <tr>\n",
       "      <th>2</th>\n",
       "      <td>0.041494</td>\n",
       "      <td>0.009154</td>\n",
       "      <td>-5458.188203</td>\n",
       "      <td>5458.188203</td>\n",
       "    </tr>\n",
       "    <tr>\n",
       "      <th>3</th>\n",
       "      <td>0.024108</td>\n",
       "      <td>0.005605</td>\n",
       "      <td>-4922.420431</td>\n",
       "      <td>4922.420431</td>\n",
       "    </tr>\n",
       "    <tr>\n",
       "      <th>4</th>\n",
       "      <td>0.029120</td>\n",
       "      <td>0.005716</td>\n",
       "      <td>-5219.908777</td>\n",
       "      <td>5219.908777</td>\n",
       "    </tr>\n",
       "    <tr>\n",
       "      <th>5</th>\n",
       "      <td>0.020874</td>\n",
       "      <td>0.006199</td>\n",
       "      <td>-5258.556051</td>\n",
       "      <td>5258.556051</td>\n",
       "    </tr>\n",
       "    <tr>\n",
       "      <th>6</th>\n",
       "      <td>0.027005</td>\n",
       "      <td>0.005745</td>\n",
       "      <td>-5335.972492</td>\n",
       "      <td>5335.972492</td>\n",
       "    </tr>\n",
       "    <tr>\n",
       "      <th>7</th>\n",
       "      <td>0.023055</td>\n",
       "      <td>0.005682</td>\n",
       "      <td>-5232.386115</td>\n",
       "      <td>5232.386115</td>\n",
       "    </tr>\n",
       "    <tr>\n",
       "      <th>8</th>\n",
       "      <td>0.025338</td>\n",
       "      <td>0.005787</td>\n",
       "      <td>-5257.945324</td>\n",
       "      <td>5257.945324</td>\n",
       "    </tr>\n",
       "    <tr>\n",
       "      <th>9</th>\n",
       "      <td>0.020319</td>\n",
       "      <td>0.005684</td>\n",
       "      <td>-5630.336054</td>\n",
       "      <td>5630.336054</td>\n",
       "    </tr>\n",
       "  </tbody>\n",
       "</table>\n",
       "</div>"
      ]
     },
     "metadata": {},
     "execution_count": 31
    }
   ],
   "metadata": {}
  },
  {
   "cell_type": "code",
   "execution_count": 32,
   "source": [
    "print(f\"A média do erro no conjunto de teste usando validação cruzado do modelo linear é:\\\n",
    "      \\n{cv_results['test_error'].mean():.3f} +/- {cv_results['test_error'].std():.3f} k$\")"
   ],
   "outputs": [
    {
     "output_type": "stream",
     "name": "stdout",
     "text": [
      "A média do erro no conjunto de teste usando validação cruzado do modelo linear é:      \n",
      "5300.185 +/- 149.455 k$\n"
     ]
    }
   ],
   "metadata": {}
  },
  {
   "cell_type": "code",
   "execution_count": 33,
   "source": [
    "print(f\"O total de features no dataset analisado : {data.shape[1]}\")"
   ],
   "outputs": [
    {
     "output_type": "stream",
     "name": "stdout",
     "text": [
      "O total de features no dataset analisado : 8\n"
     ]
    }
   ],
   "metadata": {}
  },
  {
   "cell_type": "code",
   "execution_count": 34,
   "source": [
    "print(f\"Pipeline steps:\\n{linear_model.steps}\")"
   ],
   "outputs": [
    {
     "output_type": "stream",
     "name": "stdout",
     "text": [
      "Pipeline steps:\n",
      "[('standardscaler', StandardScaler()), ('linearregression', LinearRegression())]\n"
     ]
    }
   ],
   "metadata": {}
  },
  {
   "cell_type": "code",
   "execution_count": 36,
   "source": [
    "coeficientes = linear_model.named_steps['linearregression'].coef_\n",
    "print(f\"Os pesos das características(coeficientes) da regressão linear do modelo são: \\n{coeficientes}\")"
   ],
   "outputs": [
    {
     "output_type": "stream",
     "name": "stdout",
     "text": [
      "Os pesos das características(coeficientes) da regressão linear do modelo são: \n",
      "[ 83.18994482  12.09374001 -26.17515663  30.40521224  -0.87355926\n",
      "  -2.98444244 -89.23653827 -86.38503112]\n"
     ]
    }
   ],
   "metadata": {}
  },
  {
   "cell_type": "code",
   "execution_count": 35,
   "source": [
    "linear_model.named_steps['linearregression'].coef_.shape"
   ],
   "outputs": [
    {
     "output_type": "execute_result",
     "data": {
      "text/plain": [
       "(8,)"
      ]
     },
     "metadata": {},
     "execution_count": 35
    }
   ],
   "metadata": {}
  },
  {
   "cell_type": "code",
   "execution_count": 37,
   "source": [
    "valor_medio_esperado = linear_model.named_steps['linearregression'].intercept_"
   ],
   "outputs": [],
   "metadata": {}
  },
  {
   "cell_type": "code",
   "execution_count": 38,
   "source": [
    "print(f\"O valor médio do target usando a regressão linear ou a interseção com o eixo Y é: \\\n",
    "    {valor_medio_esperado:.2f} k$\")"
   ],
   "outputs": [
    {
     "output_type": "stream",
     "name": "stdout",
     "text": [
      "O valor médio do target usando a regressão linear ou a interseção com o eixo Y é:     207.44 k$\n"
     ]
    }
   ],
   "metadata": {}
  },
  {
   "cell_type": "code",
   "execution_count": 39,
   "source": [
    "r2_test = linear_model.score(data_test, target_test)\n",
    "print(f\"O score do conj. de teste usando estimador linear é: {r2_test:.3f}\")"
   ],
   "outputs": [
    {
     "output_type": "stream",
     "name": "stdout",
     "text": [
      "O score do conj. de teste usando estimador linear é: 0.591\n"
     ]
    }
   ],
   "metadata": {}
  },
  {
   "cell_type": "code",
   "execution_count": 40,
   "source": [
    "r2_test_tree = tree_reg.score(data_test, target_test)\n",
    "print(f\"O score do conj. de teste usando estimador de decision tree é: {r2_test_tree:.3f}\")"
   ],
   "outputs": [
    {
     "output_type": "stream",
     "name": "stdout",
     "text": [
      "O score do conj. de teste usando estimador de decision tree é: 0.584\n"
     ]
    }
   ],
   "metadata": {}
  },
  {
   "cell_type": "markdown",
   "source": [
    "Os coeficientes de regressão vistos individualmente como atributos do pipeline, explicam o valor esperado(model.intercept_) e como os atributos (pesos) que causam impacto na predição. Um coeficiente positivo indica que, à medida que o valor de um atributo aumenta, o mesmo ocorrerá com a predição."
   ],
   "metadata": {}
  },
  {
   "cell_type": "markdown",
   "source": [
    "Para melhor entender a performance estatística dos nosso modelos e achar insights de como melhora-lo, nós iremos comparar os erros de treinamento com os erros de teste. Para isso vamos computar o erro de treinamento usando a função de validação cruzada(**cross_validate()**)"
   ],
   "metadata": {}
  },
  {
   "cell_type": "code",
   "execution_count": 41,
   "source": [
    "# Decision tree\n",
    "tree_reg=DecisionTreeRegressor(random_state=0)\n",
    "cv = ShuffleSplit(n_splits=30, test_size=0.2)\n",
    "cv_results_tree = cross_validate(tree_reg, data, target,\n",
    "                            cv=cv, scoring=\"neg_mean_squared_error\", # RMSE\n",
    "                            return_train_score=True, n_jobs=-1)\n",
    "cv_results_tree = pd.DataFrame(cv_results_tree)"
   ],
   "outputs": [],
   "metadata": {}
  },
  {
   "cell_type": "markdown",
   "source": [
    "A validação cruzada usa o valor negativo da erro quadrático médio (**neg_mean_squared_error**). Nós transformamos o RMSE negativo em RMSE positivo, fazendo:"
   ],
   "metadata": {}
  },
  {
   "cell_type": "code",
   "execution_count": 42,
   "source": [
    "scores_tree = pd.DataFrame()\n",
    "scores_tree[['train error', \"test error\"]] = -cv_results_tree[['train_score', \"test_score\"]]\n",
    "\n",
    "scores_tree.head(10)"
   ],
   "outputs": [
    {
     "output_type": "execute_result",
     "data": {
      "text/plain": [
       "    train error   test error\n",
       "0  1.386908e-26  4743.505181\n",
       "1  7.066237e-27  4816.093195\n",
       "2  1.375989e-26  4716.884425\n",
       "3  1.598073e-26  5408.813283\n",
       "4  3.729783e-28  5273.501967\n",
       "5  1.830627e-26  5135.527829\n",
       "6  1.488528e-26  5165.479436\n",
       "7  4.330541e-28  5201.633072\n",
       "8  1.067176e-26  5154.875275\n",
       "9  3.800230e-27  5201.396444"
      ],
      "text/html": [
       "<div>\n",
       "<style scoped>\n",
       "    .dataframe tbody tr th:only-of-type {\n",
       "        vertical-align: middle;\n",
       "    }\n",
       "\n",
       "    .dataframe tbody tr th {\n",
       "        vertical-align: top;\n",
       "    }\n",
       "\n",
       "    .dataframe thead th {\n",
       "        text-align: right;\n",
       "    }\n",
       "</style>\n",
       "<table border=\"1\" class=\"dataframe\">\n",
       "  <thead>\n",
       "    <tr style=\"text-align: right;\">\n",
       "      <th></th>\n",
       "      <th>train error</th>\n",
       "      <th>test error</th>\n",
       "    </tr>\n",
       "  </thead>\n",
       "  <tbody>\n",
       "    <tr>\n",
       "      <th>0</th>\n",
       "      <td>1.386908e-26</td>\n",
       "      <td>4743.505181</td>\n",
       "    </tr>\n",
       "    <tr>\n",
       "      <th>1</th>\n",
       "      <td>7.066237e-27</td>\n",
       "      <td>4816.093195</td>\n",
       "    </tr>\n",
       "    <tr>\n",
       "      <th>2</th>\n",
       "      <td>1.375989e-26</td>\n",
       "      <td>4716.884425</td>\n",
       "    </tr>\n",
       "    <tr>\n",
       "      <th>3</th>\n",
       "      <td>1.598073e-26</td>\n",
       "      <td>5408.813283</td>\n",
       "    </tr>\n",
       "    <tr>\n",
       "      <th>4</th>\n",
       "      <td>3.729783e-28</td>\n",
       "      <td>5273.501967</td>\n",
       "    </tr>\n",
       "    <tr>\n",
       "      <th>5</th>\n",
       "      <td>1.830627e-26</td>\n",
       "      <td>5135.527829</td>\n",
       "    </tr>\n",
       "    <tr>\n",
       "      <th>6</th>\n",
       "      <td>1.488528e-26</td>\n",
       "      <td>5165.479436</td>\n",
       "    </tr>\n",
       "    <tr>\n",
       "      <th>7</th>\n",
       "      <td>4.330541e-28</td>\n",
       "      <td>5201.633072</td>\n",
       "    </tr>\n",
       "    <tr>\n",
       "      <th>8</th>\n",
       "      <td>1.067176e-26</td>\n",
       "      <td>5154.875275</td>\n",
       "    </tr>\n",
       "    <tr>\n",
       "      <th>9</th>\n",
       "      <td>3.800230e-27</td>\n",
       "      <td>5201.396444</td>\n",
       "    </tr>\n",
       "  </tbody>\n",
       "</table>\n",
       "</div>"
      ]
     },
     "metadata": {},
     "execution_count": 42
    }
   ],
   "metadata": {}
  },
  {
   "cell_type": "code",
   "execution_count": 43,
   "source": [
    "scores_tree.plot.hist(bins=50, edgecolor='k', density=True)\n",
    "plt.xlabel(\"Erro quadrático médio(RMSE) k$\")\n",
    "_ = plt.title(\"Distribuição dos erros de treinamento e \\\n",
    "    teste \\n calculados via validação cruzada usando o decision tree\")"
   ],
   "outputs": [
    {
     "output_type": "display_data",
     "data": {
      "text/plain": [
       "<Figure size 432x288 with 1 Axes>"
      ],
      "image/png": "[encoded data removed]"
     },
     "metadata": {
      "needs_background": "light"
     }
    }
   ],
   "metadata": {}
  },
  {
   "cell_type": "markdown",
   "source": [
    "Plotando a distribuição dos erros de treinamento e teste, nós pegamos a informação se o modelo está sofrendo de \"overfitting\", \"underfitting\" ou ambos ao mesmo tempo.\n",
    "\n",
    "No modelo de decision tree, vemos um pequeno erro de treinamento(aproximadamente zero), significando que o modelo não está sofrendo de \"overfitting\". É flexível o suficiente para capturar qualquer variação presente no conjunto de treinamento.\n",
    "\n",
    "Contudo o grande erro de teste, nos diz que o modelo está sofrendo de \"overfitting\", ou seja, o modelo memorizou as muitas variações presentes no conjunto de treinamento que podem ser consideradas como \"ruídos\" e que não ajudam a generalizar para ajudar nas predições do conjunto de teste."
   ],
   "metadata": {}
  },
  {
   "cell_type": "code",
   "execution_count": 44,
   "source": [
    "# Modelo Linear\n",
    "\n",
    "cv = ShuffleSplit(n_splits=30, test_size=0.2)\n",
    "cv_results_lr = cross_validate(linear_model, data, target,\n",
    "                            cv=cv, scoring=\"neg_mean_squared_error\", # RMSE\n",
    "                            return_train_score=True, n_jobs=-1)\n",
    "cv_results_lr = pd.DataFrame(cv_results_lr)\n",
    "\n",
    "scores_lr = pd.DataFrame()\n",
    "scores_lr[['train error', \"test error\"]] = -cv_results_lr[['train_score', \"test_score\"]]\n",
    "\n",
    "scores_lr.head(10)"
   ],
   "outputs": [
    {
     "output_type": "execute_result",
     "data": {
      "text/plain": [
       "   train error   test error\n",
       "0  5250.129821  5440.609957\n",
       "1  5192.674332  5537.914833\n",
       "2  5197.564907  5430.519004\n",
       "3  5202.333126  5411.610367\n",
       "4  5224.151377  5321.995619\n",
       "5  5259.860720  5197.829966\n",
       "6  5211.867829  5500.747255\n",
       "7  5239.611263  5279.934181\n",
       "8  5258.598849  5188.828318\n",
       "9  5211.220239  5498.981776"
      ],
      "text/html": [
       "<div>\n",
       "<style scoped>\n",
       "    .dataframe tbody tr th:only-of-type {\n",
       "        vertical-align: middle;\n",
       "    }\n",
       "\n",
       "    .dataframe tbody tr th {\n",
       "        vertical-align: top;\n",
       "    }\n",
       "\n",
       "    .dataframe thead th {\n",
       "        text-align: right;\n",
       "    }\n",
       "</style>\n",
       "<table border=\"1\" class=\"dataframe\">\n",
       "  <thead>\n",
       "    <tr style=\"text-align: right;\">\n",
       "      <th></th>\n",
       "      <th>train error</th>\n",
       "      <th>test error</th>\n",
       "    </tr>\n",
       "  </thead>\n",
       "  <tbody>\n",
       "    <tr>\n",
       "      <th>0</th>\n",
       "      <td>5250.129821</td>\n",
       "      <td>5440.609957</td>\n",
       "    </tr>\n",
       "    <tr>\n",
       "      <th>1</th>\n",
       "      <td>5192.674332</td>\n",
       "      <td>5537.914833</td>\n",
       "    </tr>\n",
       "    <tr>\n",
       "      <th>2</th>\n",
       "      <td>5197.564907</td>\n",
       "      <td>5430.519004</td>\n",
       "    </tr>\n",
       "    <tr>\n",
       "      <th>3</th>\n",
       "      <td>5202.333126</td>\n",
       "      <td>5411.610367</td>\n",
       "    </tr>\n",
       "    <tr>\n",
       "      <th>4</th>\n",
       "      <td>5224.151377</td>\n",
       "      <td>5321.995619</td>\n",
       "    </tr>\n",
       "    <tr>\n",
       "      <th>5</th>\n",
       "      <td>5259.860720</td>\n",
       "      <td>5197.829966</td>\n",
       "    </tr>\n",
       "    <tr>\n",
       "      <th>6</th>\n",
       "      <td>5211.867829</td>\n",
       "      <td>5500.747255</td>\n",
       "    </tr>\n",
       "    <tr>\n",
       "      <th>7</th>\n",
       "      <td>5239.611263</td>\n",
       "      <td>5279.934181</td>\n",
       "    </tr>\n",
       "    <tr>\n",
       "      <th>8</th>\n",
       "      <td>5258.598849</td>\n",
       "      <td>5188.828318</td>\n",
       "    </tr>\n",
       "    <tr>\n",
       "      <th>9</th>\n",
       "      <td>5211.220239</td>\n",
       "      <td>5498.981776</td>\n",
       "    </tr>\n",
       "  </tbody>\n",
       "</table>\n",
       "</div>"
      ]
     },
     "metadata": {},
     "execution_count": 44
    }
   ],
   "metadata": {}
  },
  {
   "cell_type": "code",
   "execution_count": 45,
   "source": [
    "scores_lr.plot.hist(bins=50, edgecolor='k', density=True)\n",
    "plt.xlabel(\"Erro quadrático médio(RMSE) k$\")\n",
    "_ = plt.title(\"Distribuição dos erros de treinamento e \\\n",
    "    teste \\n calculados via validação cruzada usando o modelo linear\")"
   ],
   "outputs": [
    {
     "output_type": "display_data",
     "data": {
      "text/plain": [
       "<Figure size 432x288 with 1 Axes>"
      ],
      "image/png": "[encoded data removed]"
     },
     "metadata": {
      "needs_background": "light"
     }
    }
   ],
   "metadata": {}
  },
  {
   "cell_type": "markdown",
   "source": [
    "Usando o modelo linear, percebemos que os erros de treinamento, e os erros de teste são altos, o que nos informa que esse não é um modelo que pode ser usado, o modelo sofre de overfitting e underfitting ao mesmo tempo."
   ],
   "metadata": {}
  },
  {
   "cell_type": "markdown",
   "source": [
    "### Curva de validação\n",
    "Alguns hiperparâmetros de um modelo são a chave para sair de modelo que está underfitting para um modelo que overfitting, e talvez achar um bom balanço entre os dois. Nós podemos adquirir conhecimento sobre essas informações usando a curva de validação.\n",
    "\n",
    "Para um decision tree, o parâmetro max_depth é usado para controlar o tradeoff entre o underfitting e overfitting."
   ],
   "metadata": {}
  },
  {
   "cell_type": "code",
   "execution_count": 46,
   "source": [
    "%%time\n",
    "from sklearn.model_selection import validation_curve\n",
    "\n",
    "max_depth = [1, 5, 10, 15, 20, 25]\n",
    "train_scores, test_scores = validation_curve(\n",
    "    tree_reg, data, target, param_name=\"max_depth\", param_range=max_depth,\n",
    "    cv=cv, scoring=\"neg_mean_squared_error\", n_jobs=2)\n",
    "train_errors, test_errors = -train_scores, -test_scores"
   ],
   "outputs": [
    {
     "output_type": "stream",
     "name": "stdout",
     "text": [
      "CPU times: user 586 ms, sys: 86 ms, total: 672 ms\n",
      "Wall time: 16.3 s\n"
     ]
    }
   ],
   "metadata": {}
  },
  {
   "cell_type": "code",
   "execution_count": 47,
   "source": [
    "plt.plot(max_depth, train_errors.mean(axis=1), label=\"Training error\")\n",
    "plt.plot(max_depth, test_errors.mean(axis=1), label=\"Testing error\")\n",
    "plt.legend()\n",
    "\n",
    "plt.xlabel(\"Profundidade máxima da decision tree\")\n",
    "plt.ylabel(\"Erro médio quadrático(k$)\")"
   ],
   "outputs": [
    {
     "output_type": "execute_result",
     "data": {
      "text/plain": [
       "Text(0, 0.5, 'Erro médio quadrático(k$)')"
      ]
     },
     "metadata": {},
     "execution_count": 47
    },
    {
     "output_type": "display_data",
     "data": {
      "text/plain": [
       "<Figure size 432x288 with 1 Axes>"
      ],
      "image/png": "[encoded data removed]"
     },
     "metadata": {
      "needs_background": "light"
     }
    }
   ],
   "metadata": {}
  },
  {
   "cell_type": "markdown",
   "source": [
    "Podemos dividir o gráfico em 3 áreas básicas:\n",
    "\n",
    "* max_depth < 10, a decision tree underfits. O erro de treinamento e de teste são ambos altos. O modelo tem muitas restrições e não consegue capturar a variabilidade do variável target.\n",
    "* a região em torno de max_depth = 10 corresponde ao parâmetro qual o decision tree generaliza melhor. É flexível o suficiente para capturar a fração da variabilidade do alvo, enquanto não generaliza todo o ruído do target.\n",
    "* max_depth > 10, a decision tree overfita. O erro de treinamento se torna muito pequeno, enquanto o erro de teste aumenta. Nesta região o modelo cria decisões especificamente para o ruído impedindo a sua habilidade de generalização no conjunto de testes."
   ],
   "metadata": {}
  },
  {
   "cell_type": "code",
   "execution_count": 48,
   "source": [
    "plt.errorbar(max_depth, train_errors.mean(axis=1),\n",
    "             yerr=train_errors.std(axis=1), label='Training error')\n",
    "plt.errorbar(max_depth, test_errors.mean(axis=1),\n",
    "             yerr=test_errors.std(axis=1), label='Testing error')\n",
    "plt.legend()\n",
    "\n",
    "plt.xlabel(\"Profundidade máxima da decision tree\")\n",
    "plt.ylabel(\"Erro quadrático médio(k$)\")\n",
    "_ = plt.title(\"Curva de validação da decision tree\")"
   ],
   "outputs": [
    {
     "output_type": "display_data",
     "data": {
      "text/plain": [
       "<Figure size 432x288 with 1 Axes>"
      ],
      "image/png": "[encoded data removed]"
     },
     "metadata": {
      "needs_background": "light"
     }
    }
   ],
   "metadata": {}
  },
  {
   "cell_type": "markdown",
   "source": [
    "Tivemos sorte a variância dos erros são pequenos em relação aos seus respectivos valores. Portanto as conclusões anteriores são claras. O que nem sempre é o caso."
   ],
   "metadata": {}
  },
  {
   "cell_type": "markdown",
   "source": [
    "## Setar e pegar os hiperparâmetros no Scikit-Learning\n",
    "***"
   ],
   "metadata": {}
  },
  {
   "cell_type": "code",
   "execution_count": 49,
   "source": [
    "model = make_pipeline(\n",
    "    StandardScaler(),\n",
    "    DecisionTreeRegressor(random_state=123)\n",
    ")\n",
    "model"
   ],
   "outputs": [
    {
     "output_type": "execute_result",
     "data": {
      "text/plain": [
       "Pipeline(steps=[('standardscaler', StandardScaler()),\n",
       "                ('decisiontreeregressor',\n",
       "                 DecisionTreeRegressor(random_state=123))])"
      ],
      "text/html": [
       "<style>#sk-8615bad0-6654-470d-bcc7-2807ac8a2279 {color: black;background-color: white;}#sk-8615bad0-6654-470d-bcc7-2807ac8a2279 pre{padding: 0;}#sk-8615bad0-6654-470d-bcc7-2807ac8a2279 div.sk-toggleable {background-color: white;}#sk-8615bad0-6654-470d-bcc7-2807ac8a2279 label.sk-toggleable__label {cursor: pointer;display: block;width: 100%;margin-bottom: 0;padding: 0.2em 0.3em;box-sizing: border-box;text-align: center;}#sk-8615bad0-6654-470d-bcc7-2807ac8a2279 div.sk-toggleable__content {max-height: 0;max-width: 0;overflow: hidden;text-align: left;background-color: #f0f8ff;}#sk-8615bad0-6654-470d-bcc7-2807ac8a2279 div.sk-toggleable__content pre {margin: 0.2em;color: black;border-radius: 0.25em;background-color: #f0f8ff;}#sk-8615bad0-6654-470d-bcc7-2807ac8a2279 input.sk-toggleable__control:checked~div.sk-toggleable__content {max-height: 200px;max-width: 100%;overflow: auto;}#sk-8615bad0-6654-470d-bcc7-2807ac8a2279 div.sk-estimator input.sk-toggleable__control:checked~label.sk-toggleable__label {background-color: #d4ebff;}#sk-8615bad0-6654-470d-bcc7-2807ac8a2279 div.sk-label input.sk-toggleable__control:checked~label.sk-toggleable__label {background-color: #d4ebff;}#sk-8615bad0-6654-470d-bcc7-2807ac8a2279 input.sk-hidden--visually {border: 0;clip: rect(1px 1px 1px 1px);clip: rect(1px, 1px, 1px, 1px);height: 1px;margin: -1px;overflow: hidden;padding: 0;position: absolute;width: 1px;}#sk-8615bad0-6654-470d-bcc7-2807ac8a2279 div.sk-estimator {font-family: monospace;background-color: #f0f8ff;margin: 0.25em 0.25em;border: 1px dotted black;border-radius: 0.25em;box-sizing: border-box;}#sk-8615bad0-6654-470d-bcc7-2807ac8a2279 div.sk-estimator:hover {background-color: #d4ebff;}#sk-8615bad0-6654-470d-bcc7-2807ac8a2279 div.sk-parallel-item::after {content: \"\";width: 100%;border-bottom: 1px solid gray;flex-grow: 1;}#sk-8615bad0-6654-470d-bcc7-2807ac8a2279 div.sk-label:hover label.sk-toggleable__label {background-color: #d4ebff;}#sk-8615bad0-6654-470d-bcc7-2807ac8a2279 div.sk-serial::before {content: \"\";position: absolute;border-left: 1px solid gray;box-sizing: border-box;top: 2em;bottom: 0;left: 50%;}#sk-8615bad0-6654-470d-bcc7-2807ac8a2279 div.sk-serial {display: flex;flex-direction: column;align-items: center;background-color: white;}#sk-8615bad0-6654-470d-bcc7-2807ac8a2279 div.sk-item {z-index: 1;}#sk-8615bad0-6654-470d-bcc7-2807ac8a2279 div.sk-parallel {display: flex;align-items: stretch;justify-content: center;background-color: white;}#sk-8615bad0-6654-470d-bcc7-2807ac8a2279 div.sk-parallel-item {display: flex;flex-direction: column;position: relative;background-color: white;}#sk-8615bad0-6654-470d-bcc7-2807ac8a2279 div.sk-parallel-item:first-child::after {align-self: flex-end;width: 50%;}#sk-8615bad0-6654-470d-bcc7-2807ac8a2279 div.sk-parallel-item:last-child::after {align-self: flex-start;width: 50%;}#sk-8615bad0-6654-470d-bcc7-2807ac8a2279 div.sk-parallel-item:only-child::after {width: 0;}#sk-8615bad0-6654-470d-bcc7-2807ac8a2279 div.sk-dashed-wrapped {border: 1px dashed gray;margin: 0.2em;box-sizing: border-box;padding-bottom: 0.1em;background-color: white;position: relative;}#sk-8615bad0-6654-470d-bcc7-2807ac8a2279 div.sk-label label {font-family: monospace;font-weight: bold;background-color: white;display: inline-block;line-height: 1.2em;}#sk-8615bad0-6654-470d-bcc7-2807ac8a2279 div.sk-label-container {position: relative;z-index: 2;text-align: center;}#sk-8615bad0-6654-470d-bcc7-2807ac8a2279 div.sk-container {display: inline-block;position: relative;}</style><div id=\"sk-8615bad0-6654-470d-bcc7-2807ac8a2279\" class\"sk-top-container\"><div class=\"sk-container\"><div class=\"sk-item sk-dashed-wrapped\"><div class=\"sk-label-container\"><div class=\"sk-label sk-toggleable\"><input class=\"sk-toggleable__control sk-hidden--visually\" id=\"146d809d-3663-48ff-b1d4-ec15582e11b8\" type=\"checkbox\" ><label class=\"sk-toggleable__label\" for=\"146d809d-3663-48ff-b1d4-ec15582e11b8\">Pipeline</label><div class=\"sk-toggleable__content\"><pre>Pipeline(steps=[('standardscaler', StandardScaler()),\n",
       "                ('decisiontreeregressor',\n",
       "                 DecisionTreeRegressor(random_state=123))])</pre></div></div></div><div class=\"sk-serial\"><div class=\"sk-item\"><div class=\"sk-estimator sk-toggleable\"><input class=\"sk-toggleable__control sk-hidden--visually\" id=\"fb42fd00-ae76-4267-8fcb-669358ff2bf8\" type=\"checkbox\" ><label class=\"sk-toggleable__label\" for=\"fb42fd00-ae76-4267-8fcb-669358ff2bf8\">StandardScaler</label><div class=\"sk-toggleable__content\"><pre>StandardScaler()</pre></div></div></div><div class=\"sk-item\"><div class=\"sk-estimator sk-toggleable\"><input class=\"sk-toggleable__control sk-hidden--visually\" id=\"816ea93c-f0d2-4de1-aee2-87d8c8c44162\" type=\"checkbox\" ><label class=\"sk-toggleable__label\" for=\"816ea93c-f0d2-4de1-aee2-87d8c8c44162\">DecisionTreeRegressor</label><div class=\"sk-toggleable__content\"><pre>DecisionTreeRegressor(random_state=123)</pre></div></div></div></div></div></div></div>"
      ]
     },
     "metadata": {},
     "execution_count": 49
    }
   ],
   "metadata": {}
  },
  {
   "cell_type": "markdown",
   "source": [
    "Avaliando a performance estatística do modelo  via validação cruzada.\n",
    "\n",
    "Podemos mudar o valor de algum  do modelo depois que modelo já tiver sido criado com método, **set_param**."
   ],
   "metadata": {}
  },
  {
   "cell_type": "code",
   "execution_count": 50,
   "source": [
    "cv_results = cross_validate(model, data, target, scoring = 'neg_mean_squared_error')\n",
    "cv_results = pd.DataFrame(cv_results)\n",
    "cv_results['test_error'] = -cv_results['test_score']\n",
    "cv_results.head()"
   ],
   "outputs": [
    {
     "output_type": "execute_result",
     "data": {
      "text/plain": [
       "   fit_time  score_time   test_score   test_error\n",
       "0  0.227175    0.003713 -8091.405884  8091.405884\n",
       "1  0.184627    0.004115 -7502.472731  7502.472731\n",
       "2  0.188071    0.004225 -8446.147015  8446.147015\n",
       "3  0.198151    0.004346 -9453.479345  9453.479345\n",
       "4  0.193767    0.004623 -8488.060473  8488.060473"
      ],
      "text/html": [
       "<div>\n",
       "<style scoped>\n",
       "    .dataframe tbody tr th:only-of-type {\n",
       "        vertical-align: middle;\n",
       "    }\n",
       "\n",
       "    .dataframe tbody tr th {\n",
       "        vertical-align: top;\n",
       "    }\n",
       "\n",
       "    .dataframe thead th {\n",
       "        text-align: right;\n",
       "    }\n",
       "</style>\n",
       "<table border=\"1\" class=\"dataframe\">\n",
       "  <thead>\n",
       "    <tr style=\"text-align: right;\">\n",
       "      <th></th>\n",
       "      <th>fit_time</th>\n",
       "      <th>score_time</th>\n",
       "      <th>test_score</th>\n",
       "      <th>test_error</th>\n",
       "    </tr>\n",
       "  </thead>\n",
       "  <tbody>\n",
       "    <tr>\n",
       "      <th>0</th>\n",
       "      <td>0.227175</td>\n",
       "      <td>0.003713</td>\n",
       "      <td>-8091.405884</td>\n",
       "      <td>8091.405884</td>\n",
       "    </tr>\n",
       "    <tr>\n",
       "      <th>1</th>\n",
       "      <td>0.184627</td>\n",
       "      <td>0.004115</td>\n",
       "      <td>-7502.472731</td>\n",
       "      <td>7502.472731</td>\n",
       "    </tr>\n",
       "    <tr>\n",
       "      <th>2</th>\n",
       "      <td>0.188071</td>\n",
       "      <td>0.004225</td>\n",
       "      <td>-8446.147015</td>\n",
       "      <td>8446.147015</td>\n",
       "    </tr>\n",
       "    <tr>\n",
       "      <th>3</th>\n",
       "      <td>0.198151</td>\n",
       "      <td>0.004346</td>\n",
       "      <td>-9453.479345</td>\n",
       "      <td>9453.479345</td>\n",
       "    </tr>\n",
       "    <tr>\n",
       "      <th>4</th>\n",
       "      <td>0.193767</td>\n",
       "      <td>0.004623</td>\n",
       "      <td>-8488.060473</td>\n",
       "      <td>8488.060473</td>\n",
       "    </tr>\n",
       "  </tbody>\n",
       "</table>\n",
       "</div>"
      ]
     },
     "metadata": {},
     "execution_count": 50
    }
   ],
   "metadata": {}
  },
  {
   "cell_type": "code",
   "execution_count": 51,
   "source": [
    "scores = cv_results['test_error']\n",
    "print(f\"O RMSE via validação cruzada é:\\n\"\n",
    "      f\"{scores.mean():.3f} +/- {scores.std():.3f}\")"
   ],
   "outputs": [
    {
     "output_type": "stream",
     "name": "stdout",
     "text": [
      "O RMSE via validação cruzada é:\n",
      "8396.313 +/- 710.707\n"
     ]
    }
   ],
   "metadata": {}
  },
  {
   "cell_type": "markdown",
   "source": [
    "Criamos um modelo aonde padronizamos os dados, e em seguida usamos um estimador de árvore de decisão. Quando usamos um pipeline podemos pegar os steps da seguinte forma:"
   ],
   "metadata": {}
  },
  {
   "cell_type": "code",
   "execution_count": 52,
   "source": [
    "print(f\"Pipeline steps:\\n{model.steps}\")"
   ],
   "outputs": [
    {
     "output_type": "stream",
     "name": "stdout",
     "text": [
      "Pipeline steps:\n",
      "[('standardscaler', StandardScaler()), ('decisiontreeregressor', DecisionTreeRegressor(random_state=123))]\n"
     ]
    }
   ],
   "metadata": {}
  },
  {
   "cell_type": "markdown",
   "source": [
    "Em geral, podemos usar o método **get_params** do scikit-learn para listar todos os parâmetros em cada passo e seus respectivos valores. Para listar todos os parâmetros que existem no pipeline criado, façamos:"
   ],
   "metadata": {}
  },
  {
   "cell_type": "code",
   "execution_count": 53,
   "source": [
    "for parameter in model.get_params():\n",
    "    print(parameter)"
   ],
   "outputs": [
    {
     "output_type": "stream",
     "name": "stdout",
     "text": [
      "memory\n",
      "steps\n",
      "verbose\n",
      "standardscaler\n",
      "decisiontreeregressor\n",
      "standardscaler__copy\n",
      "standardscaler__with_mean\n",
      "standardscaler__with_std\n",
      "decisiontreeregressor__ccp_alpha\n",
      "decisiontreeregressor__criterion\n",
      "decisiontreeregressor__max_depth\n",
      "decisiontreeregressor__max_features\n",
      "decisiontreeregressor__max_leaf_nodes\n",
      "decisiontreeregressor__min_impurity_decrease\n",
      "decisiontreeregressor__min_impurity_split\n",
      "decisiontreeregressor__min_samples_leaf\n",
      "decisiontreeregressor__min_samples_split\n",
      "decisiontreeregressor__min_weight_fraction_leaf\n",
      "decisiontreeregressor__random_state\n",
      "decisiontreeregressor__splitter\n"
     ]
    }
   ],
   "metadata": {}
  },
  {
   "cell_type": "markdown",
   "source": [
    "**.get_params()** retorna um dicionário aonde as chaves são os nomes dos parâmetros e os valores associados a cada um dos parâmetros. Para acessar um simples parâmetro, por exemplo *\"decisiontreeregressor__max_depth\"*, podemos usar:"
   ],
   "metadata": {}
  },
  {
   "cell_type": "code",
   "execution_count": 54,
   "source": [
    "model.set_params(decisiontreeregressor__max_depth = 10)\n",
    "cv_results = cross_validate(model, data, target, scoring = 'neg_mean_squared_error')\n",
    "cv_results = pd.DataFrame(cv_results)\n",
    "cv_results['test_error'] = -cv_results['test_score']\n",
    "scores = cv_results['test_error']\n",
    "print(f\"O RMSE via validação cruzada é:\\n\"\n",
    "      f\"{scores.mean():.3f} +/- {scores.std():.3f}\")"
   ],
   "outputs": [
    {
     "output_type": "stream",
     "name": "stdout",
     "text": [
      "O RMSE via validação cruzada é:\n",
      "6625.249 +/- 881.826\n"
     ]
    }
   ],
   "metadata": {}
  },
  {
   "cell_type": "code",
   "execution_count": 55,
   "source": [
    "max_depth_value = model.get_params()['decisiontreeregressor__max_depth']\n",
    "print(f\"O valor default do max_depth no pipeline criado é: \\n {max_depth_value}\")"
   ],
   "outputs": [
    {
     "output_type": "stream",
     "name": "stdout",
     "text": [
      "O valor default do max_depth no pipeline criado é: \n",
      " 10\n"
     ]
    }
   ],
   "metadata": {}
  },
  {
   "cell_type": "code",
   "execution_count": 56,
   "source": [
    "for max_depth in [None, 1, 5, 10, 50, 100]:\n",
    "    model.set_params(decisiontreeregressor__max_depth = max_depth)\n",
    "    cv_results = cross_validate(model, data, target, scoring = 'neg_mean_squared_error')\n",
    "    cv_results = pd.DataFrame(cv_results)\n",
    "    cv_results['test_error'] = -cv_results['test_score']\n",
    "    scores = cv_results['test_error']\n",
    "    print(f\"O RMSE via validação cruzada com max_depth = {max_depth}:\\n\"\n",
    "          f\"{scores.mean():.3f} +/- {scores.std():.3f}\")"
   ],
   "outputs": [
    {
     "output_type": "stream",
     "name": "stdout",
     "text": [
      "O RMSE via validação cruzada com max_depth = None:\n",
      "8396.313 +/- 710.707\n",
      "O RMSE via validação cruzada com max_depth = 1:\n",
      "9547.850 +/- 827.611\n",
      "O RMSE via validação cruzada com max_depth = 5:\n",
      "6658.528 +/- 1026.323\n",
      "O RMSE via validação cruzada com max_depth = 10:\n",
      "6625.249 +/- 881.826\n",
      "O RMSE via validação cruzada com max_depth = 50:\n",
      "8396.313 +/- 710.707\n",
      "O RMSE via validação cruzada com max_depth = 100:\n",
      "8396.313 +/- 710.707\n"
     ]
    }
   ],
   "metadata": {}
  },
  {
   "cell_type": "markdown",
   "source": [
    "### Warning:\n",
    "***\n",
    "\n",
    "Quando avaliamos uma família de modelos nos dados de teste e escolhemos o que performa estatisticamente melhor, nós não podemos mais confiar no score da previsão, e nós precisamos aplicar o modelo selecionado em um novo dado. Como o conjunto de teste foi usado para selecionar o modelo, este não é mais independente do modelo. Para resolver esses problemas é bom separar os dados em treino, teste e validação."
   ],
   "metadata": {}
  },
  {
   "cell_type": "code",
   "execution_count": 58,
   "source": [
    "model = make_pipeline(\n",
    "    DecisionTreeRegressor(random_state=0)\n",
    ")\n",
    "model"
   ],
   "outputs": [
    {
     "output_type": "execute_result",
     "data": {
      "text/plain": [
       "Pipeline(steps=[('decisiontreeregressor',\n",
       "                 DecisionTreeRegressor(random_state=0))])"
      ],
      "text/html": [
       "<style>#sk-86cffc64-0776-4efe-92d9-1c3945d7026c {color: black;background-color: white;}#sk-86cffc64-0776-4efe-92d9-1c3945d7026c pre{padding: 0;}#sk-86cffc64-0776-4efe-92d9-1c3945d7026c div.sk-toggleable {background-color: white;}#sk-86cffc64-0776-4efe-92d9-1c3945d7026c label.sk-toggleable__label {cursor: pointer;display: block;width: 100%;margin-bottom: 0;padding: 0.2em 0.3em;box-sizing: border-box;text-align: center;}#sk-86cffc64-0776-4efe-92d9-1c3945d7026c div.sk-toggleable__content {max-height: 0;max-width: 0;overflow: hidden;text-align: left;background-color: #f0f8ff;}#sk-86cffc64-0776-4efe-92d9-1c3945d7026c div.sk-toggleable__content pre {margin: 0.2em;color: black;border-radius: 0.25em;background-color: #f0f8ff;}#sk-86cffc64-0776-4efe-92d9-1c3945d7026c input.sk-toggleable__control:checked~div.sk-toggleable__content {max-height: 200px;max-width: 100%;overflow: auto;}#sk-86cffc64-0776-4efe-92d9-1c3945d7026c div.sk-estimator input.sk-toggleable__control:checked~label.sk-toggleable__label {background-color: #d4ebff;}#sk-86cffc64-0776-4efe-92d9-1c3945d7026c div.sk-label input.sk-toggleable__control:checked~label.sk-toggleable__label {background-color: #d4ebff;}#sk-86cffc64-0776-4efe-92d9-1c3945d7026c input.sk-hidden--visually {border: 0;clip: rect(1px 1px 1px 1px);clip: rect(1px, 1px, 1px, 1px);height: 1px;margin: -1px;overflow: hidden;padding: 0;position: absolute;width: 1px;}#sk-86cffc64-0776-4efe-92d9-1c3945d7026c div.sk-estimator {font-family: monospace;background-color: #f0f8ff;margin: 0.25em 0.25em;border: 1px dotted black;border-radius: 0.25em;box-sizing: border-box;}#sk-86cffc64-0776-4efe-92d9-1c3945d7026c div.sk-estimator:hover {background-color: #d4ebff;}#sk-86cffc64-0776-4efe-92d9-1c3945d7026c div.sk-parallel-item::after {content: \"\";width: 100%;border-bottom: 1px solid gray;flex-grow: 1;}#sk-86cffc64-0776-4efe-92d9-1c3945d7026c div.sk-label:hover label.sk-toggleable__label {background-color: #d4ebff;}#sk-86cffc64-0776-4efe-92d9-1c3945d7026c div.sk-serial::before {content: \"\";position: absolute;border-left: 1px solid gray;box-sizing: border-box;top: 2em;bottom: 0;left: 50%;}#sk-86cffc64-0776-4efe-92d9-1c3945d7026c div.sk-serial {display: flex;flex-direction: column;align-items: center;background-color: white;}#sk-86cffc64-0776-4efe-92d9-1c3945d7026c div.sk-item {z-index: 1;}#sk-86cffc64-0776-4efe-92d9-1c3945d7026c div.sk-parallel {display: flex;align-items: stretch;justify-content: center;background-color: white;}#sk-86cffc64-0776-4efe-92d9-1c3945d7026c div.sk-parallel-item {display: flex;flex-direction: column;position: relative;background-color: white;}#sk-86cffc64-0776-4efe-92d9-1c3945d7026c div.sk-parallel-item:first-child::after {align-self: flex-end;width: 50%;}#sk-86cffc64-0776-4efe-92d9-1c3945d7026c div.sk-parallel-item:last-child::after {align-self: flex-start;width: 50%;}#sk-86cffc64-0776-4efe-92d9-1c3945d7026c div.sk-parallel-item:only-child::after {width: 0;}#sk-86cffc64-0776-4efe-92d9-1c3945d7026c div.sk-dashed-wrapped {border: 1px dashed gray;margin: 0.2em;box-sizing: border-box;padding-bottom: 0.1em;background-color: white;position: relative;}#sk-86cffc64-0776-4efe-92d9-1c3945d7026c div.sk-label label {font-family: monospace;font-weight: bold;background-color: white;display: inline-block;line-height: 1.2em;}#sk-86cffc64-0776-4efe-92d9-1c3945d7026c div.sk-label-container {position: relative;z-index: 2;text-align: center;}#sk-86cffc64-0776-4efe-92d9-1c3945d7026c div.sk-container {display: inline-block;position: relative;}</style><div id=\"sk-86cffc64-0776-4efe-92d9-1c3945d7026c\" class\"sk-top-container\"><div class=\"sk-container\"><div class=\"sk-item sk-dashed-wrapped\"><div class=\"sk-label-container\"><div class=\"sk-label sk-toggleable\"><input class=\"sk-toggleable__control sk-hidden--visually\" id=\"90ff6e89-8533-4621-b2a3-4676bfa6706c\" type=\"checkbox\" ><label class=\"sk-toggleable__label\" for=\"90ff6e89-8533-4621-b2a3-4676bfa6706c\">Pipeline</label><div class=\"sk-toggleable__content\"><pre>Pipeline(steps=[('decisiontreeregressor',\n",
       "                 DecisionTreeRegressor(random_state=0))])</pre></div></div></div><div class=\"sk-serial\"><div class=\"sk-item\"><div class=\"sk-estimator sk-toggleable\"><input class=\"sk-toggleable__control sk-hidden--visually\" id=\"b68fa874-f1ea-44b6-b0ef-5ecb818544a9\" type=\"checkbox\" ><label class=\"sk-toggleable__label\" for=\"b68fa874-f1ea-44b6-b0ef-5ecb818544a9\">DecisionTreeRegressor</label><div class=\"sk-toggleable__content\"><pre>DecisionTreeRegressor(random_state=0)</pre></div></div></div></div></div></div></div>"
      ]
     },
     "metadata": {},
     "execution_count": 58
    }
   ],
   "metadata": {}
  },
  {
   "cell_type": "code",
   "execution_count": 59,
   "source": [
    "model.steps"
   ],
   "outputs": [
    {
     "output_type": "execute_result",
     "data": {
      "text/plain": [
       "[('decisiontreeregressor', DecisionTreeRegressor(random_state=0))]"
      ]
     },
     "metadata": {},
     "execution_count": 59
    }
   ],
   "metadata": {}
  },
  {
   "cell_type": "code",
   "execution_count": 60,
   "source": [
    "for parameter in model.get_params():\n",
    "    print(parameter)"
   ],
   "outputs": [
    {
     "output_type": "stream",
     "name": "stdout",
     "text": [
      "memory\n",
      "steps\n",
      "verbose\n",
      "decisiontreeregressor\n",
      "decisiontreeregressor__ccp_alpha\n",
      "decisiontreeregressor__criterion\n",
      "decisiontreeregressor__max_depth\n",
      "decisiontreeregressor__max_features\n",
      "decisiontreeregressor__max_leaf_nodes\n",
      "decisiontreeregressor__min_impurity_decrease\n",
      "decisiontreeregressor__min_impurity_split\n",
      "decisiontreeregressor__min_samples_leaf\n",
      "decisiontreeregressor__min_samples_split\n",
      "decisiontreeregressor__min_weight_fraction_leaf\n",
      "decisiontreeregressor__random_state\n",
      "decisiontreeregressor__splitter\n"
     ]
    }
   ],
   "metadata": {}
  },
  {
   "cell_type": "code",
   "execution_count": 61,
   "source": [
    "param_grid = {\n",
    "    \"decisiontreeregressor__max_depth\": [3, 4, 5],\n",
    "    \"decisiontreeregressor__min_samples_leaf\": [1, 2],\n",
    "}"
   ],
   "outputs": [],
   "metadata": {}
  },
  {
   "cell_type": "code",
   "execution_count": 63,
   "source": [
    "from  sklearn.model_selection import GridSearchCV, KFold"
   ],
   "outputs": [],
   "metadata": {}
  },
  {
   "cell_type": "code",
   "execution_count": 83,
   "source": [
    "cv = KFold(n_splits = 10, shuffle=True, random_state=0)\n",
    "gridsearch = GridSearchCV(\n",
    "    model,\n",
    "    param_grid=param_grid,\n",
    "    cv = cv,\n",
    "    scoring=\"neg_mean_absolute_error\",\n",
    "    n_jobs= -1,\n",
    "    verbose=2.1\n",
    ")\n",
    "gridsearch.fit(data, target)"
   ],
   "outputs": [
    {
     "output_type": "stream",
     "name": "stdout",
     "text": [
      "Fitting 10 folds for each of 6 candidates, totalling 60 fits\n"
     ]
    },
    {
     "output_type": "execute_result",
     "data": {
      "text/plain": [
       "GridSearchCV(cv=KFold(n_splits=10, random_state=0, shuffle=True),\n",
       "             estimator=Pipeline(steps=[('decisiontreeregressor',\n",
       "                                        DecisionTreeRegressor(random_state=0))]),\n",
       "             n_jobs=-1,\n",
       "             param_grid={'decisiontreeregressor__max_depth': [3, 4, 5],\n",
       "                         'decisiontreeregressor__min_samples_leaf': [1, 2]},\n",
       "             scoring='neg_mean_absolute_error', verbose=2.1)"
      ],
      "text/html": [
       "<style>#sk-3efc721c-c739-4cdb-8bb0-d70f4df4b729 {color: black;background-color: white;}#sk-3efc721c-c739-4cdb-8bb0-d70f4df4b729 pre{padding: 0;}#sk-3efc721c-c739-4cdb-8bb0-d70f4df4b729 div.sk-toggleable {background-color: white;}#sk-3efc721c-c739-4cdb-8bb0-d70f4df4b729 label.sk-toggleable__label {cursor: pointer;display: block;width: 100%;margin-bottom: 0;padding: 0.2em 0.3em;box-sizing: border-box;text-align: center;}#sk-3efc721c-c739-4cdb-8bb0-d70f4df4b729 div.sk-toggleable__content {max-height: 0;max-width: 0;overflow: hidden;text-align: left;background-color: #f0f8ff;}#sk-3efc721c-c739-4cdb-8bb0-d70f4df4b729 div.sk-toggleable__content pre {margin: 0.2em;color: black;border-radius: 0.25em;background-color: #f0f8ff;}#sk-3efc721c-c739-4cdb-8bb0-d70f4df4b729 input.sk-toggleable__control:checked~div.sk-toggleable__content {max-height: 200px;max-width: 100%;overflow: auto;}#sk-3efc721c-c739-4cdb-8bb0-d70f4df4b729 div.sk-estimator input.sk-toggleable__control:checked~label.sk-toggleable__label {background-color: #d4ebff;}#sk-3efc721c-c739-4cdb-8bb0-d70f4df4b729 div.sk-label input.sk-toggleable__control:checked~label.sk-toggleable__label {background-color: #d4ebff;}#sk-3efc721c-c739-4cdb-8bb0-d70f4df4b729 input.sk-hidden--visually {border: 0;clip: rect(1px 1px 1px 1px);clip: rect(1px, 1px, 1px, 1px);height: 1px;margin: -1px;overflow: hidden;padding: 0;position: absolute;width: 1px;}#sk-3efc721c-c739-4cdb-8bb0-d70f4df4b729 div.sk-estimator {font-family: monospace;background-color: #f0f8ff;margin: 0.25em 0.25em;border: 1px dotted black;border-radius: 0.25em;box-sizing: border-box;}#sk-3efc721c-c739-4cdb-8bb0-d70f4df4b729 div.sk-estimator:hover {background-color: #d4ebff;}#sk-3efc721c-c739-4cdb-8bb0-d70f4df4b729 div.sk-parallel-item::after {content: \"\";width: 100%;border-bottom: 1px solid gray;flex-grow: 1;}#sk-3efc721c-c739-4cdb-8bb0-d70f4df4b729 div.sk-label:hover label.sk-toggleable__label {background-color: #d4ebff;}#sk-3efc721c-c739-4cdb-8bb0-d70f4df4b729 div.sk-serial::before {content: \"\";position: absolute;border-left: 1px solid gray;box-sizing: border-box;top: 2em;bottom: 0;left: 50%;}#sk-3efc721c-c739-4cdb-8bb0-d70f4df4b729 div.sk-serial {display: flex;flex-direction: column;align-items: center;background-color: white;}#sk-3efc721c-c739-4cdb-8bb0-d70f4df4b729 div.sk-item {z-index: 1;}#sk-3efc721c-c739-4cdb-8bb0-d70f4df4b729 div.sk-parallel {display: flex;align-items: stretch;justify-content: center;background-color: white;}#sk-3efc721c-c739-4cdb-8bb0-d70f4df4b729 div.sk-parallel-item {display: flex;flex-direction: column;position: relative;background-color: white;}#sk-3efc721c-c739-4cdb-8bb0-d70f4df4b729 div.sk-parallel-item:first-child::after {align-self: flex-end;width: 50%;}#sk-3efc721c-c739-4cdb-8bb0-d70f4df4b729 div.sk-parallel-item:last-child::after {align-self: flex-start;width: 50%;}#sk-3efc721c-c739-4cdb-8bb0-d70f4df4b729 div.sk-parallel-item:only-child::after {width: 0;}#sk-3efc721c-c739-4cdb-8bb0-d70f4df4b729 div.sk-dashed-wrapped {border: 1px dashed gray;margin: 0.2em;box-sizing: border-box;padding-bottom: 0.1em;background-color: white;position: relative;}#sk-3efc721c-c739-4cdb-8bb0-d70f4df4b729 div.sk-label label {font-family: monospace;font-weight: bold;background-color: white;display: inline-block;line-height: 1.2em;}#sk-3efc721c-c739-4cdb-8bb0-d70f4df4b729 div.sk-label-container {position: relative;z-index: 2;text-align: center;}#sk-3efc721c-c739-4cdb-8bb0-d70f4df4b729 div.sk-container {display: inline-block;position: relative;}</style><div id=\"sk-3efc721c-c739-4cdb-8bb0-d70f4df4b729\" class\"sk-top-container\"><div class=\"sk-container\"><div class=\"sk-item sk-dashed-wrapped\"><div class=\"sk-label-container\"><div class=\"sk-label sk-toggleable\"><input class=\"sk-toggleable__control sk-hidden--visually\" id=\"e87cf0d8-0a87-4e3e-80e9-b5d0453c5905\" type=\"checkbox\" ><label class=\"sk-toggleable__label\" for=\"e87cf0d8-0a87-4e3e-80e9-b5d0453c5905\">GridSearchCV</label><div class=\"sk-toggleable__content\"><pre>GridSearchCV(cv=KFold(n_splits=10, random_state=0, shuffle=True),\n",
       "             estimator=Pipeline(steps=[('decisiontreeregressor',\n",
       "                                        DecisionTreeRegressor(random_state=0))]),\n",
       "             n_jobs=-1,\n",
       "             param_grid={'decisiontreeregressor__max_depth': [3, 4, 5],\n",
       "                         'decisiontreeregressor__min_samples_leaf': [1, 2]},\n",
       "             scoring='neg_mean_absolute_error', verbose=2.1)</pre></div></div></div><div class=\"sk-parallel\"><div class=\"sk-parallel-item\"><div class=\"sk-item\"><div class=\"sk-serial\"><div class=\"sk-item\"><div class=\"sk-serial\"><div class=\"sk-item\"><div class=\"sk-estimator sk-toggleable\"><input class=\"sk-toggleable__control sk-hidden--visually\" id=\"e9c668e3-aa83-4cc6-a5a5-2b531b3b2097\" type=\"checkbox\" ><label class=\"sk-toggleable__label\" for=\"e9c668e3-aa83-4cc6-a5a5-2b531b3b2097\">DecisionTreeRegressor</label><div class=\"sk-toggleable__content\"><pre>DecisionTreeRegressor(random_state=0)</pre></div></div></div></div></div></div></div></div></div></div></div></div>"
      ]
     },
     "metadata": {},
     "execution_count": 83
    }
   ],
   "metadata": {}
  },
  {
   "cell_type": "markdown",
   "source": [
    "### Visualizar os melhores hiperparâmetros:"
   ],
   "metadata": {}
  },
  {
   "cell_type": "code",
   "execution_count": 67,
   "source": [
    "best_max_depth = gridsearch.best_estimator_.get_params()[\"decisiontreeregressor__max_depth\"]\n",
    "print(f\"Melhor max_depth: {best_max_depth}\")"
   ],
   "outputs": [
    {
     "output_type": "stream",
     "name": "stdout",
     "text": [
      "Melhor max_depth: 5\n"
     ]
    }
   ],
   "metadata": {}
  },
  {
   "cell_type": "code",
   "execution_count": 68,
   "source": [
    "best_MSL = gridsearch.best_estimator_.get_params()['decisiontreeregressor__min_samples_leaf']\n",
    "print(f\"Melhor min_samples_leaf: {best_MSL}\")"
   ],
   "outputs": [
    {
     "output_type": "stream",
     "name": "stdout",
     "text": [
      "Melhor min_samples_leaf: 2\n"
     ]
    }
   ],
   "metadata": {}
  },
  {
   "cell_type": "code",
   "execution_count": 69,
   "source": [
    "best_model = gridsearch.best_estimator_\n",
    "print(f\"O melhor estimador encontrado: \\n{best_model}\")"
   ],
   "outputs": [
    {
     "output_type": "stream",
     "name": "stdout",
     "text": [
      "O melhor estimador encontrado: \n",
      "Pipeline(steps=[('decisiontreeregressor',\n",
      "                 DecisionTreeRegressor(max_depth=5, min_samples_leaf=2,\n",
      "                                       random_state=0))])\n"
     ]
    }
   ],
   "metadata": {}
  },
  {
   "cell_type": "code",
   "execution_count": 70,
   "source": [
    "print(\"Pipeline do gridsearch:\\n\", gridsearch.best_estimator_.get_params())"
   ],
   "outputs": [
    {
     "output_type": "stream",
     "name": "stdout",
     "text": [
      "Pipeline do gridsearch:\n",
      " {'memory': None, 'steps': [('decisiontreeregressor', DecisionTreeRegressor(max_depth=5, min_samples_leaf=2, random_state=0))], 'verbose': False, 'decisiontreeregressor': DecisionTreeRegressor(max_depth=5, min_samples_leaf=2, random_state=0), 'decisiontreeregressor__ccp_alpha': 0.0, 'decisiontreeregressor__criterion': 'mse', 'decisiontreeregressor__max_depth': 5, 'decisiontreeregressor__max_features': None, 'decisiontreeregressor__max_leaf_nodes': None, 'decisiontreeregressor__min_impurity_decrease': 0.0, 'decisiontreeregressor__min_impurity_split': None, 'decisiontreeregressor__min_samples_leaf': 2, 'decisiontreeregressor__min_samples_split': 2, 'decisiontreeregressor__min_weight_fraction_leaf': 0.0, 'decisiontreeregressor__random_state': 0, 'decisiontreeregressor__splitter': 'best'}\n"
     ]
    }
   ],
   "metadata": {}
  },
  {
   "cell_type": "code",
   "execution_count": 73,
   "source": [
    "cv_results = cross_validate(best_model, data, target,\n",
    "                            scoring=\"neg_mean_absolute_error\",\n",
    "                            return_estimator=True, cv=cv, n_jobs=-1)\n",
    "\n",
    "\n",
    "\n",
    "print(f\"Mean absolute error on testing set: \"\n",
    "      f\"{-cv_results['test_score'].mean():.3f} k$ +/- \"\n",
    "      f\"{cv_results['test_score'].std():.3f}\")"
   ],
   "outputs": [
    {
     "output_type": "stream",
     "name": "stdout",
     "text": [
      "Mean absolute error on testing set: 52.115 k$ +/- 1.055\n"
     ]
    }
   ],
   "metadata": {}
  },
  {
   "cell_type": "code",
   "execution_count": 74,
   "source": [
    "linear_regression = LinearRegression()\n",
    "cv_results = cross_validate(linear_regression, data, target,\n",
    "                            scoring=\"neg_mean_absolute_error\",\n",
    "                            return_estimator=True, cv=10, n_jobs=2)\n",
    "\n",
    "print(f\"Mean absolute error on testing set: \"\n",
    "      f\"{-cv_results['test_score'].mean():.3f} k$ +/- \"\n",
    "      f\"{cv_results['test_score'].std():.3f}\")"
   ],
   "outputs": [
    {
     "output_type": "stream",
     "name": "stdout",
     "text": [
      "Mean absolute error on testing set: 54.452 k$ +/- 9.109\n"
     ]
    }
   ],
   "metadata": {}
  },
  {
   "cell_type": "code",
   "execution_count": 75,
   "source": [
    "import matplotlib.pyplot as plt\n",
    "\n",
    "import pandas as pd\n",
    "\n",
    "weights = pd.DataFrame(\n",
    "    [est.coef_ for est in cv_results[\"estimator\"]], columns=data.columns)\n",
    "\n",
    "color = {\"whiskers\": \"black\", \"medians\": \"black\", \"caps\": \"black\"}\n",
    "weights.plot.box(color=color, vert=False)\n",
    "_ = plt.title(\"Value of linear regression coefficients\")"
   ],
   "outputs": [
    {
     "output_type": "display_data",
     "data": {
      "text/plain": [
       "<Figure size 432x288 with 1 Axes>"
      ],
      "image/png": "[encoded data removed]"
     },
     "metadata": {
      "needs_background": "light"
     }
    }
   ],
   "metadata": {}
  },
  {
   "cell_type": "code",
   "execution_count": 77,
   "source": [
    "print(f\"Os melhores parâmetros encontrados: \\n{gridsearch.best_params_}\")"
   ],
   "outputs": [
    {
     "output_type": "stream",
     "name": "stdout",
     "text": [
      "Os melhores parâmetros encontrados: \n",
      "{'decisiontreeregressor__max_depth': 5, 'decisiontreeregressor__min_samples_leaf': 2}\n"
     ]
    }
   ],
   "metadata": {}
  },
  {
   "cell_type": "code",
   "execution_count": 82,
   "source": [
    "print(f\"O melhor erro (menor média absoluta dos erros calculados) - MAE = {-gridsearch.best_score_: .2f} k$\")"
   ],
   "outputs": [
    {
     "output_type": "stream",
     "name": "stdout",
     "text": [
      "O melhor erro (menor média absoluta dos erros calculados) - MAE =  52.49 k$\n"
     ]
    }
   ],
   "metadata": {}
  },
  {
   "cell_type": "markdown",
   "source": [
    "O que CV significa no método **GridSearchCV** ?\n",
    "\n",
    "* cross-validation: a generalização da performance para cada conjunto de parâmetros é avaliada por procedimento interno de cross-validation.\n",
    "\n",
    "Quando chamamos fit(X, y) no grid-search, X e y, serão divididos por uma estratégia de validação cruzada interna. Por exemplo se um estratégia de validação cruzada de 10 folds for escolhida, então X e y serão divididos em 10 folds e 10 modelos serão treinados em 9 folds e testado no fold restante. Cada modelo será testado em um fold de teste diferente. E então teremos um score médio com todos os scores dos 10 modelos criados.\n",
    "\n",
    "Esta operação é repetida para todas as combinações de valores de hiperparâmetros com a melhor média do score da validação cruzada ao final selecionada."
   ],
   "metadata": {}
  },
  {
   "cell_type": "markdown",
   "source": [
    "## Efeitos da regularização\n",
    "***"
   ],
   "metadata": {}
  },
  {
   "cell_type": "code",
   "execution_count": 84,
   "source": [
    "data.head()"
   ],
   "outputs": [
    {
     "output_type": "execute_result",
     "data": {
      "text/plain": [
       "   MedInc  HouseAge  AveRooms  AveBedrms  Population  AveOccup  Latitude  \\\n",
       "0  8.3252      41.0  6.984127   1.023810       322.0  2.555556     37.88   \n",
       "1  8.3014      21.0  6.238137   0.971880      2401.0  2.109842     37.86   \n",
       "2  7.2574      52.0  8.288136   1.073446       496.0  2.802260     37.85   \n",
       "3  5.6431      52.0  5.817352   1.073059       558.0  2.547945     37.85   \n",
       "4  3.8462      52.0  6.281853   1.081081       565.0  2.181467     37.85   \n",
       "\n",
       "   Longitude  \n",
       "0    -122.23  \n",
       "1    -122.22  \n",
       "2    -122.24  \n",
       "3    -122.25  \n",
       "4    -122.25  "
      ],
      "text/html": [
       "<div>\n",
       "<style scoped>\n",
       "    .dataframe tbody tr th:only-of-type {\n",
       "        vertical-align: middle;\n",
       "    }\n",
       "\n",
       "    .dataframe tbody tr th {\n",
       "        vertical-align: top;\n",
       "    }\n",
       "\n",
       "    .dataframe thead th {\n",
       "        text-align: right;\n",
       "    }\n",
       "</style>\n",
       "<table border=\"1\" class=\"dataframe\">\n",
       "  <thead>\n",
       "    <tr style=\"text-align: right;\">\n",
       "      <th></th>\n",
       "      <th>MedInc</th>\n",
       "      <th>HouseAge</th>\n",
       "      <th>AveRooms</th>\n",
       "      <th>AveBedrms</th>\n",
       "      <th>Population</th>\n",
       "      <th>AveOccup</th>\n",
       "      <th>Latitude</th>\n",
       "      <th>Longitude</th>\n",
       "    </tr>\n",
       "  </thead>\n",
       "  <tbody>\n",
       "    <tr>\n",
       "      <th>0</th>\n",
       "      <td>8.3252</td>\n",
       "      <td>41.0</td>\n",
       "      <td>6.984127</td>\n",
       "      <td>1.023810</td>\n",
       "      <td>322.0</td>\n",
       "      <td>2.555556</td>\n",
       "      <td>37.88</td>\n",
       "      <td>-122.23</td>\n",
       "    </tr>\n",
       "    <tr>\n",
       "      <th>1</th>\n",
       "      <td>8.3014</td>\n",
       "      <td>21.0</td>\n",
       "      <td>6.238137</td>\n",
       "      <td>0.971880</td>\n",
       "      <td>2401.0</td>\n",
       "      <td>2.109842</td>\n",
       "      <td>37.86</td>\n",
       "      <td>-122.22</td>\n",
       "    </tr>\n",
       "    <tr>\n",
       "      <th>2</th>\n",
       "      <td>7.2574</td>\n",
       "      <td>52.0</td>\n",
       "      <td>8.288136</td>\n",
       "      <td>1.073446</td>\n",
       "      <td>496.0</td>\n",
       "      <td>2.802260</td>\n",
       "      <td>37.85</td>\n",
       "      <td>-122.24</td>\n",
       "    </tr>\n",
       "    <tr>\n",
       "      <th>3</th>\n",
       "      <td>5.6431</td>\n",
       "      <td>52.0</td>\n",
       "      <td>5.817352</td>\n",
       "      <td>1.073059</td>\n",
       "      <td>558.0</td>\n",
       "      <td>2.547945</td>\n",
       "      <td>37.85</td>\n",
       "      <td>-122.25</td>\n",
       "    </tr>\n",
       "    <tr>\n",
       "      <th>4</th>\n",
       "      <td>3.8462</td>\n",
       "      <td>52.0</td>\n",
       "      <td>6.281853</td>\n",
       "      <td>1.081081</td>\n",
       "      <td>565.0</td>\n",
       "      <td>2.181467</td>\n",
       "      <td>37.85</td>\n",
       "      <td>-122.25</td>\n",
       "    </tr>\n",
       "  </tbody>\n",
       "</table>\n",
       "</div>"
      ]
     },
     "metadata": {},
     "execution_count": 84
    }
   ],
   "metadata": {}
  },
  {
   "cell_type": "code",
   "execution_count": 85,
   "source": [
    "target[:5]"
   ],
   "outputs": [
    {
     "output_type": "execute_result",
     "data": {
      "text/plain": [
       "0    452.6\n",
       "1    358.5\n",
       "2    352.1\n",
       "3    341.3\n",
       "4    342.2\n",
       "Name: MedHouseVal, dtype: float64"
      ]
     },
     "metadata": {},
     "execution_count": 85
    }
   ],
   "metadata": {}
  },
  {
   "cell_type": "markdown",
   "source": [
    "Nós vimos que usando **PolynomialFeatures** podemos criar features adicionais que relacionem as relações não lineares entre as features.\n",
    "\n",
    "Vamos usar essa transformação para aumentar o espaço das features. E depois treinar um modelo de regressão linear. E usar o conjunto de teste \"out-of-sample\" para avaliar as capacidades de generalização do nosso modelo."
   ],
   "metadata": {}
  },
  {
   "cell_type": "code",
   "execution_count": 86,
   "source": [
    "from sklearn.model_selection import cross_validate\n",
    "from sklearn.pipeline import make_pipeline\n",
    "from sklearn.preprocessing import PolynomialFeatures\n",
    "from sklearn.linear_model import LinearRegression\n",
    "\n",
    "linear_regression = make_pipeline(PolynomialFeatures(degree=2),\n",
    "                                  LinearRegression())\n",
    "cv_results = cross_validate(linear_regression, data, target,\n",
    "                            cv=10, scoring=\"neg_mean_squared_error\",\n",
    "                            return_train_score=True,\n",
    "                            return_estimator=True)"
   ],
   "outputs": [],
   "metadata": {}
  },
  {
   "cell_type": "markdown",
   "source": [
    "Nós compararemos o MSE do conjunto de treinamento com conjunto de teste, para acessar a generalização da performance estatística do nosso modelo."
   ],
   "metadata": {}
  },
  {
   "cell_type": "code",
   "execution_count": 87,
   "source": [
    "train_error = -cv_results[\"train_score\"]\n",
    "print(f\"Mean squared error do modelo de regressão linear no conjunto de treinamento:\\n\"\n",
    "      f\"{train_error.mean():.3f} +/- {train_error.std():.3f}\")"
   ],
   "outputs": [
    {
     "output_type": "stream",
     "name": "stdout",
     "text": [
      "Mean squared error do modelo de regressão linear no conjunto de treinamento:\n",
      "4190.212 +/- 151.123\n"
     ]
    }
   ],
   "metadata": {}
  },
  {
   "cell_type": "code",
   "execution_count": 88,
   "source": [
    "test_error = -cv_results[\"test_score\"]\n",
    "print(f\"Mean squared error do modelo de regressão linear no conjunto de teste:\\n\"\n",
    "      f\"{test_error.mean():.3f} +/- {test_error.std():.3f}\")"
   ],
   "outputs": [
    {
     "output_type": "stream",
     "name": "stdout",
     "text": [
      "Mean squared error do modelo de regressão linear no conjunto de teste:\n",
      "13334.943 +/- 20292.681\n"
     ]
    }
   ],
   "metadata": {}
  },
  {
   "cell_type": "markdown",
   "source": [
    "O score no conjunto de treino é muito melhor do que no conjunto de teste. O gap na performance estatística entre o conjunto de treinamento e o conjunto de teste é um indicador de que o nosso modelo está sobreajustando no conjunto de treinamento.\n",
    "\n",
    "Isto é um dos perigos de se aumentar o número de features com o transformador **PolynomialFeatures**. O modelo irá focar em features específicas. Podemos checar os pesos dos coeficientes do modelo para ter uma confirmação. Vamos criar um dataframe: as colunas irão conter o nome das features, enquanto as linhas terão os valores dos coeficientes gravados de cada modelo durante a validação cruzada.\n",
    "\n",
    "Como usamos **PolynomialFeatures** para aumentar os dados, nós criaremos nomes representativos das combinações das features. O scikit-learn fornece um método chamado, get_feature_names para este propósito"
   ],
   "metadata": {}
  },
  {
   "cell_type": "code",
   "execution_count": 89,
   "source": [
    "# Pegando o primeiro modelo ajustado\n",
    "\n",
    "model_first_fold = cv_results['estimator'][0]"
   ],
   "outputs": [],
   "metadata": {}
  },
  {
   "cell_type": "markdown",
   "source": [
    "Agora, podemos acessar o **PolynomialFeatures** ajustado para gerar o nome das features."
   ],
   "metadata": {}
  },
  {
   "cell_type": "code",
   "execution_count": 90,
   "source": [
    "feature_names = model_first_fold[0].get_feature_names(\n",
    "    input_features=data.columns\n",
    ")\n",
    "feature_names"
   ],
   "outputs": [
    {
     "output_type": "execute_result",
     "data": {
      "text/plain": [
       "['1',\n",
       " 'MedInc',\n",
       " 'HouseAge',\n",
       " 'AveRooms',\n",
       " 'AveBedrms',\n",
       " 'Population',\n",
       " 'AveOccup',\n",
       " 'Latitude',\n",
       " 'Longitude',\n",
       " 'MedInc^2',\n",
       " 'MedInc HouseAge',\n",
       " 'MedInc AveRooms',\n",
       " 'MedInc AveBedrms',\n",
       " 'MedInc Population',\n",
       " 'MedInc AveOccup',\n",
       " 'MedInc Latitude',\n",
       " 'MedInc Longitude',\n",
       " 'HouseAge^2',\n",
       " 'HouseAge AveRooms',\n",
       " 'HouseAge AveBedrms',\n",
       " 'HouseAge Population',\n",
       " 'HouseAge AveOccup',\n",
       " 'HouseAge Latitude',\n",
       " 'HouseAge Longitude',\n",
       " 'AveRooms^2',\n",
       " 'AveRooms AveBedrms',\n",
       " 'AveRooms Population',\n",
       " 'AveRooms AveOccup',\n",
       " 'AveRooms Latitude',\n",
       " 'AveRooms Longitude',\n",
       " 'AveBedrms^2',\n",
       " 'AveBedrms Population',\n",
       " 'AveBedrms AveOccup',\n",
       " 'AveBedrms Latitude',\n",
       " 'AveBedrms Longitude',\n",
       " 'Population^2',\n",
       " 'Population AveOccup',\n",
       " 'Population Latitude',\n",
       " 'Population Longitude',\n",
       " 'AveOccup^2',\n",
       " 'AveOccup Latitude',\n",
       " 'AveOccup Longitude',\n",
       " 'Latitude^2',\n",
       " 'Latitude Longitude',\n",
       " 'Longitude^2']"
      ]
     },
     "metadata": {},
     "execution_count": 90
    }
   ],
   "metadata": {}
  },
  {
   "cell_type": "code",
   "execution_count": 91,
   "source": [
    "coefs = [est[-1].coef_ for est in cv_results[\"estimator\"]]\n",
    "weights_linear_regression = pd.DataFrame(coefs, columns=feature_names)\n",
    "weights_linear_regression.head()"
   ],
   "outputs": [
    {
     "output_type": "execute_result",
     "data": {
      "text/plain": [
       "          1       MedInc   HouseAge    AveRooms    AveBedrms  Population  \\\n",
       "0  0.000020 -1140.478054 -98.735398  738.891253 -3694.264359    0.026004   \n",
       "1  0.000008 -1052.152449 -86.839210  634.802992 -3400.011303   -0.018349   \n",
       "2  0.000005 -1047.784035 -81.454227  566.113345 -2807.775321    0.040838   \n",
       "3  0.000005 -1191.834862 -91.891840  608.442796 -2977.418769    0.029125   \n",
       "4  0.000006 -1068.457290 -77.972734  742.832117 -3570.586800    0.060562   \n",
       "\n",
       "     AveOccup    Latitude   Longitude  MedInc^2  ...  Population^2  \\\n",
       "0  119.975984  797.604954  602.115766 -3.350467  ...  2.723361e-07   \n",
       "1  279.105936  793.917970  405.165061 -3.177069  ...  2.902982e-07   \n",
       "2  110.895680  964.710027  805.906156 -2.622063  ...  3.059138e-07   \n",
       "3  125.399166  848.204538  541.626682 -3.221603  ...  2.939819e-07   \n",
       "4   18.297959  985.426360  781.002570 -2.857276  ... -1.065782e-07   \n",
       "\n",
       "   Population AveOccup  Population Latitude  Population Longitude  AveOccup^2  \\\n",
       "0             0.001898             0.002020              0.001252    0.009463   \n",
       "1             0.001441             0.001231              0.000569    0.015912   \n",
       "2             0.001709             0.002302              0.001462    0.008302   \n",
       "3             0.001828             0.002244              0.001362    0.008057   \n",
       "4             0.004502             0.002481              0.001733    0.002640   \n",
       "\n",
       "   AveOccup Latitude  AveOccup Longitude  Latitude^2  Latitude Longitude  \\\n",
       "0           2.124956            1.801719    5.105701            9.521863   \n",
       "1           3.987531            3.653011    4.869199            9.361477   \n",
       "2           1.967116            1.658570    6.592902           11.868451   \n",
       "3           2.094999            1.815240    6.317023           10.662395   \n",
       "4           2.191904            0.839418    6.439938           11.955237   \n",
       "\n",
       "   Longitude^2  \n",
       "0     3.843453  \n",
       "1     3.007598  \n",
       "2     5.076783  \n",
       "3     3.758923  \n",
       "4     4.978589  \n",
       "\n",
       "[5 rows x 45 columns]"
      ],
      "text/html": [
       "<div>\n",
       "<style scoped>\n",
       "    .dataframe tbody tr th:only-of-type {\n",
       "        vertical-align: middle;\n",
       "    }\n",
       "\n",
       "    .dataframe tbody tr th {\n",
       "        vertical-align: top;\n",
       "    }\n",
       "\n",
       "    .dataframe thead th {\n",
       "        text-align: right;\n",
       "    }\n",
       "</style>\n",
       "<table border=\"1\" class=\"dataframe\">\n",
       "  <thead>\n",
       "    <tr style=\"text-align: right;\">\n",
       "      <th></th>\n",
       "      <th>1</th>\n",
       "      <th>MedInc</th>\n",
       "      <th>HouseAge</th>\n",
       "      <th>AveRooms</th>\n",
       "      <th>AveBedrms</th>\n",
       "      <th>Population</th>\n",
       "      <th>AveOccup</th>\n",
       "      <th>Latitude</th>\n",
       "      <th>Longitude</th>\n",
       "      <th>MedInc^2</th>\n",
       "      <th>...</th>\n",
       "      <th>Population^2</th>\n",
       "      <th>Population AveOccup</th>\n",
       "      <th>Population Latitude</th>\n",
       "      <th>Population Longitude</th>\n",
       "      <th>AveOccup^2</th>\n",
       "      <th>AveOccup Latitude</th>\n",
       "      <th>AveOccup Longitude</th>\n",
       "      <th>Latitude^2</th>\n",
       "      <th>Latitude Longitude</th>\n",
       "      <th>Longitude^2</th>\n",
       "    </tr>\n",
       "  </thead>\n",
       "  <tbody>\n",
       "    <tr>\n",
       "      <th>0</th>\n",
       "      <td>0.000020</td>\n",
       "      <td>-1140.478054</td>\n",
       "      <td>-98.735398</td>\n",
       "      <td>738.891253</td>\n",
       "      <td>-3694.264359</td>\n",
       "      <td>0.026004</td>\n",
       "      <td>119.975984</td>\n",
       "      <td>797.604954</td>\n",
       "      <td>602.115766</td>\n",
       "      <td>-3.350467</td>\n",
       "      <td>...</td>\n",
       "      <td>2.723361e-07</td>\n",
       "      <td>0.001898</td>\n",
       "      <td>0.002020</td>\n",
       "      <td>0.001252</td>\n",
       "      <td>0.009463</td>\n",
       "      <td>2.124956</td>\n",
       "      <td>1.801719</td>\n",
       "      <td>5.105701</td>\n",
       "      <td>9.521863</td>\n",
       "      <td>3.843453</td>\n",
       "    </tr>\n",
       "    <tr>\n",
       "      <th>1</th>\n",
       "      <td>0.000008</td>\n",
       "      <td>-1052.152449</td>\n",
       "      <td>-86.839210</td>\n",
       "      <td>634.802992</td>\n",
       "      <td>-3400.011303</td>\n",
       "      <td>-0.018349</td>\n",
       "      <td>279.105936</td>\n",
       "      <td>793.917970</td>\n",
       "      <td>405.165061</td>\n",
       "      <td>-3.177069</td>\n",
       "      <td>...</td>\n",
       "      <td>2.902982e-07</td>\n",
       "      <td>0.001441</td>\n",
       "      <td>0.001231</td>\n",
       "      <td>0.000569</td>\n",
       "      <td>0.015912</td>\n",
       "      <td>3.987531</td>\n",
       "      <td>3.653011</td>\n",
       "      <td>4.869199</td>\n",
       "      <td>9.361477</td>\n",
       "      <td>3.007598</td>\n",
       "    </tr>\n",
       "    <tr>\n",
       "      <th>2</th>\n",
       "      <td>0.000005</td>\n",
       "      <td>-1047.784035</td>\n",
       "      <td>-81.454227</td>\n",
       "      <td>566.113345</td>\n",
       "      <td>-2807.775321</td>\n",
       "      <td>0.040838</td>\n",
       "      <td>110.895680</td>\n",
       "      <td>964.710027</td>\n",
       "      <td>805.906156</td>\n",
       "      <td>-2.622063</td>\n",
       "      <td>...</td>\n",
       "      <td>3.059138e-07</td>\n",
       "      <td>0.001709</td>\n",
       "      <td>0.002302</td>\n",
       "      <td>0.001462</td>\n",
       "      <td>0.008302</td>\n",
       "      <td>1.967116</td>\n",
       "      <td>1.658570</td>\n",
       "      <td>6.592902</td>\n",
       "      <td>11.868451</td>\n",
       "      <td>5.076783</td>\n",
       "    </tr>\n",
       "    <tr>\n",
       "      <th>3</th>\n",
       "      <td>0.000005</td>\n",
       "      <td>-1191.834862</td>\n",
       "      <td>-91.891840</td>\n",
       "      <td>608.442796</td>\n",
       "      <td>-2977.418769</td>\n",
       "      <td>0.029125</td>\n",
       "      <td>125.399166</td>\n",
       "      <td>848.204538</td>\n",
       "      <td>541.626682</td>\n",
       "      <td>-3.221603</td>\n",
       "      <td>...</td>\n",
       "      <td>2.939819e-07</td>\n",
       "      <td>0.001828</td>\n",
       "      <td>0.002244</td>\n",
       "      <td>0.001362</td>\n",
       "      <td>0.008057</td>\n",
       "      <td>2.094999</td>\n",
       "      <td>1.815240</td>\n",
       "      <td>6.317023</td>\n",
       "      <td>10.662395</td>\n",
       "      <td>3.758923</td>\n",
       "    </tr>\n",
       "    <tr>\n",
       "      <th>4</th>\n",
       "      <td>0.000006</td>\n",
       "      <td>-1068.457290</td>\n",
       "      <td>-77.972734</td>\n",
       "      <td>742.832117</td>\n",
       "      <td>-3570.586800</td>\n",
       "      <td>0.060562</td>\n",
       "      <td>18.297959</td>\n",
       "      <td>985.426360</td>\n",
       "      <td>781.002570</td>\n",
       "      <td>-2.857276</td>\n",
       "      <td>...</td>\n",
       "      <td>-1.065782e-07</td>\n",
       "      <td>0.004502</td>\n",
       "      <td>0.002481</td>\n",
       "      <td>0.001733</td>\n",
       "      <td>0.002640</td>\n",
       "      <td>2.191904</td>\n",
       "      <td>0.839418</td>\n",
       "      <td>6.439938</td>\n",
       "      <td>11.955237</td>\n",
       "      <td>4.978589</td>\n",
       "    </tr>\n",
       "  </tbody>\n",
       "</table>\n",
       "<p>5 rows × 45 columns</p>\n",
       "</div>"
      ]
     },
     "metadata": {},
     "execution_count": 91
    }
   ],
   "metadata": {}
  },
  {
   "cell_type": "markdown",
   "source": [
    "Agora vamos montar um boxplot pra ver as variações dos coeficientes."
   ],
   "metadata": {}
  },
  {
   "cell_type": "code",
   "execution_count": 92,
   "source": [
    "color = {\"whiskers\": \"black\", \"medians\": \"black\", \"caps\": \"black\"}\n",
    "weights_linear_regression.plot.box(color=color, vert=False, figsize=(6, 16))\n",
    "_ = plt.title(\"Linear regression coefficients\")"
   ],
   "outputs": [
    {
     "output_type": "display_data",
     "data": {
      "text/plain": [
       "<Figure size 432x1152 with 1 Axes>"
      ],
      "image/png": "[encoded data removed]"
     },
     "metadata": {
      "needs_background": "light"
     }
    }
   ],
   "metadata": {}
  },
  {
   "cell_type": "markdown",
   "source": [
    "Podemos forçar os coeficientes da regressão linear serem considerados de maneira mais homogenea. De fato, nós podemos forçar os pesos grandes positivos ou negativos serem reduzidos diretamente para zero. Isto é conhecido como regularização. Nós iremos usar o modelo ridge que força esse comportamento. Quando usamos modelos regularizados, devemos processar os dados numéricos, aplicar padronização."
   ],
   "metadata": {}
  },
  {
   "cell_type": "markdown",
   "source": [
    "A regularização adicionará restrições aos pesos do modelo.\n",
    "Este procedimento deve nos fazer pensar sobre o reescalonamento de recursos. Vamos considerar o caso em que os recursos têm uma dispersão de dados idêntica: se dois recursos forem considerados igualmente importantes pelo modelo, eles serão afetados de forma semelhante pela intensidade da regularização.\n",
    "\n",
    "Agora, vamos considerar o cenário em que os recursos têm dispersão de dados completamente diferente (por exemplo, idade em anos e receita anual em dólares). Se dois recursos forem tão importantes, nosso modelo aumentará os pesos dos recursos com pequena dispersão e reduzirá os pesos dos recursos com alta dispersão.\n",
    "\n",
    "Lembramos que a regularização força a aproximação dos pesos. Portanto, temos a intuição de que se quisermos usar a regularização, lidar com dados reescalonados tornaria mais fácil encontrar um parâmetro de regularização ótimo e, portanto, um modelo adequado.\n",
    "\n",
    "Como uma observação lateral, alguns solucionadores com base na computação de gradiente estão esperando esses dados redimensionados. Dados não escalonados serão prejudiciais ao calcular os pesos ideais. Portanto, ao trabalhar com um modelo linear e dados numéricos, geralmente é uma boa prática dimensionar os dados.\n",
    "\n",
    "Assim, adicionaremos um StandardScaler no pipeline de aprendizado de máquina. Este scaler será colocado antes do regressor."
   ],
   "metadata": {}
  },
  {
   "cell_type": "code",
   "execution_count": 98,
   "source": [
    "from sklearn.linear_model import Ridge\n",
    "\n",
    "from sklearn.preprocessing import StandardScaler\n",
    "\n",
    "ridge = make_pipeline(\n",
    "    PolynomialFeatures(degree=2), \n",
    "    StandardScaler(),\n",
    "    Ridge(alpha=0.5))\n",
    "\n",
    "cv_results = cross_validate(ridge, data, target,\n",
    "                            cv=10, scoring=\"neg_mean_squared_error\",\n",
    "                            return_train_score=True,\n",
    "                            return_estimator=True)"
   ],
   "outputs": [],
   "metadata": {}
  },
  {
   "cell_type": "code",
   "execution_count": 99,
   "source": [
    "train_error = -cv_results[\"train_score\"]\n",
    "print(f\"Mean squared error of linear regression model on the train set:\\n\"\n",
    "      f\"{train_error.mean():.3f} +/- {train_error.std():.3f}\")"
   ],
   "outputs": [
    {
     "output_type": "stream",
     "name": "stdout",
     "text": [
      "Mean squared error of linear regression model on the train set:\n",
      "4347.036 +/- 156.666\n"
     ]
    }
   ],
   "metadata": {}
  },
  {
   "cell_type": "code",
   "execution_count": 100,
   "source": [
    "test_error = -cv_results[\"test_score\"]\n",
    "print(f\"Mean squared error of linear regression model on the test set:\\n\"\n",
    "      f\"{test_error.mean():.3f} +/- {test_error.std():.3f}\")"
   ],
   "outputs": [
    {
     "output_type": "stream",
     "name": "stdout",
     "text": [
      "Mean squared error of linear regression model on the test set:\n",
      "5508.472 +/- 1816.642\n"
     ]
    }
   ],
   "metadata": {}
  },
  {
   "cell_type": "code",
   "execution_count": 101,
   "source": [
    "coefs = [est[-1].coef_ for est in cv_results[\"estimator\"]]\n",
    "weights_ridge = pd.DataFrame(coefs, columns=feature_names)"
   ],
   "outputs": [],
   "metadata": {}
  },
  {
   "cell_type": "code",
   "execution_count": 102,
   "source": [
    "weights_ridge.plot.box(color=color, vert=False, figsize=(6, 16))\n",
    "_ = plt.title(\"Ridge weights\")"
   ],
   "outputs": [
    {
     "output_type": "display_data",
     "data": {
      "text/plain": [
       "<Figure size 432x1152 with 1 Axes>"
      ],
      "image/png": "[encoded data removed]"
     },
     "metadata": {
      "needs_background": "light"
     }
    }
   ],
   "metadata": {}
  },
  {
   "cell_type": "markdown",
   "source": [
    "O hiperparâmetro alpha, deve ser tunado."
   ],
   "metadata": {}
  },
  {
   "cell_type": "code",
   "execution_count": 103,
   "source": [
    "import numpy as np\n",
    "from sklearn.linear_model import RidgeCV\n",
    "\n",
    "alphas = np.logspace(-2, 0, num=20)\n",
    "ridge = make_pipeline(PolynomialFeatures(degree=2), StandardScaler(),\n",
    "                      RidgeCV(alphas=alphas, store_cv_values=True))"
   ],
   "outputs": [],
   "metadata": {}
  },
  {
   "cell_type": "code",
   "execution_count": 104,
   "source": [
    "from sklearn.model_selection import ShuffleSplit\n",
    "\n",
    "cv = ShuffleSplit(n_splits=5, random_state=1)\n",
    "cv_results = cross_validate(ridge, data, target,\n",
    "                            cv=cv, scoring=\"neg_mean_squared_error\",\n",
    "                            return_train_score=True,\n",
    "                            return_estimator=True, n_jobs=2)"
   ],
   "outputs": [],
   "metadata": {}
  },
  {
   "cell_type": "code",
   "execution_count": 105,
   "source": [
    "train_error = -cv_results[\"train_score\"]\n",
    "print(f\"Mean squared error of linear regression model on the train set:\\n\"\n",
    "      f\"{train_error.mean():.3f} +/- {train_error.std():.3f}\")"
   ],
   "outputs": [
    {
     "output_type": "stream",
     "name": "stdout",
     "text": [
      "Mean squared error of linear regression model on the train set:\n",
      "4306.562 +/- 25.918\n"
     ]
    }
   ],
   "metadata": {}
  },
  {
   "cell_type": "code",
   "execution_count": 106,
   "source": [
    "test_error = -cv_results[\"test_score\"]\n",
    "print(f\"Mean squared error of linear regression model on the test set:\\n\"\n",
    "      f\"{test_error.mean():.3f} +/- {test_error.std():.3f}\")"
   ],
   "outputs": [
    {
     "output_type": "stream",
     "name": "stdout",
     "text": [
      "Mean squared error of linear regression model on the test set:\n",
      "4348.657 +/- 252.921\n"
     ]
    }
   ],
   "metadata": {}
  },
  {
   "cell_type": "markdown",
   "source": [
    "Otimizando o valor de alpha podemos ver que o nosso modelo não está mais sobreajustando. Pq os erros estão bem próximos como pode ver acima."
   ],
   "metadata": {}
  },
  {
   "cell_type": "markdown",
   "source": [
    "Ao ajustar o regressor ridge, também solicitamos armazenar o erro encontrado durante a validação cruzada (definindo o parâmetro store_cv_values ​​= True). Faremos um gráfico do erro quadrático médio para as diferentes forças de regularização de alfas que tentamos."
   ],
   "metadata": {}
  },
  {
   "cell_type": "code",
   "execution_count": 107,
   "source": [
    "mse_alphas = [est[-1].cv_values_.mean(axis=0)\n",
    "              for est in cv_results[\"estimator\"]]\n",
    "cv_alphas = pd.DataFrame(mse_alphas, columns=alphas)\n",
    "cv_alphas"
   ],
   "outputs": [
    {
     "output_type": "execute_result",
     "data": {
      "text/plain": [
       "       0.010000      0.012743      0.016238      0.020691      0.026367  \\\n",
       "0   7587.897141   7059.531216   6579.796667   6161.839629   5813.048345   \n",
       "1   7079.341771   6696.622046   6329.022308   5987.727181   5681.306000   \n",
       "2  24857.406605  21448.284772  18293.478416  15481.009011  13067.031991   \n",
       "3   7504.216958   7125.074257   6754.172985   6400.999897   6072.937966   \n",
       "4   6999.938808   6598.898743   6215.363499   5861.328579   5546.025773   \n",
       "\n",
       "       0.033598     0.042813     0.054556     0.069519     0.088587  \\\n",
       "0   5535.350138  5326.646369  5182.950517  5100.749049  5079.212663   \n",
       "1   5415.171818  5191.880969  5012.209177  4876.780585  4787.974274   \n",
       "2  11071.457116  9480.437579  8254.431555  7338.963939  6675.026438   \n",
       "3   5774.941819  5509.955509  5280.027720  5087.960263  4939.271829   \n",
       "4   5275.377052  5052.349007  4878.140850  4753.964890  4683.117084   \n",
       "\n",
       "      0.112884     0.143845     0.183298     0.233572     0.297635  \\\n",
       "0  5122.029454  5238.704149  5445.118890  5763.012259  6217.925433   \n",
       "1  4751.851652  4779.853646  4889.937328  5106.656625  5459.549144   \n",
       "2  6207.024331  5887.541169  5679.263698  5554.913823  5496.051755   \n",
       "3  4844.228092  4819.618117  4889.808854  5086.420585  5445.877349   \n",
       "4  4673.049960  4737.162496  4895.935124  5176.863333  5612.500529   \n",
       "\n",
       "      0.379269     0.483293     0.615848     0.784760      1.000000  \n",
       "0  6835.274126  7634.692137  8623.620241  9791.918443  11109.476019  \n",
       "1  5979.280717  6691.530974  7609.581815  8727.609953  10017.092899  \n",
       "2  5491.367683  5534.775517  5623.398006  5755.456140   5928.154410  \n",
       "3  6004.320850  6790.113763  7815.311733  9068.542918  10511.939341  \n",
       "4  6236.037942  7074.449338  8140.303978  9424.471281  10892.352852  "
      ],
      "text/html": [
       "<div>\n",
       "<style scoped>\n",
       "    .dataframe tbody tr th:only-of-type {\n",
       "        vertical-align: middle;\n",
       "    }\n",
       "\n",
       "    .dataframe tbody tr th {\n",
       "        vertical-align: top;\n",
       "    }\n",
       "\n",
       "    .dataframe thead th {\n",
       "        text-align: right;\n",
       "    }\n",
       "</style>\n",
       "<table border=\"1\" class=\"dataframe\">\n",
       "  <thead>\n",
       "    <tr style=\"text-align: right;\">\n",
       "      <th></th>\n",
       "      <th>0.010000</th>\n",
       "      <th>0.012743</th>\n",
       "      <th>0.016238</th>\n",
       "      <th>0.020691</th>\n",
       "      <th>0.026367</th>\n",
       "      <th>0.033598</th>\n",
       "      <th>0.042813</th>\n",
       "      <th>0.054556</th>\n",
       "      <th>0.069519</th>\n",
       "      <th>0.088587</th>\n",
       "      <th>0.112884</th>\n",
       "      <th>0.143845</th>\n",
       "      <th>0.183298</th>\n",
       "      <th>0.233572</th>\n",
       "      <th>0.297635</th>\n",
       "      <th>0.379269</th>\n",
       "      <th>0.483293</th>\n",
       "      <th>0.615848</th>\n",
       "      <th>0.784760</th>\n",
       "      <th>1.000000</th>\n",
       "    </tr>\n",
       "  </thead>\n",
       "  <tbody>\n",
       "    <tr>\n",
       "      <th>0</th>\n",
       "      <td>7587.897141</td>\n",
       "      <td>7059.531216</td>\n",
       "      <td>6579.796667</td>\n",
       "      <td>6161.839629</td>\n",
       "      <td>5813.048345</td>\n",
       "      <td>5535.350138</td>\n",
       "      <td>5326.646369</td>\n",
       "      <td>5182.950517</td>\n",
       "      <td>5100.749049</td>\n",
       "      <td>5079.212663</td>\n",
       "      <td>5122.029454</td>\n",
       "      <td>5238.704149</td>\n",
       "      <td>5445.118890</td>\n",
       "      <td>5763.012259</td>\n",
       "      <td>6217.925433</td>\n",
       "      <td>6835.274126</td>\n",
       "      <td>7634.692137</td>\n",
       "      <td>8623.620241</td>\n",
       "      <td>9791.918443</td>\n",
       "      <td>11109.476019</td>\n",
       "    </tr>\n",
       "    <tr>\n",
       "      <th>1</th>\n",
       "      <td>7079.341771</td>\n",
       "      <td>6696.622046</td>\n",
       "      <td>6329.022308</td>\n",
       "      <td>5987.727181</td>\n",
       "      <td>5681.306000</td>\n",
       "      <td>5415.171818</td>\n",
       "      <td>5191.880969</td>\n",
       "      <td>5012.209177</td>\n",
       "      <td>4876.780585</td>\n",
       "      <td>4787.974274</td>\n",
       "      <td>4751.851652</td>\n",
       "      <td>4779.853646</td>\n",
       "      <td>4889.937328</td>\n",
       "      <td>5106.656625</td>\n",
       "      <td>5459.549144</td>\n",
       "      <td>5979.280717</td>\n",
       "      <td>6691.530974</td>\n",
       "      <td>7609.581815</td>\n",
       "      <td>8727.609953</td>\n",
       "      <td>10017.092899</td>\n",
       "    </tr>\n",
       "    <tr>\n",
       "      <th>2</th>\n",
       "      <td>24857.406605</td>\n",
       "      <td>21448.284772</td>\n",
       "      <td>18293.478416</td>\n",
       "      <td>15481.009011</td>\n",
       "      <td>13067.031991</td>\n",
       "      <td>11071.457116</td>\n",
       "      <td>9480.437579</td>\n",
       "      <td>8254.431555</td>\n",
       "      <td>7338.963939</td>\n",
       "      <td>6675.026438</td>\n",
       "      <td>6207.024331</td>\n",
       "      <td>5887.541169</td>\n",
       "      <td>5679.263698</td>\n",
       "      <td>5554.913823</td>\n",
       "      <td>5496.051755</td>\n",
       "      <td>5491.367683</td>\n",
       "      <td>5534.775517</td>\n",
       "      <td>5623.398006</td>\n",
       "      <td>5755.456140</td>\n",
       "      <td>5928.154410</td>\n",
       "    </tr>\n",
       "    <tr>\n",
       "      <th>3</th>\n",
       "      <td>7504.216958</td>\n",
       "      <td>7125.074257</td>\n",
       "      <td>6754.172985</td>\n",
       "      <td>6400.999897</td>\n",
       "      <td>6072.937966</td>\n",
       "      <td>5774.941819</td>\n",
       "      <td>5509.955509</td>\n",
       "      <td>5280.027720</td>\n",
       "      <td>5087.960263</td>\n",
       "      <td>4939.271829</td>\n",
       "      <td>4844.228092</td>\n",
       "      <td>4819.618117</td>\n",
       "      <td>4889.808854</td>\n",
       "      <td>5086.420585</td>\n",
       "      <td>5445.877349</td>\n",
       "      <td>6004.320850</td>\n",
       "      <td>6790.113763</td>\n",
       "      <td>7815.311733</td>\n",
       "      <td>9068.542918</td>\n",
       "      <td>10511.939341</td>\n",
       "    </tr>\n",
       "    <tr>\n",
       "      <th>4</th>\n",
       "      <td>6999.938808</td>\n",
       "      <td>6598.898743</td>\n",
       "      <td>6215.363499</td>\n",
       "      <td>5861.328579</td>\n",
       "      <td>5546.025773</td>\n",
       "      <td>5275.377052</td>\n",
       "      <td>5052.349007</td>\n",
       "      <td>4878.140850</td>\n",
       "      <td>4753.964890</td>\n",
       "      <td>4683.117084</td>\n",
       "      <td>4673.049960</td>\n",
       "      <td>4737.162496</td>\n",
       "      <td>4895.935124</td>\n",
       "      <td>5176.863333</td>\n",
       "      <td>5612.500529</td>\n",
       "      <td>6236.037942</td>\n",
       "      <td>7074.449338</td>\n",
       "      <td>8140.303978</td>\n",
       "      <td>9424.471281</td>\n",
       "      <td>10892.352852</td>\n",
       "    </tr>\n",
       "  </tbody>\n",
       "</table>\n",
       "</div>"
      ]
     },
     "metadata": {},
     "execution_count": 107
    }
   ],
   "metadata": {}
  },
  {
   "cell_type": "code",
   "execution_count": 108,
   "source": [
    "cv_alphas.mean(axis=0).plot(marker=\"+\")\n",
    "plt.ylabel(\"Mean squared error\\n (lower is better)\")\n",
    "plt.xlabel(\"alpha\")\n",
    "_ = plt.title(\"Error obtained by cross-validation\")"
   ],
   "outputs": [
    {
     "output_type": "display_data",
     "data": {
      "text/plain": [
       "<Figure size 432x288 with 1 Axes>"
      ],
      "image/png": "[encoded data removed]"
     },
     "metadata": {
      "needs_background": "light"
     }
    }
   ],
   "metadata": {}
  },
  {
   "cell_type": "markdown",
   "source": [
    "Como podemos ver, a regularização é como o sal no cozimento: é preciso equilibrar sua quantidade para obter o melhor desempenho estatístico. Podemos verificar se o melhor alfa encontrado é estável no fold de validação cruzada."
   ],
   "metadata": {}
  },
  {
   "cell_type": "code",
   "execution_count": 109,
   "source": [
    "best_alphas = [est[-1].alpha_ for est in cv_results[\"estimator\"]]\n",
    "best_alphas"
   ],
   "outputs": [
    {
     "output_type": "execute_result",
     "data": {
      "text/plain": [
       "[0.08858667904100823,\n",
       " 0.11288378916846889,\n",
       " 0.37926901907322497,\n",
       " 0.14384498882876628,\n",
       " 0.11288378916846889]"
      ]
     },
     "metadata": {},
     "execution_count": 109
    }
   ],
   "metadata": {}
  },
  {
   "cell_type": "markdown",
   "source": [
    "### Regularização\n",
    "\n",
    "Se refere à:\n",
    "\n",
    "* encolhendo os pesos do modelo linear para zero\n",
    "* ridge model: a mesma coisa que um modelo linear com os pesos penalizados."
   ],
   "metadata": {}
  },
  {
   "cell_type": "markdown",
   "source": [
    "Suponha que um cientista de dados tenha preparado uma divisão de treinamento / teste e planeje usar o teste para a avaliação final de um modelo Ridge. O parâmetro alfa do modelo Ridge:\n",
    "\n",
    "* Deve ser ajustado rodando validação cruzada no conjunto de treinamento.\n",
    "* Pode ser escolhido a mão usando o conhecimento a priori de um expert no problema.\n",
    "\n",
    "Se o cientista de dados sabe que os dados não são muito ruidosos e que há um número suficiente de amostras e que as features não são altamente correlacionados, pode-se concluir que a regularização não é necessária e, portanto, alfa pode ser fixado em um valor pequeno, como 1e-10.\n",
    "\n",
    "Um hiperparâmetro nunca deve ser escolhido no conjunto de teste: Isto superestimará o desempenho de generalização do modelo.\n",
    "\n",
    "* Modelos que dependem da distância entre um par de amostras, por exemplo k-vizinhos mais próximos, devem ser treinados em recursos normalizados para fazer com que cada recurso contribua de forma aproximadamente igual para os cálculos de distância.\n",
    "* Muitos modelos, como regressão logística, usam um solucionador numérico (com base na descida de gradiente) para encontrar seus parâmetros ideais. Este solucionador converge mais rápido quando os recursos são dimensionados.\n",
    "* Preditores usando distância euclidiana, por exemplo k-vizinhos mais próximos, devem ter características normalizadas de forma que cada um contribua igualmente para o cálculo da distância;\n",
    "preditores usando algoritmos baseados em gradiente descendente, por exemplo, regressão logística, para encontrar parâmetros ótimos funcionam melhor e mais rápido;\n",
    "* Os preditores que usam regularização, por exemplo, regressão logística, requerem recursos normalizados para aplicar adequadamente os pesos.\n",
    "\n",
    "O efeito de uma regularização $l2$ como é feito no ridge é :\n",
    "* encolher todos os pesos para zero."
   ],
   "metadata": {}
  }
 ],
 "metadata": {
  "orig_nbformat": 4,
  "language_info": {
   "name": "python"
  }
 },
 "nbformat": 4,
 "nbformat_minor": 2
}